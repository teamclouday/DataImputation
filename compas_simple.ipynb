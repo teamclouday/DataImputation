{
 "cells": [
  {
   "cell_type": "markdown",
   "metadata": {},
   "source": [
    "# Compas Data Imputation Analysis"
   ]
  },
  {
   "cell_type": "code",
   "execution_count": 1,
   "metadata": {},
   "outputs": [],
   "source": [
    "import os\n",
    "import numpy as np\n",
    "import pandas as pd"
   ]
  },
  {
   "cell_type": "code",
   "execution_count": 2,
   "metadata": {},
   "outputs": [],
   "source": [
    "import warnings\n",
    "warnings.filterwarnings('ignore')"
   ]
  },
  {
   "cell_type": "code",
   "execution_count": 3,
   "metadata": {},
   "outputs": [],
   "source": [
    "from utils.data import create_compas_dataset, Dataset\n",
    "from utils.generator import gen_complete_random\n",
    "from utils.completer import complete_by_mean_col, complete_by_multi, complete_by_similar_row"
   ]
  },
  {
   "cell_type": "code",
   "execution_count": 4,
   "metadata": {},
   "outputs": [],
   "source": [
    "data = create_compas_dataset()"
   ]
  },
  {
   "cell_type": "code",
   "execution_count": 5,
   "metadata": {},
   "outputs": [],
   "source": [
    "data_compas_complete = data.copy()\n",
    "tmp_concat = pd.concat([data_compas_complete.X, pd.DataFrame(data_compas_complete.y, columns=[\"_TARGET_\"])], axis=1)\n",
    "tmp_concat.dropna(inplace=True)\n",
    "tmp_concat.reset_index(drop=True, inplace=True)\n",
    "data_compas_complete.X = tmp_concat.drop(columns=[\"_TARGET_\"]).copy()\n",
    "data_compas_complete.y = tmp_concat[\"_TARGET_\"].copy().to_numpy().ravel()"
   ]
  },
  {
   "cell_type": "code",
   "execution_count": 6,
   "metadata": {},
   "outputs": [],
   "source": [
    "X = data_compas_complete.X.drop(columns=data_compas_complete.protected).copy().to_numpy()\n",
    "y = data_compas_complete.y.copy()"
   ]
  },
  {
   "cell_type": "code",
   "execution_count": 7,
   "metadata": {},
   "outputs": [],
   "source": [
    "from sklearn.neighbors import KNeighborsClassifier\n",
    "from sklearn.svm import LinearSVC, SVC\n",
    "from sklearn.ensemble import RandomForestClassifier\n",
    "from sklearn.linear_model import LogisticRegression\n",
    "from sklearn.tree import DecisionTreeClassifier\n",
    "from sklearn.neural_network import MLPClassifier\n",
    "from sklearn.model_selection import train_test_split"
   ]
  },
  {
   "cell_type": "code",
   "execution_count": 8,
   "metadata": {},
   "outputs": [],
   "source": [
    "from imblearn.over_sampling import SVMSMOTE"
   ]
  },
  {
   "cell_type": "markdown",
   "metadata": {},
   "source": [
    "### Parameter Searching"
   ]
  },
  {
   "cell_type": "code",
   "execution_count": 9,
   "metadata": {},
   "outputs": [],
   "source": [
    "from sklearn.model_selection import GridSearchCV\n",
    "\n",
    "def grid_search(X, y, model, params, smote):\n",
    "    print(\"Model: {}\".format(model.__class__.__name__))\n",
    "    X_res, y_res = smote.fit_resample(X, y) # enlarge dataset\n",
    "    search = GridSearchCV(model, param_grid=params, cv=10, n_jobs=-1)\n",
    "    search.fit(X_res, y_res)\n",
    "    print(\"Best parameter: {}\".format(search.best_params_))\n",
    "    print(\"Acc best: {:.4f}\".format(search.best_score_))\n",
    "    print(\"Acc on input data: {:.4f}\".format(search.best_estimator_.score(X, y)))\n",
    "    print(\"Acc on enlarged data: {:.4f}\".format(search.best_estimator_.score(X_res, y_res)))\n",
    "    return search.best_params_"
   ]
  },
  {
   "cell_type": "code",
   "execution_count": 10,
   "metadata": {},
   "outputs": [],
   "source": [
    "all_params = {\n",
    "    \"KNN\": None,\n",
    "    \"LinearSVC\": None,\n",
    "    \"SVC\": None,\n",
    "    \"Forest\": None,\n",
    "    \"LogReg\": None,\n",
    "    \"Tree\": None,\n",
    "    \"MLP\": None,\n",
    "}"
   ]
  },
  {
   "cell_type": "code",
   "execution_count": 11,
   "metadata": {},
   "outputs": [
    {
     "name": "stdout",
     "output_type": "stream",
     "text": [
      "Model: KNeighborsClassifier\n",
      "Best parameter: {'leaf_size': 10, 'n_neighbors': 2, 'weights': 'distance'}\n",
      "Acc best: 0.7460\n",
      "Acc on input data: 1.0000\n",
      "Acc on enlarged data: 1.0000\n"
     ]
    }
   ],
   "source": [
    "tmp_params = {\n",
    "    \"n_neighbors\": [2, 5, 10, 50, 100, 200, 500],\n",
    "    \"weights\": ['uniform', 'distance'],\n",
    "    \"leaf_size\": [10, 30, 100],\n",
    "}\n",
    "all_params[\"KNN\"] = grid_search(X, y, KNeighborsClassifier(), tmp_params, SVMSMOTE(random_state=22))"
   ]
  },
  {
   "cell_type": "code",
   "execution_count": 12,
   "metadata": {},
   "outputs": [
    {
     "name": "stdout",
     "output_type": "stream",
     "text": [
      "Model: LinearSVC\n",
      "Best parameter: {'C': 0.1, 'max_iter': 1000, 'tol': 0.001}\n",
      "Acc best: 0.6728\n",
      "Acc on input data: 0.6641\n",
      "Acc on enlarged data: 0.6725\n"
     ]
    }
   ],
   "source": [
    "tmp_params = {\n",
    "    \"tol\": [1e-5, 1e-4, 1e-3],\n",
    "    \"C\": [0.001, 0.01, 0.1, 1, 10],\n",
    "    \"max_iter\": [1000, 5000, 10000],\n",
    "}\n",
    "all_params[\"LinearSVC\"] = grid_search(X, y, LinearSVC(dual=False), tmp_params, SVMSMOTE(random_state=22))"
   ]
  },
  {
   "cell_type": "code",
   "execution_count": 13,
   "metadata": {},
   "outputs": [
    {
     "name": "stdout",
     "output_type": "stream",
     "text": [
      "Model: SVC\n",
      "Best parameter: {'C': 10, 'max_iter': -1, 'tol': 0.0001}\n",
      "Acc best: 0.6452\n",
      "Acc on input data: 0.6285\n",
      "Acc on enlarged data: 0.6489\n"
     ]
    }
   ],
   "source": [
    "tmp_params = {\n",
    "    \"tol\": [1e-5, 1e-4, 1e-3],\n",
    "    \"C\": [0.001, 0.01, 0.1, 1, 10],\n",
    "    \"max_iter\": [1000, 5000, 10000, -1],\n",
    "}\n",
    "all_params[\"SVC\"] = grid_search(X, y, SVC(), tmp_params, SVMSMOTE(random_state=22))"
   ]
  },
  {
   "cell_type": "code",
   "execution_count": 14,
   "metadata": {},
   "outputs": [
    {
     "name": "stdout",
     "output_type": "stream",
     "text": [
      "Model: RandomForestClassifier\n",
      "Best parameter: {'max_depth': 100, 'min_samples_leaf': 5, 'n_estimators': 100}\n",
      "Acc best: 0.7676\n",
      "Acc on input data: 0.8210\n",
      "Acc on enlarged data: 0.8597\n"
     ]
    }
   ],
   "source": [
    "tmp_params = {\n",
    "    \"n_estimators\": [50, 100, 200, 500],\n",
    "    \"max_depth\": [None, 10, 50, 100],\n",
    "    \"min_samples_leaf\": [1, 5, 10],\n",
    "}\n",
    "all_params[\"Forest\"] = grid_search(X, y, RandomForestClassifier(), tmp_params, SVMSMOTE(random_state=22))"
   ]
  },
  {
   "cell_type": "code",
   "execution_count": 15,
   "metadata": {},
   "outputs": [
    {
     "name": "stdout",
     "output_type": "stream",
     "text": [
      "Model: LogisticRegression\n",
      "Best parameter: {'C': 10.0, 'max_iter': 100, 'tol': 1e-05}\n",
      "Acc best: 0.6755\n",
      "Acc on input data: 0.6767\n",
      "Acc on enlarged data: 0.6762\n"
     ]
    }
   ],
   "source": [
    "tmp_params = {\n",
    "    \"tol\": [1e-5, 1e-4, 1e-3],\n",
    "    \"C\": [1e-2, 1e-1, 1, 1e1, 1e2],\n",
    "    \"max_iter\": [100, 500, 1000, 2000],\n",
    "}\n",
    "all_params[\"LogReg\"] = grid_search(X, y, LogisticRegression(), tmp_params, SVMSMOTE(random_state=22))"
   ]
  },
  {
   "cell_type": "code",
   "execution_count": 16,
   "metadata": {},
   "outputs": [
    {
     "name": "stdout",
     "output_type": "stream",
     "text": [
      "Model: DecisionTreeClassifier\n",
      "Best parameter: {'max_depth': 10, 'max_leaf_nodes': 100, 'min_samples_leaf': 1}\n",
      "Acc best: 0.7495\n",
      "Acc on input data: 0.7267\n",
      "Acc on enlarged data: 0.7765\n"
     ]
    }
   ],
   "source": [
    "tmp_params = {\n",
    "    \"max_depth\": [None, 10, 50, 100, 200],\n",
    "    \"max_leaf_nodes\": [None, 10, 100, 1000],\n",
    "    \"min_samples_leaf\": [1, 5, 10],\n",
    "}\n",
    "all_params[\"Tree\"] = grid_search(X, y, DecisionTreeClassifier(), tmp_params, SVMSMOTE(random_state=22))"
   ]
  },
  {
   "cell_type": "code",
   "execution_count": 17,
   "metadata": {},
   "outputs": [
    {
     "name": "stdout",
     "output_type": "stream",
     "text": [
      "Model: MLPClassifier\n",
      "Best parameter: {'alpha': 0.001, 'learning_rate_init': 0.01, 'max_iter': 200}\n",
      "Acc best: 0.6864\n",
      "Acc on input data: 0.6837\n",
      "Acc on enlarged data: 0.6932\n"
     ]
    }
   ],
   "source": [
    "tmp_params = {\n",
    "    \"alpha\": [1e-5, 1e-4, 1e-3],\n",
    "    \"learning_rate_init\": [1e-4, 1e-3, 1e-2],\n",
    "    \"max_iter\": [200, 500, 1000],\n",
    "}\n",
    "all_params[\"MLP\"] = grid_search(X, y, MLPClassifier(), tmp_params, SVMSMOTE(random_state=22))"
   ]
  },
  {
   "cell_type": "markdown",
   "metadata": {},
   "source": [
    "### Data Imputation"
   ]
  },
  {
   "cell_type": "code",
   "execution_count": 18,
   "metadata": {},
   "outputs": [],
   "source": [
    "from sklearn.model_selection import KFold\n",
    "from sklearn.metrics import confusion_matrix\n",
    "\n",
    "def bias1(data):\n",
    "    # input should be data from compute_confusion_matrix\n",
    "    # bias 1 = (FP_AA / FN_AA) - (FP_C / FN_C)\n",
    "    FP_AA = data[\"African-American\"][1]\n",
    "    FN_AA = data[\"African-American\"][2]\n",
    "    FP_C = data[\"Caucasian\"][1]\n",
    "    FN_C = data[\"Caucasian\"][2]\n",
    "    bias = (FP_AA / FN_AA) - (FP_C / FN_C)\n",
    "    return bias\n",
    "   \n",
    "def bias2(data):\n",
    "    # input should be data from compute_confusion_matrix\n",
    "    # bias 2 = (FP_AA / FP_C) - (FN_AA / FN_C)\n",
    "    FP_AA = data[\"African-American\"][1]\n",
    "    FN_AA = data[\"African-American\"][2]\n",
    "    FP_C = data[\"Caucasian\"][1]\n",
    "    FN_C = data[\"Caucasian\"][2]\n",
    "    bias = (FP_AA / FP_C) - (FN_AA / FN_C)\n",
    "    return bias\n",
    "\n",
    "def helper_freq(array):\n",
    "    \"\"\"simple helper function to return the most frequent number in an array\"\"\"\n",
    "    count = np.bincount(array)\n",
    "    return array[np.argmax(count)]\n",
    "\n",
    "def average_cv(cv_data):\n",
    "    # compute average for the confusion matrix data for each fold\n",
    "    result = {}\n",
    "    for name, data in cv_data.items():\n",
    "        new_data = {\n",
    "            \"African-American\": np.array([m[\"African-American\"] for m in data]).mean(axis=0).tolist(),\n",
    "            \"Caucasian\": np.array([m[\"Caucasian\"] for m in data]).mean(axis=0).tolist()\n",
    "        }\n",
    "        result[name] = new_data\n",
    "    return result\n",
    "\n",
    "def compute_confusion_matrix(X_train, y_train, X_test, y_test, clf, protected_features, multi=False):\n",
    "    # X are pandas dataframe\n",
    "    # y are numpy array\n",
    "    # clf is a sklearn classifier\n",
    "    # protected_features is list\n",
    "    smote = SVMSMOTE(random_state=22)\n",
    "    if not multi:\n",
    "        X_train = X_train.drop(columns=protected_features).copy().to_numpy()\n",
    "        X_train_res, y_train_res = smote.fit_resample(X_train, y_train)\n",
    "        clf.fit(X_train_res, y_train_res)\n",
    "        print(\"Acc: {:.4f}\".format(clf.score(X_test.drop(columns=protected_features).copy().to_numpy(), y_test)), end=\" \")\n",
    "        X_test_AA = X_test[X_test[\"race\"] == \"African-American\"].drop(columns=protected_features).to_numpy()\n",
    "        X_test_C = X_test[X_test[\"race\"] == \"Caucasian\"].drop(columns=protected_features).to_numpy()\n",
    "        y_test_AA = y_test[X_test[X_test[\"race\"] == \"African-American\"].index.tolist()]\n",
    "        y_test_C = y_test[X_test[X_test[\"race\"] == \"Caucasian\"].index.tolist()]\n",
    "        matrix_AA = confusion_matrix(y_test_AA, clf.predict(X_test_AA))\n",
    "        matrix_C = confusion_matrix(y_test_C, clf.predict(X_test_C))\n",
    "    else:\n",
    "        prediction_AA = []\n",
    "        prediction_C = []\n",
    "        X_test_first = X_test[0]\n",
    "        y_test_AA = y_test[X_test_first[X_test_first[\"race\"] == \"African-American\"].index.tolist()]\n",
    "        y_test_C = y_test[X_test_first[X_test_first[\"race\"] == \"Caucasian\"].index.tolist()]\n",
    "        scores = [0, 0]\n",
    "        for X_train_m in X_train:\n",
    "            X_train_m = X_train_m.drop(columns=protected_features).copy().to_numpy()\n",
    "            X_train_res, y_train_res = smote.fit_resample(X_train_m, y_train)\n",
    "            clf.fit(X_train_res, y_train_res)\n",
    "            for X_test_m in X_test:\n",
    "                X_test_AA = X_test_m[X_test_m[\"race\"] == \"African-American\"].drop(columns=protected_features).to_numpy()\n",
    "                X_test_C = X_test_m[X_test_m[\"race\"] == \"Caucasian\"].drop(columns=protected_features).to_numpy()\n",
    "                prediction_AA.append(clf.predict(X_test_AA))\n",
    "                prediction_C.append(clf.predict(X_test_C))\n",
    "                scores[0] += clf.score(X_test_m.drop(columns=protected_features).copy().to_numpy(), y_test)\n",
    "                scores[1] += 1\n",
    "        print(\"Acc: {:.4f}\".format(scores[0] / scores[1]), end=\" \")\n",
    "        # compute final predictions by voting\n",
    "        prediction_AA = np.apply_along_axis(helper_freq, 0, np.array(prediction_AA))\n",
    "        prediction_C = np.apply_along_axis(helper_freq, 0, np.array(prediction_C))\n",
    "        matrix_AA = confusion_matrix(y_test_AA, prediction_AA)\n",
    "        matrix_C = confusion_matrix(y_test_C, prediction_C)\n",
    "    result = {\n",
    "        \"African-American\": matrix_AA.ravel().tolist(), # [tn, fp, fn, tp]\n",
    "        \"Caucasian\": matrix_C.ravel().tolist()\n",
    "    }\n",
    "    return result\n",
    "\n",
    "def test_imputation(X, y, protected_features, completer_func=None, multi=False):\n",
    "    # X is pandas dataframe\n",
    "    # y is numpy array,\n",
    "    # protected_features is list\n",
    "    # completer func is the imputation function\n",
    "    global all_params\n",
    "    clfs = { # define all the classifiers with best parameters\n",
    "        \"KNN\": KNeighborsClassifier(n_neighbors=all_params[\"KNN\"][\"n_neighbors\"], weights=all_params[\"KNN\"][\"weights\"], leaf_size=all_params[\"KNN\"][\"leaf_size\"]),\n",
    "        \"LinearSVC\": LinearSVC(dual=False, tol=all_params[\"LinearSVC\"][\"tol\"], C=all_params[\"LinearSVC\"][\"C\"], max_iter=all_params[\"LinearSVC\"][\"max_iter\"]),\n",
    "        \"SVC\": SVC(tol=all_params[\"SVC\"][\"tol\"], C=all_params[\"SVC\"][\"C\"], max_iter=all_params[\"SVC\"][\"max_iter\"]),\n",
    "        \"Forest\": RandomForestClassifier(n_estimators=all_params[\"Forest\"][\"n_estimators\"], max_depth=all_params[\"Forest\"][\"max_depth\"], min_samples_leaf=all_params[\"Forest\"][\"min_samples_leaf\"]),\n",
    "        \"LogReg\": LogisticRegression(tol=all_params[\"LogReg\"][\"tol\"], C=all_params[\"LogReg\"][\"C\"], max_iter=all_params[\"LogReg\"][\"max_iter\"]),\n",
    "        \"Tree\": DecisionTreeClassifier(max_depth=all_params[\"Tree\"][\"max_depth\"], max_leaf_nodes=all_params[\"Tree\"][\"max_leaf_nodes\"], min_samples_leaf=all_params[\"Tree\"][\"min_samples_leaf\"]),\n",
    "        \"MLP\": MLPClassifier(alpha=all_params[\"MLP\"][\"alpha\"], learning_rate_init=all_params[\"MLP\"][\"learning_rate_init\"], max_iter=all_params[\"MLP\"][\"max_iter\"]),\n",
    "    }\n",
    "    data_cv = { # save each cv output\n",
    "        \"KNN\": [],\n",
    "        \"LinearSVC\": [],\n",
    "        \"SVC\": [],\n",
    "        \"Forest\": [],\n",
    "        \"LogReg\": [],\n",
    "        \"Tree\": [],\n",
    "        \"MLP\": [],\n",
    "    }\n",
    "    bias1_cv = { # save each bias 1 outputs\n",
    "        \"KNN\": [],\n",
    "        \"LinearSVC\": [],\n",
    "        \"SVC\": [],\n",
    "        \"Forest\": [],\n",
    "        \"LogReg\": [],\n",
    "        \"Tree\": [],\n",
    "        \"MLP\": [],\n",
    "    }\n",
    "    bias2_cv = { # save each bias 2 outputs\n",
    "        \"KNN\": [],\n",
    "        \"LinearSVC\": [],\n",
    "        \"SVC\": [],\n",
    "        \"Forest\": [],\n",
    "        \"LogReg\": [],\n",
    "        \"Tree\": [],\n",
    "        \"MLP\": [],\n",
    "    }\n",
    "    kf = KFold(n_splits=10)\n",
    "    fold = 1\n",
    "    for train_idx, test_idx in kf.split(X):\n",
    "        print(\"Fold {:>2}\".format(fold), end=\" \")\n",
    "        X_train, X_test = X.iloc[train_idx], X.iloc[test_idx]\n",
    "        y_train, y_test = y[train_idx], y[test_idx]\n",
    "        X_test = X_test.reset_index(drop=True)\n",
    "        X_train = X_train.reset_index(drop=True)\n",
    "        if completer_func:\n",
    "        # do imputations on training set and test set individually\n",
    "            data_incomplete = Dataset(\"tmp\", X_train, y_train, auto_convert=False, protected_features=protected_features)\n",
    "            data_complete = completer_func(data_incomplete)\n",
    "            X_train = [m.X.copy() for m in data_complete] if multi else data_complete.X.copy() \n",
    "            y_train = data_complete[0].y.copy() if multi else data_complete.y.copy()\n",
    "            data_incomplete = Dataset(\"tmp\", X_test, y_test, auto_convert=False, protected_features=protected_features)\n",
    "            data_complete = completer_func(data_incomplete)\n",
    "            X_test = [m.X.copy() for m in data_complete] if multi else data_complete.X.copy()\n",
    "            y_test = data_complete[0].y.copy() if multi else data_complete.y.copy()\n",
    "        # get result for each classifier\n",
    "        for clf_name, clf in clfs.items():\n",
    "            print(\"{}\".format(clf_name), end=\" \")\n",
    "            result = compute_confusion_matrix(X_train, y_train, X_test, y_test, clf, protected_features, multi=multi)\n",
    "            data_cv[clf_name].append(result)\n",
    "            bias1_cv[clf_name].append(bias1(result))\n",
    "            bias2_cv[clf_name].append(bias2(result))\n",
    "        print()\n",
    "        fold += 1\n",
    "    # print(\"Result:\\n{}\".format(data_cv))\n",
    "    return (data_cv, bias1_cv, bias2_cv)"
   ]
  },
  {
   "cell_type": "code",
   "execution_count": 19,
   "metadata": {},
   "outputs": [
    {
     "name": "stdout",
     "output_type": "stream",
     "text": [
      "Fold 1 KNN Acc: 0.5985 LinearSVC Acc: 0.6848 SVC Acc: 0.6326 Forest Acc: 0.7220 LogReg Acc: 0.6816 Tree Acc: 0.7220 MLP Acc: 0.6443 \n",
      "Fold 2 KNN Acc: 0.6337 LinearSVC Acc: 0.6763 SVC Acc: 0.6102 Forest Acc: 0.7167 LogReg Acc: 0.6954 Tree Acc: 0.7050 MLP Acc: 0.6986 \n",
      "Fold 3 KNN Acc: 0.6251 LinearSVC Acc: 0.6741 SVC Acc: 0.6124 Forest Acc: 0.7167 LogReg Acc: 0.6784 Tree Acc: 0.6933 MLP Acc: 0.6592 \n",
      "Fold 4 KNN Acc: 0.5911 LinearSVC Acc: 0.6709 SVC Acc: 0.6038 Forest Acc: 0.6965 LogReg Acc: 0.6645 Tree Acc: 0.6656 MLP Acc: 0.6006 \n",
      "Fold 5 KNN Acc: 0.5896 LinearSVC Acc: 0.6557 SVC Acc: 0.6034 Forest Acc: 0.6823 LogReg Acc: 0.6780 Tree Acc: 0.6450 MLP Acc: 0.6727 \n",
      "Fold 6 KNN Acc: 0.5864 LinearSVC Acc: 0.6493 SVC Acc: 0.6077 Forest Acc: 0.6823 LogReg Acc: 0.6525 Tree Acc: 0.6727 MLP Acc: 0.6471 \n",
      "Fold 7 KNN Acc: 0.5672 LinearSVC Acc: 0.6706 SVC Acc: 0.5970 Forest Acc: 0.6983 LogReg Acc: 0.6738 Tree Acc: 0.6791 MLP Acc: 0.6567 \n",
      "Fold 8 KNN Acc: 0.6130 LinearSVC Acc: 0.6684 SVC Acc: 0.6215 Forest Acc: 0.7228 LogReg Acc: 0.6834 Tree Acc: 0.6876 MLP Acc: 0.7026 \n",
      "Fold 9 KNN Acc: 0.5928 LinearSVC Acc: 0.6652 SVC Acc: 0.6333 Forest Acc: 0.6930 LogReg Acc: 0.6727 Tree Acc: 0.6748 MLP Acc: 0.6684 \n",
      "Fold 10 KNN Acc: 0.5938 LinearSVC Acc: 0.6652 SVC Acc: 0.6013 Forest Acc: 0.6972 LogReg Acc: 0.6727 Tree Acc: 0.7068 MLP Acc: 0.6215 \n",
      "Result:\n",
      "{'KNN': [{'African-American': [169, 107, 98, 80], 'Caucasian': [170, 63, 61, 38]}, {'African-American': [183, 94, 93, 89], 'Caucasian': [190, 56, 48, 31]}, {'African-American': [190, 106, 86, 92], 'Caucasian': [164, 71, 43, 45]}, {'African-American': [177, 93, 110, 80], 'Caucasian': [167, 65, 62, 33]}, {'African-American': [184, 98, 104, 94], 'Caucasian': [164, 73, 66, 37]}, {'African-American': [188, 88, 109, 82], 'Caucasian': [153, 71, 58, 41]}, {'African-American': [157, 110, 119, 88], 'Caucasian': [158, 60, 71, 34]}, {'African-American': [181, 107, 75, 93], 'Caucasian': [172, 57, 56, 46]}, {'African-American': [172, 103, 104, 105], 'Caucasian': [159, 77, 49, 26]}, {'African-American': [171, 101, 99, 91], 'Caucasian': [152, 79, 50, 35]}], 'LinearSVC': [{'African-American': [170, 106, 46, 132], 'Caucasian': [190, 43, 55, 44]}, {'African-American': [159, 118, 51, 131], 'Caucasian': [193, 53, 39, 40]}, {'African-American': [172, 124, 47, 131], 'Caucasian': [194, 41, 45, 43]}, {'African-American': [154, 116, 61, 129], 'Caucasian': [192, 40, 51, 44]}, {'African-American': [168, 114, 65, 133], 'Caucasian': [186, 51, 58, 45]}, {'African-American': [170, 106, 62, 129], 'Caucasian': [165, 59, 62, 37]}, {'African-American': [157, 110, 55, 152], 'Caucasian': [160, 58, 53, 52]}, {'African-American': [166, 122, 39, 129], 'Caucasian': [176, 53, 50, 52]}, {'African-American': [146, 129, 46, 163], 'Caucasian': [177, 59, 41, 34]}, {'African-American': [143, 129, 51, 139], 'Caucasian': [188, 43, 48, 37]}], 'SVC': [{'African-American': [152, 124, 41, 137], 'Caucasian': [153, 80, 48, 51]}, {'African-American': [152, 125, 59, 123], 'Caucasian': [164, 82, 37, 42]}, {'African-American': [146, 150, 45, 133], 'Caucasian': [159, 76, 35, 53]}, {'African-American': [130, 140, 59, 131], 'Caucasian': [159, 73, 44, 51]}, {'African-American': [151, 131, 72, 126], 'Caucasian': [145, 92, 38, 65]}, {'African-American': [149, 127, 63, 128], 'Caucasian': [144, 80, 42, 57]}, {'African-American': [137, 130, 69, 138], 'Caucasian': [140, 78, 52, 53]}, {'African-American': [148, 140, 50, 118], 'Caucasian': [164, 65, 47, 55]}, {'African-American': [143, 132, 55, 154], 'Caucasian': [161, 75, 32, 43]}, {'African-American': [136, 136, 53, 137], 'Caucasian': [142, 89, 41, 44]}], 'Forest': [{'African-American': [198, 78, 62, 116], 'Caucasian': [208, 25, 60, 39]}, {'African-American': [214, 63, 82, 100], 'Caucasian': [209, 37, 49, 30]}, {'African-American': [214, 82, 71, 107], 'Caucasian': [212, 23, 54, 34]}, {'African-American': [192, 78, 76, 114], 'Caucasian': [199, 33, 54, 41]}, {'African-American': [208, 74, 86, 112], 'Caucasian': [199, 38, 69, 34]}, {'African-American': [202, 74, 86, 105], 'Caucasian': [188, 36, 65, 34]}, {'African-American': [196, 71, 88, 119], 'Caucasian': [189, 29, 67, 38]}, {'African-American': [214, 74, 58, 110], 'Caucasian': [196, 33, 55, 47]}, {'African-American': [191, 84, 81, 128], 'Caucasian': [203, 33, 56, 19]}, {'African-American': [186, 86, 78, 112], 'Caucasian': [203, 28, 56, 29]}], 'LogReg': [{'African-American': [166, 110, 40, 138], 'Caucasian': [182, 51, 54, 45]}, {'African-American': [176, 101, 57, 125], 'Caucasian': [199, 47, 39, 40]}, {'African-American': [179, 117, 48, 130], 'Caucasian': [196, 39, 47, 41]}, {'African-American': [156, 114, 64, 126], 'Caucasian': [191, 41, 52, 43]}, {'African-American': [183, 99, 69, 129], 'Caucasian': [190, 47, 56, 47]}, {'African-American': [173, 103, 66, 125], 'Caucasian': [167, 57, 62, 37]}, {'African-American': [160, 107, 59, 148], 'Caucasian': [165, 53, 56, 49]}, {'African-American': [174, 114, 42, 126], 'Caucasian': [181, 48, 49, 53]}, {'African-American': [154, 121, 52, 157], 'Caucasian': [180, 56, 41, 34]}, {'African-American': [154, 118, 58, 132], 'Caucasian': [189, 42, 50, 35]}], 'Tree': [{'African-American': [202, 74, 65, 113], 'Caucasian': [212, 21, 61, 38]}, {'African-American': [201, 76, 84, 98], 'Caucasian': [213, 33, 49, 30]}, {'African-American': [204, 92, 67, 111], 'Caucasian': [200, 35, 58, 30]}, {'African-American': [172, 98, 77, 113], 'Caucasian': [195, 37, 57, 38]}, {'African-American': [181, 101, 78, 120], 'Caucasian': [180, 57, 61, 42]}, {'African-American': [204, 72, 91, 100], 'Caucasian': [188, 36, 64, 35]}, {'African-American': [195, 72, 96, 111], 'Caucasian': [188, 30, 75, 30]}, {'African-American': [192, 96, 58, 110], 'Caucasian': [187, 42, 56, 46]}, {'African-American': [177, 98, 87, 122], 'Caucasian': [204, 32, 51, 24]}, {'African-American': [205, 67, 93, 97], 'Caucasian': [209, 22, 57, 28]}], 'MLP': [{'African-American': [120, 156, 21, 157], 'Caucasian': [159, 74, 40, 59]}, {'African-American': [195, 82, 69, 113], 'Caucasian': [196, 50, 39, 40]}, {'African-American': [170, 126, 49, 129], 'Caucasian': [182, 53, 48, 40]}, {'African-American': [101, 169, 37, 153], 'Caucasian': [152, 80, 36, 59]}, {'African-American': [170, 112, 66, 132], 'Caucasian': [181, 56, 48, 55]}, {'African-American': [172, 104, 74, 117], 'Caucasian': [166, 58, 55, 44]}, {'African-American': [154, 113, 56, 151], 'Caucasian': [156, 62, 55, 50]}, {'African-American': [185, 103, 39, 129], 'Caucasian': [181, 48, 46, 56]}, {'African-American': [155, 120, 55, 154], 'Caucasian': [178, 58, 45, 30]}, {'African-American': [113, 159, 30, 160], 'Caucasian': [144, 87, 25, 60]}]}\n"
     ]
    }
   ],
   "source": [
    "# try on original data\n",
    "result_original = test_imputation(data_compas_complete.X.copy(), data_compas_complete.y.copy(), data_compas_complete.protected)"
   ]
  },
  {
   "cell_type": "markdown",
   "metadata": {},
   "source": [
    "### 20% Random"
   ]
  },
  {
   "cell_type": "code",
   "execution_count": 23,
   "metadata": {},
   "outputs": [
    {
     "name": "stdout",
     "output_type": "stream",
     "text": [
      "gen_complete_random: 20980 NaN values have been inserted\n"
     ]
    },
    {
     "data": {
      "text/plain": [
       "age                        1735\n",
       "age_cat                    1736\n",
       "c_charge_degree            1797\n",
       "priors_count               1771\n",
       "juv_misd_count             1734\n",
       "juv_fel_count              1737\n",
       "juv_other_count            1750\n",
       "c_charge_desc              1709\n",
       "days_b_screening_arrest    1799\n",
       "sex                        1732\n",
       "race                       1764\n",
       "length_of_stay             1716\n",
       "dtype: int64"
      ]
     },
     "execution_count": 23,
     "metadata": {},
     "output_type": "execute_result"
    }
   ],
   "source": [
    "# generate simulated missing data\n",
    "data_sim = gen_complete_random(data_compas_complete, random_ratio=0.2)\n",
    "data_sim.X.isnull().sum(axis=0)"
   ]
  },
  {
   "cell_type": "code",
   "execution_count": 24,
   "metadata": {},
   "outputs": [
    {
     "name": "stdout",
     "output_type": "stream",
     "text": [
      "Fold 1 KNN Acc: 0.5453 LinearSVC Acc: 0.6794 SVC Acc: 0.5751 Forest Acc: 0.6209 LogReg Acc: 0.6741 Tree Acc: 0.6347 MLP Acc: 0.5538 \n",
      "Fold 2 KNN Acc: 0.5857 LinearSVC Acc: 0.6635 SVC Acc: 0.5729 Forest Acc: 0.5761 LogReg Acc: 0.6731 Tree Acc: 0.6539 MLP Acc: 0.5687 \n",
      "Fold 3 KNN Acc: 0.5985 LinearSVC Acc: 0.6613 SVC Acc: 0.5868 Forest Acc: 0.5580 LogReg Acc: 0.6688 Tree Acc: 0.6092 MLP Acc: 0.6741 \n",
      "Fold 4 KNN Acc: 0.5591 LinearSVC Acc: 0.6496 SVC Acc: 0.5570 Forest Acc: 0.5793 LogReg Acc: 0.6400 Tree Acc: 0.6102 MLP Acc: 0.5857 \n",
      "Fold 5 KNN Acc: 0.5480 LinearSVC Acc: 0.6354 SVC Acc: 0.5586 Forest Acc: 0.5256 LogReg Acc: 0.6439 Tree Acc: 0.6034 MLP Acc: 0.6610 \n",
      "Fold 6 KNN Acc: 0.5640 LinearSVC Acc: 0.6482 SVC Acc: 0.5693 Forest Acc: 0.6119 LogReg Acc: 0.6599 Tree Acc: 0.6151 MLP Acc: 0.5949 \n",
      "Fold 7 KNN Acc: 0.5362 LinearSVC Acc: 0.6599 SVC Acc: 0.5512 Forest Acc: 0.5224 LogReg Acc: 0.6557 Tree Acc: 0.5789 MLP Acc: 0.6461 \n",
      "Fold 8 KNN Acc: 0.5938 LinearSVC Acc: 0.6695 SVC Acc: 0.5490 Forest Acc: 0.6162 LogReg Acc: 0.6652 Tree Acc: 0.6450 MLP Acc: 0.5448 \n",
      "Fold 9 KNN Acc: 0.5597 LinearSVC Acc: 0.6588 SVC Acc: 0.6141 Forest Acc: 0.5682 LogReg Acc: 0.6684 Tree Acc: 0.5949 MLP Acc: 0.6183 \n",
      "Fold 10 KNN Acc: 0.5885 LinearSVC Acc: 0.6557 SVC Acc: 0.5661 Forest Acc: 0.5480 LogReg Acc: 0.6695 Tree Acc: 0.6194 MLP Acc: 0.6557 \n",
      "Result:\n",
      "{'KNN': [{'African-American': [114, 101, 75, 73], 'Caucasian': [117, 69, 43, 38]}, {'African-American': [149, 88, 69, 85], 'Caucasian': [137, 57, 36, 25]}, {'African-American': [153, 78, 84, 59], 'Caucasian': [139, 49, 40, 36]}, {'African-American': [136, 86, 87, 68], 'Caucasian': [131, 57, 63, 14]}, {'African-American': [132, 90, 89, 71], 'Caucasian': [123, 81, 43, 41]}, {'African-American': [142, 85, 81, 73], 'Caucasian': [116, 66, 42, 37]}, {'African-American': [121, 98, 99, 71], 'Caucasian': [120, 58, 56, 30]}, {'African-American': [154, 80, 64, 69], 'Caucasian': [130, 52, 54, 29]}, {'African-American': [127, 102, 95, 78], 'Caucasian': [123, 67, 33, 19]}, {'African-American': [129, 84, 75, 82], 'Caucasian': [123, 60, 47, 23]}], 'LinearSVC': [{'African-American': [138, 77, 41, 107], 'Caucasian': [151, 35, 43, 38]}, {'African-American': [148, 89, 53, 101], 'Caucasian': [147, 47, 34, 27]}, {'African-American': [134, 97, 45, 98], 'Caucasian': [159, 29, 40, 36]}, {'African-American': [132, 90, 54, 101], 'Caucasian': [144, 44, 44, 33]}, {'African-American': [135, 87, 65, 95], 'Caucasian': [161, 43, 45, 39]}, {'African-American': [141, 86, 55, 99], 'Caucasian': [134, 48, 47, 32]}, {'African-American': [129, 90, 59, 111], 'Caucasian': [134, 44, 52, 34]}, {'African-American': [145, 89, 41, 92], 'Caucasian': [150, 32, 42, 41]}, {'African-American': [120, 109, 48, 125], 'Caucasian': [143, 47, 26, 26]}, {'African-American': [112, 101, 49, 108], 'Caucasian': [142, 41, 42, 28]}], 'SVC': [{'African-American': [99, 116, 28, 120], 'Caucasian': [105, 81, 32, 49]}, {'African-American': [126, 111, 49, 105], 'Caucasian': [121, 73, 30, 31]}, {'African-American': [125, 106, 40, 103], 'Caucasian': [120, 68, 34, 42]}, {'African-American': [109, 113, 55, 100], 'Caucasian': [117, 71, 38, 39]}, {'African-American': [103, 119, 62, 98], 'Caucasian': [115, 89, 27, 57]}, {'African-American': [105, 122, 43, 111], 'Caucasian': [101, 81, 35, 44]}, {'African-American': [104, 115, 65, 105], 'Caucasian': [108, 70, 42, 44]}, {'African-American': [89, 145, 44, 89], 'Caucasian': [109, 73, 25, 58]}, {'African-American': [106, 123, 50, 123], 'Caucasian': [124, 66, 20, 32]}, {'African-American': [97, 116, 46, 111], 'Caucasian': [103, 80, 34, 36]}], 'Forest': [{'African-American': [123, 92, 36, 112], 'Caucasian': [131, 55, 33, 48]}, {'African-American': [128, 109, 50, 104], 'Caucasian': [120, 74, 29, 32]}, {'African-American': [121, 110, 47, 96], 'Caucasian': [117, 71, 38, 38]}, {'African-American': [121, 101, 49, 106], 'Caucasian': [118, 70, 41, 36]}, {'African-American': [110, 112, 54, 106], 'Caucasian': [113, 91, 40, 44]}, {'African-American': [130, 97, 55, 99], 'Caucasian': [124, 58, 40, 39]}, {'African-American': [105, 114, 62, 108], 'Caucasian': [100, 78, 42, 44]}, {'African-American': [130, 104, 36, 97], 'Caucasian': [127, 55, 30, 53]}, {'African-American': [113, 116, 56, 117], 'Caucasian': [125, 65, 29, 23]}, {'African-American': [118, 95, 54, 103], 'Caucasian': [106, 77, 43, 27]}], 'LogReg': [{'African-American': [137, 78, 42, 106], 'Caucasian': [147, 39, 42, 39]}, {'African-American': [161, 76, 62, 92], 'Caucasian': [153, 41, 35, 26]}, {'African-American': [137, 94, 44, 99], 'Caucasian': [160, 28, 42, 34]}, {'African-American': [135, 87, 57, 98], 'Caucasian': [143, 45, 47, 30]}, {'African-American': [140, 82, 64, 96], 'Caucasian': [163, 41, 46, 38]}, {'African-American': [148, 79, 60, 94], 'Caucasian': [138, 44, 48, 31]}, {'African-American': [129, 90, 57, 113], 'Caucasian': [133, 45, 51, 35]}, {'African-American': [147, 87, 43, 90], 'Caucasian': [147, 35, 43, 40]}, {'African-American': [131, 98, 55, 118], 'Caucasian': [147, 43, 27, 25]}, {'African-American': [128, 85, 55, 102], 'Caucasian': [147, 36, 41, 29]}], 'Tree': [{'African-American': [128, 87, 44, 104], 'Caucasian': [133, 53, 37, 44]}, {'African-American': [166, 71, 61, 93], 'Caucasian': [141, 53, 37, 24]}, {'African-American': [128, 103, 48, 95], 'Caucasian': [137, 51, 42, 34]}, {'African-American': [147, 75, 70, 85], 'Caucasian': [135, 53, 48, 29]}, {'African-American': [135, 87, 61, 99], 'Caucasian': [134, 70, 37, 47]}, {'African-American': [138, 89, 65, 89], 'Caucasian': [126, 56, 45, 34]}, {'African-American': [110, 109, 65, 105], 'Caucasian': [118, 60, 47, 39]}, {'African-American': [150, 84, 59, 74], 'Caucasian': [147, 35, 45, 38]}, {'African-American': [119, 110, 55, 118], 'Caucasian': [138, 52, 26, 26]}, {'African-American': [132, 81, 53, 104], 'Caucasian': [127, 56, 42, 28]}], 'MLP': [{'African-American': [74, 141, 15, 133], 'Caucasian': [90, 96, 22, 59]}, {'African-American': [103, 134, 27, 127], 'Caucasian': [112, 82, 24, 37]}, {'African-American': [158, 73, 61, 82], 'Caucasian': [154, 34, 42, 34]}, {'African-American': [102, 120, 47, 108], 'Caucasian': [122, 66, 36, 41]}, {'African-American': [147, 75, 68, 92], 'Caucasian': [168, 36, 47, 37]}, {'African-American': [104, 123, 33, 121], 'Caucasian': [104, 78, 32, 47]}, {'African-American': [144, 75, 74, 96], 'Caucasian': [140, 38, 62, 24]}, {'African-American': [70, 164, 18, 115], 'Caucasian': [100, 82, 21, 62]}, {'African-American': [110, 119, 44, 129], 'Caucasian': [133, 57, 26, 26]}, {'African-American': [124, 89, 43, 114], 'Caucasian': [130, 53, 36, 34]}]}\n"
     ]
    }
   ],
   "source": [
    "# fill by mean on simulated\n",
    "result_mean_sim_20 = test_imputation(data_sim.X.copy(), data_sim.y.copy(), data_sim.protected, complete_by_mean_col)"
   ]
  },
  {
   "cell_type": "code",
   "execution_count": 25,
   "metadata": {},
   "outputs": [
    {
     "name": "stdout",
     "output_type": "stream",
     "text": [
      "Fold 1 KNN Acc: 0.5911 LinearSVC Acc: 0.6741 SVC Acc: 0.6049 Forest Acc: 0.7007 LogReg Acc: 0.6709 Tree Acc: 0.6688 MLP Acc: 0.6613 \n",
      "Fold 2 KNN Acc: 0.6006 LinearSVC Acc: 0.6528 SVC Acc: 0.5666 Forest Acc: 0.6773 LogReg Acc: 0.6624 Tree Acc: 0.6454 MLP Acc: 0.6358 \n",
      "Fold 3 KNN Acc: 0.6113 LinearSVC Acc: 0.6496 SVC Acc: 0.5879 Forest Acc: 0.6784 LogReg Acc: 0.6731 Tree Acc: 0.6379 MLP Acc: 0.6358 \n",
      "Fold 4 KNN Acc: 0.5772 LinearSVC Acc: 0.6305 SVC Acc: 0.5431 Forest Acc: 0.6187 LogReg Acc: 0.6432 Tree Acc: 0.5804 MLP Acc: 0.5921 \n",
      "Fold 5 KNN Acc: 0.5906 LinearSVC Acc: 0.6343 SVC Acc: 0.5629 Forest Acc: 0.6397 LogReg Acc: 0.6450 Tree Acc: 0.6439 MLP Acc: 0.6333 \n",
      "Fold 6 KNN Acc: 0.5821 LinearSVC Acc: 0.6610 SVC Acc: 0.5949 Forest Acc: 0.6663 LogReg Acc: 0.6652 Tree Acc: 0.6631 MLP Acc: 0.6183 \n",
      "Fold 7 KNN Acc: 0.5512 LinearSVC Acc: 0.6599 SVC Acc: 0.5554 Forest Acc: 0.6514 LogReg Acc: 0.6663 Tree Acc: 0.6226 MLP Acc: 0.6002 \n",
      "Fold 8 KNN Acc: 0.5991 LinearSVC Acc: 0.6567 SVC Acc: 0.5917 Forest Acc: 0.6791 LogReg Acc: 0.6684 Tree Acc: 0.6439 MLP Acc: 0.5736 \n",
      "Fold 9 KNN Acc: 0.5608 LinearSVC Acc: 0.6397 SVC Acc: 0.6173 Forest Acc: 0.6588 LogReg Acc: 0.6429 Tree Acc: 0.6557 MLP Acc: 0.5917 \n",
      "Fold 10 KNN Acc: 0.5512 LinearSVC Acc: 0.6652 SVC Acc: 0.5672 Forest Acc: 0.6557 LogReg Acc: 0.6802 Tree Acc: 0.6503 MLP Acc: 0.5981 \n",
      "Result:\n",
      "{'KNN': [{'African-American': [131, 84, 83, 65], 'Caucasian': [133, 53, 49, 32]}, {'African-American': [152, 85, 74, 80], 'Caucasian': [144, 50, 34, 27]}, {'African-American': [158, 73, 79, 64], 'Caucasian': [137, 51, 43, 33]}, {'African-American': [137, 85, 84, 71], 'Caucasian': [135, 53, 56, 21]}, {'African-American': [145, 77, 93, 67], 'Caucasian': [148, 56, 50, 34]}, {'African-American': [156, 71, 91, 63], 'Caucasian': [120, 62, 48, 31]}, {'African-American': [130, 89, 106, 64], 'Caucasian': [120, 58, 56, 30]}, {'African-American': [152, 82, 60, 73], 'Caucasian': [132, 50, 51, 32]}, {'African-American': [134, 95, 92, 81], 'Caucasian': [126, 64, 34, 18]}, {'African-American': [139, 74, 89, 68], 'Caucasian': [117, 66, 45, 25]}], 'LinearSVC': [{'African-American': [127, 88, 32, 116], 'Caucasian': [144, 42, 40, 41]}, {'African-American': [145, 92, 63, 91], 'Caucasian': [152, 42, 32, 29]}, {'African-American': [132, 99, 44, 99], 'Caucasian': [153, 35, 43, 33]}, {'African-American': [122, 100, 56, 99], 'Caucasian': [142, 46, 39, 38]}, {'African-American': [135, 87, 63, 97], 'Caucasian': [160, 44, 46, 38]}, {'African-American': [143, 84, 52, 102], 'Caucasian': [135, 47, 51, 28]}, {'African-American': [129, 90, 56, 114], 'Caucasian': [130, 48, 47, 39]}, {'African-American': [142, 92, 36, 97], 'Caucasian': [141, 41, 41, 42]}, {'African-American': [116, 113, 43, 130], 'Caucasian': [137, 53, 24, 28]}, {'African-American': [119, 94, 49, 108], 'Caucasian': [146, 37, 41, 29]}], 'SVC': [{'African-American': [119, 96, 33, 115], 'Caucasian': [112, 74, 31, 50]}, {'African-American': [120, 117, 50, 104], 'Caucasian': [119, 75, 30, 31]}, {'African-American': [107, 124, 27, 116], 'Caucasian': [113, 75, 29, 47]}, {'African-American': [100, 122, 52, 103], 'Caucasian': [110, 78, 35, 42]}, {'African-American': [109, 113, 58, 102], 'Caucasian': [116, 88, 34, 50]}, {'African-American': [129, 98, 59, 95], 'Caucasian': [118, 64, 41, 38]}, {'African-American': [104, 115, 60, 110], 'Caucasian': [102, 76, 46, 40]}, {'African-American': [111, 123, 49, 84], 'Caucasian': [127, 55, 33, 50]}, {'African-American': [110, 119, 49, 124], 'Caucasian': [124, 66, 20, 32]}, {'African-American': [93, 120, 37, 120], 'Caucasian': [98, 85, 32, 38]}], 'Forest': [{'African-American': [157, 58, 45, 103], 'Caucasian': [164, 22, 50, 31]}, {'African-American': [164, 73, 68, 86], 'Caucasian': [159, 35, 38, 23]}, {'African-American': [153, 78, 53, 90], 'Caucasian': [162, 26, 48, 28]}, {'African-American': [141, 81, 69, 86], 'Caucasian': [140, 48, 47, 30]}, {'African-American': [149, 73, 78, 82], 'Caucasian': [175, 29, 54, 30]}, {'African-American': [153, 74, 69, 85], 'Caucasian': [153, 29, 57, 22]}, {'African-American': [151, 68, 83, 87], 'Caucasian': [144, 34, 64, 22]}, {'African-American': [161, 73, 49, 84], 'Caucasian': [151, 31, 45, 38]}, {'African-American': [154, 75, 75, 98], 'Caucasian': [156, 34, 34, 18]}, {'African-American': [144, 69, 76, 81], 'Caucasian': [146, 37, 47, 23]}], 'LogReg': [{'African-American': [135, 80, 42, 106], 'Caucasian': [147, 39, 43, 38]}, {'African-American': [153, 84, 66, 88], 'Caucasian': [155, 39, 34, 27]}, {'African-American': [143, 88, 42, 101], 'Caucasian': [155, 33, 43, 33]}, {'African-American': [132, 90, 53, 102], 'Caucasian': [141, 47, 41, 36]}, {'African-American': [141, 81, 69, 91], 'Caucasian': [162, 42, 47, 37]}, {'African-American': [150, 77, 55, 99], 'Caucasian': [137, 45, 51, 28]}, {'African-American': [136, 83, 59, 111], 'Caucasian': [132, 46, 49, 37]}, {'African-American': [152, 82, 38, 95], 'Caucasian': [143, 39, 44, 39]}, {'African-American': [124, 105, 51, 122], 'Caucasian': [139, 51, 25, 27]}, {'African-American': [128, 85, 52, 105], 'Caucasian': [151, 32, 41, 29]}], 'Tree': [{'African-American': [129, 86, 41, 107], 'Caucasian': [149, 37, 40, 41]}, {'African-American': [165, 72, 75, 79], 'Caucasian': [147, 47, 40, 21]}, {'African-American': [141, 90, 56, 87], 'Caucasian': [149, 39, 47, 29]}, {'African-American': [113, 109, 62, 93], 'Caucasian': [129, 59, 40, 37]}, {'African-American': [163, 59, 84, 76], 'Caucasian': [175, 29, 60, 24]}, {'African-American': [157, 70, 68, 86], 'Caucasian': [146, 36, 54, 25]}, {'African-American': [144, 75, 97, 73], 'Caucasian': [140, 38, 58, 28]}, {'African-American': [143, 91, 44, 89], 'Caucasian': [141, 41, 42, 41]}, {'African-American': [145, 84, 68, 105], 'Caucasian': [152, 38, 30, 22]}, {'African-American': [148, 65, 76, 81], 'Caucasian': [143, 40, 45, 25]}], 'MLP': [{'African-American': [118, 97, 22, 126], 'Caucasian': [134, 52, 34, 47]}, {'African-American': [134, 103, 45, 109], 'Caucasian': [135, 59, 32, 29]}, {'African-American': [132, 99, 44, 99], 'Caucasian': [140, 48, 40, 36]}, {'African-American': [118, 104, 56, 99], 'Caucasian': [126, 62, 36, 41]}, {'African-American': [129, 93, 60, 100], 'Caucasian': [154, 50, 44, 40]}, {'African-American': [118, 109, 41, 113], 'Caucasian': [121, 61, 37, 42]}, {'African-American': [111, 108, 51, 119], 'Caucasian': [118, 60, 48, 38]}, {'African-American': [88, 146, 17, 116], 'Caucasian': [108, 74, 23, 60]}, {'African-American': [92, 137, 30, 143], 'Caucasian': [118, 72, 20, 32]}, {'African-American': [87, 126, 23, 134], 'Caucasian': [99, 84, 23, 47]}]}\n"
     ]
    }
   ],
   "source": [
    "# fill by similar on simulated\n",
    "result_similar_sim_20 = test_imputation(data_sim.X.copy(), data_sim.y.copy(), data_sim.protected, complete_by_similar_row)"
   ]
  },
  {
   "cell_type": "code",
   "execution_count": 26,
   "metadata": {},
   "outputs": [
    {
     "name": "stdout",
     "output_type": "stream",
     "text": [
      "Fold 1 KNN Acc: 0.5862 LinearSVC Acc: 0.6587 SVC Acc: 0.5842 Forest Acc: 0.6814 LogReg Acc: 0.6625 Tree Acc: 0.6574 MLP Acc: 0.6233 \n",
      "Fold 2 KNN Acc: 0.6082 LinearSVC Acc: 0.6482 SVC Acc: 0.5752 Forest Acc: 0.6604 LogReg Acc: 0.6561 Tree Acc: 0.6363 MLP Acc: 0.6192 \n",
      "Fold 3 KNN Acc: 0.5916 LinearSVC Acc: 0.6497 SVC Acc: 0.5826 Forest Acc: 0.6707 LogReg Acc: 0.6584 Tree Acc: 0.6415 MLP Acc: 0.6215 \n",
      "Fold 4 KNN Acc: 0.5729 LinearSVC Acc: 0.6357 SVC Acc: 0.5636 Forest Acc: 0.6264 LogReg Acc: 0.6388 Tree Acc: 0.6169 MLP Acc: 0.6204 \n",
      "Fold 5 KNN Acc: 0.5677 LinearSVC Acc: 0.6226 SVC Acc: 0.5496 Forest Acc: 0.6423 LogReg Acc: 0.6285 Tree Acc: 0.6253 MLP Acc: 0.6229 \n",
      "Fold 6 KNN Acc: 0.5863 LinearSVC Acc: 0.6365 SVC Acc: 0.5871 Forest Acc: 0.6540 LogReg Acc: 0.6424 Tree Acc: 0.6374 MLP Acc: 0.6235 \n",
      "Fold 7 KNN Acc: 0.5383 LinearSVC Acc: 0.6345 SVC Acc: 0.5471 Forest Acc: 0.6299 LogReg Acc: 0.6396 Tree Acc: 0.6088 MLP Acc: 0.5954 \n",
      "Fold 8 KNN Acc: 0.5960 LinearSVC Acc: 0.6399 SVC Acc: 0.5720 Forest Acc: 0.6747 LogReg Acc: 0.6409 Tree Acc: 0.6256 MLP Acc: 0.5838 \n",
      "Fold 9 KNN Acc: 0.5723 LinearSVC Acc: 0.6405 SVC Acc: 0.5840 Forest Acc: 0.6469 LogReg Acc: 0.6419 Tree Acc: 0.6278 MLP Acc: 0.6298 \n",
      "Fold 10 KNN Acc: 0.5745 LinearSVC Acc: 0.6487 SVC Acc: 0.5696 Forest Acc: 0.6602 LogReg Acc: 0.6596 Tree Acc: 0.6385 MLP Acc: 0.6409 \n",
      "Result:\n",
      "{'KNN': [{'African-American': [138, 77, 80, 68], 'Caucasian': [124, 62, 45, 36]}, {'African-American': [161, 76, 82, 72], 'Caucasian': [144, 50, 35, 26]}, {'African-American': [138, 93, 89, 54], 'Caucasian': [127, 61, 40, 36]}, {'African-American': [133, 89, 90, 65], 'Caucasian': [139, 49, 57, 20]}, {'African-American': [140, 82, 94, 66], 'Caucasian': [134, 70, 51, 33]}, {'African-American': [149, 78, 94, 60], 'Caucasian': [117, 65, 39, 40]}, {'African-American': [127, 92, 98, 72], 'Caucasian': [116, 62, 57, 29]}, {'African-American': [149, 85, 68, 65], 'Caucasian': [133, 49, 57, 26]}, {'African-American': [140, 89, 97, 76], 'Caucasian': [127, 63, 34, 18]}, {'African-American': [123, 90, 92, 65], 'Caucasian': [115, 68, 44, 26]}], 'LinearSVC': [{'African-American': [132, 83, 48, 100], 'Caucasian': [142, 44, 42, 39]}, {'African-American': [143, 94, 62, 92], 'Caucasian': [144, 50, 36, 25]}, {'African-American': [128, 103, 43, 100], 'Caucasian': [147, 41, 40, 36]}, {'African-American': [131, 91, 47, 108], 'Caucasian': [139, 49, 41, 36]}, {'African-American': [132, 90, 59, 101], 'Caucasian': [150, 54, 44, 40]}, {'African-American': [137, 90, 54, 100], 'Caucasian': [132, 50, 48, 31]}, {'African-American': [133, 86, 62, 108], 'Caucasian': [132, 46, 55, 31]}, {'African-American': [133, 101, 42, 91], 'Caucasian': [143, 39, 35, 48]}, {'African-American': [128, 101, 45, 128], 'Caucasian': [139, 51, 26, 26]}, {'African-American': [118, 95, 51, 106], 'Caucasian': [142, 41, 40, 30]}], 'SVC': [{'African-American': [118, 97, 40, 108], 'Caucasian': [107, 79, 29, 52]}, {'African-American': [136, 101, 56, 98], 'Caucasian': [119, 75, 31, 30]}, {'African-American': [117, 114, 41, 102], 'Caucasian': [118, 70, 31, 45]}, {'African-American': [116, 106, 63, 92], 'Caucasian': [119, 69, 40, 37]}, {'African-American': [103, 119, 63, 97], 'Caucasian': [112, 92, 27, 57]}, {'African-American': [119, 108, 59, 95], 'Caucasian': [124, 58, 40, 39]}, {'African-American': [103, 116, 67, 103], 'Caucasian': [103, 75, 39, 47]}, {'African-American': [102, 132, 41, 92], 'Caucasian': [104, 78, 28, 55]}, {'African-American': [106, 123, 51, 122], 'Caucasian': [116, 74, 18, 34]}, {'African-American': [98, 115, 46, 111], 'Caucasian': [107, 76, 34, 36]}], 'Forest': [{'African-American': [146, 69, 52, 96], 'Caucasian': [152, 34, 41, 40]}, {'African-American': [164, 73, 66, 88], 'Caucasian': [150, 44, 35, 26]}, {'African-American': [149, 82, 53, 90], 'Caucasian': [151, 37, 52, 24]}, {'African-American': [143, 79, 72, 83], 'Caucasian': [141, 47, 45, 32]}, {'African-American': [150, 72, 70, 90], 'Caucasian': [161, 43, 47, 37]}, {'African-American': [156, 71, 65, 89], 'Caucasian': [150, 32, 53, 26]}, {'African-American': [141, 78, 77, 93], 'Caucasian': [132, 46, 59, 27]}, {'African-American': [158, 76, 47, 86], 'Caucasian': [149, 33, 40, 43]}, {'African-American': [150, 79, 64, 109], 'Caucasian': [151, 39, 34, 18]}, {'African-American': [141, 72, 70, 87], 'Caucasian': [149, 34, 46, 24]}], 'LogReg': [{'African-American': [130, 85, 45, 103], 'Caucasian': [143, 43, 38, 43]}, {'African-American': [142, 95, 60, 94], 'Caucasian': [146, 48, 35, 26]}, {'African-American': [136, 95, 48, 95], 'Caucasian': [148, 40, 43, 33]}, {'African-American': [137, 85, 53, 102], 'Caucasian': [142, 46, 39, 38]}, {'African-American': [138, 84, 64, 96], 'Caucasian': [154, 50, 45, 39]}, {'African-American': [147, 80, 53, 101], 'Caucasian': [132, 50, 48, 31]}, {'African-American': [135, 84, 60, 110], 'Caucasian': [134, 44, 53, 33]}, {'African-American': [132, 102, 36, 97], 'Caucasian': [138, 44, 40, 43]}, {'African-American': [136, 93, 50, 123], 'Caucasian': [141, 49, 27, 25]}, {'African-American': [124, 89, 57, 100], 'Caucasian': [146, 37, 42, 28]}], 'Tree': [{'African-American': [147, 68, 57, 91], 'Caucasian': [147, 39, 38, 43]}, {'African-American': [172, 65, 68, 86], 'Caucasian': [150, 44, 38, 23]}, {'African-American': [130, 101, 54, 89], 'Caucasian': [140, 48, 45, 31]}, {'African-American': [132, 90, 70, 85], 'Caucasian': [131, 57, 43, 34]}, {'African-American': [149, 73, 83, 77], 'Caucasian': [160, 44, 53, 31]}, {'African-American': [151, 76, 64, 90], 'Caucasian': [140, 42, 52, 27]}, {'African-American': [136, 83, 90, 80], 'Caucasian': [133, 45, 55, 31]}, {'African-American': [146, 88, 43, 90], 'Caucasian': [131, 51, 32, 51]}, {'African-American': [139, 90, 65, 108], 'Caucasian': [143, 47, 31, 21]}, {'African-American': [131, 82, 68, 89], 'Caucasian': [138, 45, 43, 27]}], 'MLP': [{'African-American': [72, 143, 16, 132], 'Caucasian': [95, 91, 21, 60]}, {'African-American': [148, 89, 51, 103], 'Caucasian': [143, 51, 32, 29]}, {'African-American': [132, 99, 43, 100], 'Caucasian': [149, 39, 35, 41]}, {'African-American': [104, 118, 39, 116], 'Caucasian': [127, 61, 32, 45]}, {'African-American': [106, 116, 43, 117], 'Caucasian': [115, 89, 29, 55]}, {'African-American': [124, 103, 46, 108], 'Caucasian': [116, 66, 37, 42]}, {'African-American': [143, 76, 67, 103], 'Caucasian': [135, 43, 59, 27]}, {'African-American': [102, 132, 24, 109], 'Caucasian': [113, 69, 24, 59]}, {'African-American': [158, 71, 63, 110], 'Caucasian': [148, 42, 34, 18]}, {'African-American': [120, 93, 51, 106], 'Caucasian': [129, 54, 38, 32]}]}\n"
     ]
    }
   ],
   "source": [
    "# fill by multiple imputation on simulated\n",
    "result_multi_sim_20 = test_imputation(data_sim.X.copy(), data_sim.y.copy(), data_sim.protected, complete_by_multi, multi=True)"
   ]
  },
  {
   "cell_type": "markdown",
   "metadata": {},
   "source": [
    "### 10% Random"
   ]
  },
  {
   "cell_type": "code",
   "execution_count": null,
   "metadata": {},
   "outputs": [],
   "source": [
    "data_sim = gen_complete_random(data_compas_complete, random_ratio=0.1)\n",
    "data_sim.X.isnull().sum(axis=0)"
   ]
  },
  {
   "cell_type": "code",
   "execution_count": null,
   "metadata": {},
   "outputs": [],
   "source": [
    "# fill by mean on simulated\n",
    "result_mean_sim_10 = test_imputation(data_sim.X.copy(), data_sim.y.copy(), data_sim.protected, complete_by_mean_col)"
   ]
  },
  {
   "cell_type": "code",
   "execution_count": null,
   "metadata": {},
   "outputs": [],
   "source": [
    "# fill by similar on simulated\n",
    "result_similar_sim_10 = test_imputation(data_sim.X.copy(), data_sim.y.copy(), data_sim.protected, complete_by_similar_row)"
   ]
  },
  {
   "cell_type": "code",
   "execution_count": null,
   "metadata": {},
   "outputs": [],
   "source": [
    "# fill by multiple imputation on simulated\n",
    "result_multi_sim_10 = test_imputation(data_sim.X.copy(), data_sim.y.copy(), data_sim.protected, complete_by_multi, multi=True)"
   ]
  },
  {
   "cell_type": "markdown",
   "metadata": {},
   "source": [
    "### 5% Random"
   ]
  },
  {
   "cell_type": "code",
   "execution_count": null,
   "metadata": {},
   "outputs": [],
   "source": [
    "data_sim = gen_complete_random(data_compas_complete, random_ratio=0.05)\n",
    "data_sim.X.isnull().sum(axis=0)"
   ]
  },
  {
   "cell_type": "code",
   "execution_count": null,
   "metadata": {},
   "outputs": [],
   "source": [
    "# fill by mean on simulated\n",
    "result_mean_sim_5 = test_imputation(data_sim.X.copy(), data_sim.y.copy(), data_sim.protected, complete_by_mean_col)"
   ]
  },
  {
   "cell_type": "code",
   "execution_count": null,
   "metadata": {},
   "outputs": [],
   "source": [
    "# fill by similar on simulated\n",
    "result_similar_sim_5 = test_imputation(data_sim.X.copy(), data_sim.y.copy(), data_sim.protected, complete_by_similar_row)"
   ]
  },
  {
   "cell_type": "code",
   "execution_count": null,
   "metadata": {},
   "outputs": [],
   "source": [
    "# fill by multiple imputation on simulated\n",
    "result_multi_sim_5 = test_imputation(data_sim.X.copy(), data_sim.y.copy(), data_sim.protected, complete_by_multi, multi=True)"
   ]
  },
  {
   "cell_type": "markdown",
   "metadata": {},
   "source": [
    "### Save Results"
   ]
  },
  {
   "cell_type": "code",
   "execution_count": null,
   "metadata": {},
   "outputs": [],
   "source": [
    "# save confusion matrix for each classifier\n",
    "classifiers = [\"KNN\", \"LinearSVC\", \"SVC\", \"Forest\", \"LogReg\", \"Tree\", \"MLP\"]\n"
   ]
  }
 ],
 "metadata": {
  "kernelspec": {
   "display_name": "Python 3",
   "language": "python",
   "name": "python3"
  },
  "language_info": {
   "codemirror_mode": {
    "name": "ipython",
    "version": 3
   },
   "file_extension": ".py",
   "mimetype": "text/x-python",
   "name": "python",
   "nbconvert_exporter": "python",
   "pygments_lexer": "ipython3",
   "version": "3.8.2"
  }
 },
 "nbformat": 4,
 "nbformat_minor": 4
}
