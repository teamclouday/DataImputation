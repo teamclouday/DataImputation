{
 "cells": [
  {
   "cell_type": "markdown",
   "metadata": {},
   "source": [
    "# Experient imputation methods with AIF360"
   ]
  },
  {
   "cell_type": "code",
   "execution_count": 1,
   "metadata": {},
   "outputs": [],
   "source": [
    "import os\n",
    "import sys\n",
    "import numpy as np\n",
    "import pandas as pd\n",
    "import matplotlib.pyplot as plt\n",
    "\n",
    "from utils.completer import complete_by_mean_col, complete_by_mean_col_v2\n",
    "from utils.completer import complete_by_multi, complete_by_multi_v2\n",
    "from utils.completer import complete_by_similar_row, complete_by_similar_row_v2\n",
    "from utils.generator import gen_complete_random\n",
    "from utils.data import create_adult_dataset"
   ]
  },
  {
   "cell_type": "markdown",
   "metadata": {},
   "source": [
    "### Learning Fair Representations (LFR)\n",
    "[example notebook](https://github.com/Trusted-AI/AIF360/blob/master/examples/demo_lfr.ipynb)  \n",
    "\n",
    "------\n",
    "\n",
    "The idea is to first apply imputation on original dataset (adult dataset here)  \n",
    "Then feed the converted dataset into LFR to see any difference  \n",
    "\n",
    "------\n",
    "\n",
    "Note:  \n",
    "In order to LFR to work on Python3.8  \n",
    "Should install LFR directly from github, instead of from pip  "
   ]
  },
  {
   "cell_type": "code",
   "execution_count": 2,
   "metadata": {},
   "outputs": [],
   "source": [
    "from aif360.datasets import BinaryLabelDataset, StandardDataset\n",
    "from aif360.metrics import BinaryLabelDatasetMetric\n",
    "from aif360.metrics import ClassificationMetric\n",
    "from aif360.metrics.utils import compute_boolean_conditioning_vector\n",
    "from aif360.algorithms.preprocessing.lfr import LFR"
   ]
  },
  {
   "cell_type": "code",
   "execution_count": 3,
   "metadata": {},
   "outputs": [],
   "source": [
    "from sklearn.linear_model import LogisticRegression\n",
    "from sklearn.preprocessing import StandardScaler\n",
    "from sklearn.metrics import accuracy_score\n",
    "from sklearn.metrics import classification_report"
   ]
  },
  {
   "cell_type": "code",
   "execution_count": 4,
   "metadata": {},
   "outputs": [
    {
     "name": "stdout",
     "output_type": "stream",
     "text": [
      "(32561, 10)\n",
      "0\n"
     ]
    }
   ],
   "source": [
    "data = create_adult_dataset()\n",
    "print(data.X.shape)\n",
    "print(data.X.isnull().sum().sum())"
   ]
  },
  {
   "cell_type": "code",
   "execution_count": 5,
   "metadata": {},
   "outputs": [
    {
     "name": "stdout",
     "output_type": "stream",
     "text": [
      "gen_complete_random: 58244 NaN values have been inserted\n",
      "age               6420\n",
      "workclass         6520\n",
      "education         6518\n",
      "education-num     6383\n",
      "marital-status    6552\n",
      "occupation        6485\n",
      "relationship      6494\n",
      "race              6438\n",
      "hours-per-week    6434\n",
      "sex                  0\n",
      "dtype: int64\n"
     ]
    }
   ],
   "source": [
    "data_incomplete = gen_complete_random(data, random_ratio=0.2)\n",
    "print(data_incomplete.X.isnull().sum())"
   ]
  },
  {
   "cell_type": "code",
   "execution_count": 6,
   "metadata": {},
   "outputs": [
    {
     "name": "stdout",
     "output_type": "stream",
     "text": [
      "age               0\n",
      "workclass         0\n",
      "education         0\n",
      "education-num     0\n",
      "marital-status    0\n",
      "occupation        0\n",
      "relationship      0\n",
      "race              0\n",
      "hours-per-week    0\n",
      "sex               0\n",
      "dtype: int64\n"
     ]
    }
   ],
   "source": [
    "data_complete = complete_by_mean_col(data_incomplete)\n",
    "print(data_complete.X.isnull().sum())"
   ]
  },
  {
   "cell_type": "code",
   "execution_count": 7,
   "metadata": {},
   "outputs": [
    {
     "data": {
      "text/plain": [
       "array([' <=50K', ' >50K'], dtype=object)"
      ]
     },
     "execution_count": 7,
     "metadata": {},
     "output_type": "execute_result"
    }
   ],
   "source": [
    "data_complete.y_encoder.classes_"
   ]
  },
  {
   "cell_type": "code",
   "execution_count": 8,
   "metadata": {},
   "outputs": [
    {
     "data": {
      "text/plain": [
       "['workclass',\n",
       " 'education',\n",
       " 'marital-status',\n",
       " 'occupation',\n",
       " 'relationship',\n",
       " 'race']"
      ]
     },
     "execution_count": 8,
     "metadata": {},
     "output_type": "execute_result"
    }
   ],
   "source": [
    "data_complete.categorical_features"
   ]
  },
  {
   "cell_type": "code",
   "execution_count": 9,
   "metadata": {},
   "outputs": [
    {
     "data": {
      "text/plain": [
       "['sex']"
      ]
     },
     "execution_count": 9,
     "metadata": {},
     "output_type": "execute_result"
    }
   ],
   "source": [
    "data_complete.protected_features"
   ]
  },
  {
   "cell_type": "code",
   "execution_count": 10,
   "metadata": {},
   "outputs": [
    {
     "name": "stdout",
     "output_type": "stream",
     "text": [
      "(22792, 11)\n",
      "(9769, 11)\n"
     ]
    }
   ],
   "source": [
    "# convert to standard dataset\n",
    "from sklearn.model_selection import train_test_split\n",
    "tmp_df = pd.concat([data_complete.X, pd.DataFrame(data_complete.y, columns=[\"_TARGET_\"])], axis=1).copy()\n",
    "tmp_df['sex'] = tmp_df['sex'].apply(lambda x : 0.0 if x == ' Female' else 1.0) # necessary for aif360 to understand\n",
    "tmp_df_train, tmp_df_test = train_test_split(tmp_df, test_size=0.3, shuffle=True)\n",
    "data_imputed_train = StandardDataset(df=tmp_df_train, label_name=\"_TARGET_\", favorable_classes=lambda x: x > 0,\n",
    "                                     protected_attribute_names=['sex'], privileged_classes=[[1.0]],\n",
    "                                     features_to_keep=data_complete.X.columns.tolist(),\n",
    "                                     instance_weights_name=None, features_to_drop=[],\n",
    "                                     custom_preprocessing=None, categorical_features=data_complete.categorical_features)\n",
    "data_imputed_test = StandardDataset(df=tmp_df_test, label_name=\"_TARGET_\", favorable_classes=lambda x: x > 0,\n",
    "                                    protected_attribute_names=['sex'], privileged_classes=[[1.0]],\n",
    "                                    features_to_keep=data_complete.X.columns.tolist(),\n",
    "                                    instance_weights_name=None, features_to_drop=[],\n",
    "                                    custom_preprocessing=None, categorical_features=data_complete.categorical_features)\n",
    "print(tmp_df_train.shape)\n",
    "print(tmp_df_test.shape)"
   ]
  },
  {
   "cell_type": "code",
   "execution_count": 11,
   "metadata": {},
   "outputs": [
    {
     "name": "stdout",
     "output_type": "stream",
     "text": [
      "-0.19869410188167788\n",
      "-0.19062676377058413\n"
     ]
    }
   ],
   "source": [
    "privileged_groups = [{'sex': 1.0}]\n",
    "unprivileged_groups = [{'sex': 0.0}]\n",
    "metric_imputed_train = BinaryLabelDatasetMetric(data_imputed_train, \n",
    "                                                unprivileged_groups=unprivileged_groups,\n",
    "                                                privileged_groups=privileged_groups)\n",
    "metric_imputed_test = BinaryLabelDatasetMetric(data_imputed_test, \n",
    "                                               unprivileged_groups=unprivileged_groups,\n",
    "                                               privileged_groups=privileged_groups)\n",
    "print(metric_imputed_train.mean_difference())\n",
    "print(metric_imputed_test.mean_difference())"
   ]
  },
  {
   "cell_type": "code",
   "execution_count": 12,
   "metadata": {},
   "outputs": [],
   "source": [
    "scaler = StandardScaler()\n",
    "data_imputed_train.features = scaler.fit_transform(data_imputed_train.features)\n",
    "data_imputed_test.features = scaler.transform(data_imputed_test.features)"
   ]
  },
  {
   "cell_type": "code",
   "execution_count": 14,
   "metadata": {},
   "outputs": [
    {
     "name": "stdout",
     "output_type": "stream",
     "text": [
      "step: 0, loss: 0.7346195455772178, L_x: 2.5687581721984882,  L_y: 0.6942481905756902,  L_z: 0.007341886639771314\n",
      "step: 250, loss: 0.7346195716448645, L_x: 2.5687582203647388,  L_y: 0.6942482127489367,  L_z: 0.007341888346140181\n",
      "step: 500, loss: 0.7346195363902224, L_x: 2.5687582009859034,  L_y: 0.6942481702939289,  L_z: 0.007341892043217224\n",
      "step: 750, loss: 0.6474704396021584, L_x: 2.5686706103869,  L_y: 0.6075376798011145,  L_z: 0.007123026848587476\n",
      "step: 1000, loss: 0.6474704595474631, L_x: 2.5686706229526335,  L_y: 0.6075377010439631,  L_z: 0.007123026136986822\n",
      "step: 1250, loss: 0.6474704621886784, L_x: 2.5686706198010594,  L_y: 0.6075377012023272,  L_z: 0.00712302739417032\n",
      "step: 1500, loss: 0.5888703548237946, L_x: 2.5681439510542496,  L_y: 0.5508710982562816,  L_z: 0.006158908528485248\n",
      "step: 1750, loss: 0.5888703637439808, L_x: 2.5681439189247537,  L_y: 0.5508711068743918,  L_z: 0.006158908840170707\n",
      "step: 2000, loss: 0.5864081763037629, L_x: 2.5679923555247375,  L_y: 0.5496296453240206,  L_z: 0.005549303712247421\n",
      "step: 2250, loss: 0.5864081690678549, L_x: 2.5679923561826863,  L_y: 0.5496296398385456,  L_z: 0.005549302833741182\n",
      "step: 2500, loss: 0.5864081643365897, L_x: 2.5679923577903088,  L_y: 0.549629640663724,  L_z: 0.00554930004748135\n",
      "step: 2750, loss: 0.579496717703255, L_x: 2.567141674213836,  L_y: 0.5464761026828887,  L_z: 0.003674599139113935\n",
      "step: 3000, loss: 0.5794966828610172, L_x: 2.567141655131322,  L_y: 0.546476091565722,  L_z: 0.003674587371991013\n",
      "step: 3250, loss: 0.5704073333645888, L_x: 2.562712803265297,  L_y: 0.5361465167904153,  L_z: 0.004316844270760306\n",
      "step: 3500, loss: 0.570407338137308, L_x: 2.5627128021061774,  L_y: 0.5361465199198326,  L_z: 0.004316845098206792\n",
      "step: 3750, loss: 0.5704073409892682, L_x: 2.5627127835278953,  L_y: 0.5361465241979338,  L_z: 0.004316844478027662\n",
      "step: 4000, loss: 0.5667780540297956, L_x: 2.562312168798906,  L_y: 0.5341933605458306,  L_z: 0.0034807858979880217\n",
      "step: 4250, loss: 0.5667780529258607, L_x: 2.562312154714883,  L_y: 0.5341933623089666,  L_z: 0.0034807845348726178\n",
      "step: 4500, loss: 0.5595972622971366, L_x: 2.559561404057983,  L_y: 0.5286807683852224,  L_z: 0.0026604399356671845\n",
      "step: 4750, loss: 0.5595972568039166, L_x: 2.559561401665736,  L_y: 0.5286807680641386,  L_z: 0.0026604373615603276\n",
      "step: 5000, loss: 0.5595972587794293, L_x: 2.5595613921531273,  L_y: 0.5286807668724146,  L_z: 0.0026604389927417107\n"
     ]
    }
   ],
   "source": [
    "TR = LFR(unprivileged_groups=unprivileged_groups,\n",
    "         privileged_groups=privileged_groups,\n",
    "         k=10, Ax=0.01, Ay=1.0, Az=2.0,\n",
    "         verbose=1\n",
    "        )\n",
    "TR = TR.fit(data_imputed_train, maxiter=5000, maxfun=5000)"
   ]
  },
  {
   "cell_type": "code",
   "execution_count": 15,
   "metadata": {},
   "outputs": [
    {
     "name": "stdout",
     "output_type": "stream",
     "text": [
      "              precision    recall  f1-score   support\n",
      "\n",
      "         0.0       0.76      1.00      0.87      7461\n",
      "         1.0       0.00      0.00      0.00      2308\n",
      "\n",
      "    accuracy                           0.76      9769\n",
      "   macro avg       0.38      0.50      0.43      9769\n",
      "weighted avg       0.58      0.76      0.66      9769\n",
      "\n",
      "0.0\n",
      "0.0\n"
     ]
    }
   ],
   "source": [
    "data_imputed_transf_train = TR.transform(data_imputed_train)\n",
    "data_imputed_transf_test = TR.transform(data_imputed_test)\n",
    "print(classification_report(data_imputed_test.labels, data_imputed_transf_test.labels, zero_division=0))\n",
    "metric_imputed_transf_train = BinaryLabelDatasetMetric(data_imputed_transf_train, \n",
    "                                                       unprivileged_groups=unprivileged_groups,\n",
    "                                                       privileged_groups=privileged_groups)\n",
    "metric_imputed_transf_test = BinaryLabelDatasetMetric(data_imputed_transf_test, \n",
    "                                                      unprivileged_groups=unprivileged_groups,\n",
    "                                                      privileged_groups=privileged_groups)\n",
    "print(metric_imputed_transf_train.mean_difference())\n",
    "print(metric_imputed_transf_test.mean_difference())"
   ]
  },
  {
   "cell_type": "code",
   "execution_count": 16,
   "metadata": {},
   "outputs": [],
   "source": [
    "def draw(dataset_orig_test, dataset_transf_test):\n",
    "    from collections import OrderedDict\n",
    "    from aif360.metrics import ClassificationMetric\n",
    "\n",
    "    def compute_metrics(dataset_true, dataset_pred, \n",
    "                        unprivileged_groups, privileged_groups,\n",
    "                        disp = True):\n",
    "        \"\"\" Compute the key metrics \"\"\"\n",
    "        classified_metric_pred = ClassificationMetric(dataset_true,\n",
    "                                                     dataset_pred, \n",
    "                                                     unprivileged_groups=unprivileged_groups,\n",
    "                                                     privileged_groups=privileged_groups)\n",
    "        metrics = OrderedDict()\n",
    "        metrics[\"Balanced accuracy\"] = 0.5*(classified_metric_pred.true_positive_rate()+\n",
    "                                                 classified_metric_pred.true_negative_rate())\n",
    "        metrics[\"Statistical parity difference\"] = classified_metric_pred.statistical_parity_difference()\n",
    "        metrics[\"Disparate impact\"] = classified_metric_pred.disparate_impact()\n",
    "        metrics[\"Average odds difference\"] = classified_metric_pred.average_odds_difference()\n",
    "        metrics[\"Equal opportunity difference\"] = classified_metric_pred.equal_opportunity_difference()\n",
    "        metrics[\"Theil index\"] = classified_metric_pred.theil_index()\n",
    "    \n",
    "        if disp:\n",
    "            for k in metrics:\n",
    "                print(\"%s = %.4f\" % (k, metrics[k]))\n",
    "    \n",
    "        return metrics\n",
    "    bal_acc_arr_transf = []\n",
    "    disp_imp_arr_transf = []\n",
    "\n",
    "    class_thresh_arr = np.linspace(0.01, 0.99, 100)\n",
    "\n",
    "    dataset_transf_test_new = dataset_orig_test.copy(deepcopy=True)\n",
    "    dataset_transf_test_new.scores = dataset_transf_test.scores\n",
    "\n",
    "    for thresh in class_thresh_arr:\n",
    "        fav_inds = dataset_transf_test_new.scores > thresh\n",
    "        dataset_transf_test_new.labels[fav_inds] = 1.0\n",
    "        dataset_transf_test_new.labels[~fav_inds] = 0.0\n",
    "    \n",
    "        metric_test_aft = compute_metrics(dataset_orig_test, dataset_transf_test_new, \n",
    "                                          unprivileged_groups, privileged_groups,\n",
    "                                          disp = False)\n",
    "\n",
    "        bal_acc_arr_transf.append(metric_test_aft[\"Balanced accuracy\"])\n",
    "        disp_imp_arr_transf.append(metric_test_aft[\"Disparate impact\"])\n",
    "    fig, ax1 = plt.subplots(figsize=(10,7))\n",
    "    ax1.plot(class_thresh_arr, bal_acc_arr_transf)\n",
    "    ax1.set_xlabel('Classification Thresholds', fontsize=16, fontweight='bold')\n",
    "    ax1.set_ylabel('Balanced Accuracy', color='b', fontsize=16, fontweight='bold')\n",
    "    ax1.xaxis.set_tick_params(labelsize=14)\n",
    "    ax1.yaxis.set_tick_params(labelsize=14)\n",
    "\n",
    "    ax2 = ax1.twinx()\n",
    "    ax2.plot(class_thresh_arr, np.abs(1.0-np.array(disp_imp_arr_transf)), color='r')\n",
    "    ax2.set_ylabel('abs(1-disparate impact)', color='r', fontsize=16, fontweight='bold')\n",
    "    ax2.yaxis.set_tick_params(labelsize=14)\n",
    "    ax2.grid(True)\n",
    "    plt.show()"
   ]
  },
  {
   "cell_type": "code",
   "execution_count": 17,
   "metadata": {},
   "outputs": [
    {
     "name": "stderr",
     "output_type": "stream",
     "text": [
      "/home/archer/Downloads/AIF360/aif360/metrics/dataset_metric.py:82: RuntimeWarning: invalid value encountered in double_scalars\n",
      "  return metric_fun(privileged=False) / metric_fun(privileged=True)\n"
     ]
    },
    {
     "data": {
      "image/png": "[encoded data removed]",
      "text/plain": [
       "<Figure size 720x504 with 2 Axes>"
      ]
     },
     "metadata": {
      "needs_background": "light"
     },
     "output_type": "display_data"
    }
   ],
   "source": [
    "draw(data_imputed_test, data_imputed_transf_test)"
   ]
  },
  {
   "cell_type": "code",
   "execution_count": 20,
   "metadata": {},
   "outputs": [
    {
     "name": "stdout",
     "output_type": "stream",
     "text": [
      "(22792, 11)\n",
      "(9769, 11)\n",
      "-0.1963298204586729\n",
      "-0.19607737189595748\n"
     ]
    }
   ],
   "source": [
    "# compare with original dataset\n",
    "tmp_df = pd.concat([data.X, pd.DataFrame(data.y, columns=[\"_TARGET_\"])], axis=1).copy()\n",
    "tmp_df['sex'] = tmp_df['sex'].apply(lambda x : 0.0 if x == ' Female' else 1.0) # necessary for aif360 to understand\n",
    "tmp_df_train, tmp_df_test = train_test_split(tmp_df, test_size=0.3, shuffle=True)\n",
    "data_train = StandardDataset(df=tmp_df_train, label_name=\"_TARGET_\", favorable_classes=lambda x: x > 0,\n",
    "                             protected_attribute_names=['sex'], privileged_classes=[[1.0]],\n",
    "                             features_to_keep=data_complete.X.columns.tolist(),\n",
    "                             instance_weights_name=None, features_to_drop=[],\n",
    "                             custom_preprocessing=None, categorical_features=data_complete.categorical_features)\n",
    "data_test = StandardDataset(df=tmp_df_test, label_name=\"_TARGET_\", favorable_classes=lambda x: x > 0,\n",
    "                            protected_attribute_names=['sex'], privileged_classes=[[1.0]],\n",
    "                            features_to_keep=data_complete.X.columns.tolist(),\n",
    "                            instance_weights_name=None, features_to_drop=[],\n",
    "                            custom_preprocessing=None, categorical_features=data_complete.categorical_features)\n",
    "print(tmp_df_train.shape)\n",
    "print(tmp_df_test.shape)\n",
    "metric_train = BinaryLabelDatasetMetric(data_train, \n",
    "                                        unprivileged_groups=unprivileged_groups,\n",
    "                                        privileged_groups=privileged_groups)\n",
    "metric_test = BinaryLabelDatasetMetric(data_test, \n",
    "                                       unprivileged_groups=unprivileged_groups,\n",
    "                                       privileged_groups=privileged_groups)\n",
    "print(metric_train.mean_difference())\n",
    "print(metric_test.mean_difference())"
   ]
  },
  {
   "cell_type": "code",
   "execution_count": 22,
   "metadata": {},
   "outputs": [
    {
     "name": "stdout",
     "output_type": "stream",
     "text": [
      "step: 0, loss: 0.7310505930273987, L_x: 2.5238689088829154,  L_y: 0.6895203927241166,  L_z: 0.008145755607226475\n",
      "step: 250, loss: 0.7310506129759986, L_x: 2.523868931325602,  L_y: 0.6895204091832978,  L_z: 0.008145757239722362\n",
      "step: 500, loss: 0.7310505638783231, L_x: 2.523868930367793,  L_y: 0.6895203814947546,  L_z: 0.008145746539945325\n",
      "step: 750, loss: 0.640601645816017, L_x: 2.524060369456726,  L_y: 0.599625135647469,  L_z: 0.007867953236990377\n",
      "step: 1000, loss: 0.640601667240875, L_x: 2.5240603877686114,  L_y: 0.5996251517685276,  L_z: 0.007867955797330626\n",
      "step: 1250, loss: 0.6406016490832683, L_x: 2.524060393735345,  L_y: 0.5996251412341442,  L_z: 0.007867951955885294\n",
      "step: 1500, loss: 0.5838020464033977, L_x: 2.524177757703068,  L_y: 0.544729219045182,  L_z: 0.006915524890592481\n",
      "step: 1750, loss: 0.5838020594803612, L_x: 2.5241777529407416,  L_y: 0.5447292315234442,  L_z: 0.006915525213754804\n",
      "step: 2000, loss: 0.579253457101116, L_x: 2.524113610319274,  L_y: 0.5412434151273066,  L_z: 0.006384452935308331\n",
      "step: 2250, loss: 0.5792534596880692, L_x: 2.5241136428369897,  L_y: 0.5412434044378681,  L_z: 0.006384459410915597\n",
      "step: 2500, loss: 0.579253457745211, L_x: 2.5241136189892934,  L_y: 0.5412434063567271,  L_z: 0.006384457599295462\n",
      "step: 2750, loss: 0.5673749059487594, L_x: 2.5233717911585876,  L_y: 0.5330344233501495,  L_z: 0.004553382343511984\n",
      "step: 3000, loss: 0.5673748830903228, L_x: 2.523371795823892,  L_y: 0.5330343926456239,  L_z: 0.00455338624323001\n",
      "step: 3250, loss: 0.5571998048863398, L_x: 2.5205526685122015,  L_y: 0.524964105839217,  L_z: 0.0035150861810003624\n",
      "step: 3500, loss: 0.5571998203457148, L_x: 2.520552704275966,  L_y: 0.5249641237562045,  L_z: 0.0035150847733753043\n",
      "step: 3750, loss: 0.5571998248799007, L_x: 2.5205526882154,  L_y: 0.5249641276607052,  L_z: 0.003515085168520704\n",
      "step: 4000, loss: 0.5544898522249428, L_x: 2.520068319161895,  L_y: 0.5228324290075422,  L_z: 0.003228370012890838\n",
      "step: 4250, loss: 0.5544898569918076, L_x: 2.5200683263719124,  L_y: 0.5228324372918559,  L_z: 0.0032283682181162955\n",
      "step: 4500, loss: 0.5431884016804277, L_x: 2.5157808393442815,  L_y: 0.5115595111330713,  L_z: 0.0032355410769567593\n",
      "step: 4750, loss: 0.5431883900648617, L_x: 2.5157808563533264,  L_y: 0.511559504643574,  L_z: 0.003235538428877269\n",
      "step: 5000, loss: 0.5431883841693459, L_x: 2.5157808424724335,  L_y: 0.5115594970245861,  L_z: 0.003235539360017671\n"
     ]
    }
   ],
   "source": [
    "data_train.features = scaler.fit_transform(data_train.features)\n",
    "data_test.features = scaler.transform(data_test.features)\n",
    "TR = LFR(unprivileged_groups=unprivileged_groups,\n",
    "         privileged_groups=privileged_groups,\n",
    "         k=10, Ax=0.01, Ay=1.0, Az=2.0,\n",
    "         verbose=1\n",
    "        )\n",
    "TR = TR.fit(data_train, maxiter=5000, maxfun=5000)"
   ]
  },
  {
   "cell_type": "code",
   "execution_count": 23,
   "metadata": {},
   "outputs": [
    {
     "name": "stdout",
     "output_type": "stream",
     "text": [
      "              precision    recall  f1-score   support\n",
      "\n",
      "         0.0       0.75      1.00      0.86      7358\n",
      "         1.0       0.00      0.00      0.00      2411\n",
      "\n",
      "    accuracy                           0.75      9769\n",
      "   macro avg       0.38      0.50      0.43      9769\n",
      "weighted avg       0.57      0.75      0.65      9769\n",
      "\n",
      "0.0\n",
      "0.0\n"
     ]
    }
   ],
   "source": [
    "data_transf_train = TR.transform(data_train)\n",
    "data_transf_test = TR.transform(data_test)\n",
    "print(classification_report(data_test.labels, data_transf_test.labels, zero_division=0))\n",
    "metric_transf_train = BinaryLabelDatasetMetric(data_transf_train, \n",
    "                                               unprivileged_groups=unprivileged_groups,\n",
    "                                               privileged_groups=privileged_groups)\n",
    "metric_transf_test = BinaryLabelDatasetMetric(data_transf_test, \n",
    "                                              unprivileged_groups=unprivileged_groups,\n",
    "                                              privileged_groups=privileged_groups)\n",
    "print(metric_transf_train.mean_difference())\n",
    "print(metric_transf_test.mean_difference())"
   ]
  },
  {
   "cell_type": "code",
   "execution_count": 24,
   "metadata": {},
   "outputs": [
    {
     "name": "stderr",
     "output_type": "stream",
     "text": [
      "/home/archer/Downloads/AIF360/aif360/metrics/dataset_metric.py:82: RuntimeWarning: divide by zero encountered in double_scalars\n",
      "  return metric_fun(privileged=False) / metric_fun(privileged=True)\n",
      "/home/archer/Downloads/AIF360/aif360/metrics/dataset_metric.py:82: RuntimeWarning: invalid value encountered in double_scalars\n",
      "  return metric_fun(privileged=False) / metric_fun(privileged=True)\n"
     ]
    },
    {
     "data": {
      "image/png": "[encoded data removed]",
      "text/plain": [
       "<Figure size 720x504 with 2 Axes>"
      ]
     },
     "metadata": {
      "needs_background": "light"
     },
     "output_type": "display_data"
    }
   ],
   "source": [
    "draw(data_test, data_transf_test)"
   ]
  }
 ],
 "metadata": {
  "kernelspec": {
   "display_name": "Python 3",
   "language": "python",
   "name": "python3"
  },
  "language_info": {
   "codemirror_mode": {
    "name": "ipython",
    "version": 3
   },
   "file_extension": ".py",
   "mimetype": "text/x-python",
   "name": "python",
   "nbconvert_exporter": "python",
   "pygments_lexer": "ipython3",
   "version": "3.8.5"
  }
 },
 "nbformat": 4,
 "nbformat_minor": 4
}
