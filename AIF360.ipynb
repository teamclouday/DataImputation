{
 "cells": [
  {
   "cell_type": "markdown",
   "metadata": {},
   "source": [
    "# Experient imputation methods with AIF360"
   ]
  },
  {
   "cell_type": "code",
   "execution_count": 1,
   "metadata": {},
   "outputs": [],
   "source": [
    "import os\n",
    "os.environ[\"PYTHONWARNINGS\"] = \"ignore\"\n",
    "import sys\n",
    "import warnings\n",
    "warnings.filterwarnings('ignore')\n",
    "import numpy as np\n",
    "import pandas as pd\n",
    "import matplotlib.pyplot as plt\n",
    "\n",
    "from utils.completer import complete_by_mean_col, complete_by_mean_col_v2\n",
    "from utils.completer import complete_by_multi, complete_by_multi_v2\n",
    "from utils.completer import complete_by_similar_row, complete_by_similar_row_v2\n",
    "from utils.generator import gen_complete_random\n",
    "from utils.data import create_adult_dataset"
   ]
  },
  {
   "cell_type": "markdown",
   "metadata": {},
   "source": [
    "### Learning Fair Representations (LFR)\n",
    "[example notebook](https://github.com/Trusted-AI/AIF360/blob/master/examples/demo_lfr.ipynb)  \n",
    "\n",
    "------\n",
    "\n",
    "The idea is to first apply imputation on original dataset (adult dataset here)  \n",
    "Then feed the converted dataset into LFR to see any difference  \n",
    "\n",
    "------\n",
    "\n",
    "Note:  \n",
    "In order to LFR to work on Python3.8  \n",
    "Should install LFR directly from github, instead of from pip  "
   ]
  },
  {
   "cell_type": "code",
   "execution_count": 2,
   "metadata": {},
   "outputs": [],
   "source": [
    "from aif360.datasets import BinaryLabelDataset, StandardDataset\n",
    "from aif360.metrics import BinaryLabelDatasetMetric\n",
    "from aif360.metrics import ClassificationMetric\n",
    "from aif360.metrics.utils import compute_boolean_conditioning_vector\n",
    "from aif360.algorithms.preprocessing.lfr import LFR"
   ]
  },
  {
   "cell_type": "code",
   "execution_count": 3,
   "metadata": {},
   "outputs": [],
   "source": [
    "from sklearn.linear_model import LogisticRegression\n",
    "from sklearn.preprocessing import StandardScaler\n",
    "from sklearn.metrics import accuracy_score\n",
    "from sklearn.metrics import classification_report"
   ]
  },
  {
   "cell_type": "code",
   "execution_count": 4,
   "metadata": {},
   "outputs": [
    {
     "name": "stdout",
     "output_type": "stream",
     "text": [
      "(32561, 10)\n",
      "0\n"
     ]
    }
   ],
   "source": [
    "data = create_adult_dataset()\n",
    "print(data.X.shape)\n",
    "print(data.X.isnull().sum().sum())"
   ]
  },
  {
   "cell_type": "code",
   "execution_count": 5,
   "metadata": {},
   "outputs": [
    {
     "name": "stdout",
     "output_type": "stream",
     "text": [
      "gen_complete_random: 58244 NaN values have been inserted\n",
      "age               6520\n",
      "workclass         6460\n",
      "education         6405\n",
      "education-num     6499\n",
      "marital-status    6423\n",
      "occupation        6490\n",
      "relationship      6468\n",
      "race              6454\n",
      "hours-per-week    6525\n",
      "sex                  0\n",
      "dtype: int64\n"
     ]
    }
   ],
   "source": [
    "data_incomplete = gen_complete_random(data, random_ratio=0.2)\n",
    "print(data_incomplete.X.isnull().sum())"
   ]
  },
  {
   "cell_type": "code",
   "execution_count": 6,
   "metadata": {},
   "outputs": [
    {
     "name": "stdout",
     "output_type": "stream",
     "text": [
      "age               0\n",
      "workclass         0\n",
      "education         0\n",
      "education-num     0\n",
      "marital-status    0\n",
      "occupation        0\n",
      "relationship      0\n",
      "race              0\n",
      "hours-per-week    0\n",
      "sex               0\n",
      "dtype: int64\n"
     ]
    }
   ],
   "source": [
    "data_complete = complete_by_mean_col(data_incomplete)\n",
    "print(data_complete.X.isnull().sum())"
   ]
  },
  {
   "cell_type": "code",
   "execution_count": 7,
   "metadata": {},
   "outputs": [
    {
     "data": {
      "text/plain": [
       "array([' <=50K', ' >50K'], dtype=object)"
      ]
     },
     "execution_count": 7,
     "metadata": {},
     "output_type": "execute_result"
    }
   ],
   "source": [
    "data_complete.y_encoder.classes_"
   ]
  },
  {
   "cell_type": "code",
   "execution_count": 8,
   "metadata": {},
   "outputs": [
    {
     "data": {
      "text/plain": [
       "['workclass',\n",
       " 'education',\n",
       " 'marital-status',\n",
       " 'occupation',\n",
       " 'relationship',\n",
       " 'race']"
      ]
     },
     "execution_count": 8,
     "metadata": {},
     "output_type": "execute_result"
    }
   ],
   "source": [
    "data_complete.categorical_features"
   ]
  },
  {
   "cell_type": "code",
   "execution_count": 9,
   "metadata": {},
   "outputs": [
    {
     "data": {
      "text/plain": [
       "['sex']"
      ]
     },
     "execution_count": 9,
     "metadata": {},
     "output_type": "execute_result"
    }
   ],
   "source": [
    "data_complete.protected_features"
   ]
  },
  {
   "cell_type": "code",
   "execution_count": 10,
   "metadata": {},
   "outputs": [
    {
     "name": "stdout",
     "output_type": "stream",
     "text": [
      "(22792, 11)\n",
      "(9769, 11)\n"
     ]
    }
   ],
   "source": [
    "# convert to standard dataset\n",
    "from sklearn.model_selection import train_test_split\n",
    "tmp_df = pd.concat([data_complete.X, pd.DataFrame(data_complete.y, columns=[\"_TARGET_\"])], axis=1).copy()\n",
    "tmp_df['sex'] = tmp_df['sex'].apply(lambda x : 0.0 if x == ' Female' else 1.0) # necessary for aif360 to understand\n",
    "tmp_df_train, tmp_df_test = train_test_split(tmp_df, test_size=0.3, shuffle=True)\n",
    "data_imputed_train = StandardDataset(df=tmp_df_train, label_name=\"_TARGET_\", favorable_classes=lambda x: x > 0,\n",
    "                                     protected_attribute_names=['sex'], privileged_classes=[[1.0]],\n",
    "                                     features_to_keep=data_complete.X.columns.tolist(),\n",
    "                                     instance_weights_name=None, features_to_drop=[],\n",
    "                                     custom_preprocessing=None, categorical_features=data_complete.categorical_features)\n",
    "data_imputed_test = StandardDataset(df=tmp_df_test, label_name=\"_TARGET_\", favorable_classes=lambda x: x > 0,\n",
    "                                    protected_attribute_names=['sex'], privileged_classes=[[1.0]],\n",
    "                                    features_to_keep=data_complete.X.columns.tolist(),\n",
    "                                    instance_weights_name=None, features_to_drop=[],\n",
    "                                    custom_preprocessing=None, categorical_features=data_complete.categorical_features)\n",
    "print(tmp_df_train.shape)\n",
    "print(tmp_df_test.shape)"
   ]
  },
  {
   "cell_type": "code",
   "execution_count": 11,
   "metadata": {},
   "outputs": [
    {
     "name": "stdout",
     "output_type": "stream",
     "text": [
      "-0.19687256847183315\n",
      "-0.19488394242534504\n"
     ]
    }
   ],
   "source": [
    "privileged_groups = [{'sex': 1.0}]\n",
    "unprivileged_groups = [{'sex': 0.0}]\n",
    "metric_imputed_train = BinaryLabelDatasetMetric(data_imputed_train, \n",
    "                                                unprivileged_groups=unprivileged_groups,\n",
    "                                                privileged_groups=privileged_groups)\n",
    "metric_imputed_test = BinaryLabelDatasetMetric(data_imputed_test, \n",
    "                                               unprivileged_groups=unprivileged_groups,\n",
    "                                               privileged_groups=privileged_groups)\n",
    "print(metric_imputed_train.mean_difference())\n",
    "print(metric_imputed_test.mean_difference())"
   ]
  },
  {
   "cell_type": "code",
   "execution_count": 12,
   "metadata": {},
   "outputs": [],
   "source": [
    "scaler = StandardScaler()\n",
    "data_imputed_train.features = scaler.fit_transform(data_imputed_train.features)\n",
    "data_imputed_test.features = scaler.transform(data_imputed_test.features)"
   ]
  },
  {
   "cell_type": "code",
   "execution_count": 13,
   "metadata": {},
   "outputs": [
    {
     "name": "stdout",
     "output_type": "stream",
     "text": [
      "step: 0, loss: 0.6783762940135664, L_x: 2.561641631233007,  L_y: 0.6402576386903901,  L_z: 0.006251119505423093\n",
      "step: 250, loss: 0.6783763146668952, L_x: 2.5616416718723967,  L_y: 0.6402576548998364,  L_z: 0.006251121524167376\n",
      "step: 500, loss: 0.6783763126867599, L_x: 2.561641674050902,  L_y: 0.6402576442479718,  L_z: 0.006251125849139517\n",
      "step: 750, loss: 0.6258931193051109, L_x: 2.5612446866608787,  L_y: 0.5882539803699335,  L_z: 0.006013346034284347\n",
      "step: 1000, loss: 0.625893137567868, L_x: 2.5612447055337504,  L_y: 0.5882539950438782,  L_z: 0.006013347734326176\n",
      "step: 1250, loss: 0.6258931432161025, L_x: 2.5612447009951875,  L_y: 0.5882540044914034,  L_z: 0.00601334585737356\n",
      "step: 1500, loss: 0.592876108387816, L_x: 2.5602556423062874,  L_y: 0.5572239354251898,  L_z: 0.005024808269781693\n",
      "step: 1750, loss: 0.5928761106585492, L_x: 2.5602556458270636,  L_y: 0.5572239363060097,  L_z: 0.005024808947134393\n",
      "step: 2000, loss: 0.5900834836859262, L_x: 2.560053792147637,  L_y: 0.5552972012633792,  L_z: 0.004592872250535325\n",
      "step: 2250, loss: 0.5900834916490296, L_x: 2.560053793473471,  L_y: 0.5552972017862469,  L_z: 0.004592875964024026\n",
      "step: 2500, loss: 0.5900834839241159, L_x: 2.5600537901811555,  L_y: 0.5552971961374439,  L_z: 0.004592874942430232\n",
      "step: 2750, loss: 0.5772817811182319, L_x: 2.5582238170861498,  L_y: 0.5450936106978683,  L_z: 0.0033029661247510555\n",
      "step: 3000, loss: 0.5772817861837468, L_x: 2.5582238661809065,  L_y: 0.5450936419891423,  L_z: 0.0033029527663976806\n",
      "step: 3250, loss: 0.56899109236425, L_x: 2.5518382246586837,  L_y: 0.5354600317578334,  L_z: 0.004006339179914903\n",
      "step: 3500, loss: 0.5689911009709436, L_x: 2.551838257222544,  L_y: 0.5354600418706039,  L_z: 0.004006338264057092\n",
      "step: 3750, loss: 0.5689911040034862, L_x: 2.5518382410135767,  L_y: 0.535460044133701,  L_z: 0.00400633872982471\n",
      "step: 4000, loss: 0.5617017684542156, L_x: 2.547138376131703,  L_y: 0.5274215289495228,  L_z: 0.004404427871687851\n",
      "step: 4250, loss: 0.5617017659612897, L_x: 2.547138388204824,  L_y: 0.5274215255965834,  L_z: 0.0044044282413290255\n",
      "step: 4500, loss: 0.5572357655466544, L_x: 2.5437603331817047,  L_y: 0.5223698486987413,  L_z: 0.004714156758048099\n",
      "step: 4750, loss: 0.5572357594624718, L_x: 2.5437603415807875,  L_y: 0.5223698472477277,  L_z: 0.004714154399468122\n",
      "step: 5000, loss: 0.5572357686544295, L_x: 2.5437603338714503,  L_y: 0.5223698541925742,  L_z: 0.004714155561570381\n"
     ]
    }
   ],
   "source": [
    "TR = LFR(unprivileged_groups=[{'sex': 0}],\n",
    "         privileged_groups=[{'sex': 1}],\n",
    "         k=10, Ax=0.01, Ay=1.0, Az=2.0,\n",
    "         verbose=1\n",
    "        )\n",
    "TR = TR.fit(data_imputed_train, maxiter=5000, maxfun=5000)"
   ]
  },
  {
   "cell_type": "code",
   "execution_count": 20,
   "metadata": {},
   "outputs": [
    {
     "name": "stdout",
     "output_type": "stream",
     "text": [
      "              precision    recall  f1-score   support\n",
      "\n",
      "         0.0       0.80      0.95      0.87      7417\n",
      "         1.0       0.61      0.24      0.34      2352\n",
      "\n",
      "    accuracy                           0.78      9769\n",
      "   macro avg       0.70      0.59      0.60      9769\n",
      "weighted avg       0.75      0.78      0.74      9769\n",
      "\n",
      "-0.06465190242763773\n",
      "-0.05894260817567394\n"
     ]
    }
   ],
   "source": [
    "data_imputed_transf_train = TR.transform(data_imputed_train, threshold=0.3)\n",
    "data_imputed_transf_test = TR.transform(data_imputed_test, threshold=0.3)\n",
    "print(classification_report(data_imputed_test.labels, data_imputed_transf_test.labels, zero_division=0))\n",
    "metric_imputed_transf_train = BinaryLabelDatasetMetric(data_imputed_transf_train, \n",
    "                                                       unprivileged_groups=unprivileged_groups,\n",
    "                                                       privileged_groups=privileged_groups)\n",
    "metric_imputed_transf_test = BinaryLabelDatasetMetric(data_imputed_transf_test, \n",
    "                                                      unprivileged_groups=unprivileged_groups,\n",
    "                                                      privileged_groups=privileged_groups)\n",
    "print(metric_imputed_transf_train.mean_difference())\n",
    "print(metric_imputed_transf_test.mean_difference())"
   ]
  },
  {
   "cell_type": "code",
   "execution_count": 15,
   "metadata": {},
   "outputs": [],
   "source": [
    "def draw(dataset_orig_test, dataset_transf_test):\n",
    "    from collections import OrderedDict\n",
    "    from aif360.metrics import ClassificationMetric\n",
    "\n",
    "    def compute_metrics(dataset_true, dataset_pred, \n",
    "                        unprivileged_groups, privileged_groups,\n",
    "                        disp = True):\n",
    "        \"\"\" Compute the key metrics \"\"\"\n",
    "        classified_metric_pred = ClassificationMetric(dataset_true,\n",
    "                                                     dataset_pred, \n",
    "                                                     unprivileged_groups=unprivileged_groups,\n",
    "                                                     privileged_groups=privileged_groups)\n",
    "        metrics = OrderedDict()\n",
    "        metrics[\"Balanced accuracy\"] = 0.5*(classified_metric_pred.true_positive_rate()+\n",
    "                                                 classified_metric_pred.true_negative_rate())\n",
    "        metrics[\"Statistical parity difference\"] = classified_metric_pred.statistical_parity_difference()\n",
    "        metrics[\"Disparate impact\"] = classified_metric_pred.disparate_impact()\n",
    "        metrics[\"Average odds difference\"] = classified_metric_pred.average_odds_difference()\n",
    "        metrics[\"Equal opportunity difference\"] = classified_metric_pred.equal_opportunity_difference()\n",
    "        metrics[\"Theil index\"] = classified_metric_pred.theil_index()\n",
    "    \n",
    "        if disp:\n",
    "            for k in metrics:\n",
    "                print(\"%s = %.4f\" % (k, metrics[k]))\n",
    "    \n",
    "        return metrics\n",
    "    bal_acc_arr_transf = []\n",
    "    disp_imp_arr_transf = []\n",
    "\n",
    "    class_thresh_arr = np.linspace(0.01, 0.99, 100)\n",
    "\n",
    "    dataset_transf_test_new = dataset_orig_test.copy(deepcopy=True)\n",
    "    dataset_transf_test_new.scores = dataset_transf_test.scores\n",
    "\n",
    "    for thresh in class_thresh_arr:\n",
    "        fav_inds = dataset_transf_test_new.scores > thresh\n",
    "        dataset_transf_test_new.labels[fav_inds] = 1.0\n",
    "        dataset_transf_test_new.labels[~fav_inds] = 0.0\n",
    "    \n",
    "        metric_test_aft = compute_metrics(dataset_orig_test, dataset_transf_test_new, \n",
    "                                          unprivileged_groups, privileged_groups,\n",
    "                                          disp = False)\n",
    "\n",
    "        bal_acc_arr_transf.append(metric_test_aft[\"Balanced accuracy\"])\n",
    "        disp_imp_arr_transf.append(metric_test_aft[\"Disparate impact\"])\n",
    "    fig, ax1 = plt.subplots(figsize=(10,7))\n",
    "    ax1.plot(class_thresh_arr, bal_acc_arr_transf)\n",
    "    ax1.set_xlabel('Classification Thresholds', fontsize=16, fontweight='bold')\n",
    "    ax1.set_ylabel('Balanced Accuracy', color='b', fontsize=16, fontweight='bold')\n",
    "    ax1.xaxis.set_tick_params(labelsize=14)\n",
    "    ax1.yaxis.set_tick_params(labelsize=14)\n",
    "\n",
    "    ax2 = ax1.twinx()\n",
    "    ax2.plot(class_thresh_arr, np.abs(1.0-np.array(disp_imp_arr_transf)), color='r')\n",
    "    ax2.set_ylabel('abs(1-disparate impact)', color='r', fontsize=16, fontweight='bold')\n",
    "    ax2.yaxis.set_tick_params(labelsize=14)\n",
    "    ax2.grid(True)\n",
    "    plt.show()"
   ]
  },
  {
   "cell_type": "code",
   "execution_count": 16,
   "metadata": {},
   "outputs": [
    {
     "data": {
      "image/png": "[encoded data removed]",
      "text/plain": [
       "<Figure size 720x504 with 2 Axes>"
      ]
     },
     "metadata": {
      "needs_background": "light"
     },
     "output_type": "display_data"
    }
   ],
   "source": [
    "draw(data_imputed_test, data_imputed_transf_test)"
   ]
  },
  {
   "cell_type": "code",
   "execution_count": 21,
   "metadata": {},
   "outputs": [
    {
     "name": "stdout",
     "output_type": "stream",
     "text": [
      "(22792, 11)\n",
      "(9769, 11)\n",
      "-0.19431354978052562\n",
      "-0.20095601486424686\n"
     ]
    }
   ],
   "source": [
    "# compare with original dataset\n",
    "tmp_df = pd.concat([data.X, pd.DataFrame(data.y, columns=[\"_TARGET_\"])], axis=1).copy()\n",
    "tmp_df['sex'] = tmp_df['sex'].apply(lambda x : 0.0 if x == ' Female' else 1.0) # necessary for aif360 to understand\n",
    "tmp_df_train, tmp_df_test = train_test_split(tmp_df, test_size=0.3, shuffle=True)\n",
    "data_train = StandardDataset(df=tmp_df_train, label_name=\"_TARGET_\", favorable_classes=lambda x: x > 0,\n",
    "                             protected_attribute_names=['sex'], privileged_classes=[[1.0]],\n",
    "                             features_to_keep=data_complete.X.columns.tolist(),\n",
    "                             instance_weights_name=None, features_to_drop=[],\n",
    "                             custom_preprocessing=None, categorical_features=data_complete.categorical_features)\n",
    "data_test = StandardDataset(df=tmp_df_test, label_name=\"_TARGET_\", favorable_classes=lambda x: x > 0,\n",
    "                            protected_attribute_names=['sex'], privileged_classes=[[1.0]],\n",
    "                            features_to_keep=data_complete.X.columns.tolist(),\n",
    "                            instance_weights_name=None, features_to_drop=[],\n",
    "                            custom_preprocessing=None, categorical_features=data_complete.categorical_features)\n",
    "print(tmp_df_train.shape)\n",
    "print(tmp_df_test.shape)\n",
    "metric_train = BinaryLabelDatasetMetric(data_train, \n",
    "                                        unprivileged_groups=unprivileged_groups,\n",
    "                                        privileged_groups=privileged_groups)\n",
    "metric_test = BinaryLabelDatasetMetric(data_test, \n",
    "                                       unprivileged_groups=unprivileged_groups,\n",
    "                                       privileged_groups=privileged_groups)\n",
    "print(metric_train.mean_difference())\n",
    "print(metric_test.mean_difference())"
   ]
  },
  {
   "cell_type": "code",
   "execution_count": 22,
   "metadata": {},
   "outputs": [
    {
     "name": "stdout",
     "output_type": "stream",
     "text": [
      "step: 0, loss: 0.8571666920002743, L_x: 2.5574058778864837,  L_y: 0.8120057981637012,  L_z: 0.009793417528854109\n",
      "step: 250, loss: 0.857166676738537, L_x: 2.5574058939982782,  L_y: 0.812005784204882,  L_z: 0.009793416796836082\n",
      "step: 500, loss: 0.8571667129156907, L_x: 2.557405912724297,  L_y: 0.8120057987514178,  L_z: 0.009793427518514999\n",
      "step: 750, loss: 0.682617690220423, L_x: 2.557266799639108,  L_y: 0.6379638027371836,  L_z: 0.009540609743424116\n",
      "step: 1000, loss: 0.6826176984413685, L_x: 2.5572667889462917,  L_y: 0.6379638125989652,  L_z: 0.009540608976470251\n",
      "step: 1250, loss: 0.6826176814658526, L_x: 2.5572668045939624,  L_y: 0.6379637885760692,  L_z: 0.009540612421921885\n",
      "step: 1500, loss: 0.5906637764679055, L_x: 2.55674943163858,  L_y: 0.5475991732252457,  L_z: 0.008748554463136975\n",
      "step: 1750, loss: 0.5906637697847922, L_x: 2.5567494512152384,  L_y: 0.5475991666885682,  L_z: 0.008748554292035823\n",
      "step: 2000, loss: 0.586984953283679, L_x: 2.5565685767443442,  L_y: 0.5447612221432016,  L_z: 0.008329022686516998\n",
      "step: 2250, loss: 0.5869849437861568, L_x: 2.5565685620396996,  L_y: 0.544761217514578,  L_z: 0.008329020325590962\n",
      "step: 2500, loss: 0.5869849464361974, L_x: 2.5565685898678012,  L_y: 0.5447612226774137,  L_z: 0.008329018930052823\n",
      "step: 2750, loss: 0.5831895843779724, L_x: 2.5564825982079196,  L_y: 0.5422018371346888,  L_z: 0.007711460630602204\n",
      "step: 3000, loss: 0.5831895961123871, L_x: 2.5564826527750677,  L_y: 0.5422018696598082,  L_z: 0.00771144996241407\n",
      "step: 3250, loss: 0.5697223021756819, L_x: 2.5502031780788212,  L_y: 0.5316958989016847,  L_z: 0.006262185746604494\n",
      "step: 3500, loss: 0.5697223076088023, L_x: 2.550203178071943,  L_y: 0.5316959037838086,  L_z: 0.006262186022137127\n",
      "step: 3750, loss: 0.5697223107904131, L_x: 2.5502031915509713,  L_y: 0.5316959056051529,  L_z: 0.006262186634875248\n",
      "step: 4000, loss: 0.5627090098299549, L_x: 2.550017790427229,  L_y: 0.5269031441684611,  L_z: 0.005152843878610739\n",
      "step: 4250, loss: 0.5627090151204226, L_x: 2.550017850960981,  L_y: 0.5269031483261236,  L_z: 0.005152844142344561\n",
      "step: 4500, loss: 0.5526205258088034, L_x: 2.5454967695807675,  L_y: 0.5174988895040221,  L_z: 0.00483333430448681\n",
      "step: 4750, loss: 0.5526205211687447, L_x: 2.545496753641614,  L_y: 0.5174988870656603,  L_z: 0.004833333283334122\n",
      "step: 5000, loss: 0.5526205135539177, L_x: 2.545496759945223,  L_y: 0.5174988813044406,  L_z: 0.004833332325012482\n"
     ]
    }
   ],
   "source": [
    "data_train.features = scaler.fit_transform(data_train.features)\n",
    "data_test.features = scaler.transform(data_test.features)\n",
    "TR = LFR(unprivileged_groups=[{'sex': 0}],\n",
    "         privileged_groups=[{'sex': 1}],\n",
    "         k=10, Ax=0.01, Ay=1.0, Az=2.0,\n",
    "         verbose=1\n",
    "        )\n",
    "TR = TR.fit(data_train, maxiter=5000, maxfun=5000)"
   ]
  },
  {
   "cell_type": "code",
   "execution_count": 26,
   "metadata": {},
   "outputs": [
    {
     "name": "stdout",
     "output_type": "stream",
     "text": [
      "              precision    recall  f1-score   support\n",
      "\n",
      "         0.0       0.76      1.00      0.86      7383\n",
      "         1.0       0.50      0.00      0.00      2386\n",
      "\n",
      "    accuracy                           0.76      9769\n",
      "   macro avg       0.63      0.50      0.43      9769\n",
      "weighted avg       0.69      0.76      0.65      9769\n",
      "\n",
      "-0.0005227049983665469\n",
      "-0.00030840400925212025\n"
     ]
    }
   ],
   "source": [
    "data_transf_train = TR.transform(data_train, threshold=0.3)\n",
    "data_transf_test = TR.transform(data_test, threshold=0.3)\n",
    "print(classification_report(data_test.labels, data_transf_test.labels, zero_division=0))\n",
    "metric_transf_train = BinaryLabelDatasetMetric(data_transf_train, \n",
    "                                               unprivileged_groups=unprivileged_groups,\n",
    "                                               privileged_groups=privileged_groups)\n",
    "metric_transf_test = BinaryLabelDatasetMetric(data_transf_test, \n",
    "                                              unprivileged_groups=unprivileged_groups,\n",
    "                                              privileged_groups=privileged_groups)\n",
    "print(metric_transf_train.mean_difference())\n",
    "print(metric_transf_test.mean_difference())"
   ]
  },
  {
   "cell_type": "code",
   "execution_count": 27,
   "metadata": {},
   "outputs": [
    {
     "data": {
      "image/png": "[encoded data removed]",
      "text/plain": [
       "<Figure size 720x504 with 2 Axes>"
      ]
     },
     "metadata": {
      "needs_background": "light"
     },
     "output_type": "display_data"
    }
   ],
   "source": [
    "draw(data_test, data_transf_test)"
   ]
  },
  {
   "cell_type": "code",
   "execution_count": 28,
   "metadata": {},
   "outputs": [
    {
     "name": "stdout",
     "output_type": "stream",
     "text": [
      "Consistency of labels in imputed transformed training dataset= 0.985697\n",
      "Consistency of labels in imputed training dataset= 0.806888\n",
      "Consistency of labels in imputed transformed test dataset= 0.979425\n",
      "Consistency of labels in imputed test dataset= 0.798035\n"
     ]
    }
   ],
   "source": [
    "# compare consistency\n",
    "print(\"Consistency of labels in imputed transformed training dataset= %f\" %metric_imputed_transf_train.consistency())\n",
    "print(\"Consistency of labels in imputed training dataset= %f\" %metric_imputed_train.consistency())\n",
    "print(\"Consistency of labels in imputed transformed test dataset= %f\" %metric_imputed_transf_test.consistency())\n",
    "print(\"Consistency of labels in imputed test dataset= %f\" %metric_imputed_test.consistency())"
   ]
  },
  {
   "cell_type": "code",
   "execution_count": 29,
   "metadata": {},
   "outputs": [
    {
     "name": "stdout",
     "output_type": "stream",
     "text": [
      "Consistency of labels in transformed training dataset= 0.999649\n",
      "Consistency of labels in original training dataset= 0.822420\n",
      "Consistency of labels in transformed test dataset= 0.999713\n",
      "Consistency of labels in original test dataset= 0.820023\n"
     ]
    }
   ],
   "source": [
    "print(\"Consistency of labels in transformed training dataset= %f\" %metric_transf_train.consistency())\n",
    "print(\"Consistency of labels in original training dataset= %f\" %metric_train.consistency())\n",
    "print(\"Consistency of labels in transformed test dataset= %f\" %metric_transf_test.consistency())\n",
    "print(\"Consistency of labels in original test dataset= %f\" %metric_test.consistency())"
   ]
  }
 ],
 "metadata": {
  "kernelspec": {
   "display_name": "Python 3",
   "language": "python",
   "name": "python3"
  },
  "language_info": {
   "codemirror_mode": {
    "name": "ipython",
    "version": 3
   },
   "file_extension": ".py",
   "mimetype": "text/x-python",
   "name": "python",
   "nbconvert_exporter": "python",
   "pygments_lexer": "ipython3",
   "version": "3.8.5"
  }
 },
 "nbformat": 4,
 "nbformat_minor": 4
}
