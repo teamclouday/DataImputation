{
 "cells": [
  {
   "cell_type": "markdown",
   "metadata": {},
   "source": [
    "# Compas Data Imputation Analysis"
   ]
  },
  {
   "cell_type": "code",
   "execution_count": 1,
   "metadata": {},
   "outputs": [],
   "source": [
    "import os\n",
    "import numpy as np\n",
    "import pandas as pd"
   ]
  },
  {
   "cell_type": "code",
   "execution_count": 2,
   "metadata": {},
   "outputs": [],
   "source": [
    "import warnings\n",
    "warnings.filterwarnings('ignore')"
   ]
  },
  {
   "cell_type": "code",
   "execution_count": 3,
   "metadata": {},
   "outputs": [],
   "source": [
    "from utils.data import create_compas_dataset, Dataset\n",
    "from utils.generator import gen_complete_random\n",
    "from utils.completer import complete_by_mean_col, complete_by_multi, complete_by_similar_row"
   ]
  },
  {
   "cell_type": "code",
   "execution_count": 4,
   "metadata": {},
   "outputs": [],
   "source": [
    "data = create_compas_dataset()"
   ]
  },
  {
   "cell_type": "code",
   "execution_count": 5,
   "metadata": {},
   "outputs": [],
   "source": [
    "data_compas_complete = data.copy()\n",
    "tmp_concat = pd.concat([data_compas_complete.X, pd.DataFrame(data_compas_complete.y, columns=[\"_TARGET_\"])], axis=1)\n",
    "tmp_concat.dropna(inplace=True)\n",
    "tmp_concat.reset_index(drop=True, inplace=True)\n",
    "data_compas_complete.X = tmp_concat.drop(columns=[\"_TARGET_\"]).copy()\n",
    "data_compas_complete.y = tmp_concat[\"_TARGET_\"].copy().to_numpy().ravel()"
   ]
  },
  {
   "cell_type": "code",
   "execution_count": 6,
   "metadata": {},
   "outputs": [],
   "source": [
    "X = data_compas_complete.X.drop(columns=data_compas_complete.protected).copy().to_numpy()\n",
    "y = data_compas_complete.y.copy()"
   ]
  },
  {
   "cell_type": "code",
   "execution_count": 7,
   "metadata": {},
   "outputs": [],
   "source": [
    "from sklearn.neighbors import KNeighborsClassifier\n",
    "from sklearn.svm import LinearSVC, SVC\n",
    "from sklearn.ensemble import RandomForestClassifier\n",
    "from sklearn.linear_model import LogisticRegression\n",
    "from sklearn.tree import DecisionTreeClassifier\n",
    "from sklearn.neural_network import MLPClassifier\n",
    "from sklearn.model_selection import train_test_split"
   ]
  },
  {
   "cell_type": "code",
   "execution_count": 8,
   "metadata": {},
   "outputs": [],
   "source": [
    "from imblearn.over_sampling import SVMSMOTE"
   ]
  },
  {
   "cell_type": "markdown",
   "metadata": {},
   "source": [
    "### Parameter Searching"
   ]
  },
  {
   "cell_type": "code",
   "execution_count": 9,
   "metadata": {},
   "outputs": [],
   "source": [
    "from sklearn.model_selection import GridSearchCV\n",
    "\n",
    "def grid_search(X, y, model, params, smote):\n",
    "    print(\"Model: {}\".format(model.__class__.__name__))\n",
    "    X_res, y_res = smote.fit_resample(X, y) # enlarge dataset\n",
    "    search = GridSearchCV(model, param_grid=params, cv=10, n_jobs=-1)\n",
    "    search.fit(X_res, y_res)\n",
    "    print(\"Best parameter: {}\".format(search.best_params_))\n",
    "    print(\"Acc best: {:.4f}\".format(search.best_score_))\n",
    "    print(\"Acc on input data: {:.4f}\".format(search.best_estimator_.score(X, y)))\n",
    "    print(\"Acc on enlarged data: {:.4f}\".format(search.best_estimator_.score(X_res, y_res)))\n",
    "    return search.best_params_"
   ]
  },
  {
   "cell_type": "code",
   "execution_count": 10,
   "metadata": {},
   "outputs": [],
   "source": [
    "all_params = {\n",
    "    \"KNN\": None,\n",
    "    \"LinearSVC\": None,\n",
    "    \"SVC\": None,\n",
    "    \"Forest\": None,\n",
    "    \"LogReg\": None,\n",
    "    \"Tree\": None,\n",
    "    \"MLP\": None,\n",
    "}"
   ]
  },
  {
   "cell_type": "code",
   "execution_count": 11,
   "metadata": {},
   "outputs": [
    {
     "name": "stdout",
     "output_type": "stream",
     "text": [
      "Model: KNeighborsClassifier\n",
      "Best parameter: {'leaf_size': 5, 'n_neighbors': 2}\n",
      "Acc best: 0.7061\n",
      "Acc on input data: 0.8993\n",
      "Acc on enlarged data: 0.9071\n"
     ]
    }
   ],
   "source": [
    "tmp_params = {\n",
    "    \"n_neighbors\": [2, 5, 10, 50, 100, 500],\n",
    "    \"leaf_size\": [5, 10, 30, 50, 100],\n",
    "}\n",
    "all_params[\"KNN\"] = grid_search(X, y, KNeighborsClassifier(), tmp_params, SVMSMOTE(random_state=22))"
   ]
  },
  {
   "cell_type": "code",
   "execution_count": 12,
   "metadata": {},
   "outputs": [
    {
     "name": "stdout",
     "output_type": "stream",
     "text": [
      "Model: LinearSVC\n",
      "Best parameter: {'C': 0.1, 'max_iter': 1000, 'tol': 0.001}\n",
      "Acc best: 0.6728\n",
      "Acc on input data: 0.6641\n",
      "Acc on enlarged data: 0.6725\n"
     ]
    }
   ],
   "source": [
    "tmp_params = {\n",
    "    \"tol\": [1e-5, 1e-4, 1e-3],\n",
    "    \"C\": [0.001, 0.01, 0.1, 1, 10],\n",
    "    \"max_iter\": [1000, 5000, 10000],\n",
    "}\n",
    "all_params[\"LinearSVC\"] = grid_search(X, y, LinearSVC(dual=False), tmp_params, SVMSMOTE(random_state=22))"
   ]
  },
  {
   "cell_type": "code",
   "execution_count": 13,
   "metadata": {},
   "outputs": [
    {
     "name": "stdout",
     "output_type": "stream",
     "text": [
      "Model: SVC\n",
      "Best parameter: {'C': 10, 'max_iter': -1, 'tol': 0.0001}\n",
      "Acc best: 0.6452\n",
      "Acc on input data: 0.6285\n",
      "Acc on enlarged data: 0.6489\n"
     ]
    }
   ],
   "source": [
    "tmp_params = {\n",
    "    \"tol\": [1e-5, 1e-4, 1e-3],\n",
    "    \"C\": [0.001, 0.01, 0.1, 1, 10],\n",
    "    \"max_iter\": [1000, 5000, 10000, -1],\n",
    "}\n",
    "all_params[\"SVC\"] = grid_search(X, y, SVC(), tmp_params, SVMSMOTE(random_state=22))"
   ]
  },
  {
   "cell_type": "code",
   "execution_count": 14,
   "metadata": {},
   "outputs": [
    {
     "name": "stdout",
     "output_type": "stream",
     "text": [
      "Model: RandomForestClassifier\n",
      "Best parameter: {'max_depth': 100, 'min_samples_leaf': 5, 'n_estimators': 500}\n",
      "Acc best: 0.7684\n",
      "Acc on input data: 0.8197\n",
      "Acc on enlarged data: 0.8586\n"
     ]
    }
   ],
   "source": [
    "tmp_params = {\n",
    "    \"n_estimators\": [50, 100, 200, 500],\n",
    "    \"max_depth\": [None, 10, 50, 100],\n",
    "    \"min_samples_leaf\": [1, 5, 10],\n",
    "}\n",
    "all_params[\"Forest\"] = grid_search(X, y, RandomForestClassifier(), tmp_params, SVMSMOTE(random_state=22))"
   ]
  },
  {
   "cell_type": "code",
   "execution_count": 15,
   "metadata": {},
   "outputs": [
    {
     "name": "stdout",
     "output_type": "stream",
     "text": [
      "Model: LogisticRegression\n",
      "Best parameter: {'C': 10.0, 'max_iter': 100, 'tol': 1e-05}\n",
      "Acc best: 0.6755\n",
      "Acc on input data: 0.6767\n",
      "Acc on enlarged data: 0.6762\n"
     ]
    }
   ],
   "source": [
    "tmp_params = {\n",
    "    \"tol\": [1e-5, 1e-4, 1e-3],\n",
    "    \"C\": [1e-2, 1e-1, 1, 1e1, 1e2],\n",
    "    \"max_iter\": [100, 500, 1000, 2000],\n",
    "}\n",
    "all_params[\"LogReg\"] = grid_search(X, y, LogisticRegression(), tmp_params, SVMSMOTE(random_state=22))"
   ]
  },
  {
   "cell_type": "code",
   "execution_count": 16,
   "metadata": {},
   "outputs": [
    {
     "name": "stdout",
     "output_type": "stream",
     "text": [
      "Model: DecisionTreeClassifier\n",
      "Best parameter: {'max_depth': 10, 'max_leaf_nodes': 100, 'min_samples_leaf': 1}\n",
      "Acc best: 0.7496\n",
      "Acc on input data: 0.7267\n",
      "Acc on enlarged data: 0.7765\n"
     ]
    }
   ],
   "source": [
    "tmp_params = {\n",
    "    \"max_depth\": [None, 10, 50, 100, 200],\n",
    "    \"max_leaf_nodes\": [None, 10, 100, 1000],\n",
    "    \"min_samples_leaf\": [1, 5, 10],\n",
    "}\n",
    "all_params[\"Tree\"] = grid_search(X, y, DecisionTreeClassifier(), tmp_params, SVMSMOTE(random_state=22))"
   ]
  },
  {
   "cell_type": "code",
   "execution_count": 17,
   "metadata": {},
   "outputs": [
    {
     "name": "stdout",
     "output_type": "stream",
     "text": [
      "Model: MLPClassifier\n",
      "Best parameter: {'alpha': 0.001, 'learning_rate_init': 0.01, 'max_iter': 500}\n",
      "Acc best: 0.6867\n",
      "Acc on input data: 0.6689\n",
      "Acc on enlarged data: 0.6870\n"
     ]
    }
   ],
   "source": [
    "tmp_params = {\n",
    "    \"alpha\": [1e-5, 1e-4, 1e-3],\n",
    "    \"learning_rate_init\": [1e-4, 1e-3, 1e-2],\n",
    "    \"max_iter\": [200, 500, 1000],\n",
    "}\n",
    "all_params[\"MLP\"] = grid_search(X, y, MLPClassifier(), tmp_params, SVMSMOTE(random_state=22))"
   ]
  },
  {
   "cell_type": "markdown",
   "metadata": {},
   "source": [
    "### Data Imputation"
   ]
  },
  {
   "cell_type": "code",
   "execution_count": 18,
   "metadata": {},
   "outputs": [],
   "source": [
    "from sklearn.model_selection import KFold\n",
    "from sklearn.metrics import confusion_matrix\n",
    "\n",
    "def bias1(data):\n",
    "    # input should be data from compute_confusion_matrix: [tn, fp, fn, tp]\n",
    "    # bias 1 = |(FPR_AA/FNR_AA) - (FPR_C/FNR_C)|\n",
    "    FPR_AA = data[\"African-American\"][1] / (data[\"African-American\"][1] + data[\"African-American\"][0])\n",
    "    FNR_AA = data[\"African-American\"][2] / (data[\"African-American\"][2] + data[\"African-American\"][3])\n",
    "    FPR_C = data[\"Caucasian\"][1] / (data[\"Caucasian\"][1] + data[\"Caucasian\"][0])\n",
    "    FNR_C = data[\"Caucasian\"][2] / (data[\"Caucasian\"][2] + data[\"Caucasian\"][3])\n",
    "    bias = (FPR_AA / FNR_AA) - (FPR_C / FNR_C)\n",
    "    return abs(bias)\n",
    "   \n",
    "def bias2(data):\n",
    "    # input should be data from compute_confusion_matrix\n",
    "    # bias 2 = |(FPR_AA/FPR_C) - (FNR_AA/FNR_C)|\n",
    "    FPR_AA = data[\"African-American\"][1] / (data[\"African-American\"][1] + data[\"African-American\"][0])\n",
    "    FNR_AA = data[\"African-American\"][2] / (data[\"African-American\"][2] + data[\"African-American\"][3])\n",
    "    FPR_C = data[\"Caucasian\"][1] / (data[\"Caucasian\"][1] + data[\"Caucasian\"][0])\n",
    "    FNR_C = data[\"Caucasian\"][2] / (data[\"Caucasian\"][2] + data[\"Caucasian\"][3])\n",
    "    bias = (FPR_AA / FPR_C) - (FNR_AA / FNR_C)\n",
    "    return abs(bias)\n",
    "\n",
    "def helper_freq(array):\n",
    "    \"\"\"simple helper function to return the most frequent number in an array\"\"\"\n",
    "    count = np.bincount(array)\n",
    "    return array[np.argmax(count)]\n",
    "\n",
    "def average_cv(cv_data):\n",
    "    # compute average for the confusion matrix data for each fold\n",
    "    result = {}\n",
    "    for name, data in cv_data.items():\n",
    "        new_data = {\n",
    "            \"African-American\": np.array([m[\"African-American\"] for m in data]).mean(axis=0).tolist(),\n",
    "            \"Caucasian\": np.array([m[\"Caucasian\"] for m in data]).mean(axis=0).tolist()\n",
    "        }\n",
    "        result[name] = new_data\n",
    "    return result\n",
    "\n",
    "def compute_confusion_matrix(X_train, y_train, X_test, y_test, clf, protected_features, multi=False):\n",
    "    # X are pandas dataframe\n",
    "    # y are numpy array\n",
    "    # clf is a sklearn classifier\n",
    "    # protected_features is list\n",
    "    smote = SVMSMOTE(random_state=22)\n",
    "    if not multi:\n",
    "        X_train = X_train.drop(columns=protected_features).copy().to_numpy()\n",
    "        X_train_res, y_train_res = smote.fit_resample(X_train, y_train)\n",
    "        clf.fit(X_train_res, y_train_res)\n",
    "        print(\"Acc: {:.4f}\".format(clf.score(X_test.drop(columns=protected_features).copy().to_numpy(), y_test)), end=\" \")\n",
    "        X_test_AA = X_test[X_test[\"race\"] == \"African-American\"].drop(columns=protected_features).to_numpy()\n",
    "        X_test_C = X_test[X_test[\"race\"] == \"Caucasian\"].drop(columns=protected_features).to_numpy()\n",
    "        y_test_AA = y_test[X_test[X_test[\"race\"] == \"African-American\"].index.tolist()]\n",
    "        y_test_C = y_test[X_test[X_test[\"race\"] == \"Caucasian\"].index.tolist()]\n",
    "        matrix_AA = confusion_matrix(y_test_AA, clf.predict(X_test_AA))\n",
    "        matrix_C = confusion_matrix(y_test_C, clf.predict(X_test_C))\n",
    "    else:\n",
    "        prediction_AA = []\n",
    "        prediction_C = []\n",
    "        X_test_first = X_test[0]\n",
    "        y_test_AA = y_test[X_test_first[X_test_first[\"race\"] == \"African-American\"].index.tolist()]\n",
    "        y_test_C = y_test[X_test_first[X_test_first[\"race\"] == \"Caucasian\"].index.tolist()]\n",
    "        scores = [0, 0]\n",
    "        for X_train_m in X_train:\n",
    "            X_train_m = X_train_m.drop(columns=protected_features).copy().to_numpy()\n",
    "            X_train_res, y_train_res = smote.fit_resample(X_train_m, y_train)\n",
    "            clf.fit(X_train_res, y_train_res)\n",
    "            for X_test_m in X_test:\n",
    "                X_test_AA = X_test_m[X_test_m[\"race\"] == \"African-American\"].drop(columns=protected_features).to_numpy()\n",
    "                X_test_C = X_test_m[X_test_m[\"race\"] == \"Caucasian\"].drop(columns=protected_features).to_numpy()\n",
    "                prediction_AA.append(clf.predict(X_test_AA))\n",
    "                prediction_C.append(clf.predict(X_test_C))\n",
    "                scores[0] += clf.score(X_test_m.drop(columns=protected_features).copy().to_numpy(), y_test)\n",
    "                scores[1] += 1\n",
    "        print(\"Acc: {:.4f}\".format(scores[0] / scores[1]), end=\" \")\n",
    "        # compute final predictions by voting\n",
    "        prediction_AA = np.apply_along_axis(helper_freq, 0, np.array(prediction_AA))\n",
    "        prediction_C = np.apply_along_axis(helper_freq, 0, np.array(prediction_C))\n",
    "        matrix_AA = confusion_matrix(y_test_AA, prediction_AA)\n",
    "        matrix_C = confusion_matrix(y_test_C, prediction_C)\n",
    "    result = {\n",
    "        \"African-American\": matrix_AA.ravel().tolist(), # [tn, fp, fn, tp]\n",
    "        \"Caucasian\": matrix_C.ravel().tolist()\n",
    "    }\n",
    "    return result\n",
    "\n",
    "def test_imputation(X, y, protected_features, completer_func=None, multi=False):\n",
    "    # X is pandas dataframe\n",
    "    # y is numpy array,\n",
    "    # protected_features is list\n",
    "    # completer func is the imputation function\n",
    "    global all_params\n",
    "    clfs = { # define all the classifiers with best parameters\n",
    "        \"KNN\": KNeighborsClassifier(n_neighbors=all_params[\"KNN\"][\"n_neighbors\"], leaf_size=all_params[\"KNN\"][\"leaf_size\"]),\n",
    "        \"LinearSVC\": LinearSVC(dual=False, tol=all_params[\"LinearSVC\"][\"tol\"], C=all_params[\"LinearSVC\"][\"C\"], max_iter=all_params[\"LinearSVC\"][\"max_iter\"]),\n",
    "        \"SVC\": SVC(tol=all_params[\"SVC\"][\"tol\"], C=all_params[\"SVC\"][\"C\"], max_iter=all_params[\"SVC\"][\"max_iter\"]),\n",
    "        \"Forest\": RandomForestClassifier(n_estimators=all_params[\"Forest\"][\"n_estimators\"], max_depth=all_params[\"Forest\"][\"max_depth\"], min_samples_leaf=all_params[\"Forest\"][\"min_samples_leaf\"]),\n",
    "        \"LogReg\": LogisticRegression(tol=all_params[\"LogReg\"][\"tol\"], C=all_params[\"LogReg\"][\"C\"], max_iter=all_params[\"LogReg\"][\"max_iter\"]),\n",
    "        \"Tree\": DecisionTreeClassifier(max_depth=all_params[\"Tree\"][\"max_depth\"], max_leaf_nodes=all_params[\"Tree\"][\"max_leaf_nodes\"], min_samples_leaf=all_params[\"Tree\"][\"min_samples_leaf\"]),\n",
    "        \"MLP\": MLPClassifier(alpha=all_params[\"MLP\"][\"alpha\"], learning_rate_init=all_params[\"MLP\"][\"learning_rate_init\"], max_iter=all_params[\"MLP\"][\"max_iter\"]),\n",
    "    }\n",
    "    data_cv = { # save each cv output\n",
    "        \"KNN\": [],\n",
    "        \"LinearSVC\": [],\n",
    "        \"SVC\": [],\n",
    "        \"Forest\": [],\n",
    "        \"LogReg\": [],\n",
    "        \"Tree\": [],\n",
    "        \"MLP\": [],\n",
    "    }\n",
    "    bias1_cv = { # save each bias 1 outputs\n",
    "        \"KNN\": [],\n",
    "        \"LinearSVC\": [],\n",
    "        \"SVC\": [],\n",
    "        \"Forest\": [],\n",
    "        \"LogReg\": [],\n",
    "        \"Tree\": [],\n",
    "        \"MLP\": [],\n",
    "    }\n",
    "    bias2_cv = { # save each bias 2 outputs\n",
    "        \"KNN\": [],\n",
    "        \"LinearSVC\": [],\n",
    "        \"SVC\": [],\n",
    "        \"Forest\": [],\n",
    "        \"LogReg\": [],\n",
    "        \"Tree\": [],\n",
    "        \"MLP\": [],\n",
    "    }\n",
    "    kf = KFold(n_splits=10, shuffle=True)\n",
    "    fold = 1\n",
    "    for train_idx, test_idx in kf.split(X):\n",
    "        print(\"Fold {:>2}\".format(fold), end=\" \")\n",
    "        X_train, X_test = X.iloc[train_idx], X.iloc[test_idx]\n",
    "        y_train, y_test = y[train_idx], y[test_idx]\n",
    "        X_test = X_test.reset_index(drop=True)\n",
    "        X_train = X_train.reset_index(drop=True)\n",
    "        if completer_func:\n",
    "        # do imputations on training set and test set individually\n",
    "            data_incomplete = Dataset(\"tmp\", X_train, y_train, auto_convert=False, protected_features=protected_features)\n",
    "            data_complete = completer_func(data_incomplete)\n",
    "            X_train = [m.X.copy() for m in data_complete] if multi else data_complete.X.copy() \n",
    "            y_train = data_complete[0].y.copy() if multi else data_complete.y.copy()\n",
    "            data_incomplete = Dataset(\"tmp\", X_test, y_test, auto_convert=False, protected_features=protected_features)\n",
    "            data_complete = completer_func(data_incomplete)\n",
    "            X_test = [m.X.copy() for m in data_complete] if multi else data_complete.X.copy()\n",
    "            y_test = data_complete[0].y.copy() if multi else data_complete.y.copy()\n",
    "        # get result for each classifier\n",
    "        for clf_name, clf in clfs.items():\n",
    "            print(\"{}\".format(clf_name), end=\" \")\n",
    "            result = compute_confusion_matrix(X_train, y_train, X_test, y_test, clf, protected_features, multi=multi)\n",
    "            data_cv[clf_name].append(result)\n",
    "            bias1_cv[clf_name].append(bias1(result))\n",
    "            bias2_cv[clf_name].append(bias2(result))\n",
    "        print()\n",
    "        fold += 1\n",
    "    # print(\"Result:\\n{}\".format(data_cv))\n",
    "    return (data_cv, bias1_cv, bias2_cv)"
   ]
  },
  {
   "cell_type": "code",
   "execution_count": 19,
   "metadata": {},
   "outputs": [
    {
     "name": "stdout",
     "output_type": "stream",
     "text": [
      "Fold  1 KNN Acc: 0.6294 LinearSVC Acc: 0.6656 SVC Acc: 0.6251 Forest Acc: 0.6954 LogReg Acc: 0.6763 Tree Acc: 0.6688 MLP Acc: 0.6539 \n",
      "Fold  2 KNN Acc: 0.6166 LinearSVC Acc: 0.6613 SVC Acc: 0.6060 Forest Acc: 0.6858 LogReg Acc: 0.6603 Tree Acc: 0.6784 MLP Acc: 0.6667 \n",
      "Fold  3 KNN Acc: 0.6422 LinearSVC Acc: 0.7029 SVC Acc: 0.6454 Forest Acc: 0.7167 LogReg Acc: 0.7093 Tree Acc: 0.7103 MLP Acc: 0.6986 \n",
      "Fold  4 KNN Acc: 0.6432 LinearSVC Acc: 0.6379 SVC Acc: 0.5793 Forest Acc: 0.6837 LogReg Acc: 0.6507 Tree Acc: 0.6656 MLP Acc: 0.6273 \n",
      "Fold  5 KNN Acc: 0.6450 LinearSVC Acc: 0.6716 SVC Acc: 0.6311 Forest Acc: 0.7079 LogReg Acc: 0.6866 Tree Acc: 0.6898 MLP Acc: 0.6791 \n",
      "Fold  6 KNN Acc: 0.6482 LinearSVC Acc: 0.6557 SVC Acc: 0.5959 Forest Acc: 0.6994 LogReg Acc: 0.6567 Tree Acc: 0.7015 MLP Acc: 0.6791 \n",
      "Fold  7 KNN Acc: 0.6471 LinearSVC Acc: 0.6652 SVC Acc: 0.6130 Forest Acc: 0.7271 LogReg Acc: 0.6780 Tree Acc: 0.7047 MLP Acc: 0.6183 \n",
      "Fold  8 KNN Acc: 0.6343 LinearSVC Acc: 0.6652 SVC Acc: 0.6247 Forest Acc: 0.6962 LogReg Acc: 0.6652 Tree Acc: 0.6674 MLP Acc: 0.6183 \n",
      "Fold  9 KNN Acc: 0.6162 LinearSVC Acc: 0.6663 SVC Acc: 0.6194 Forest Acc: 0.6855 LogReg Acc: 0.6727 Tree Acc: 0.6791 MLP Acc: 0.6791 \n",
      "Fold 10 KNN Acc: 0.6407 LinearSVC Acc: 0.6674 SVC Acc: 0.6077 Forest Acc: 0.7324 LogReg Acc: 0.6812 Tree Acc: 0.7345 MLP Acc: 0.6930 \n"
     ]
    }
   ],
   "source": [
    "# try on original data\n",
    "result_original = test_imputation(data_compas_complete.X.copy(), data_compas_complete.y.copy(), data_compas_complete.protected)"
   ]
  },
  {
   "cell_type": "markdown",
   "metadata": {},
   "source": [
    "### 20% Random"
   ]
  },
  {
   "cell_type": "code",
   "execution_count": 20,
   "metadata": {},
   "outputs": [
    {
     "name": "stdout",
     "output_type": "stream",
     "text": [
      "gen_complete_random: 16784 NaN values have been inserted\n"
     ]
    },
    {
     "data": {
      "text/plain": [
       "age                        1644\n",
       "age_cat                    1631\n",
       "c_charge_degree            1739\n",
       "priors_count               1666\n",
       "juv_misd_count             1678\n",
       "juv_fel_count              1679\n",
       "juv_other_count            1663\n",
       "c_charge_desc              1697\n",
       "days_b_screening_arrest    1697\n",
       "length_of_stay             1690\n",
       "race                          0\n",
       "sex                           0\n",
       "dtype: int64"
      ]
     },
     "execution_count": 20,
     "metadata": {},
     "output_type": "execute_result"
    }
   ],
   "source": [
    "# generate simulated missing data\n",
    "data_sim = gen_complete_random(data_compas_complete, random_ratio=0.2)\n",
    "data_sim.X.isnull().sum(axis=0)"
   ]
  },
  {
   "cell_type": "code",
   "execution_count": 21,
   "metadata": {},
   "outputs": [
    {
     "name": "stdout",
     "output_type": "stream",
     "text": [
      "Fold  1 KNN Acc: 0.6038 LinearSVC Acc: 0.6283 SVC Acc: 0.5687 Forest Acc: 0.5900 LogReg Acc: 0.6390 Tree Acc: 0.6209 MLP Acc: 0.6337 \n",
      "Fold  2 KNN Acc: 0.5985 LinearSVC Acc: 0.6699 SVC Acc: 0.5719 Forest Acc: 0.6187 LogReg Acc: 0.6784 Tree Acc: 0.6230 MLP Acc: 0.6166 \n",
      "Fold  3 KNN Acc: 0.5932 LinearSVC Acc: 0.6581 SVC Acc: 0.5996 Forest Acc: 0.6049 LogReg Acc: 0.6709 Tree Acc: 0.6230 MLP Acc: 0.6720 \n",
      "Fold  4 KNN Acc: 0.6294 LinearSVC Acc: 0.6475 SVC Acc: 0.5932 Forest Acc: 0.5932 LogReg Acc: 0.6518 Tree Acc: 0.5889 MLP Acc: 0.5761 \n",
      "Fold  5 KNN Acc: 0.6151 LinearSVC Acc: 0.6322 SVC Acc: 0.5789 Forest Acc: 0.5800 LogReg Acc: 0.6333 Tree Acc: 0.6087 MLP Acc: 0.5896 \n",
      "Fold  6 KNN Acc: 0.6173 LinearSVC Acc: 0.6610 SVC Acc: 0.6066 Forest Acc: 0.5853 LogReg Acc: 0.6706 Tree Acc: 0.6311 MLP Acc: 0.6482 \n",
      "Fold  7 KNN Acc: 0.5821 LinearSVC Acc: 0.6823 SVC Acc: 0.6109 Forest Acc: 0.5874 LogReg Acc: 0.6802 Tree Acc: 0.6546 MLP Acc: 0.6290 \n",
      "Fold  8 KNN Acc: 0.6247 LinearSVC Acc: 0.6493 SVC Acc: 0.5874 Forest Acc: 0.5885 LogReg Acc: 0.6567 Tree Acc: 0.6066 MLP Acc: 0.6578 \n",
      "Fold  9 KNN Acc: 0.5853 LinearSVC Acc: 0.6525 SVC Acc: 0.5864 Forest Acc: 0.5693 LogReg Acc: 0.6674 Tree Acc: 0.5789 MLP Acc: 0.6301 \n",
      "Fold 10 KNN Acc: 0.6578 LinearSVC Acc: 0.6834 SVC Acc: 0.6151 Forest Acc: 0.5810 LogReg Acc: 0.6940 Tree Acc: 0.6450 MLP Acc: 0.6578 \n"
     ]
    }
   ],
   "source": [
    "# fill by mean on simulated\n",
    "result_mean_sim_20 = test_imputation(data_sim.X.copy(), data_sim.y.copy(), data_sim.protected, complete_by_mean_col)"
   ]
  },
  {
   "cell_type": "code",
   "execution_count": 22,
   "metadata": {},
   "outputs": [
    {
     "name": "stdout",
     "output_type": "stream",
     "text": [
      "Fold  1 KNN Acc: 0.6102 LinearSVC Acc: 0.6294 SVC Acc: 0.5889 Forest Acc: 0.6539 LogReg Acc: 0.6443 Tree Acc: 0.6262 MLP Acc: 0.5879 \n",
      "Fold  2 KNN Acc: 0.6326 LinearSVC Acc: 0.6656 SVC Acc: 0.6155 Forest Acc: 0.6965 LogReg Acc: 0.6656 Tree Acc: 0.6922 MLP Acc: 0.6784 \n",
      "Fold  3 KNN Acc: 0.6230 LinearSVC Acc: 0.6720 SVC Acc: 0.6219 Forest Acc: 0.6667 LogReg Acc: 0.6848 Tree Acc: 0.6464 MLP Acc: 0.6752 \n",
      "Fold  4 KNN Acc: 0.6092 LinearSVC Acc: 0.6464 SVC Acc: 0.5868 Forest Acc: 0.6379 LogReg Acc: 0.6379 Tree Acc: 0.6624 MLP Acc: 0.6241 \n",
      "Fold  5 KNN Acc: 0.6546 LinearSVC Acc: 0.6791 SVC Acc: 0.6002 Forest Acc: 0.6919 LogReg Acc: 0.6812 Tree Acc: 0.6727 MLP Acc: 0.6642 \n",
      "Fold  6 KNN Acc: 0.6322 LinearSVC Acc: 0.6343 SVC Acc: 0.6066 Forest Acc: 0.6727 LogReg Acc: 0.6546 Tree Acc: 0.6397 MLP Acc: 0.6055 \n",
      "Fold  7 KNN Acc: 0.6354 LinearSVC Acc: 0.6290 SVC Acc: 0.6151 Forest Acc: 0.6503 LogReg Acc: 0.6439 Tree Acc: 0.6535 MLP Acc: 0.6247 \n",
      "Fold  8 KNN Acc: 0.6301 LinearSVC Acc: 0.6450 SVC Acc: 0.6087 Forest Acc: 0.6610 LogReg Acc: 0.6642 Tree Acc: 0.6354 MLP Acc: 0.6269 \n",
      "Fold  9 KNN Acc: 0.6077 LinearSVC Acc: 0.6493 SVC Acc: 0.5800 Forest Acc: 0.6802 LogReg Acc: 0.6578 Tree Acc: 0.6439 MLP Acc: 0.6109 \n",
      "Fold 10 KNN Acc: 0.6119 LinearSVC Acc: 0.6301 SVC Acc: 0.6023 Forest Acc: 0.6599 LogReg Acc: 0.6365 Tree Acc: 0.6045 MLP Acc: 0.6333 \n"
     ]
    }
   ],
   "source": [
    "# fill by similar on simulated\n",
    "result_similar_sim_20 = test_imputation(data_sim.X.copy(), data_sim.y.copy(), data_sim.protected, complete_by_similar_row)"
   ]
  },
  {
   "cell_type": "code",
   "execution_count": 23,
   "metadata": {},
   "outputs": [
    {
     "name": "stdout",
     "output_type": "stream",
     "text": [
      "Fold  1 KNN Acc: 0.6350 LinearSVC Acc: 0.6444 SVC Acc: 0.5960 Forest Acc: 0.6491 LogReg Acc: 0.6486 Tree Acc: 0.6307 MLP Acc: 0.6453 \n",
      "Fold  2 KNN Acc: 0.6238 LinearSVC Acc: 0.6384 SVC Acc: 0.5583 Forest Acc: 0.6420 LogReg Acc: 0.6437 Tree Acc: 0.6316 MLP Acc: 0.6452 \n",
      "Fold  3 KNN Acc: 0.6007 LinearSVC Acc: 0.6354 SVC Acc: 0.5738 Forest Acc: 0.6508 LogReg Acc: 0.6365 Tree Acc: 0.6296 MLP Acc: 0.6115 \n",
      "Fold  4 KNN Acc: 0.6234 LinearSVC Acc: 0.6439 SVC Acc: 0.5809 Forest Acc: 0.6664 LogReg Acc: 0.6486 Tree Acc: 0.6382 MLP Acc: 0.6338 \n",
      "Fold  5 KNN Acc: 0.6229 LinearSVC Acc: 0.6325 SVC Acc: 0.5579 Forest Acc: 0.6578 LogReg Acc: 0.6420 Tree Acc: 0.6323 MLP Acc: 0.5929 \n",
      "Fold  6 KNN Acc: 0.6068 LinearSVC Acc: 0.6610 SVC Acc: 0.5995 Forest Acc: 0.6719 LogReg Acc: 0.6677 Tree Acc: 0.6483 MLP Acc: 0.6472 \n",
      "Fold  7 KNN Acc: 0.6232 LinearSVC Acc: 0.6340 SVC Acc: 0.5684 Forest Acc: 0.6371 LogReg Acc: 0.6375 Tree Acc: 0.6163 MLP Acc: 0.6432 \n",
      "Fold  8 KNN Acc: 0.6198 LinearSVC Acc: 0.6511 SVC Acc: 0.5910 Forest Acc: 0.6659 LogReg Acc: 0.6542 Tree Acc: 0.6467 MLP Acc: 0.6351 \n",
      "Fold  9 KNN Acc: 0.6124 LinearSVC Acc: 0.6357 SVC Acc: 0.5755 Forest Acc: 0.6633 LogReg Acc: 0.6505 Tree Acc: 0.6444 MLP Acc: 0.6309 \n",
      "Fold 10 KNN Acc: 0.6060 LinearSVC Acc: 0.6435 SVC Acc: 0.5737 Forest Acc: 0.6588 LogReg Acc: 0.6542 Tree Acc: 0.6403 MLP Acc: 0.6418 \n"
     ]
    }
   ],
   "source": [
    "# fill by multiple imputation on simulated\n",
    "result_multi_sim_20 = test_imputation(data_sim.X.copy(), data_sim.y.copy(), data_sim.protected, complete_by_multi, multi=True)"
   ]
  },
  {
   "cell_type": "markdown",
   "metadata": {},
   "source": [
    "### 10% Random"
   ]
  },
  {
   "cell_type": "code",
   "execution_count": 24,
   "metadata": {},
   "outputs": [
    {
     "name": "stdout",
     "output_type": "stream",
     "text": [
      "gen_complete_random: 8901 NaN values have been inserted\n"
     ]
    },
    {
     "data": {
      "text/plain": [
       "age                        876\n",
       "age_cat                    872\n",
       "c_charge_degree            843\n",
       "priors_count               887\n",
       "juv_misd_count             923\n",
       "juv_fel_count              910\n",
       "juv_other_count            904\n",
       "c_charge_desc              892\n",
       "days_b_screening_arrest    905\n",
       "length_of_stay             889\n",
       "race                         0\n",
       "sex                          0\n",
       "dtype: int64"
      ]
     },
     "execution_count": 24,
     "metadata": {},
     "output_type": "execute_result"
    }
   ],
   "source": [
    "data_sim = gen_complete_random(data_compas_complete, random_ratio=0.1)\n",
    "data_sim.X.isnull().sum(axis=0)"
   ]
  },
  {
   "cell_type": "code",
   "execution_count": 25,
   "metadata": {},
   "outputs": [
    {
     "name": "stdout",
     "output_type": "stream",
     "text": [
      "Fold  1 KNN Acc: 0.6081 LinearSVC Acc: 0.6592 SVC Acc: 0.6177 Forest Acc: 0.6262 LogReg Acc: 0.6667 Tree Acc: 0.6390 MLP Acc: 0.6102 \n",
      "Fold  2 KNN Acc: 0.5868 LinearSVC Acc: 0.6518 SVC Acc: 0.5932 Forest Acc: 0.6422 LogReg Acc: 0.6656 Tree Acc: 0.6337 MLP Acc: 0.6262 \n",
      "Fold  3 KNN Acc: 0.6454 LinearSVC Acc: 0.6667 SVC Acc: 0.5751 Forest Acc: 0.6422 LogReg Acc: 0.6731 Tree Acc: 0.6422 MLP Acc: 0.6060 \n",
      "Fold  4 KNN Acc: 0.6166 LinearSVC Acc: 0.6571 SVC Acc: 0.5953 Forest Acc: 0.6081 LogReg Acc: 0.6613 Tree Acc: 0.6518 MLP Acc: 0.6241 \n",
      "Fold  5 KNN Acc: 0.6333 LinearSVC Acc: 0.6674 SVC Acc: 0.5842 Forest Acc: 0.6343 LogReg Acc: 0.6727 Tree Acc: 0.6588 MLP Acc: 0.6930 \n",
      "Fold  6 KNN Acc: 0.6471 LinearSVC Acc: 0.6727 SVC Acc: 0.5896 Forest Acc: 0.6599 LogReg Acc: 0.6759 Tree Acc: 0.6663 MLP Acc: 0.6290 \n",
      "Fold  7 KNN Acc: 0.6258 LinearSVC Acc: 0.6599 SVC Acc: 0.6087 Forest Acc: 0.6429 LogReg Acc: 0.6695 Tree Acc: 0.6493 MLP Acc: 0.6557 \n",
      "Fold  8 KNN Acc: 0.6247 LinearSVC Acc: 0.6738 SVC Acc: 0.6173 Forest Acc: 0.6535 LogReg Acc: 0.6759 Tree Acc: 0.6461 MLP Acc: 0.6503 \n",
      "Fold  9 KNN Acc: 0.6418 LinearSVC Acc: 0.6546 SVC Acc: 0.5789 Forest Acc: 0.6354 LogReg Acc: 0.6684 Tree Acc: 0.6439 MLP Acc: 0.6674 \n",
      "Fold 10 KNN Acc: 0.6375 LinearSVC Acc: 0.6823 SVC Acc: 0.6023 Forest Acc: 0.6780 LogReg Acc: 0.6866 Tree Acc: 0.6695 MLP Acc: 0.6940 \n"
     ]
    }
   ],
   "source": [
    "# fill by mean on simulated\n",
    "result_mean_sim_10 = test_imputation(data_sim.X.copy(), data_sim.y.copy(), data_sim.protected, complete_by_mean_col)"
   ]
  },
  {
   "cell_type": "code",
   "execution_count": 26,
   "metadata": {},
   "outputs": [
    {
     "name": "stdout",
     "output_type": "stream",
     "text": [
      "Fold  1 KNN Acc: 0.6422 LinearSVC Acc: 0.6805 SVC Acc: 0.6049 Forest Acc: 0.7018 LogReg Acc: 0.6763 Tree Acc: 0.6560 MLP Acc: 0.6890 \n",
      "Fold  2 KNN Acc: 0.6560 LinearSVC Acc: 0.6624 SVC Acc: 0.6251 Forest Acc: 0.7018 LogReg Acc: 0.6571 Tree Acc: 0.6954 MLP Acc: 0.6326 \n",
      "Fold  3 KNN Acc: 0.6028 LinearSVC Acc: 0.6763 SVC Acc: 0.5996 Forest Acc: 0.6635 LogReg Acc: 0.6624 Tree Acc: 0.6390 MLP Acc: 0.6177 \n",
      "Fold  4 KNN Acc: 0.6432 LinearSVC Acc: 0.6475 SVC Acc: 0.5879 Forest Acc: 0.6528 LogReg Acc: 0.6581 Tree Acc: 0.6454 MLP Acc: 0.6645 \n",
      "Fold  5 KNN Acc: 0.6194 LinearSVC Acc: 0.6716 SVC Acc: 0.6375 Forest Acc: 0.7026 LogReg Acc: 0.6887 Tree Acc: 0.6802 MLP Acc: 0.5853 \n",
      "Fold  6 KNN Acc: 0.5864 LinearSVC Acc: 0.6738 SVC Acc: 0.5874 Forest Acc: 0.6940 LogReg Acc: 0.6770 Tree Acc: 0.6855 MLP Acc: 0.6834 \n",
      "Fold  7 KNN Acc: 0.5970 LinearSVC Acc: 0.6258 SVC Acc: 0.6098 Forest Acc: 0.6525 LogReg Acc: 0.6269 Tree Acc: 0.6194 MLP Acc: 0.5991 \n",
      "Fold  8 KNN Acc: 0.6311 LinearSVC Acc: 0.6514 SVC Acc: 0.6045 Forest Acc: 0.6716 LogReg Acc: 0.6546 Tree Acc: 0.6684 MLP Acc: 0.6397 \n",
      "Fold  9 KNN Acc: 0.6247 LinearSVC Acc: 0.6780 SVC Acc: 0.5917 Forest Acc: 0.6876 LogReg Acc: 0.6748 Tree Acc: 0.6674 MLP Acc: 0.6450 \n",
      "Fold 10 KNN Acc: 0.6290 LinearSVC Acc: 0.6610 SVC Acc: 0.6066 Forest Acc: 0.6748 LogReg Acc: 0.6631 Tree Acc: 0.6525 MLP Acc: 0.6343 \n"
     ]
    }
   ],
   "source": [
    "# fill by similar on simulated\n",
    "result_similar_sim_10 = test_imputation(data_sim.X.copy(), data_sim.y.copy(), data_sim.protected, complete_by_similar_row)"
   ]
  },
  {
   "cell_type": "code",
   "execution_count": 27,
   "metadata": {},
   "outputs": [
    {
     "name": "stdout",
     "output_type": "stream",
     "text": [
      "Fold  1 KNN Acc: 0.6210 LinearSVC Acc: 0.6599 SVC Acc: 0.5959 Forest Acc: 0.6718 LogReg Acc: 0.6716 Tree Acc: 0.6598 MLP Acc: 0.6487 \n",
      "Fold  2 KNN Acc: 0.6147 LinearSVC Acc: 0.6547 SVC Acc: 0.5936 Forest Acc: 0.6691 LogReg Acc: 0.6498 Tree Acc: 0.6530 MLP Acc: 0.6414 \n",
      "Fold  3 KNN Acc: 0.6272 LinearSVC Acc: 0.6475 SVC Acc: 0.5799 Forest Acc: 0.6655 LogReg Acc: 0.6642 Tree Acc: 0.6540 MLP Acc: 0.6583 \n",
      "Fold  4 KNN Acc: 0.6246 LinearSVC Acc: 0.6416 SVC Acc: 0.5769 Forest Acc: 0.6671 LogReg Acc: 0.6414 Tree Acc: 0.6419 MLP Acc: 0.6175 \n",
      "Fold  5 KNN Acc: 0.6093 LinearSVC Acc: 0.6486 SVC Acc: 0.5745 Forest Acc: 0.6683 LogReg Acc: 0.6620 Tree Acc: 0.6603 MLP Acc: 0.6349 \n",
      "Fold  6 KNN Acc: 0.6257 LinearSVC Acc: 0.6545 SVC Acc: 0.5871 Forest Acc: 0.6576 LogReg Acc: 0.6655 Tree Acc: 0.6598 MLP Acc: 0.6347 \n",
      "Fold  7 KNN Acc: 0.6318 LinearSVC Acc: 0.6513 SVC Acc: 0.5959 Forest Acc: 0.6668 LogReg Acc: 0.6486 Tree Acc: 0.6508 MLP Acc: 0.6493 \n",
      "Fold  8 KNN Acc: 0.6426 LinearSVC Acc: 0.6542 SVC Acc: 0.5748 Forest Acc: 0.6817 LogReg Acc: 0.6642 Tree Acc: 0.6625 MLP Acc: 0.6502 \n",
      "Fold  9 KNN Acc: 0.6220 LinearSVC Acc: 0.6557 SVC Acc: 0.6097 Forest Acc: 0.6859 LogReg Acc: 0.6667 Tree Acc: 0.6617 MLP Acc: 0.6329 \n",
      "Fold 10 KNN Acc: 0.6365 LinearSVC Acc: 0.6637 SVC Acc: 0.5882 Forest Acc: 0.6869 LogReg Acc: 0.6699 Tree Acc: 0.6686 MLP Acc: 0.6507 \n"
     ]
    }
   ],
   "source": [
    "# fill by multiple imputation on simulated\n",
    "result_multi_sim_10 = test_imputation(data_sim.X.copy(), data_sim.y.copy(), data_sim.protected, complete_by_multi, multi=True)"
   ]
  },
  {
   "cell_type": "markdown",
   "metadata": {},
   "source": [
    "### 5% Random"
   ]
  },
  {
   "cell_type": "code",
   "execution_count": 28,
   "metadata": {},
   "outputs": [
    {
     "name": "stdout",
     "output_type": "stream",
     "text": [
      "gen_complete_random: 4196 NaN values have been inserted\n"
     ]
    },
    {
     "data": {
      "text/plain": [
       "age                        429\n",
       "age_cat                    394\n",
       "c_charge_degree            404\n",
       "priors_count               434\n",
       "juv_misd_count             457\n",
       "juv_fel_count              422\n",
       "juv_other_count            428\n",
       "c_charge_desc              434\n",
       "days_b_screening_arrest    393\n",
       "length_of_stay             401\n",
       "race                         0\n",
       "sex                          0\n",
       "dtype: int64"
      ]
     },
     "execution_count": 28,
     "metadata": {},
     "output_type": "execute_result"
    }
   ],
   "source": [
    "data_sim = gen_complete_random(data_compas_complete, random_ratio=0.05)\n",
    "data_sim.X.isnull().sum(axis=0)"
   ]
  },
  {
   "cell_type": "code",
   "execution_count": 29,
   "metadata": {},
   "outputs": [
    {
     "name": "stdout",
     "output_type": "stream",
     "text": [
      "Fold  1 KNN Acc: 0.6081 LinearSVC Acc: 0.6826 SVC Acc: 0.5996 Forest Acc: 0.6901 LogReg Acc: 0.6848 Tree Acc: 0.6912 MLP Acc: 0.6805 \n",
      "Fold  2 KNN Acc: 0.6017 LinearSVC Acc: 0.6731 SVC Acc: 0.6379 Forest Acc: 0.6784 LogReg Acc: 0.6667 Tree Acc: 0.6794 MLP Acc: 0.6528 \n",
      "Fold  3 KNN Acc: 0.6273 LinearSVC Acc: 0.6677 SVC Acc: 0.6155 Forest Acc: 0.6763 LogReg Acc: 0.6677 Tree Acc: 0.6794 MLP Acc: 0.6219 \n",
      "Fold  4 KNN Acc: 0.6347 LinearSVC Acc: 0.6400 SVC Acc: 0.5879 Forest Acc: 0.6709 LogReg Acc: 0.6539 Tree Acc: 0.6571 MLP Acc: 0.6209 \n",
      "Fold  5 KNN Acc: 0.6322 LinearSVC Acc: 0.6652 SVC Acc: 0.6301 Forest Acc: 0.6887 LogReg Acc: 0.6652 Tree Acc: 0.6951 MLP Acc: 0.6738 \n",
      "Fold  6 KNN Acc: 0.6525 LinearSVC Acc: 0.6866 SVC Acc: 0.5959 Forest Acc: 0.6716 LogReg Acc: 0.6876 Tree Acc: 0.6684 MLP Acc: 0.6620 \n",
      "Fold  7 KNN Acc: 0.6311 LinearSVC Acc: 0.6386 SVC Acc: 0.5810 Forest Acc: 0.6759 LogReg Acc: 0.6525 Tree Acc: 0.6844 MLP Acc: 0.6269 \n",
      "Fold  8 KNN Acc: 0.6279 LinearSVC Acc: 0.6652 SVC Acc: 0.6055 Forest Acc: 0.6748 LogReg Acc: 0.6727 Tree Acc: 0.6802 MLP Acc: 0.6482 \n",
      "Fold  9 KNN Acc: 0.6375 LinearSVC Acc: 0.6674 SVC Acc: 0.5885 Forest Acc: 0.6706 LogReg Acc: 0.6706 Tree Acc: 0.6770 MLP Acc: 0.6823 \n",
      "Fold 10 KNN Acc: 0.6578 LinearSVC Acc: 0.6844 SVC Acc: 0.6333 Forest Acc: 0.6919 LogReg Acc: 0.6898 Tree Acc: 0.6748 MLP Acc: 0.6738 \n"
     ]
    }
   ],
   "source": [
    "# fill by mean on simulated\n",
    "result_mean_sim_5 = test_imputation(data_sim.X.copy(), data_sim.y.copy(), data_sim.protected, complete_by_mean_col)"
   ]
  },
  {
   "cell_type": "code",
   "execution_count": 30,
   "metadata": {},
   "outputs": [
    {
     "name": "stdout",
     "output_type": "stream",
     "text": [
      "Fold  1 KNN Acc: 0.6443 LinearSVC Acc: 0.6944 SVC Acc: 0.6400 Forest Acc: 0.7039 LogReg Acc: 0.7050 Tree Acc: 0.6890 MLP Acc: 0.6688 \n",
      "Fold  2 KNN Acc: 0.6358 LinearSVC Acc: 0.6528 SVC Acc: 0.6028 Forest Acc: 0.6976 LogReg Acc: 0.6518 Tree Acc: 0.6741 MLP Acc: 0.6155 \n",
      "Fold  3 KNN Acc: 0.6283 LinearSVC Acc: 0.6677 SVC Acc: 0.5932 Forest Acc: 0.6688 LogReg Acc: 0.6656 Tree Acc: 0.6539 MLP Acc: 0.6368 \n",
      "Fold  4 KNN Acc: 0.6198 LinearSVC Acc: 0.6539 SVC Acc: 0.6219 Forest Acc: 0.6912 LogReg Acc: 0.6613 Tree Acc: 0.6667 MLP Acc: 0.6198 \n",
      "Fold  5 KNN Acc: 0.6525 LinearSVC Acc: 0.6642 SVC Acc: 0.6098 Forest Acc: 0.6791 LogReg Acc: 0.6642 Tree Acc: 0.6834 MLP Acc: 0.6567 \n",
      "Fold  6 KNN Acc: 0.6343 LinearSVC Acc: 0.6578 SVC Acc: 0.5853 Forest Acc: 0.6834 LogReg Acc: 0.6631 Tree Acc: 0.6727 MLP Acc: 0.6205 \n",
      "Fold  7 KNN Acc: 0.6077 LinearSVC Acc: 0.6578 SVC Acc: 0.5842 Forest Acc: 0.7015 LogReg Acc: 0.6727 Tree Acc: 0.6855 MLP Acc: 0.6706 \n",
      "Fold  8 KNN Acc: 0.6514 LinearSVC Acc: 0.6716 SVC Acc: 0.6652 Forest Acc: 0.7026 LogReg Acc: 0.6898 Tree Acc: 0.6962 MLP Acc: 0.6866 \n",
      "Fold  9 KNN Acc: 0.6194 LinearSVC Acc: 0.6684 SVC Acc: 0.6119 Forest Acc: 0.6940 LogReg Acc: 0.6652 Tree Acc: 0.6908 MLP Acc: 0.6759 \n",
      "Fold 10 KNN Acc: 0.6610 LinearSVC Acc: 0.6631 SVC Acc: 0.6013 Forest Acc: 0.6887 LogReg Acc: 0.6588 Tree Acc: 0.6770 MLP Acc: 0.6077 \n"
     ]
    }
   ],
   "source": [
    "# fill by similar on simulated\n",
    "result_similar_sim_5 = test_imputation(data_sim.X.copy(), data_sim.y.copy(), data_sim.protected, complete_by_similar_row)"
   ]
  },
  {
   "cell_type": "code",
   "execution_count": 31,
   "metadata": {},
   "outputs": [
    {
     "name": "stdout",
     "output_type": "stream",
     "text": [
      "Fold  1 KNN Acc: 0.6187 LinearSVC Acc: 0.6523 SVC Acc: 0.5939 Forest Acc: 0.6563 LogReg Acc: 0.6589 Tree Acc: 0.6509 MLP Acc: 0.6349 \n",
      "Fold  2 KNN Acc: 0.6364 LinearSVC Acc: 0.6662 SVC Acc: 0.6096 Forest Acc: 0.6827 LogReg Acc: 0.6741 Tree Acc: 0.6770 MLP Acc: 0.6368 \n",
      "Fold  3 KNN Acc: 0.6310 LinearSVC Acc: 0.6809 SVC Acc: 0.5795 Forest Acc: 0.6878 LogReg Acc: 0.6777 Tree Acc: 0.6920 MLP Acc: 0.6471 \n",
      "Fold  4 KNN Acc: 0.6232 LinearSVC Acc: 0.6350 SVC Acc: 0.5931 Forest Acc: 0.6852 LogReg Acc: 0.6459 Tree Acc: 0.6812 MLP Acc: 0.6694 \n",
      "Fold  5 KNN Acc: 0.6481 LinearSVC Acc: 0.6606 SVC Acc: 0.5984 Forest Acc: 0.6975 LogReg Acc: 0.6626 Tree Acc: 0.6784 MLP Acc: 0.6299 \n",
      "Fold  6 KNN Acc: 0.6418 LinearSVC Acc: 0.6543 SVC Acc: 0.5772 Forest Acc: 0.6933 LogReg Acc: 0.6639 Tree Acc: 0.6861 MLP Acc: 0.6553 \n",
      "Fold  7 KNN Acc: 0.6362 LinearSVC Acc: 0.6483 SVC Acc: 0.5784 Forest Acc: 0.6741 LogReg Acc: 0.6507 Tree Acc: 0.6603 MLP Acc: 0.6459 \n",
      "Fold  8 KNN Acc: 0.6367 LinearSVC Acc: 0.6498 SVC Acc: 0.6035 Forest Acc: 0.6801 LogReg Acc: 0.6616 Tree Acc: 0.6630 MLP Acc: 0.6324 \n",
      "Fold  9 KNN Acc: 0.6301 LinearSVC Acc: 0.6641 SVC Acc: 0.5867 Forest Acc: 0.6998 LogReg Acc: 0.6716 Tree Acc: 0.6874 MLP Acc: 0.6658 \n",
      "Fold 10 KNN Acc: 0.6388 LinearSVC Acc: 0.6766 SVC Acc: 0.6081 Forest Acc: 0.7147 LogReg Acc: 0.6901 Tree Acc: 0.7130 MLP Acc: 0.6801 \n"
     ]
    }
   ],
   "source": [
    "# fill by multiple imputation on simulated\n",
    "result_multi_sim_5 = test_imputation(data_sim.X.copy(), data_sim.y.copy(), data_sim.protected, complete_by_multi, multi=True)"
   ]
  },
  {
   "cell_type": "markdown",
   "metadata": {},
   "source": [
    "### Save Results"
   ]
  },
  {
   "cell_type": "code",
   "execution_count": 32,
   "metadata": {},
   "outputs": [],
   "source": [
    "# save confusion matrix for each classifier\n",
    "classifiers = [\"KNN\", \"LinearSVC\", \"SVC\", \"Forest\", \"LogReg\", \"Tree\", \"MLP\"]\n",
    "raw_data = [result_original, result_mean_sim_20, result_similar_sim_20, result_multi_sim_20,\n",
    "            result_mean_sim_10, result_similar_sim_10, result_multi_sim_10,\n",
    "            result_mean_sim_5, result_similar_sim_5, result_multi_sim_5]\n",
    "fold_names = [\"(Fold {:>2})\".format(x+1) for x in range(10)]\n",
    "conf_names = [x + \" \" + y for y in fold_names\n",
    "              for x in [\"TN_AA\", \"FP_AA\", \"FN_AA\", \"TP_AA\", \"TN_C\", \"FP_C\", \"FN_C\", \"TP_C\"]]\n",
    "methods = [\"Original\",\n",
    "           \"Mean Imputation (20%)\",\n",
    "           \"Similar Imputation (20%)\",\n",
    "           \"Multiple Imputation (20%)\",\n",
    "           \"Mean Imputation (10%)\",\n",
    "           \"Similar Imputation (10%)\",\n",
    "           \"Multiple Imputation (10%)\",\n",
    "           \"Mean Imputation (5%)\",\n",
    "           \"Similar Imputation (5%)\",\n",
    "           \"Multiple Imputation (5%)\"]\n",
    "\n",
    "if not os.path.exists(\"compas_analysis\"):\n",
    "    os.makedirs(\"compas_analysis\")\n",
    "\n",
    "for clf_name in classifiers:\n",
    "    if not os.path.exists(os.path.join(\"compas_analysis\", clf_name)):\n",
    "        os.makedirs(os.path.join(\"compas_analysis\", clf_name))    "
   ]
  },
  {
   "cell_type": "code",
   "execution_count": 33,
   "metadata": {},
   "outputs": [],
   "source": [
    "def save_cv(data):\n",
    "    data_cv = [m[0] for m in data]\n",
    "    for clf_name in classifiers:\n",
    "        new_data = []\n",
    "        new_data_acc = []\n",
    "        dd = [m[clf_name] for m in data_cv]\n",
    "        for fold_10 in dd:\n",
    "            fold_line = []\n",
    "            fold_line_acc = []\n",
    "            for fold in fold_10:\n",
    "                fold_line += fold[\"African-American\"]\n",
    "                fold_line += fold[\"Caucasian\"]\n",
    "                fold_line_acc.append(\n",
    "                    (fold[\"African-American\"][0] + fold[\"African-American\"][3] +\n",
    "                     fold[\"Caucasian\"][0] + fold[\"Caucasian\"][3]) /\n",
    "                    (sum(fold[\"African-American\"]) + sum(fold[\"Caucasian\"]))\n",
    "                )\n",
    "            new_data.append(fold_line)\n",
    "            fold_line_acc.append(sum(fold_line_acc) / len(fold_line_acc))\n",
    "            new_data_acc.append(fold_line_acc)\n",
    "        df = pd.DataFrame(new_data, columns=conf_names, index=methods)\n",
    "        df.transpose().to_csv(os.path.join(\"compas_analysis\", clf_name, \"10folds.csv\"))\n",
    "        df = pd.DataFrame(new_data_acc, columns=fold_names + [\"Average\"], index=methods)\n",
    "        df.transpose().to_csv(os.path.join(\"compas_analysis\", clf_name, \"accuracy.csv\"))"
   ]
  },
  {
   "cell_type": "code",
   "execution_count": 34,
   "metadata": {},
   "outputs": [],
   "source": [
    "def save_bias(data):\n",
    "    bias1 = [m[1] for m in data]\n",
    "    bias2 = [m[2] for m in data]\n",
    "    for clf_name in classifiers:\n",
    "        bias1_clf = [m[clf_name] for m in bias1]\n",
    "        bias1_clf = [x + [sum(x) / len(x)] for x in bias1_clf]\n",
    "        bias2_clf = [m[clf_name] for m in bias2]\n",
    "        bias2_clf = [x + [sum(x) / len(x)] for x in bias2_clf]\n",
    "        df1 = pd.DataFrame(bias1_clf, columns=fold_names + [\"Average\"], index=methods)\n",
    "        df2 = pd.DataFrame(bias2_clf, columns=fold_names + [\"Average\"], index=methods)\n",
    "        df1.transpose().to_csv(os.path.join(\"compas_analysis\", clf_name, \"bias1.csv\"))\n",
    "        df2.transpose().to_csv(os.path.join(\"compas_analysis\", clf_name, \"bias2.csv\"))"
   ]
  },
  {
   "cell_type": "code",
   "execution_count": 35,
   "metadata": {},
   "outputs": [],
   "source": [
    "save_cv(raw_data)\n",
    "save_bias(raw_data)"
   ]
  },
  {
   "cell_type": "markdown",
   "metadata": {},
   "source": [
    "### Plots"
   ]
  },
  {
   "cell_type": "code",
   "execution_count": 36,
   "metadata": {},
   "outputs": [],
   "source": [
    "import matplotlib.pyplot as plt\n",
    "import seaborn as sns"
   ]
  },
  {
   "cell_type": "code",
   "execution_count": 37,
   "metadata": {},
   "outputs": [
    {
     "data": {
      "image/png": "[encoded data removed]",
      "text/plain": [
       "<Figure size 1440x576 with 1 Axes>"
      ]
     },
     "metadata": {},
     "output_type": "display_data"
    }
   ],
   "source": [
    "fig = plt.figure(figsize=(20, 8))\n",
    "fig.patch.set_alpha(1.0)\n",
    "ax = fig.add_subplot(111)\n",
    "ax.tick_params(labelsize=20)\n",
    "# plt.title(\"Compas Analysis: Bias 1\", fontsize=20)\n",
    "plot_basic_pos = np.arange(len(classifiers)) * 16\n",
    "plot_additional_pos = [0, 2, 3, 4, 6, 7, 8, 10, 11, 12]\n",
    "plot_xticks_pos = np.array([np.array([3.5, 6.5, 7.5, 11.5]) + m for m in plot_basic_pos]).ravel().tolist()\n",
    "plot_xtick_labels = np.array([[\"20%\", \"\\n\\n{}\".format(name), \"10%\", \"5%\"] for name in classifiers]).ravel().tolist()\n",
    "plot_data = []\n",
    "for clf_name in classifiers:\n",
    "    dd = pd.read_csv(os.path.join(\"compas_analysis\", clf_name, \"bias1.csv\"), index_col=0)\n",
    "    avg = dd.loc[\"Average\"].tolist()\n",
    "    plot_data.append(avg)\n",
    "plot_data = np.array(plot_data).T\n",
    "plot_methods = [\"Original\", \"Mean\", \"Similar\", \"Multiple\"]\n",
    "plot_barcolors = [\"grey\", \"red\", \"green\", \"blue\",\n",
    "                  \"red\", \"green\", \"blue\",\n",
    "                  \"red\", \"green\", \"blue\"]\n",
    "for (i, method) in enumerate(methods):\n",
    "    ax.bar(plot_basic_pos + plot_additional_pos[i] + 0.5, plot_data[i], 1, label=plot_methods[i] if i < 4 else None, color=plot_barcolors[i])\n",
    "plt.xticks(plot_xticks_pos)\n",
    "ax.set_xticklabels(plot_xtick_labels)\n",
    "for label in ax.get_xmajorticklabels():\n",
    "    if \"%\" in label.get_text():\n",
    "        label.set_rotation(45)\n",
    "        label.set_horizontalalignment(\"center\")\n",
    "plt.ylabel(\"Bias 1 Values\", fontsize=20)\n",
    "plt.xlim([-1, 16*len(classifiers) - 2])\n",
    "plt.legend(title=\"Methods\", loc=\"upper left\", prop={\"size\": 20}, title_fontsize=15)\n",
    "plt.savefig(\"bias1.png\", transparent=False, bbox_inches='tight', pad_inches=0.1)\n",
    "plt.show()"
   ]
  },
  {
   "cell_type": "code",
   "execution_count": 38,
   "metadata": {},
   "outputs": [
    {
     "data": {
      "image/png": "[encoded data removed]",
      "text/plain": [
       "<Figure size 1440x576 with 1 Axes>"
      ]
     },
     "metadata": {},
     "output_type": "display_data"
    }
   ],
   "source": [
    "fig = plt.figure(figsize=(20, 8))\n",
    "fig.patch.set_alpha(1.0)\n",
    "ax = fig.add_subplot(111)\n",
    "ax.tick_params(labelsize=20)\n",
    "# plt.title(\"Compas Analysis: Bias 2\", fontsize=20)\n",
    "plot_basic_pos = np.arange(len(classifiers)) * 16\n",
    "plot_additional_pos = [0, 2, 3, 4, 6, 7, 8, 10, 11, 12]\n",
    "plot_xticks_pos = np.array([np.array([3.5, 6.5, 7.5, 11.5]) + m for m in plot_basic_pos]).ravel().tolist()\n",
    "plot_xtick_labels = np.array([[\"20%\", \"\\n\\n{}\".format(name), \"10%\", \"5%\"] for name in classifiers]).ravel().tolist()\n",
    "plot_data = []\n",
    "for clf_name in classifiers:\n",
    "    dd = pd.read_csv(os.path.join(\"compas_analysis\", clf_name, \"bias2.csv\"), index_col=0)\n",
    "    avg = dd.loc[\"Average\"].tolist()\n",
    "    plot_data.append(avg)\n",
    "plot_data = np.array(plot_data).T\n",
    "plot_methods = [\"Original\", \"Mean\", \"Similar\", \"Multiple\"]\n",
    "plot_barcolors = [\"grey\", \"red\", \"green\", \"blue\",\n",
    "                  \"red\", \"green\", \"blue\",\n",
    "                  \"red\", \"green\", \"blue\"]\n",
    "for (i, method) in enumerate(methods):\n",
    "    ax.bar(plot_basic_pos + plot_additional_pos[i] + 0.5, plot_data[i], 1, label=plot_methods[i] if i < 4 else None, color=plot_barcolors[i])\n",
    "plt.xticks(plot_xticks_pos)\n",
    "ax.set_xticklabels(plot_xtick_labels)\n",
    "for label in ax.get_xmajorticklabels():\n",
    "    if \"%\" in label.get_text():\n",
    "        label.set_rotation(45)\n",
    "        label.set_horizontalalignment(\"center\")\n",
    "plt.ylabel(\"Bias 2 Values\", fontsize=20)\n",
    "plt.xlim([-1, 16*len(classifiers) - 2])\n",
    "plt.legend(title=\"Methods\", loc=\"upper left\", prop={\"size\": 20}, title_fontsize=15)\n",
    "plt.savefig(\"bias2.png\", transparent=False, bbox_inches='tight', pad_inches=0.1)\n",
    "plt.show()"
   ]
  },
  {
   "cell_type": "code",
   "execution_count": 39,
   "metadata": {},
   "outputs": [
    {
     "data": {
      "image/png": "[encoded data removed]",
      "text/plain": [
       "<Figure size 1440x576 with 1 Axes>"
      ]
     },
     "metadata": {},
     "output_type": "display_data"
    }
   ],
   "source": [
    "fig = plt.figure(figsize=(20, 8))\n",
    "fig.patch.set_alpha(1.0)\n",
    "ax = fig.add_subplot(111)\n",
    "ax.tick_params(labelsize=20)\n",
    "# plt.title(\"Compas Analysis: Accuracy\", fontsize=20)\n",
    "plot_basic_pos = np.arange(len(classifiers)) * 16\n",
    "plot_additional_pos = [0, 2, 3, 4, 6, 7, 8, 10, 11, 12]\n",
    "plot_xticks_pos = np.array([np.array([3.5, 6.5, 7.5, 11.5]) + m for m in plot_basic_pos]).ravel().tolist()\n",
    "plot_xtick_labels = np.array([[\"20%\", \"\\n\\n{}\".format(name), \"10%\", \"5%\"] for name in classifiers]).ravel().tolist()\n",
    "plot_data = []\n",
    "for clf_name in classifiers:\n",
    "    dd = pd.read_csv(os.path.join(\"compas_analysis\", clf_name, \"accuracy.csv\"), index_col=0)\n",
    "    avg = dd.loc[\"Average\"].tolist()\n",
    "    plot_data.append(avg)\n",
    "plot_data = np.array(plot_data).T\n",
    "plot_methods = [\"Original\", \"Mean\", \"Similar\", \"Multiple\"]\n",
    "plot_barcolors = [\"grey\", \"red\", \"green\", \"blue\",\n",
    "                  \"red\", \"green\", \"blue\",\n",
    "                  \"red\", \"green\", \"blue\"]\n",
    "for (i, method) in enumerate(methods):\n",
    "    ax.bar(plot_basic_pos + plot_additional_pos[i] + 0.5, plot_data[i], 1, label=plot_methods[i] if i < 4 else None, color=plot_barcolors[i])\n",
    "plt.xticks(plot_xticks_pos)\n",
    "ax.set_xticklabels(plot_xtick_labels)\n",
    "for label in ax.get_xmajorticklabels():\n",
    "    if \"%\" in label.get_text():\n",
    "        label.set_rotation(45)\n",
    "        label.set_horizontalalignment(\"center\")\n",
    "plt.ylabel(\"Accuracy\", fontsize=20)\n",
    "plt.xlim([-1, 16*len(classifiers) - 2])\n",
    "plt.ylim([0.0, 1.0])\n",
    "plt.legend(title=\"Methods\", loc=\"upper left\", prop={\"size\": 20}, title_fontsize=15)\n",
    "plt.savefig(\"accuracy.png\", transparent=False, bbox_inches='tight', pad_inches=0.1)\n",
    "plt.show()"
   ]
  }
 ],
 "metadata": {
  "kernelspec": {
   "display_name": "Python 3",
   "language": "python",
   "name": "python3"
  },
  "language_info": {
   "codemirror_mode": {
    "name": "ipython",
    "version": 3
   },
   "file_extension": ".py",
   "mimetype": "text/x-python",
   "name": "python",
   "nbconvert_exporter": "python",
   "pygments_lexer": "ipython3",
   "version": "3.8.3"
  }
 },
 "nbformat": 4,
 "nbformat_minor": 4
}
