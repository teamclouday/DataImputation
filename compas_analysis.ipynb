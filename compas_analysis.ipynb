{
 "cells": [
  {
   "cell_type": "markdown",
   "metadata": {},
   "source": [
    "# Compas Data Imputation Analysis"
   ]
  },
  {
   "cell_type": "code",
   "execution_count": 1,
   "metadata": {},
   "outputs": [],
   "source": [
    "import os\n",
    "import numpy as np\n",
    "import pandas as pd"
   ]
  },
  {
   "cell_type": "code",
   "execution_count": 2,
   "metadata": {},
   "outputs": [],
   "source": [
    "import warnings\n",
    "warnings.filterwarnings('ignore')"
   ]
  },
  {
   "cell_type": "code",
   "execution_count": 3,
   "metadata": {},
   "outputs": [],
   "source": [
    "from utils.data import create_compas_dataset, Dataset\n",
    "from utils.generator import gen_complete_random\n",
    "from utils.completer import complete_by_mean_col, complete_by_multi, complete_by_similar_row"
   ]
  },
  {
   "cell_type": "code",
   "execution_count": 4,
   "metadata": {},
   "outputs": [],
   "source": [
    "data = create_compas_dataset()"
   ]
  },
  {
   "cell_type": "code",
   "execution_count": 5,
   "metadata": {},
   "outputs": [],
   "source": [
    "data_compas_complete = data.copy()\n",
    "tmp_concat = pd.concat([data_compas_complete.X, pd.DataFrame(data_compas_complete.y, columns=[\"_TARGET_\"])], axis=1)\n",
    "tmp_concat.dropna(inplace=True)\n",
    "tmp_concat.reset_index(drop=True, inplace=True)\n",
    "data_compas_complete.X = tmp_concat.drop(columns=[\"_TARGET_\"]).copy()\n",
    "data_compas_complete.y = tmp_concat[\"_TARGET_\"].copy().to_numpy().ravel()"
   ]
  },
  {
   "cell_type": "code",
   "execution_count": 6,
   "metadata": {},
   "outputs": [],
   "source": [
    "X = data_compas_complete.X.drop(columns=data_compas_complete.protected).copy().to_numpy()\n",
    "y = data_compas_complete.y.copy()"
   ]
  },
  {
   "cell_type": "code",
   "execution_count": 7,
   "metadata": {},
   "outputs": [],
   "source": [
    "from sklearn.neighbors import KNeighborsClassifier\n",
    "from sklearn.svm import LinearSVC, SVC\n",
    "from sklearn.ensemble import RandomForestClassifier\n",
    "from sklearn.linear_model import LogisticRegression\n",
    "from sklearn.tree import DecisionTreeClassifier\n",
    "from sklearn.neural_network import MLPClassifier\n",
    "from sklearn.model_selection import train_test_split"
   ]
  },
  {
   "cell_type": "code",
   "execution_count": 8,
   "metadata": {},
   "outputs": [],
   "source": [
    "from imblearn.over_sampling import SVMSMOTE"
   ]
  },
  {
   "cell_type": "markdown",
   "metadata": {},
   "source": [
    "### Parameter Searching"
   ]
  },
  {
   "cell_type": "code",
   "execution_count": 9,
   "metadata": {},
   "outputs": [],
   "source": [
    "from sklearn.model_selection import GridSearchCV\n",
    "\n",
    "def grid_search(X, y, model, params, smote):\n",
    "    print(\"Model: {}\".format(model.__class__.__name__))\n",
    "    X_res, y_res = smote.fit_resample(X, y) # enlarge dataset\n",
    "    search = GridSearchCV(model, param_grid=params, cv=10, n_jobs=-1)\n",
    "    search.fit(X_res, y_res)\n",
    "    print(\"Best parameter: {}\".format(search.best_params_))\n",
    "    print(\"Acc best: {:.4f}\".format(search.best_score_))\n",
    "    print(\"Acc on input data: {:.4f}\".format(search.best_estimator_.score(X, y)))\n",
    "    print(\"Acc on enlarged data: {:.4f}\".format(search.best_estimator_.score(X_res, y_res)))\n",
    "    return search.best_params_"
   ]
  },
  {
   "cell_type": "code",
   "execution_count": 10,
   "metadata": {},
   "outputs": [],
   "source": [
    "all_params = {\n",
    "    \"KNN\": None,\n",
    "    \"LinearSVC\": None,\n",
    "    \"SVC\": None,\n",
    "    \"Forest\": None,\n",
    "    \"LogReg\": None,\n",
    "    \"Tree\": None,\n",
    "    \"MLP\": None,\n",
    "}"
   ]
  },
  {
   "cell_type": "code",
   "execution_count": 11,
   "metadata": {},
   "outputs": [
    {
     "name": "stdout",
     "output_type": "stream",
     "text": [
      "Model: KNeighborsClassifier\n",
      "Best parameter: {'leaf_size': 5, 'n_neighbors': 2}\n",
      "Acc best: 0.7061\n",
      "Acc on input data: 0.8993\n",
      "Acc on enlarged data: 0.9071\n"
     ]
    }
   ],
   "source": [
    "tmp_params = {\n",
    "    \"n_neighbors\": [2, 5, 10, 50, 100, 500],\n",
    "    \"leaf_size\": [5, 10, 30, 50, 100],\n",
    "}\n",
    "all_params[\"KNN\"] = grid_search(X, y, KNeighborsClassifier(), tmp_params, SVMSMOTE(random_state=22))"
   ]
  },
  {
   "cell_type": "code",
   "execution_count": 12,
   "metadata": {},
   "outputs": [
    {
     "name": "stdout",
     "output_type": "stream",
     "text": [
      "Model: LinearSVC\n",
      "Best parameter: {'C': 0.1, 'max_iter': 1000, 'tol': 0.001}\n",
      "Acc best: 0.6728\n",
      "Acc on input data: 0.6641\n",
      "Acc on enlarged data: 0.6725\n"
     ]
    }
   ],
   "source": [
    "tmp_params = {\n",
    "    \"tol\": [1e-5, 1e-4, 1e-3],\n",
    "    \"C\": [0.001, 0.01, 0.1, 1, 10],\n",
    "    \"max_iter\": [1000, 5000, 10000],\n",
    "}\n",
    "all_params[\"LinearSVC\"] = grid_search(X, y, LinearSVC(dual=False), tmp_params, SVMSMOTE(random_state=22))"
   ]
  },
  {
   "cell_type": "code",
   "execution_count": 13,
   "metadata": {},
   "outputs": [
    {
     "name": "stdout",
     "output_type": "stream",
     "text": [
      "Model: SVC\n",
      "Best parameter: {'C': 10, 'max_iter': -1, 'tol': 0.0001}\n",
      "Acc best: 0.6452\n",
      "Acc on input data: 0.6285\n",
      "Acc on enlarged data: 0.6489\n"
     ]
    }
   ],
   "source": [
    "tmp_params = {\n",
    "    \"tol\": [1e-5, 1e-4, 1e-3],\n",
    "    \"C\": [0.001, 0.01, 0.1, 1, 10],\n",
    "    \"max_iter\": [1000, 5000, 10000, -1],\n",
    "}\n",
    "all_params[\"SVC\"] = grid_search(X, y, SVC(), tmp_params, SVMSMOTE(random_state=22))"
   ]
  },
  {
   "cell_type": "code",
   "execution_count": 14,
   "metadata": {},
   "outputs": [
    {
     "name": "stdout",
     "output_type": "stream",
     "text": [
      "Model: RandomForestClassifier\n",
      "Best parameter: {'max_depth': 50, 'min_samples_leaf': 5, 'n_estimators': 100}\n",
      "Acc best: 0.7677\n",
      "Acc on input data: 0.8166\n",
      "Acc on enlarged data: 0.8567\n"
     ]
    }
   ],
   "source": [
    "tmp_params = {\n",
    "    \"n_estimators\": [50, 100, 200, 500],\n",
    "    \"max_depth\": [None, 10, 50, 100],\n",
    "    \"min_samples_leaf\": [1, 5, 10],\n",
    "}\n",
    "all_params[\"Forest\"] = grid_search(X, y, RandomForestClassifier(), tmp_params, SVMSMOTE(random_state=22))"
   ]
  },
  {
   "cell_type": "code",
   "execution_count": 15,
   "metadata": {},
   "outputs": [
    {
     "name": "stdout",
     "output_type": "stream",
     "text": [
      "Model: LogisticRegression\n",
      "Best parameter: {'C': 10.0, 'max_iter': 100, 'tol': 1e-05}\n",
      "Acc best: 0.6755\n",
      "Acc on input data: 0.6767\n",
      "Acc on enlarged data: 0.6762\n"
     ]
    }
   ],
   "source": [
    "tmp_params = {\n",
    "    \"tol\": [1e-5, 1e-4, 1e-3],\n",
    "    \"C\": [1e-2, 1e-1, 1, 1e1, 1e2],\n",
    "    \"max_iter\": [100, 500, 1000, 2000],\n",
    "}\n",
    "all_params[\"LogReg\"] = grid_search(X, y, LogisticRegression(), tmp_params, SVMSMOTE(random_state=22))"
   ]
  },
  {
   "cell_type": "code",
   "execution_count": 16,
   "metadata": {},
   "outputs": [
    {
     "name": "stdout",
     "output_type": "stream",
     "text": [
      "Model: DecisionTreeClassifier\n",
      "Best parameter: {'max_depth': 10, 'max_leaf_nodes': 100, 'min_samples_leaf': 1}\n",
      "Acc best: 0.7494\n",
      "Acc on input data: 0.7267\n",
      "Acc on enlarged data: 0.7765\n"
     ]
    }
   ],
   "source": [
    "tmp_params = {\n",
    "    \"max_depth\": [None, 10, 50, 100, 200],\n",
    "    \"max_leaf_nodes\": [None, 10, 100, 1000],\n",
    "    \"min_samples_leaf\": [1, 5, 10],\n",
    "}\n",
    "all_params[\"Tree\"] = grid_search(X, y, DecisionTreeClassifier(), tmp_params, SVMSMOTE(random_state=22))"
   ]
  },
  {
   "cell_type": "code",
   "execution_count": 17,
   "metadata": {},
   "outputs": [
    {
     "name": "stdout",
     "output_type": "stream",
     "text": [
      "Model: MLPClassifier\n",
      "Best parameter: {'alpha': 0.0001, 'learning_rate_init': 0.01, 'max_iter': 500}\n",
      "Acc best: 0.6878\n",
      "Acc on input data: 0.6685\n",
      "Acc on enlarged data: 0.6911\n"
     ]
    }
   ],
   "source": [
    "tmp_params = {\n",
    "    \"alpha\": [1e-5, 1e-4, 1e-3],\n",
    "    \"learning_rate_init\": [1e-4, 1e-3, 1e-2],\n",
    "    \"max_iter\": [200, 500, 1000],\n",
    "}\n",
    "all_params[\"MLP\"] = grid_search(X, y, MLPClassifier(), tmp_params, SVMSMOTE(random_state=22))"
   ]
  },
  {
   "cell_type": "markdown",
   "metadata": {},
   "source": [
    "### Data Imputation"
   ]
  },
  {
   "cell_type": "code",
   "execution_count": 139,
   "metadata": {},
   "outputs": [],
   "source": [
    "from sklearn.model_selection import KFold\n",
    "from sklearn.metrics import confusion_matrix\n",
    "\n",
    "def bias1(data):\n",
    "    # input should be data from compute_confusion_matrix: [tn, fp, fn, tp]\n",
    "    # bias 1 = |(FPR_AA/FNR_AA) - (FPR_C/FNR_C)|\n",
    "    FPR_AA = data[\"African-American\"][1] / sum(data[\"African-American\"])\n",
    "    FNR_AA = data[\"African-American\"][2] / sum(data[\"African-American\"])\n",
    "    FPR_C = data[\"Caucasian\"][1] / sum(data[\"Caucasian\"])\n",
    "    FNR_C = data[\"Caucasian\"][2] / sum(data[\"Caucasian\"])\n",
    "    bias = (FPR_AA / FNR_AA) - (FPR_C / FNR_C)\n",
    "    return abs(bias)\n",
    "   \n",
    "def bias2(data):\n",
    "    # input should be data from compute_confusion_matrix\n",
    "    # bias 2 = |(FPR_AA/FPR_C) - (FNR_AA/FNR_C)|\n",
    "    FPR_AA = data[\"African-American\"][1] / sum(data[\"African-American\"])\n",
    "    FNR_AA = data[\"African-American\"][2] / sum(data[\"African-American\"])\n",
    "    FPR_C = data[\"Caucasian\"][1] / sum(data[\"Caucasian\"])\n",
    "    FNR_C = data[\"Caucasian\"][2] / sum(data[\"Caucasian\"])\n",
    "    bias = (FPR_AA / FPR_C) - (FNR_AA / FNR_C)\n",
    "    return abs(bias)\n",
    "\n",
    "def helper_freq(array):\n",
    "    \"\"\"simple helper function to return the most frequent number in an array\"\"\"\n",
    "    count = np.bincount(array)\n",
    "    return array[np.argmax(count)]\n",
    "\n",
    "def average_cv(cv_data):\n",
    "    # compute average for the confusion matrix data for each fold\n",
    "    result = {}\n",
    "    for name, data in cv_data.items():\n",
    "        new_data = {\n",
    "            \"African-American\": np.array([m[\"African-American\"] for m in data]).mean(axis=0).tolist(),\n",
    "            \"Caucasian\": np.array([m[\"Caucasian\"] for m in data]).mean(axis=0).tolist()\n",
    "        }\n",
    "        result[name] = new_data\n",
    "    return result\n",
    "\n",
    "def compute_confusion_matrix(X_train, y_train, X_test, y_test, clf, protected_features, multi=False):\n",
    "    # X are pandas dataframe\n",
    "    # y are numpy array\n",
    "    # clf is a sklearn classifier\n",
    "    # protected_features is list\n",
    "    smote = SVMSMOTE(random_state=22)\n",
    "    if not multi:\n",
    "        X_train = X_train.drop(columns=protected_features).copy().to_numpy()\n",
    "        X_train_res, y_train_res = smote.fit_resample(X_train, y_train)\n",
    "        clf.fit(X_train_res, y_train_res)\n",
    "        print(\"Acc: {:.4f}\".format(clf.score(X_test.drop(columns=protected_features).copy().to_numpy(), y_test)), end=\" \")\n",
    "        X_test_AA = X_test[X_test[\"race\"] == \"African-American\"].drop(columns=protected_features).to_numpy()\n",
    "        X_test_C = X_test[X_test[\"race\"] == \"Caucasian\"].drop(columns=protected_features).to_numpy()\n",
    "        y_test_AA = y_test[X_test[X_test[\"race\"] == \"African-American\"].index.tolist()]\n",
    "        y_test_C = y_test[X_test[X_test[\"race\"] == \"Caucasian\"].index.tolist()]\n",
    "        matrix_AA = confusion_matrix(y_test_AA, clf.predict(X_test_AA))\n",
    "        matrix_C = confusion_matrix(y_test_C, clf.predict(X_test_C))\n",
    "    else:\n",
    "        prediction_AA = []\n",
    "        prediction_C = []\n",
    "        X_test_first = X_test[0]\n",
    "        y_test_AA = y_test[X_test_first[X_test_first[\"race\"] == \"African-American\"].index.tolist()]\n",
    "        y_test_C = y_test[X_test_first[X_test_first[\"race\"] == \"Caucasian\"].index.tolist()]\n",
    "        scores = [0, 0]\n",
    "        for X_train_m in X_train:\n",
    "            X_train_m = X_train_m.drop(columns=protected_features).copy().to_numpy()\n",
    "            X_train_res, y_train_res = smote.fit_resample(X_train_m, y_train)\n",
    "            clf.fit(X_train_res, y_train_res)\n",
    "            for X_test_m in X_test:\n",
    "                X_test_AA = X_test_m[X_test_m[\"race\"] == \"African-American\"].drop(columns=protected_features).to_numpy()\n",
    "                X_test_C = X_test_m[X_test_m[\"race\"] == \"Caucasian\"].drop(columns=protected_features).to_numpy()\n",
    "                prediction_AA.append(clf.predict(X_test_AA))\n",
    "                prediction_C.append(clf.predict(X_test_C))\n",
    "                scores[0] += clf.score(X_test_m.drop(columns=protected_features).copy().to_numpy(), y_test)\n",
    "                scores[1] += 1\n",
    "        print(\"Acc: {:.4f}\".format(scores[0] / scores[1]), end=\" \")\n",
    "        # compute final predictions by voting\n",
    "        prediction_AA = np.apply_along_axis(helper_freq, 0, np.array(prediction_AA))\n",
    "        prediction_C = np.apply_along_axis(helper_freq, 0, np.array(prediction_C))\n",
    "        matrix_AA = confusion_matrix(y_test_AA, prediction_AA)\n",
    "        matrix_C = confusion_matrix(y_test_C, prediction_C)\n",
    "    result = {\n",
    "        \"African-American\": matrix_AA.ravel().tolist(), # [tn, fp, fn, tp]\n",
    "        \"Caucasian\": matrix_C.ravel().tolist()\n",
    "    }\n",
    "    return result\n",
    "\n",
    "def test_imputation(X, y, protected_features, completer_func=None, multi=False):\n",
    "    # X is pandas dataframe\n",
    "    # y is numpy array,\n",
    "    # protected_features is list\n",
    "    # completer func is the imputation function\n",
    "    global all_params\n",
    "    clfs = { # define all the classifiers with best parameters\n",
    "        \"KNN\": KNeighborsClassifier(n_neighbors=all_params[\"KNN\"][\"n_neighbors\"], leaf_size=all_params[\"KNN\"][\"leaf_size\"]),\n",
    "        \"LinearSVC\": LinearSVC(dual=False, tol=all_params[\"LinearSVC\"][\"tol\"], C=all_params[\"LinearSVC\"][\"C\"], max_iter=all_params[\"LinearSVC\"][\"max_iter\"]),\n",
    "        \"SVC\": SVC(tol=all_params[\"SVC\"][\"tol\"], C=all_params[\"SVC\"][\"C\"], max_iter=all_params[\"SVC\"][\"max_iter\"]),\n",
    "        \"Forest\": RandomForestClassifier(n_estimators=all_params[\"Forest\"][\"n_estimators\"], max_depth=all_params[\"Forest\"][\"max_depth\"], min_samples_leaf=all_params[\"Forest\"][\"min_samples_leaf\"]),\n",
    "        \"LogReg\": LogisticRegression(tol=all_params[\"LogReg\"][\"tol\"], C=all_params[\"LogReg\"][\"C\"], max_iter=all_params[\"LogReg\"][\"max_iter\"]),\n",
    "        \"Tree\": DecisionTreeClassifier(max_depth=all_params[\"Tree\"][\"max_depth\"], max_leaf_nodes=all_params[\"Tree\"][\"max_leaf_nodes\"], min_samples_leaf=all_params[\"Tree\"][\"min_samples_leaf\"]),\n",
    "        \"MLP\": MLPClassifier(alpha=all_params[\"MLP\"][\"alpha\"], learning_rate_init=all_params[\"MLP\"][\"learning_rate_init\"], max_iter=all_params[\"MLP\"][\"max_iter\"]),\n",
    "    }\n",
    "    data_cv = { # save each cv output\n",
    "        \"KNN\": [],\n",
    "        \"LinearSVC\": [],\n",
    "        \"SVC\": [],\n",
    "        \"Forest\": [],\n",
    "        \"LogReg\": [],\n",
    "        \"Tree\": [],\n",
    "        \"MLP\": [],\n",
    "    }\n",
    "    bias1_cv = { # save each bias 1 outputs\n",
    "        \"KNN\": [],\n",
    "        \"LinearSVC\": [],\n",
    "        \"SVC\": [],\n",
    "        \"Forest\": [],\n",
    "        \"LogReg\": [],\n",
    "        \"Tree\": [],\n",
    "        \"MLP\": [],\n",
    "    }\n",
    "    bias2_cv = { # save each bias 2 outputs\n",
    "        \"KNN\": [],\n",
    "        \"LinearSVC\": [],\n",
    "        \"SVC\": [],\n",
    "        \"Forest\": [],\n",
    "        \"LogReg\": [],\n",
    "        \"Tree\": [],\n",
    "        \"MLP\": [],\n",
    "    }\n",
    "    kf = KFold(n_splits=10, shuffle=True)\n",
    "    fold = 1\n",
    "    for train_idx, test_idx in kf.split(X):\n",
    "        print(\"Fold {:>2}\".format(fold), end=\" \")\n",
    "        X_train, X_test = X.iloc[train_idx], X.iloc[test_idx]\n",
    "        y_train, y_test = y[train_idx], y[test_idx]\n",
    "        X_test = X_test.reset_index(drop=True)\n",
    "        X_train = X_train.reset_index(drop=True)\n",
    "        if completer_func:\n",
    "        # do imputations on training set and test set individually\n",
    "            data_incomplete = Dataset(\"tmp\", X_train, y_train, auto_convert=False, protected_features=protected_features)\n",
    "            data_complete = completer_func(data_incomplete)\n",
    "            X_train = [m.X.copy() for m in data_complete] if multi else data_complete.X.copy() \n",
    "            y_train = data_complete[0].y.copy() if multi else data_complete.y.copy()\n",
    "            data_incomplete = Dataset(\"tmp\", X_test, y_test, auto_convert=False, protected_features=protected_features)\n",
    "            data_complete = completer_func(data_incomplete)\n",
    "            X_test = [m.X.copy() for m in data_complete] if multi else data_complete.X.copy()\n",
    "            y_test = data_complete[0].y.copy() if multi else data_complete.y.copy()\n",
    "        # get result for each classifier\n",
    "        for clf_name, clf in clfs.items():\n",
    "            print(\"{}\".format(clf_name), end=\" \")\n",
    "            result = compute_confusion_matrix(X_train, y_train, X_test, y_test, clf, protected_features, multi=multi)\n",
    "            data_cv[clf_name].append(result)\n",
    "            bias1_cv[clf_name].append(bias1(result))\n",
    "            bias2_cv[clf_name].append(bias2(result))\n",
    "        print()\n",
    "        fold += 1\n",
    "    # print(\"Result:\\n{}\".format(data_cv))\n",
    "    return (data_cv, bias1_cv, bias2_cv)"
   ]
  },
  {
   "cell_type": "code",
   "execution_count": 140,
   "metadata": {},
   "outputs": [
    {
     "name": "stdout",
     "output_type": "stream",
     "text": [
      "Fold  1 KNN Acc: 0.6230 LinearSVC Acc: 0.6581 SVC Acc: 0.6124 Forest Acc: 0.6922 LogReg Acc: 0.6613 Tree Acc: 0.6880 MLP Acc: 0.6624 \n",
      "Fold  2 KNN Acc: 0.6273 LinearSVC Acc: 0.6709 SVC Acc: 0.6049 Forest Acc: 0.7039 LogReg Acc: 0.6720 Tree Acc: 0.6933 MLP Acc: 0.6677 \n",
      "Fold  3 KNN Acc: 0.6273 LinearSVC Acc: 0.6518 SVC Acc: 0.6081 Forest Acc: 0.7061 LogReg Acc: 0.6688 Tree Acc: 0.6912 MLP Acc: 0.6869 \n",
      "Fold  4 KNN Acc: 0.6400 LinearSVC Acc: 0.6986 SVC Acc: 0.6049 Forest Acc: 0.7071 LogReg Acc: 0.6858 Tree Acc: 0.7039 MLP Acc: 0.6283 \n",
      "Fold  5 KNN Acc: 0.6471 LinearSVC Acc: 0.6706 SVC Acc: 0.6162 Forest Acc: 0.6898 LogReg Acc: 0.6791 Tree Acc: 0.6823 MLP Acc: 0.6588 \n",
      "Fold  6 KNN Acc: 0.6503 LinearSVC Acc: 0.6876 SVC Acc: 0.6205 Forest Acc: 0.7292 LogReg Acc: 0.6994 Tree Acc: 0.6908 MLP Acc: 0.5864 \n",
      "Fold  7 KNN Acc: 0.6194 LinearSVC Acc: 0.6503 SVC Acc: 0.6386 Forest Acc: 0.6940 LogReg Acc: 0.6642 Tree Acc: 0.6716 MLP Acc: 0.6780 \n",
      "Fold  8 KNN Acc: 0.6258 LinearSVC Acc: 0.6482 SVC Acc: 0.5842 Forest Acc: 0.6962 LogReg Acc: 0.6631 Tree Acc: 0.6812 MLP Acc: 0.6706 \n",
      "Fold  9 KNN Acc: 0.6674 LinearSVC Acc: 0.6674 SVC Acc: 0.6109 Forest Acc: 0.6983 LogReg Acc: 0.6791 Tree Acc: 0.6663 MLP Acc: 0.6738 \n",
      "Fold 10 KNN Acc: 0.6130 LinearSVC Acc: 0.6503 SVC Acc: 0.5885 Forest Acc: 0.6930 LogReg Acc: 0.6727 Tree Acc: 0.6951 MLP Acc: 0.6482 \n"
     ]
    }
   ],
   "source": [
    "# try on original data\n",
    "result_original = test_imputation(data_compas_complete.X.copy(), data_compas_complete.y.copy(), data_compas_complete.protected)"
   ]
  },
  {
   "cell_type": "markdown",
   "metadata": {},
   "source": [
    "### 20% Random"
   ]
  },
  {
   "cell_type": "code",
   "execution_count": 141,
   "metadata": {},
   "outputs": [
    {
     "name": "stdout",
     "output_type": "stream",
     "text": [
      "gen_complete_random: 20980 NaN values have been inserted\n"
     ]
    },
    {
     "data": {
      "text/plain": [
       "age                        1694\n",
       "age_cat                    1702\n",
       "c_charge_degree            1749\n",
       "priors_count               1759\n",
       "juv_misd_count             1749\n",
       "juv_fel_count              1780\n",
       "juv_other_count            1720\n",
       "c_charge_desc              1747\n",
       "days_b_screening_arrest    1813\n",
       "sex                        1799\n",
       "race                       1724\n",
       "length_of_stay             1744\n",
       "dtype: int64"
      ]
     },
     "execution_count": 141,
     "metadata": {},
     "output_type": "execute_result"
    }
   ],
   "source": [
    "# generate simulated missing data\n",
    "data_sim = gen_complete_random(data_compas_complete, random_ratio=0.2)\n",
    "data_sim.X.isnull().sum(axis=0)"
   ]
  },
  {
   "cell_type": "code",
   "execution_count": 142,
   "metadata": {},
   "outputs": [
    {
     "name": "stdout",
     "output_type": "stream",
     "text": [
      "Fold  1 KNN Acc: 0.6390 LinearSVC Acc: 0.6571 SVC Acc: 0.5591 Forest Acc: 0.5932 LogReg Acc: 0.6603 Tree Acc: 0.6006 MLP Acc: 0.6283 \n",
      "Fold  2 KNN Acc: 0.6326 LinearSVC Acc: 0.6688 SVC Acc: 0.5964 Forest Acc: 0.6390 LogReg Acc: 0.6784 Tree Acc: 0.6592 MLP Acc: 0.6422 \n",
      "Fold  3 KNN Acc: 0.6283 LinearSVC Acc: 0.6699 SVC Acc: 0.5911 Forest Acc: 0.5676 LogReg Acc: 0.6731 Tree Acc: 0.6049 MLP Acc: 0.5879 \n",
      "Fold  4 KNN Acc: 0.5996 LinearSVC Acc: 0.6635 SVC Acc: 0.5719 Forest Acc: 0.6049 LogReg Acc: 0.6731 Tree Acc: 0.5868 MLP Acc: 0.6784 \n",
      "Fold  5 KNN Acc: 0.6013 LinearSVC Acc: 0.6791 SVC Acc: 0.5533 Forest Acc: 0.5693 LogReg Acc: 0.6716 Tree Acc: 0.6109 MLP Acc: 0.5650 \n",
      "Fold  6 KNN Acc: 0.5800 LinearSVC Acc: 0.6077 SVC Acc: 0.5448 Forest Acc: 0.5864 LogReg Acc: 0.6087 Tree Acc: 0.5874 MLP Acc: 0.6045 \n",
      "Fold  7 KNN Acc: 0.5917 LinearSVC Acc: 0.6503 SVC Acc: 0.5554 Forest Acc: 0.5661 LogReg Acc: 0.6599 Tree Acc: 0.5959 MLP Acc: 0.5597 \n",
      "Fold  8 KNN Acc: 0.6247 LinearSVC Acc: 0.6642 SVC Acc: 0.5800 Forest Acc: 0.6013 LogReg Acc: 0.6674 Tree Acc: 0.6066 MLP Acc: 0.6322 \n",
      "Fold  9 KNN Acc: 0.5746 LinearSVC Acc: 0.6429 SVC Acc: 0.5853 Forest Acc: 0.6258 LogReg Acc: 0.6567 Tree Acc: 0.6226 MLP Acc: 0.6418 \n",
      "Fold 10 KNN Acc: 0.6365 LinearSVC Acc: 0.6557 SVC Acc: 0.5693 Forest Acc: 0.5800 LogReg Acc: 0.6588 Tree Acc: 0.6151 MLP Acc: 0.6812 \n"
     ]
    }
   ],
   "source": [
    "# fill by mean on simulated\n",
    "result_mean_sim_20 = test_imputation(data_sim.X.copy(), data_sim.y.copy(), data_sim.protected, complete_by_mean_col)"
   ]
  },
  {
   "cell_type": "code",
   "execution_count": 143,
   "metadata": {},
   "outputs": [
    {
     "name": "stdout",
     "output_type": "stream",
     "text": [
      "Fold  1 KNN Acc: 0.6251 LinearSVC Acc: 0.6699 SVC Acc: 0.5740 Forest Acc: 0.6912 LogReg Acc: 0.6720 Tree Acc: 0.6773 MLP Acc: 0.5996 \n",
      "Fold  2 KNN Acc: 0.6038 LinearSVC Acc: 0.6358 SVC Acc: 0.5804 Forest Acc: 0.6794 LogReg Acc: 0.6677 Tree Acc: 0.6539 MLP Acc: 0.5921 \n",
      "Fold  3 KNN Acc: 0.6134 LinearSVC Acc: 0.6848 SVC Acc: 0.6113 Forest Acc: 0.6837 LogReg Acc: 0.6933 Tree Acc: 0.6805 MLP Acc: 0.6454 \n",
      "Fold  4 KNN Acc: 0.6390 LinearSVC Acc: 0.6539 SVC Acc: 0.6177 Forest Acc: 0.6837 LogReg Acc: 0.6688 Tree Acc: 0.6528 MLP Acc: 0.6358 \n",
      "Fold  5 KNN Acc: 0.6301 LinearSVC Acc: 0.6343 SVC Acc: 0.5725 Forest Acc: 0.6503 LogReg Acc: 0.6439 Tree Acc: 0.6141 MLP Acc: 0.6333 \n",
      "Fold  6 KNN Acc: 0.6098 LinearSVC Acc: 0.6439 SVC Acc: 0.5853 Forest Acc: 0.6770 LogReg Acc: 0.6525 Tree Acc: 0.6514 MLP Acc: 0.6418 \n",
      "Fold  7 KNN Acc: 0.6354 LinearSVC Acc: 0.6525 SVC Acc: 0.5757 Forest Acc: 0.6695 LogReg Acc: 0.6610 Tree Acc: 0.6514 MLP Acc: 0.6098 \n",
      "Fold  8 KNN Acc: 0.6141 LinearSVC Acc: 0.6311 SVC Acc: 0.5853 Forest Acc: 0.6674 LogReg Acc: 0.6439 Tree Acc: 0.6311 MLP Acc: 0.6226 \n",
      "Fold  9 KNN Acc: 0.6333 LinearSVC Acc: 0.6439 SVC Acc: 0.5938 Forest Acc: 0.6599 LogReg Acc: 0.6471 Tree Acc: 0.6450 MLP Acc: 0.5757 \n",
      "Fold 10 KNN Acc: 0.6130 LinearSVC Acc: 0.6397 SVC Acc: 0.5437 Forest Acc: 0.6333 LogReg Acc: 0.6386 Tree Acc: 0.6439 MLP Acc: 0.6343 \n"
     ]
    }
   ],
   "source": [
    "# fill by similar on simulated\n",
    "result_similar_sim_20 = test_imputation(data_sim.X.copy(), data_sim.y.copy(), data_sim.protected, complete_by_similar_row)"
   ]
  },
  {
   "cell_type": "code",
   "execution_count": 144,
   "metadata": {},
   "outputs": [
    {
     "name": "stdout",
     "output_type": "stream",
     "text": [
      "Fold  1 KNN Acc: 0.6111 LinearSVC Acc: 0.6156 SVC Acc: 0.5542 Forest Acc: 0.6285 LogReg Acc: 0.6245 Tree Acc: 0.6153 MLP Acc: 0.6073 \n",
      "Fold  2 KNN Acc: 0.6168 LinearSVC Acc: 0.6675 SVC Acc: 0.5980 Forest Acc: 0.6844 LogReg Acc: 0.6712 Tree Acc: 0.6626 MLP Acc: 0.6631 \n",
      "Fold  3 KNN Acc: 0.6345 LinearSVC Acc: 0.6489 SVC Acc: 0.6077 Forest Acc: 0.6667 LogReg Acc: 0.6561 Tree Acc: 0.6428 MLP Acc: 0.6388 \n",
      "Fold  4 KNN Acc: 0.6219 LinearSVC Acc: 0.6382 SVC Acc: 0.5717 Forest Acc: 0.6434 LogReg Acc: 0.6399 Tree Acc: 0.6292 MLP Acc: 0.6274 \n",
      "Fold  5 KNN Acc: 0.6216 LinearSVC Acc: 0.6489 SVC Acc: 0.5828 Forest Acc: 0.6803 LogReg Acc: 0.6599 Tree Acc: 0.6522 MLP Acc: 0.6136 \n",
      "Fold  6 KNN Acc: 0.6238 LinearSVC Acc: 0.6286 SVC Acc: 0.5549 Forest Acc: 0.6676 LogReg Acc: 0.6360 Tree Acc: 0.6513 MLP Acc: 0.6163 \n",
      "Fold  7 KNN Acc: 0.6209 LinearSVC Acc: 0.6471 SVC Acc: 0.5753 Forest Acc: 0.6460 LogReg Acc: 0.6453 Tree Acc: 0.6439 MLP Acc: 0.5942 \n",
      "Fold  8 KNN Acc: 0.6016 LinearSVC Acc: 0.6474 SVC Acc: 0.5834 Forest Acc: 0.6540 LogReg Acc: 0.6548 Tree Acc: 0.6431 MLP Acc: 0.6235 \n",
      "Fold  9 KNN Acc: 0.6274 LinearSVC Acc: 0.6249 SVC Acc: 0.5683 Forest Acc: 0.6530 LogReg Acc: 0.6339 Tree Acc: 0.6150 MLP Acc: 0.6293 \n",
      "Fold 10 KNN Acc: 0.5935 LinearSVC Acc: 0.6426 SVC Acc: 0.5789 Forest Acc: 0.6597 LogReg Acc: 0.6467 Tree Acc: 0.6381 MLP Acc: 0.6478 \n"
     ]
    }
   ],
   "source": [
    "# fill by multiple imputation on simulated\n",
    "result_multi_sim_20 = test_imputation(data_sim.X.copy(), data_sim.y.copy(), data_sim.protected, complete_by_multi, multi=True)"
   ]
  },
  {
   "cell_type": "markdown",
   "metadata": {},
   "source": [
    "### 10% Random"
   ]
  },
  {
   "cell_type": "code",
   "execution_count": 145,
   "metadata": {},
   "outputs": [
    {
     "name": "stdout",
     "output_type": "stream",
     "text": [
      "gen_complete_random: 8901 NaN values have been inserted\n"
     ]
    },
    {
     "data": {
      "text/plain": [
       "age                        738\n",
       "age_cat                    728\n",
       "c_charge_degree            769\n",
       "priors_count               716\n",
       "juv_misd_count             735\n",
       "juv_fel_count              747\n",
       "juv_other_count            759\n",
       "c_charge_desc              761\n",
       "days_b_screening_arrest    735\n",
       "sex                        778\n",
       "race                       741\n",
       "length_of_stay             694\n",
       "dtype: int64"
      ]
     },
     "execution_count": 145,
     "metadata": {},
     "output_type": "execute_result"
    }
   ],
   "source": [
    "data_sim = gen_complete_random(data_compas_complete, random_ratio=0.1)\n",
    "data_sim.X.isnull().sum(axis=0)"
   ]
  },
  {
   "cell_type": "code",
   "execution_count": 146,
   "metadata": {},
   "outputs": [
    {
     "name": "stdout",
     "output_type": "stream",
     "text": [
      "Fold  1 KNN Acc: 0.6060 LinearSVC Acc: 0.6560 SVC Acc: 0.6283 Forest Acc: 0.6773 LogReg Acc: 0.6592 Tree Acc: 0.6635 MLP Acc: 0.6550 \n",
      "Fold  2 KNN Acc: 0.6262 LinearSVC Acc: 0.6741 SVC Acc: 0.6028 Forest Acc: 0.6592 LogReg Acc: 0.6581 Tree Acc: 0.6635 MLP Acc: 0.6092 \n",
      "Fold  3 KNN Acc: 0.6305 LinearSVC Acc: 0.6720 SVC Acc: 0.6145 Forest Acc: 0.6507 LogReg Acc: 0.6741 Tree Acc: 0.6581 MLP Acc: 0.6454 \n",
      "Fold  4 KNN Acc: 0.6283 LinearSVC Acc: 0.6645 SVC Acc: 0.5964 Forest Acc: 0.6667 LogReg Acc: 0.6731 Tree Acc: 0.6624 MLP Acc: 0.6432 \n",
      "Fold  5 KNN Acc: 0.5885 LinearSVC Acc: 0.6557 SVC Acc: 0.5970 Forest Acc: 0.6429 LogReg Acc: 0.6588 Tree Acc: 0.6343 MLP Acc: 0.6130 \n",
      "Fold  6 KNN Acc: 0.6322 LinearSVC Acc: 0.6525 SVC Acc: 0.6173 Forest Acc: 0.6461 LogReg Acc: 0.6642 Tree Acc: 0.6588 MLP Acc: 0.6418 \n",
      "Fold  7 KNN Acc: 0.6567 LinearSVC Acc: 0.6439 SVC Acc: 0.6055 Forest Acc: 0.6695 LogReg Acc: 0.6578 Tree Acc: 0.6493 MLP Acc: 0.6439 \n",
      "Fold  8 KNN Acc: 0.6482 LinearSVC Acc: 0.6759 SVC Acc: 0.6013 Forest Acc: 0.6588 LogReg Acc: 0.6930 Tree Acc: 0.6706 MLP Acc: 0.6791 \n",
      "Fold  9 KNN Acc: 0.6205 LinearSVC Acc: 0.6727 SVC Acc: 0.5896 Forest Acc: 0.6482 LogReg Acc: 0.6834 Tree Acc: 0.6557 MLP Acc: 0.6269 \n",
      "Fold 10 KNN Acc: 0.6365 LinearSVC Acc: 0.6802 SVC Acc: 0.6066 Forest Acc: 0.6791 LogReg Acc: 0.6940 Tree Acc: 0.6791 MLP Acc: 0.6962 \n"
     ]
    }
   ],
   "source": [
    "# fill by mean on simulated\n",
    "result_mean_sim_10 = test_imputation(data_sim.X.copy(), data_sim.y.copy(), data_sim.protected, complete_by_mean_col)"
   ]
  },
  {
   "cell_type": "code",
   "execution_count": 147,
   "metadata": {},
   "outputs": [
    {
     "name": "stdout",
     "output_type": "stream",
     "text": [
      "Fold  1 KNN Acc: 0.6251 LinearSVC Acc: 0.6305 SVC Acc: 0.5783 Forest Acc: 0.6837 LogReg Acc: 0.6443 Tree Acc: 0.6763 MLP Acc: 0.6656 \n",
      "Fold  2 KNN Acc: 0.6251 LinearSVC Acc: 0.6539 SVC Acc: 0.6124 Forest Acc: 0.6635 LogReg Acc: 0.6688 Tree Acc: 0.6709 MLP Acc: 0.6709 \n",
      "Fold  3 KNN Acc: 0.6518 LinearSVC Acc: 0.6305 SVC Acc: 0.6198 Forest Acc: 0.6709 LogReg Acc: 0.6518 Tree Acc: 0.6379 MLP Acc: 0.6560 \n",
      "Fold  4 KNN Acc: 0.5996 LinearSVC Acc: 0.6581 SVC Acc: 0.5921 Forest Acc: 0.6699 LogReg Acc: 0.6613 Tree Acc: 0.6624 MLP Acc: 0.6454 \n",
      "Fold  5 KNN Acc: 0.6535 LinearSVC Acc: 0.6642 SVC Acc: 0.5917 Forest Acc: 0.6908 LogReg Acc: 0.6834 Tree Acc: 0.6855 MLP Acc: 0.6461 \n",
      "Fold  6 KNN Acc: 0.6119 LinearSVC Acc: 0.6375 SVC Acc: 0.6173 Forest Acc: 0.6780 LogReg Acc: 0.6450 Tree Acc: 0.6503 MLP Acc: 0.6802 \n",
      "Fold  7 KNN Acc: 0.6365 LinearSVC Acc: 0.6610 SVC Acc: 0.6226 Forest Acc: 0.6748 LogReg Acc: 0.6748 Tree Acc: 0.6631 MLP Acc: 0.6365 \n",
      "Fold  8 KNN Acc: 0.6311 LinearSVC Acc: 0.6780 SVC Acc: 0.6141 Forest Acc: 0.7047 LogReg Acc: 0.7047 Tree Acc: 0.6994 MLP Acc: 0.6695 \n",
      "Fold  9 KNN Acc: 0.6215 LinearSVC Acc: 0.6514 SVC Acc: 0.5928 Forest Acc: 0.6567 LogReg Acc: 0.6578 Tree Acc: 0.6652 MLP Acc: 0.6610 \n",
      "Fold 10 KNN Acc: 0.6567 LinearSVC Acc: 0.6770 SVC Acc: 0.6141 Forest Acc: 0.6908 LogReg Acc: 0.6919 Tree Acc: 0.6962 MLP Acc: 0.6269 \n"
     ]
    }
   ],
   "source": [
    "# fill by similar on simulated\n",
    "result_similar_sim_10 = test_imputation(data_sim.X.copy(), data_sim.y.copy(), data_sim.protected, complete_by_similar_row)"
   ]
  },
  {
   "cell_type": "code",
   "execution_count": 148,
   "metadata": {},
   "outputs": [
    {
     "name": "stdout",
     "output_type": "stream",
     "text": [
      "Fold  1 KNN Acc: 0.6355 LinearSVC Acc: 0.6396 SVC Acc: 0.5878 Forest Acc: 0.6711 LogReg Acc: 0.6505 Tree Acc: 0.6569 MLP Acc: 0.6338 \n",
      "Fold  2 KNN Acc: 0.6220 LinearSVC Acc: 0.6474 SVC Acc: 0.5669 Forest Acc: 0.6449 LogReg Acc: 0.6542 Tree Acc: 0.6561 MLP Acc: 0.6339 \n",
      "Fold  3 KNN Acc: 0.6219 LinearSVC Acc: 0.6573 SVC Acc: 0.5921 Forest Acc: 0.6941 LogReg Acc: 0.6676 Tree Acc: 0.6779 MLP Acc: 0.6524 \n",
      "Fold  4 KNN Acc: 0.6265 LinearSVC Acc: 0.6741 SVC Acc: 0.5824 Forest Acc: 0.6831 LogReg Acc: 0.6780 Tree Acc: 0.6703 MLP Acc: 0.6724 \n",
      "Fold  5 KNN Acc: 0.6217 LinearSVC Acc: 0.6325 SVC Acc: 0.5931 Forest Acc: 0.6621 LogReg Acc: 0.6390 Tree Acc: 0.6511 MLP Acc: 0.6388 \n",
      "Fold  6 KNN Acc: 0.6410 LinearSVC Acc: 0.6855 SVC Acc: 0.6248 Forest Acc: 0.6785 LogReg Acc: 0.6820 Tree Acc: 0.6591 MLP Acc: 0.6781 \n",
      "Fold  7 KNN Acc: 0.6301 LinearSVC Acc: 0.6309 SVC Acc: 0.5666 Forest Acc: 0.6571 LogReg Acc: 0.6417 Tree Acc: 0.6560 MLP Acc: 0.6148 \n",
      "Fold  8 KNN Acc: 0.6264 LinearSVC Acc: 0.6873 SVC Acc: 0.5939 Forest Acc: 0.7059 LogReg Acc: 0.6890 Tree Acc: 0.6896 MLP Acc: 0.6512 \n",
      "Fold  9 KNN Acc: 0.6255 LinearSVC Acc: 0.6733 SVC Acc: 0.5794 Forest Acc: 0.6788 LogReg Acc: 0.6775 Tree Acc: 0.6703 MLP Acc: 0.6313 \n",
      "Fold 10 KNN Acc: 0.6159 LinearSVC Acc: 0.6386 SVC Acc: 0.5849 Forest Acc: 0.6840 LogReg Acc: 0.6517 Tree Acc: 0.6671 MLP Acc: 0.6177 \n"
     ]
    }
   ],
   "source": [
    "# fill by multiple imputation on simulated\n",
    "result_multi_sim_10 = test_imputation(data_sim.X.copy(), data_sim.y.copy(), data_sim.protected, complete_by_multi, multi=True)"
   ]
  },
  {
   "cell_type": "markdown",
   "metadata": {},
   "source": [
    "### 5% Random"
   ]
  },
  {
   "cell_type": "code",
   "execution_count": 149,
   "metadata": {},
   "outputs": [
    {
     "name": "stdout",
     "output_type": "stream",
     "text": [
      "gen_complete_random: 4196 NaN values have been inserted\n"
     ]
    },
    {
     "data": {
      "text/plain": [
       "age                        355\n",
       "age_cat                    337\n",
       "c_charge_degree            358\n",
       "priors_count               348\n",
       "juv_misd_count             317\n",
       "juv_fel_count              347\n",
       "juv_other_count            368\n",
       "c_charge_desc              374\n",
       "days_b_screening_arrest    362\n",
       "sex                        344\n",
       "race                       333\n",
       "length_of_stay             353\n",
       "dtype: int64"
      ]
     },
     "execution_count": 149,
     "metadata": {},
     "output_type": "execute_result"
    }
   ],
   "source": [
    "data_sim = gen_complete_random(data_compas_complete, random_ratio=0.05)\n",
    "data_sim.X.isnull().sum(axis=0)"
   ]
  },
  {
   "cell_type": "code",
   "execution_count": 150,
   "metadata": {},
   "outputs": [
    {
     "name": "stdout",
     "output_type": "stream",
     "text": [
      "Fold  1 KNN Acc: 0.6315 LinearSVC Acc: 0.6645 SVC Acc: 0.5996 Forest Acc: 0.6805 LogReg Acc: 0.6752 Tree Acc: 0.6592 MLP Acc: 0.6337 \n",
      "Fold  2 KNN Acc: 0.6432 LinearSVC Acc: 0.6645 SVC Acc: 0.6209 Forest Acc: 0.6763 LogReg Acc: 0.6624 Tree Acc: 0.6624 MLP Acc: 0.6581 \n",
      "Fold  3 KNN Acc: 0.6603 LinearSVC Acc: 0.6954 SVC Acc: 0.6294 Forest Acc: 0.7039 LogReg Acc: 0.7018 Tree Acc: 0.7029 MLP Acc: 0.6379 \n",
      "Fold  4 KNN Acc: 0.6145 LinearSVC Acc: 0.6581 SVC Acc: 0.6102 Forest Acc: 0.6773 LogReg Acc: 0.6560 Tree Acc: 0.6741 MLP Acc: 0.6422 \n",
      "Fold  5 KNN Acc: 0.6333 LinearSVC Acc: 0.6375 SVC Acc: 0.6055 Forest Acc: 0.6855 LogReg Acc: 0.6482 Tree Acc: 0.6919 MLP Acc: 0.6610 \n",
      "Fold  6 KNN Acc: 0.6109 LinearSVC Acc: 0.6365 SVC Acc: 0.6141 Forest Acc: 0.6482 LogReg Acc: 0.6461 Tree Acc: 0.6567 MLP Acc: 0.6269 \n",
      "Fold  7 KNN Acc: 0.6397 LinearSVC Acc: 0.6471 SVC Acc: 0.5928 Forest Acc: 0.6812 LogReg Acc: 0.6652 Tree Acc: 0.6599 MLP Acc: 0.6493 \n",
      "Fold  8 KNN Acc: 0.6279 LinearSVC Acc: 0.6663 SVC Acc: 0.6034 Forest Acc: 0.6855 LogReg Acc: 0.6770 Tree Acc: 0.6834 MLP Acc: 0.6962 \n",
      "Fold  9 KNN Acc: 0.6226 LinearSVC Acc: 0.6716 SVC Acc: 0.6407 Forest Acc: 0.6802 LogReg Acc: 0.6802 Tree Acc: 0.6706 MLP Acc: 0.6354 \n",
      "Fold 10 KNN Acc: 0.6461 LinearSVC Acc: 0.7015 SVC Acc: 0.6258 Forest Acc: 0.7154 LogReg Acc: 0.7122 Tree Acc: 0.6759 MLP Acc: 0.6780 \n"
     ]
    }
   ],
   "source": [
    "# fill by mean on simulated\n",
    "result_mean_sim_5 = test_imputation(data_sim.X.copy(), data_sim.y.copy(), data_sim.protected, complete_by_mean_col)"
   ]
  },
  {
   "cell_type": "code",
   "execution_count": 151,
   "metadata": {},
   "outputs": [
    {
     "name": "stdout",
     "output_type": "stream",
     "text": [
      "Fold  1 KNN Acc: 0.6198 LinearSVC Acc: 0.6645 SVC Acc: 0.5879 Forest Acc: 0.7146 LogReg Acc: 0.6496 Tree Acc: 0.6837 MLP Acc: 0.6677 \n",
      "Fold  2 KNN Acc: 0.6145 LinearSVC Acc: 0.6667 SVC Acc: 0.5942 Forest Acc: 0.6869 LogReg Acc: 0.6816 Tree Acc: 0.6826 MLP Acc: 0.6752 \n",
      "Fold  3 KNN Acc: 0.6251 LinearSVC Acc: 0.6613 SVC Acc: 0.6283 Forest Acc: 0.6784 LogReg Acc: 0.6752 Tree Acc: 0.6826 MLP Acc: 0.6262 \n",
      "Fold  4 KNN Acc: 0.6475 LinearSVC Acc: 0.6645 SVC Acc: 0.6028 Forest Acc: 0.6922 LogReg Acc: 0.6805 Tree Acc: 0.6869 MLP Acc: 0.6305 \n",
      "Fold  5 KNN Acc: 0.6247 LinearSVC Acc: 0.6610 SVC Acc: 0.5981 Forest Acc: 0.6748 LogReg Acc: 0.6652 Tree Acc: 0.6706 MLP Acc: 0.6301 \n",
      "Fold  6 KNN Acc: 0.6493 LinearSVC Acc: 0.6759 SVC Acc: 0.6354 Forest Acc: 0.6876 LogReg Acc: 0.6748 Tree Acc: 0.6823 MLP Acc: 0.6631 \n",
      "Fold  7 KNN Acc: 0.6386 LinearSVC Acc: 0.6493 SVC Acc: 0.6119 Forest Acc: 0.6791 LogReg Acc: 0.6631 Tree Acc: 0.6695 MLP Acc: 0.6578 \n",
      "Fold  8 KNN Acc: 0.6173 LinearSVC Acc: 0.6333 SVC Acc: 0.6269 Forest Acc: 0.6695 LogReg Acc: 0.6311 Tree Acc: 0.6493 MLP Acc: 0.6748 \n",
      "Fold  9 KNN Acc: 0.6365 LinearSVC Acc: 0.6898 SVC Acc: 0.6386 Forest Acc: 0.7079 LogReg Acc: 0.7004 Tree Acc: 0.6812 MLP Acc: 0.6876 \n",
      "Fold 10 KNN Acc: 0.6365 LinearSVC Acc: 0.6578 SVC Acc: 0.6375 Forest Acc: 0.6823 LogReg Acc: 0.6652 Tree Acc: 0.6802 MLP Acc: 0.6567 \n"
     ]
    }
   ],
   "source": [
    "# fill by similar on simulated\n",
    "result_similar_sim_5 = test_imputation(data_sim.X.copy(), data_sim.y.copy(), data_sim.protected, complete_by_similar_row)"
   ]
  },
  {
   "cell_type": "code",
   "execution_count": 152,
   "metadata": {},
   "outputs": [
    {
     "name": "stdout",
     "output_type": "stream",
     "text": [
      "Fold  1 KNN Acc: 0.6450 LinearSVC Acc: 0.6736 SVC Acc: 0.6017 Forest Acc: 0.7083 LogReg Acc: 0.6853 Tree Acc: 0.6732 MLP Acc: 0.6615 \n",
      "Fold  2 KNN Acc: 0.6307 LinearSVC Acc: 0.6790 SVC Acc: 0.5890 Forest Acc: 0.7070 LogReg Acc: 0.6856 Tree Acc: 0.6862 MLP Acc: 0.6744 \n",
      "Fold  3 KNN Acc: 0.6375 LinearSVC Acc: 0.6262 SVC Acc: 0.5885 Forest Acc: 0.6735 LogReg Acc: 0.6300 Tree Acc: 0.6586 MLP Acc: 0.6562 \n",
      "Fold  4 KNN Acc: 0.6484 LinearSVC Acc: 0.6829 SVC Acc: 0.6265 Forest Acc: 0.7134 LogReg Acc: 0.6939 Tree Acc: 0.7051 MLP Acc: 0.6675 \n",
      "Fold  5 KNN Acc: 0.6414 LinearSVC Acc: 0.6424 SVC Acc: 0.6101 Forest Acc: 0.6797 LogReg Acc: 0.6501 Tree Acc: 0.6755 MLP Acc: 0.6235 \n",
      "Fold  6 KNN Acc: 0.6252 LinearSVC Acc: 0.6423 SVC Acc: 0.5563 Forest Acc: 0.6729 LogReg Acc: 0.6520 Tree Acc: 0.6565 MLP Acc: 0.6248 \n",
      "Fold  7 KNN Acc: 0.6108 LinearSVC Acc: 0.6564 SVC Acc: 0.6071 Forest Acc: 0.6762 LogReg Acc: 0.6624 Tree Acc: 0.6638 MLP Acc: 0.6432 \n",
      "Fold  8 KNN Acc: 0.6419 LinearSVC Acc: 0.6741 SVC Acc: 0.5819 Forest Acc: 0.6962 LogReg Acc: 0.6801 Tree Acc: 0.6995 MLP Acc: 0.6375 \n",
      "Fold  9 KNN Acc: 0.6158 LinearSVC Acc: 0.6508 SVC Acc: 0.5886 Forest Acc: 0.6884 LogReg Acc: 0.6550 Tree Acc: 0.6955 MLP Acc: 0.6526 \n",
      "Fold 10 KNN Acc: 0.6464 LinearSVC Acc: 0.6678 SVC Acc: 0.6273 Forest Acc: 0.6793 LogReg Acc: 0.6733 Tree Acc: 0.6592 MLP Acc: 0.6614 \n"
     ]
    }
   ],
   "source": [
    "# fill by multiple imputation on simulated\n",
    "result_multi_sim_5 = test_imputation(data_sim.X.copy(), data_sim.y.copy(), data_sim.protected, complete_by_multi, multi=True)"
   ]
  },
  {
   "cell_type": "markdown",
   "metadata": {},
   "source": [
    "### Save Results"
   ]
  },
  {
   "cell_type": "code",
   "execution_count": 153,
   "metadata": {},
   "outputs": [],
   "source": [
    "# save confusion matrix for each classifier\n",
    "classifiers = [\"KNN\", \"LinearSVC\", \"SVC\", \"Forest\", \"LogReg\", \"Tree\", \"MLP\"]\n",
    "raw_data = [result_original, result_mean_sim_20, result_similar_sim_20, result_multi_sim_20,\n",
    "            result_mean_sim_10, result_similar_sim_10, result_multi_sim_10,\n",
    "            result_mean_sim_5, result_similar_sim_5, result_multi_sim_5]\n",
    "fold_names = [\"(Fold {:>2})\".format(x+1) for x in range(10)]\n",
    "conf_names = [x + \" \" + y for y in fold_names\n",
    "              for x in [\"TN_AA\", \"FP_AA\", \"FN_AA\", \"TP_AA\", \"TN_C\", \"FP_C\", \"FN_C\", \"TP_C\"]]\n",
    "methods = [\"Original\",\n",
    "           \"Mean Imputation (20%)\",\n",
    "           \"Similar Imputation (20%)\",\n",
    "           \"Multiple Imputation (20%)\",\n",
    "           \"Mean Imputation (10%)\",\n",
    "           \"Similar Imputation (10%)\",\n",
    "           \"Multiple Imputation (10%)\",\n",
    "           \"Mean Imputation (5%)\",\n",
    "           \"Similar Imputation (5%)\",\n",
    "           \"Multiple Imputation (5%)\"]\n",
    "\n",
    "if not os.path.exists(\"compas_analysis\"):\n",
    "    os.makedirs(\"compas_analysis\")\n",
    "\n",
    "for clf_name in classifiers:\n",
    "    if not os.path.exists(os.path.join(\"compas_analysis\", clf_name)):\n",
    "        os.makedirs(os.path.join(\"compas_analysis\", clf_name))    "
   ]
  },
  {
   "cell_type": "code",
   "execution_count": 154,
   "metadata": {},
   "outputs": [],
   "source": [
    "def save_cv(data):\n",
    "    data_cv = [m[0] for m in data]\n",
    "    for clf_name in classifiers:\n",
    "        new_data = []\n",
    "        new_data_acc = []\n",
    "        dd = [m[clf_name] for m in data_cv]\n",
    "        for fold_10 in dd:\n",
    "            fold_line = []\n",
    "            fold_line_acc = []\n",
    "            for fold in fold_10:\n",
    "                fold_line += fold[\"African-American\"]\n",
    "                fold_line += fold[\"Caucasian\"]\n",
    "                fold_line_acc.append(\n",
    "                    (fold[\"African-American\"][0] + fold[\"African-American\"][3] +\n",
    "                     fold[\"Caucasian\"][0] + fold[\"Caucasian\"][3]) /\n",
    "                    (sum(fold[\"African-American\"]) + sum(fold[\"Caucasian\"]))\n",
    "                )\n",
    "            new_data.append(fold_line)\n",
    "            fold_line_acc.append(sum(fold_line_acc) / len(fold_line_acc))\n",
    "            new_data_acc.append(fold_line_acc)\n",
    "        df = pd.DataFrame(new_data, columns=conf_names, index=methods)\n",
    "        df.transpose().to_csv(os.path.join(\"compas_analysis\", clf_name, \"10folds.csv\"))\n",
    "        df = pd.DataFrame(new_data_acc, columns=fold_names + [\"Average\"], index=methods)\n",
    "        df.transpose().to_csv(os.path.join(\"compas_analysis\", clf_name, \"accuracy.csv\"))"
   ]
  },
  {
   "cell_type": "code",
   "execution_count": 155,
   "metadata": {},
   "outputs": [],
   "source": [
    "def save_bias(data):\n",
    "    bias1 = [m[1] for m in data]\n",
    "    bias2 = [m[2] for m in data]\n",
    "    for clf_name in classifiers:\n",
    "        bias1_clf = [m[clf_name] for m in bias1]\n",
    "        bias1_clf = [x + [sum(x) / len(x)] for x in bias1_clf]\n",
    "        bias2_clf = [m[clf_name] for m in bias2]\n",
    "        bias2_clf = [x + [sum(x) / len(x)] for x in bias2_clf]\n",
    "        df1 = pd.DataFrame(bias1_clf, columns=fold_names + [\"Average\"], index=methods)\n",
    "        df2 = pd.DataFrame(bias2_clf, columns=fold_names + [\"Average\"], index=methods)\n",
    "        df1.transpose().to_csv(os.path.join(\"compas_analysis\", clf_name, \"bias1.csv\"))\n",
    "        df2.transpose().to_csv(os.path.join(\"compas_analysis\", clf_name, \"bias2.csv\"))"
   ]
  },
  {
   "cell_type": "code",
   "execution_count": 156,
   "metadata": {},
   "outputs": [],
   "source": [
    "save_cv(raw_data)\n",
    "save_bias(raw_data)"
   ]
  },
  {
   "cell_type": "markdown",
   "metadata": {},
   "source": [
    "### Plots"
   ]
  },
  {
   "cell_type": "code",
   "execution_count": 157,
   "metadata": {},
   "outputs": [],
   "source": [
    "import matplotlib.pyplot as plt\n",
    "import seaborn as sns"
   ]
  },
  {
   "cell_type": "code",
   "execution_count": 178,
   "metadata": {},
   "outputs": [
    {
     "data": {
      "image/png": "[encoded data removed]",
      "text/plain": [
       "<Figure size 1440x576 with 1 Axes>"
      ]
     },
     "metadata": {},
     "output_type": "display_data"
    }
   ],
   "source": [
    "fig = plt.figure(figsize=(20, 8))\n",
    "fig.patch.set_alpha(1.0)\n",
    "ax = fig.add_subplot(111)\n",
    "ax.tick_params(labelsize=18)\n",
    "# plt.title(\"Compas Analysis: Bias 1\", fontsize=20)\n",
    "plot_basic_pos = np.arange(len(classifiers)) * 16\n",
    "plot_additional_pos = [0, 2, 3, 4, 6, 7, 8, 10, 11, 12]\n",
    "plot_xticks_pos = np.array([np.array([3.5, 6.5, 7.5, 11.5]) + m for m in plot_basic_pos]).ravel().tolist()\n",
    "plot_xtick_labels = np.array([[\"20%\", \"\\n\\n{}\".format(name), \"10%\", \"5%\"] for name in classifiers]).ravel().tolist()\n",
    "plot_data = []\n",
    "for clf_name in classifiers:\n",
    "    dd = pd.read_csv(os.path.join(\"compas_analysis\", clf_name, \"bias1.csv\"), index_col=0)\n",
    "    avg = dd.loc[\"Average\"].tolist()\n",
    "    plot_data.append(avg)\n",
    "plot_data = np.array(plot_data).T\n",
    "plot_methods = [\"Original\", \"Mean\", \"Similar\", \"Multiple\"]\n",
    "plot_barcolors = [\"grey\", \"red\", \"green\", \"blue\",\n",
    "                  \"red\", \"green\", \"blue\",\n",
    "                  \"red\", \"green\", \"blue\"]\n",
    "for (i, method) in enumerate(methods):\n",
    "    ax.bar(plot_basic_pos + plot_additional_pos[i] + 0.5, plot_data[i], 1, label=plot_methods[i] if i < 4 else None, color=plot_barcolors[i])\n",
    "plt.xticks(plot_xticks_pos)\n",
    "ax.set_xticklabels(plot_xtick_labels)\n",
    "plt.ylabel(\"Values\", fontsize=20)\n",
    "plt.xlim([-1, 16*len(classifiers) - 2])\n",
    "plt.legend(title=\"Methods\", loc=\"upper left\", prop={\"size\": 18}, title_fontsize=15)\n",
    "plt.savefig(\"bias1.png\", transparent=False, bbox_inches='tight', pad_inches=0.1)\n",
    "plt.show()"
   ]
  },
  {
   "cell_type": "code",
   "execution_count": 179,
   "metadata": {},
   "outputs": [
    {
     "data": {
      "image/png": "[encoded data removed]",
      "text/plain": [
       "<Figure size 1440x576 with 1 Axes>"
      ]
     },
     "metadata": {},
     "output_type": "display_data"
    }
   ],
   "source": [
    "fig = plt.figure(figsize=(20, 8))\n",
    "fig.patch.set_alpha(1.0)\n",
    "ax = fig.add_subplot(111)\n",
    "ax.tick_params(labelsize=18)\n",
    "# plt.title(\"Compas Analysis: Bias 2\", fontsize=20)\n",
    "plot_basic_pos = np.arange(len(classifiers)) * 16\n",
    "plot_additional_pos = [0, 2, 3, 4, 6, 7, 8, 10, 11, 12]\n",
    "plot_xticks_pos = np.array([np.array([3.5, 6.5, 7.5, 11.5]) + m for m in plot_basic_pos]).ravel().tolist()\n",
    "plot_xtick_labels = np.array([[\"20%\", \"\\n\\n{}\".format(name), \"10%\", \"5%\"] for name in classifiers]).ravel().tolist()\n",
    "plot_data = []\n",
    "for clf_name in classifiers:\n",
    "    dd = pd.read_csv(os.path.join(\"compas_analysis\", clf_name, \"bias2.csv\"), index_col=0)\n",
    "    avg = dd.loc[\"Average\"].tolist()\n",
    "    plot_data.append(avg)\n",
    "plot_data = np.array(plot_data).T\n",
    "plot_methods = [\"Original\", \"Mean\", \"Similar\", \"Multiple\"]\n",
    "plot_barcolors = [\"grey\", \"red\", \"green\", \"blue\",\n",
    "                  \"red\", \"green\", \"blue\",\n",
    "                  \"red\", \"green\", \"blue\"]\n",
    "for (i, method) in enumerate(methods):\n",
    "    ax.bar(plot_basic_pos + plot_additional_pos[i] + 0.5, plot_data[i], 1, label=plot_methods[i] if i < 4 else None, color=plot_barcolors[i])\n",
    "plt.xticks(plot_xticks_pos)\n",
    "ax.set_xticklabels(plot_xtick_labels)\n",
    "plt.ylabel(\"Values\", fontsize=20)\n",
    "plt.xlim([-1, 16*len(classifiers) - 2])\n",
    "plt.legend(title=\"Methods\", loc=\"upper left\", prop={\"size\": 18}, title_fontsize=15)\n",
    "plt.savefig(\"bias2.png\", transparent=False, bbox_inches='tight', pad_inches=0.1)\n",
    "plt.show()"
   ]
  },
  {
   "cell_type": "code",
   "execution_count": 180,
   "metadata": {},
   "outputs": [
    {
     "data": {
      "image/png": "[encoded data removed]",
      "text/plain": [
       "<Figure size 1440x576 with 1 Axes>"
      ]
     },
     "metadata": {},
     "output_type": "display_data"
    }
   ],
   "source": [
    "fig = plt.figure(figsize=(20, 8))\n",
    "fig.patch.set_alpha(1.0)\n",
    "ax = fig.add_subplot(111)\n",
    "ax.tick_params(labelsize=18)\n",
    "# plt.title(\"Compas Analysis: Accuracy\", fontsize=20)\n",
    "plot_basic_pos = np.arange(len(classifiers)) * 16\n",
    "plot_additional_pos = [0, 2, 3, 4, 6, 7, 8, 10, 11, 12]\n",
    "plot_xticks_pos = np.array([np.array([3.5, 6.5, 7.5, 11.5]) + m for m in plot_basic_pos]).ravel().tolist()\n",
    "plot_xtick_labels = np.array([[\"20%\", \"\\n\\n{}\".format(name), \"10%\", \"5%\"] for name in classifiers]).ravel().tolist()\n",
    "plot_data = []\n",
    "for clf_name in classifiers:\n",
    "    dd = pd.read_csv(os.path.join(\"compas_analysis\", clf_name, \"accuracy.csv\"), index_col=0)\n",
    "    avg = dd.loc[\"Average\"].tolist()\n",
    "    plot_data.append(avg)\n",
    "plot_data = np.array(plot_data).T\n",
    "plot_methods = [\"Original\", \"Mean\", \"Similar\", \"Multiple\"]\n",
    "plot_barcolors = [\"grey\", \"red\", \"green\", \"blue\",\n",
    "                  \"red\", \"green\", \"blue\",\n",
    "                  \"red\", \"green\", \"blue\"]\n",
    "for (i, method) in enumerate(methods):\n",
    "    ax.bar(plot_basic_pos + plot_additional_pos[i] + 0.5, plot_data[i], 1, label=plot_methods[i] if i < 4 else None, color=plot_barcolors[i])\n",
    "plt.xticks(plot_xticks_pos)\n",
    "ax.set_xticklabels(plot_xtick_labels)\n",
    "plt.ylabel(\"Accuracy\", fontsize=20)\n",
    "plt.xlim([-1, 16*len(classifiers) - 2])\n",
    "plt.ylim([0.0, 1.0])\n",
    "plt.legend(title=\"Methods\", loc=\"upper left\", prop={\"size\": 18}, title_fontsize=15)\n",
    "plt.savefig(\"accuracy.png\", transparent=False, bbox_inches='tight', pad_inches=0.1)\n",
    "plt.show()"
   ]
  }
 ],
 "metadata": {
  "kernelspec": {
   "display_name": "Python 3",
   "language": "python",
   "name": "python3"
  },
  "language_info": {
   "codemirror_mode": {
    "name": "ipython",
    "version": 3
   },
   "file_extension": ".py",
   "mimetype": "text/x-python",
   "name": "python",
   "nbconvert_exporter": "python",
   "pygments_lexer": "ipython3",
   "version": "3.8.2"
  }
 },
 "nbformat": 4,
 "nbformat_minor": 4
}
