{
 "cells": [
  {
   "cell_type": "markdown",
   "metadata": {},
   "source": [
    "# Compas Data Imputation Analysis"
   ]
  },
  {
   "cell_type": "code",
   "execution_count": 1,
   "metadata": {},
   "outputs": [],
   "source": [
    "import os\n",
    "import numpy as np\n",
    "import pandas as pd"
   ]
  },
  {
   "cell_type": "code",
   "execution_count": 2,
   "metadata": {},
   "outputs": [],
   "source": [
    "import warnings\n",
    "warnings.filterwarnings('ignore')"
   ]
  },
  {
   "cell_type": "code",
   "execution_count": 3,
   "metadata": {},
   "outputs": [],
   "source": [
    "from utils.data import create_compas_dataset, Dataset\n",
    "from utils.generator import gen_complete_random\n",
    "from utils.completer import complete_by_mean_col, complete_by_multi, complete_by_similar_row"
   ]
  },
  {
   "cell_type": "code",
   "execution_count": 4,
   "metadata": {},
   "outputs": [],
   "source": [
    "data = create_compas_dataset()"
   ]
  },
  {
   "cell_type": "code",
   "execution_count": 5,
   "metadata": {},
   "outputs": [],
   "source": [
    "data_compas_complete = data.copy()\n",
    "tmp_concat = pd.concat([data_compas_complete.X, pd.DataFrame(data_compas_complete.y, columns=[\"_TARGET_\"])], axis=1)\n",
    "tmp_concat.dropna(inplace=True)\n",
    "tmp_concat.reset_index(drop=True, inplace=True)\n",
    "data_compas_complete.X = tmp_concat.drop(columns=[\"_TARGET_\"]).copy()\n",
    "data_compas_complete.y = tmp_concat[\"_TARGET_\"].copy().to_numpy().ravel()"
   ]
  },
  {
   "cell_type": "code",
   "execution_count": 6,
   "metadata": {},
   "outputs": [],
   "source": [
    "X = data_compas_complete.X.drop(columns=data_compas_complete.protected).copy().to_numpy()\n",
    "y = data_compas_complete.y.copy()"
   ]
  },
  {
   "cell_type": "code",
   "execution_count": 7,
   "metadata": {},
   "outputs": [],
   "source": [
    "from sklearn.neighbors import KNeighborsClassifier\n",
    "from sklearn.svm import LinearSVC, SVC\n",
    "from sklearn.ensemble import RandomForestClassifier\n",
    "from sklearn.linear_model import LogisticRegression\n",
    "from sklearn.tree import DecisionTreeClassifier\n",
    "from sklearn.neural_network import MLPClassifier\n",
    "from sklearn.model_selection import train_test_split"
   ]
  },
  {
   "cell_type": "code",
   "execution_count": 8,
   "metadata": {},
   "outputs": [],
   "source": [
    "from imblearn.over_sampling import SVMSMOTE"
   ]
  },
  {
   "cell_type": "markdown",
   "metadata": {},
   "source": [
    "### Parameter Searching"
   ]
  },
  {
   "cell_type": "code",
   "execution_count": 9,
   "metadata": {},
   "outputs": [],
   "source": [
    "from sklearn.model_selection import GridSearchCV\n",
    "\n",
    "def grid_search(X, y, model, params, smote):\n",
    "    print(\"Model: {}\".format(model.__class__.__name__))\n",
    "    X_res, y_res = smote.fit_resample(X, y) # enlarge dataset\n",
    "    search = GridSearchCV(model, param_grid=params, cv=10, n_jobs=-1)\n",
    "    search.fit(X_res, y_res)\n",
    "    print(\"Best parameter: {}\".format(search.best_params_))\n",
    "    print(\"Acc best: {:.4f}\".format(search.best_score_))\n",
    "    print(\"Acc on input data: {:.4f}\".format(search.best_estimator_.score(X, y)))\n",
    "    print(\"Acc on enlarged data: {:.4f}\".format(search.best_estimator_.score(X_res, y_res)))\n",
    "    return search.best_params_"
   ]
  },
  {
   "cell_type": "code",
   "execution_count": 10,
   "metadata": {},
   "outputs": [],
   "source": [
    "all_params = {\n",
    "    \"KNN\": None,\n",
    "    \"LinearSVC\": None,\n",
    "    \"SVC\": None,\n",
    "    \"Forest\": None,\n",
    "    \"LogReg\": None,\n",
    "    \"Tree\": None,\n",
    "    \"MLP\": None,\n",
    "}"
   ]
  },
  {
   "cell_type": "code",
   "execution_count": 11,
   "metadata": {},
   "outputs": [
    {
     "name": "stdout",
     "output_type": "stream",
     "text": [
      "Model: KNeighborsClassifier\n",
      "Best parameter: {'leaf_size': 5, 'n_neighbors': 2}\n",
      "Acc best: 0.7061\n",
      "Acc on input data: 0.8993\n",
      "Acc on enlarged data: 0.9071\n"
     ]
    }
   ],
   "source": [
    "tmp_params = {\n",
    "    \"n_neighbors\": [2, 5, 10, 50, 100, 500],\n",
    "    \"leaf_size\": [5, 10, 30, 50, 100],\n",
    "}\n",
    "all_params[\"KNN\"] = grid_search(X, y, KNeighborsClassifier(), tmp_params, SVMSMOTE(random_state=22))"
   ]
  },
  {
   "cell_type": "code",
   "execution_count": 12,
   "metadata": {},
   "outputs": [
    {
     "name": "stdout",
     "output_type": "stream",
     "text": [
      "Model: LinearSVC\n",
      "Best parameter: {'C': 0.1, 'max_iter': 1000, 'tol': 0.001}\n",
      "Acc best: 0.6728\n",
      "Acc on input data: 0.6641\n",
      "Acc on enlarged data: 0.6725\n"
     ]
    }
   ],
   "source": [
    "tmp_params = {\n",
    "    \"tol\": [1e-5, 1e-4, 1e-3],\n",
    "    \"C\": [0.001, 0.01, 0.1, 1, 10],\n",
    "    \"max_iter\": [1000, 5000, 10000],\n",
    "}\n",
    "all_params[\"LinearSVC\"] = grid_search(X, y, LinearSVC(dual=False), tmp_params, SVMSMOTE(random_state=22))"
   ]
  },
  {
   "cell_type": "code",
   "execution_count": 13,
   "metadata": {},
   "outputs": [
    {
     "name": "stdout",
     "output_type": "stream",
     "text": [
      "Model: SVC\n",
      "Best parameter: {'C': 10, 'max_iter': -1, 'tol': 0.0001}\n",
      "Acc best: 0.6452\n",
      "Acc on input data: 0.6285\n",
      "Acc on enlarged data: 0.6489\n"
     ]
    }
   ],
   "source": [
    "tmp_params = {\n",
    "    \"tol\": [1e-5, 1e-4, 1e-3],\n",
    "    \"C\": [0.001, 0.01, 0.1, 1, 10],\n",
    "    \"max_iter\": [1000, 5000, 10000, -1],\n",
    "}\n",
    "all_params[\"SVC\"] = grid_search(X, y, SVC(), tmp_params, SVMSMOTE(random_state=22))"
   ]
  },
  {
   "cell_type": "code",
   "execution_count": 14,
   "metadata": {},
   "outputs": [
    {
     "name": "stdout",
     "output_type": "stream",
     "text": [
      "Model: RandomForestClassifier\n",
      "Best parameter: {'max_depth': 50, 'min_samples_leaf': 5, 'n_estimators': 100}\n",
      "Acc best: 0.7677\n",
      "Acc on input data: 0.8166\n",
      "Acc on enlarged data: 0.8567\n"
     ]
    }
   ],
   "source": [
    "tmp_params = {\n",
    "    \"n_estimators\": [50, 100, 200, 500],\n",
    "    \"max_depth\": [None, 10, 50, 100],\n",
    "    \"min_samples_leaf\": [1, 5, 10],\n",
    "}\n",
    "all_params[\"Forest\"] = grid_search(X, y, RandomForestClassifier(), tmp_params, SVMSMOTE(random_state=22))"
   ]
  },
  {
   "cell_type": "code",
   "execution_count": 15,
   "metadata": {},
   "outputs": [
    {
     "name": "stdout",
     "output_type": "stream",
     "text": [
      "Model: LogisticRegression\n",
      "Best parameter: {'C': 10.0, 'max_iter': 100, 'tol': 1e-05}\n",
      "Acc best: 0.6755\n",
      "Acc on input data: 0.6767\n",
      "Acc on enlarged data: 0.6762\n"
     ]
    }
   ],
   "source": [
    "tmp_params = {\n",
    "    \"tol\": [1e-5, 1e-4, 1e-3],\n",
    "    \"C\": [1e-2, 1e-1, 1, 1e1, 1e2],\n",
    "    \"max_iter\": [100, 500, 1000, 2000],\n",
    "}\n",
    "all_params[\"LogReg\"] = grid_search(X, y, LogisticRegression(), tmp_params, SVMSMOTE(random_state=22))"
   ]
  },
  {
   "cell_type": "code",
   "execution_count": 16,
   "metadata": {},
   "outputs": [
    {
     "name": "stdout",
     "output_type": "stream",
     "text": [
      "Model: DecisionTreeClassifier\n",
      "Best parameter: {'max_depth': 10, 'max_leaf_nodes': 100, 'min_samples_leaf': 1}\n",
      "Acc best: 0.7494\n",
      "Acc on input data: 0.7267\n",
      "Acc on enlarged data: 0.7765\n"
     ]
    }
   ],
   "source": [
    "tmp_params = {\n",
    "    \"max_depth\": [None, 10, 50, 100, 200],\n",
    "    \"max_leaf_nodes\": [None, 10, 100, 1000],\n",
    "    \"min_samples_leaf\": [1, 5, 10],\n",
    "}\n",
    "all_params[\"Tree\"] = grid_search(X, y, DecisionTreeClassifier(), tmp_params, SVMSMOTE(random_state=22))"
   ]
  },
  {
   "cell_type": "code",
   "execution_count": 17,
   "metadata": {},
   "outputs": [
    {
     "name": "stdout",
     "output_type": "stream",
     "text": [
      "Model: MLPClassifier\n",
      "Best parameter: {'alpha': 0.0001, 'learning_rate_init': 0.01, 'max_iter': 500}\n",
      "Acc best: 0.6878\n",
      "Acc on input data: 0.6685\n",
      "Acc on enlarged data: 0.6911\n"
     ]
    }
   ],
   "source": [
    "tmp_params = {\n",
    "    \"alpha\": [1e-5, 1e-4, 1e-3],\n",
    "    \"learning_rate_init\": [1e-4, 1e-3, 1e-2],\n",
    "    \"max_iter\": [200, 500, 1000],\n",
    "}\n",
    "all_params[\"MLP\"] = grid_search(X, y, MLPClassifier(), tmp_params, SVMSMOTE(random_state=22))"
   ]
  },
  {
   "cell_type": "markdown",
   "metadata": {},
   "source": [
    "### Data Imputation"
   ]
  },
  {
   "cell_type": "code",
   "execution_count": 117,
   "metadata": {},
   "outputs": [],
   "source": [
    "from sklearn.model_selection import KFold\n",
    "from sklearn.metrics import confusion_matrix\n",
    "\n",
    "def bias1(data):\n",
    "    # input should be data from compute_confusion_matrix: [tn, fp, fn, tp]\n",
    "    # bias 1 = (FPR_AA/FNR_AA) - (FPR_C/FNR_C)\n",
    "    FPR_AA = data[\"African-American\"][1] / sum(data[\"African-American\"])\n",
    "    FNR_AA = data[\"African-American\"][2] / sum(data[\"African-American\"])\n",
    "    FPR_C = data[\"Caucasian\"][1] / sum(data[\"Caucasian\"])\n",
    "    FNR_C = data[\"Caucasian\"][2] / sum(data[\"Caucasian\"])\n",
    "    bias = (FPR_AA / FNR_AA) - (FPR_C / FNR_C)\n",
    "    return bias\n",
    "   \n",
    "def bias2(data):\n",
    "    # input should be data from compute_confusion_matrix\n",
    "    # bias 2 = (FPR_AA/FPR_C) - (FNR_AA/FNR_C)\n",
    "    FPR_AA = data[\"African-American\"][1] / sum(data[\"African-American\"])\n",
    "    FNR_AA = data[\"African-American\"][2] / sum(data[\"African-American\"])\n",
    "    FPR_C = data[\"Caucasian\"][1] / sum(data[\"Caucasian\"])\n",
    "    FNR_C = data[\"Caucasian\"][2] / sum(data[\"Caucasian\"])\n",
    "    bias = (FPR_AA / FPR_C) - (FNR_AA / FNR_C)\n",
    "    return bias\n",
    "\n",
    "def helper_freq(array):\n",
    "    \"\"\"simple helper function to return the most frequent number in an array\"\"\"\n",
    "    count = np.bincount(array)\n",
    "    return array[np.argmax(count)]\n",
    "\n",
    "def average_cv(cv_data):\n",
    "    # compute average for the confusion matrix data for each fold\n",
    "    result = {}\n",
    "    for name, data in cv_data.items():\n",
    "        new_data = {\n",
    "            \"African-American\": np.array([m[\"African-American\"] for m in data]).mean(axis=0).tolist(),\n",
    "            \"Caucasian\": np.array([m[\"Caucasian\"] for m in data]).mean(axis=0).tolist()\n",
    "        }\n",
    "        result[name] = new_data\n",
    "    return result\n",
    "\n",
    "def compute_confusion_matrix(X_train, y_train, X_test, y_test, clf, protected_features, multi=False):\n",
    "    # X are pandas dataframe\n",
    "    # y are numpy array\n",
    "    # clf is a sklearn classifier\n",
    "    # protected_features is list\n",
    "    smote = SVMSMOTE(random_state=22)\n",
    "    if not multi:\n",
    "        X_train = X_train.drop(columns=protected_features).copy().to_numpy()\n",
    "        X_train_res, y_train_res = smote.fit_resample(X_train, y_train)\n",
    "        clf.fit(X_train_res, y_train_res)\n",
    "        print(\"Acc: {:.4f}\".format(clf.score(X_test.drop(columns=protected_features).copy().to_numpy(), y_test)), end=\" \")\n",
    "        X_test_AA = X_test[X_test[\"race\"] == \"African-American\"].drop(columns=protected_features).to_numpy()\n",
    "        X_test_C = X_test[X_test[\"race\"] == \"Caucasian\"].drop(columns=protected_features).to_numpy()\n",
    "        y_test_AA = y_test[X_test[X_test[\"race\"] == \"African-American\"].index.tolist()]\n",
    "        y_test_C = y_test[X_test[X_test[\"race\"] == \"Caucasian\"].index.tolist()]\n",
    "        matrix_AA = confusion_matrix(y_test_AA, clf.predict(X_test_AA))\n",
    "        matrix_C = confusion_matrix(y_test_C, clf.predict(X_test_C))\n",
    "    else:\n",
    "        prediction_AA = []\n",
    "        prediction_C = []\n",
    "        X_test_first = X_test[0]\n",
    "        y_test_AA = y_test[X_test_first[X_test_first[\"race\"] == \"African-American\"].index.tolist()]\n",
    "        y_test_C = y_test[X_test_first[X_test_first[\"race\"] == \"Caucasian\"].index.tolist()]\n",
    "        scores = [0, 0]\n",
    "        for X_train_m in X_train:\n",
    "            X_train_m = X_train_m.drop(columns=protected_features).copy().to_numpy()\n",
    "            X_train_res, y_train_res = smote.fit_resample(X_train_m, y_train)\n",
    "            clf.fit(X_train_res, y_train_res)\n",
    "            for X_test_m in X_test:\n",
    "                X_test_AA = X_test_m[X_test_m[\"race\"] == \"African-American\"].drop(columns=protected_features).to_numpy()\n",
    "                X_test_C = X_test_m[X_test_m[\"race\"] == \"Caucasian\"].drop(columns=protected_features).to_numpy()\n",
    "                prediction_AA.append(clf.predict(X_test_AA))\n",
    "                prediction_C.append(clf.predict(X_test_C))\n",
    "                scores[0] += clf.score(X_test_m.drop(columns=protected_features).copy().to_numpy(), y_test)\n",
    "                scores[1] += 1\n",
    "        print(\"Acc: {:.4f}\".format(scores[0] / scores[1]), end=\" \")\n",
    "        # compute final predictions by voting\n",
    "        prediction_AA = np.apply_along_axis(helper_freq, 0, np.array(prediction_AA))\n",
    "        prediction_C = np.apply_along_axis(helper_freq, 0, np.array(prediction_C))\n",
    "        matrix_AA = confusion_matrix(y_test_AA, prediction_AA)\n",
    "        matrix_C = confusion_matrix(y_test_C, prediction_C)\n",
    "    result = {\n",
    "        \"African-American\": matrix_AA.ravel().tolist(), # [tn, fp, fn, tp]\n",
    "        \"Caucasian\": matrix_C.ravel().tolist()\n",
    "    }\n",
    "    return result\n",
    "\n",
    "def test_imputation(X, y, protected_features, completer_func=None, multi=False):\n",
    "    # X is pandas dataframe\n",
    "    # y is numpy array,\n",
    "    # protected_features is list\n",
    "    # completer func is the imputation function\n",
    "    global all_params\n",
    "    clfs = { # define all the classifiers with best parameters\n",
    "        \"KNN\": KNeighborsClassifier(n_neighbors=all_params[\"KNN\"][\"n_neighbors\"], leaf_size=all_params[\"KNN\"][\"leaf_size\"]),\n",
    "        \"LinearSVC\": LinearSVC(dual=False, tol=all_params[\"LinearSVC\"][\"tol\"], C=all_params[\"LinearSVC\"][\"C\"], max_iter=all_params[\"LinearSVC\"][\"max_iter\"]),\n",
    "        \"SVC\": SVC(tol=all_params[\"SVC\"][\"tol\"], C=all_params[\"SVC\"][\"C\"], max_iter=all_params[\"SVC\"][\"max_iter\"]),\n",
    "        \"Forest\": RandomForestClassifier(n_estimators=all_params[\"Forest\"][\"n_estimators\"], max_depth=all_params[\"Forest\"][\"max_depth\"], min_samples_leaf=all_params[\"Forest\"][\"min_samples_leaf\"]),\n",
    "        \"LogReg\": LogisticRegression(tol=all_params[\"LogReg\"][\"tol\"], C=all_params[\"LogReg\"][\"C\"], max_iter=all_params[\"LogReg\"][\"max_iter\"]),\n",
    "        \"Tree\": DecisionTreeClassifier(max_depth=all_params[\"Tree\"][\"max_depth\"], max_leaf_nodes=all_params[\"Tree\"][\"max_leaf_nodes\"], min_samples_leaf=all_params[\"Tree\"][\"min_samples_leaf\"]),\n",
    "        \"MLP\": MLPClassifier(alpha=all_params[\"MLP\"][\"alpha\"], learning_rate_init=all_params[\"MLP\"][\"learning_rate_init\"], max_iter=all_params[\"MLP\"][\"max_iter\"]),\n",
    "    }\n",
    "    data_cv = { # save each cv output\n",
    "        \"KNN\": [],\n",
    "        \"LinearSVC\": [],\n",
    "        \"SVC\": [],\n",
    "        \"Forest\": [],\n",
    "        \"LogReg\": [],\n",
    "        \"Tree\": [],\n",
    "        \"MLP\": [],\n",
    "    }\n",
    "    bias1_cv = { # save each bias 1 outputs\n",
    "        \"KNN\": [],\n",
    "        \"LinearSVC\": [],\n",
    "        \"SVC\": [],\n",
    "        \"Forest\": [],\n",
    "        \"LogReg\": [],\n",
    "        \"Tree\": [],\n",
    "        \"MLP\": [],\n",
    "    }\n",
    "    bias2_cv = { # save each bias 2 outputs\n",
    "        \"KNN\": [],\n",
    "        \"LinearSVC\": [],\n",
    "        \"SVC\": [],\n",
    "        \"Forest\": [],\n",
    "        \"LogReg\": [],\n",
    "        \"Tree\": [],\n",
    "        \"MLP\": [],\n",
    "    }\n",
    "    kf = KFold(n_splits=10, shuffle=True)\n",
    "    fold = 1\n",
    "    for train_idx, test_idx in kf.split(X):\n",
    "        print(\"Fold {:>2}\".format(fold), end=\" \")\n",
    "        X_train, X_test = X.iloc[train_idx], X.iloc[test_idx]\n",
    "        y_train, y_test = y[train_idx], y[test_idx]\n",
    "        X_test = X_test.reset_index(drop=True)\n",
    "        X_train = X_train.reset_index(drop=True)\n",
    "        if completer_func:\n",
    "        # do imputations on training set and test set individually\n",
    "            data_incomplete = Dataset(\"tmp\", X_train, y_train, auto_convert=False, protected_features=protected_features)\n",
    "            data_complete = completer_func(data_incomplete)\n",
    "            X_train = [m.X.copy() for m in data_complete] if multi else data_complete.X.copy() \n",
    "            y_train = data_complete[0].y.copy() if multi else data_complete.y.copy()\n",
    "            data_incomplete = Dataset(\"tmp\", X_test, y_test, auto_convert=False, protected_features=protected_features)\n",
    "            data_complete = completer_func(data_incomplete)\n",
    "            X_test = [m.X.copy() for m in data_complete] if multi else data_complete.X.copy()\n",
    "            y_test = data_complete[0].y.copy() if multi else data_complete.y.copy()\n",
    "        # get result for each classifier\n",
    "        for clf_name, clf in clfs.items():\n",
    "            print(\"{}\".format(clf_name), end=\" \")\n",
    "            result = compute_confusion_matrix(X_train, y_train, X_test, y_test, clf, protected_features, multi=multi)\n",
    "            data_cv[clf_name].append(result)\n",
    "            bias1_cv[clf_name].append(bias1(result))\n",
    "            bias2_cv[clf_name].append(bias2(result))\n",
    "        print()\n",
    "        fold += 1\n",
    "    # print(\"Result:\\n{}\".format(data_cv))\n",
    "    return (data_cv, bias1_cv, bias2_cv)"
   ]
  },
  {
   "cell_type": "code",
   "execution_count": 118,
   "metadata": {},
   "outputs": [
    {
     "name": "stdout",
     "output_type": "stream",
     "text": [
      "Fold  1 KNN Acc: 0.6528 LinearSVC Acc: 0.6613 SVC Acc: 0.6155 Forest Acc: 0.7167 LogReg Acc: 0.6688 Tree Acc: 0.6912 MLP Acc: 0.6528 \n",
      "Fold  2 KNN Acc: 0.6400 LinearSVC Acc: 0.6858 SVC Acc: 0.6124 Forest Acc: 0.6816 LogReg Acc: 0.6794 Tree Acc: 0.6763 MLP Acc: 0.6699 \n",
      "Fold  3 KNN Acc: 0.6400 LinearSVC Acc: 0.6624 SVC Acc: 0.6092 Forest Acc: 0.7135 LogReg Acc: 0.6688 Tree Acc: 0.7039 MLP Acc: 0.6613 \n",
      "Fold  4 KNN Acc: 0.6262 LinearSVC Acc: 0.6688 SVC Acc: 0.6283 Forest Acc: 0.7039 LogReg Acc: 0.6826 Tree Acc: 0.7029 MLP Acc: 0.6443 \n",
      "Fold  5 KNN Acc: 0.6173 LinearSVC Acc: 0.6642 SVC Acc: 0.5949 Forest Acc: 0.6898 LogReg Acc: 0.6599 Tree Acc: 0.6748 MLP Acc: 0.6269 \n",
      "Fold  6 KNN Acc: 0.6087 LinearSVC Acc: 0.6429 SVC Acc: 0.6205 Forest Acc: 0.6823 LogReg Acc: 0.6557 Tree Acc: 0.6695 MLP Acc: 0.6727 \n",
      "Fold  7 KNN Acc: 0.6311 LinearSVC Acc: 0.6652 SVC Acc: 0.6023 Forest Acc: 0.7154 LogReg Acc: 0.6738 Tree Acc: 0.7100 MLP Acc: 0.6791 \n",
      "Fold  8 KNN Acc: 0.6482 LinearSVC Acc: 0.6780 SVC Acc: 0.6290 Forest Acc: 0.7122 LogReg Acc: 0.6876 Tree Acc: 0.7249 MLP Acc: 0.6631 \n",
      "Fold  9 KNN Acc: 0.6354 LinearSVC Acc: 0.6429 SVC Acc: 0.5821 Forest Acc: 0.7036 LogReg Acc: 0.6503 Tree Acc: 0.6951 MLP Acc: 0.6429 \n",
      "Fold 10 KNN Acc: 0.6205 LinearSVC Acc: 0.6802 SVC Acc: 0.6087 Forest Acc: 0.6940 LogReg Acc: 0.6898 Tree Acc: 0.7026 MLP Acc: 0.6610 \n"
     ]
    }
   ],
   "source": [
    "# try on original data\n",
    "result_original = test_imputation(data_compas_complete.X.copy(), data_compas_complete.y.copy(), data_compas_complete.protected)"
   ]
  },
  {
   "cell_type": "markdown",
   "metadata": {},
   "source": [
    "### 20% Random"
   ]
  },
  {
   "cell_type": "code",
   "execution_count": 119,
   "metadata": {},
   "outputs": [
    {
     "name": "stdout",
     "output_type": "stream",
     "text": [
      "gen_complete_random: 20980 NaN values have been inserted\n"
     ]
    },
    {
     "data": {
      "text/plain": [
       "age                        1766\n",
       "age_cat                    1785\n",
       "c_charge_degree            1743\n",
       "priors_count               1718\n",
       "juv_misd_count             1745\n",
       "juv_fel_count              1709\n",
       "juv_other_count            1741\n",
       "c_charge_desc              1819\n",
       "days_b_screening_arrest    1732\n",
       "sex                        1701\n",
       "race                       1773\n",
       "length_of_stay             1748\n",
       "dtype: int64"
      ]
     },
     "execution_count": 119,
     "metadata": {},
     "output_type": "execute_result"
    }
   ],
   "source": [
    "# generate simulated missing data\n",
    "data_sim = gen_complete_random(data_compas_complete, random_ratio=0.2)\n",
    "data_sim.X.isnull().sum(axis=0)"
   ]
  },
  {
   "cell_type": "code",
   "execution_count": 120,
   "metadata": {},
   "outputs": [
    {
     "name": "stdout",
     "output_type": "stream",
     "text": [
      "Fold  1 KNN Acc: 0.5634 LinearSVC Acc: 0.6550 SVC Acc: 0.5708 Forest Acc: 0.5825 LogReg Acc: 0.6624 Tree Acc: 0.6198 MLP Acc: 0.6390 \n",
      "Fold  2 KNN Acc: 0.6315 LinearSVC Acc: 0.6848 SVC Acc: 0.5942 Forest Acc: 0.5698 LogReg Acc: 0.6912 Tree Acc: 0.6273 MLP Acc: 0.6017 \n",
      "Fold  3 KNN Acc: 0.6187 LinearSVC Acc: 0.6784 SVC Acc: 0.5857 Forest Acc: 0.5580 LogReg Acc: 0.6826 Tree Acc: 0.5942 MLP Acc: 0.5996 \n",
      "Fold  4 KNN Acc: 0.6028 LinearSVC Acc: 0.6496 SVC Acc: 0.5698 Forest Acc: 0.6337 LogReg Acc: 0.6550 Tree Acc: 0.6422 MLP Acc: 0.6699 \n",
      "Fold  5 KNN Acc: 0.6013 LinearSVC Acc: 0.6599 SVC Acc: 0.5832 Forest Acc: 0.6087 LogReg Acc: 0.6791 Tree Acc: 0.6205 MLP Acc: 0.6269 \n",
      "Fold  6 KNN Acc: 0.6077 LinearSVC Acc: 0.6588 SVC Acc: 0.5725 Forest Acc: 0.5714 LogReg Acc: 0.6631 Tree Acc: 0.6365 MLP Acc: 0.6343 \n",
      "Fold  7 KNN Acc: 0.6247 LinearSVC Acc: 0.6418 SVC Acc: 0.5576 Forest Acc: 0.5693 LogReg Acc: 0.6450 Tree Acc: 0.5959 MLP Acc: 0.6461 \n",
      "Fold  8 KNN Acc: 0.5970 LinearSVC Acc: 0.6226 SVC Acc: 0.5458 Forest Acc: 0.5810 LogReg Acc: 0.6375 Tree Acc: 0.6055 MLP Acc: 0.5917 \n",
      "Fold  9 KNN Acc: 0.6109 LinearSVC Acc: 0.6397 SVC Acc: 0.5682 Forest Acc: 0.5693 LogReg Acc: 0.6503 Tree Acc: 0.6034 MLP Acc: 0.6354 \n",
      "Fold 10 KNN Acc: 0.6119 LinearSVC Acc: 0.6365 SVC Acc: 0.5672 Forest Acc: 0.5586 LogReg Acc: 0.6418 Tree Acc: 0.5991 MLP Acc: 0.6045 \n"
     ]
    }
   ],
   "source": [
    "# fill by mean on simulated\n",
    "result_mean_sim_20 = test_imputation(data_sim.X.copy(), data_sim.y.copy(), data_sim.protected, complete_by_mean_col)"
   ]
  },
  {
   "cell_type": "code",
   "execution_count": 121,
   "metadata": {},
   "outputs": [
    {
     "name": "stdout",
     "output_type": "stream",
     "text": [
      "Fold  1 KNN Acc: 0.5953 LinearSVC Acc: 0.6560 SVC Acc: 0.5687 Forest Acc: 0.6475 LogReg Acc: 0.6486 Tree Acc: 0.6368 MLP Acc: 0.6219 \n",
      "Fold  2 KNN Acc: 0.6411 LinearSVC Acc: 0.6305 SVC Acc: 0.5879 Forest Acc: 0.6656 LogReg Acc: 0.6422 Tree Acc: 0.6571 MLP Acc: 0.6390 \n",
      "Fold  3 KNN Acc: 0.6432 LinearSVC Acc: 0.6571 SVC Acc: 0.5751 Forest Acc: 0.6539 LogReg Acc: 0.6603 Tree Acc: 0.6560 MLP Acc: 0.5389 \n",
      "Fold  4 KNN Acc: 0.5985 LinearSVC Acc: 0.6784 SVC Acc: 0.5825 Forest Acc: 0.6794 LogReg Acc: 0.6837 Tree Acc: 0.6539 MLP Acc: 0.6592 \n",
      "Fold  5 KNN Acc: 0.6077 LinearSVC Acc: 0.6588 SVC Acc: 0.5736 Forest Acc: 0.7047 LogReg Acc: 0.6642 Tree Acc: 0.6631 MLP Acc: 0.6322 \n",
      "Fold  6 KNN Acc: 0.6119 LinearSVC Acc: 0.6247 SVC Acc: 0.5341 Forest Acc: 0.6525 LogReg Acc: 0.6397 Tree Acc: 0.6535 MLP Acc: 0.6983 \n",
      "Fold  7 KNN Acc: 0.5991 LinearSVC Acc: 0.6578 SVC Acc: 0.5970 Forest Acc: 0.6716 LogReg Acc: 0.6642 Tree Acc: 0.6727 MLP Acc: 0.6002 \n",
      "Fold  8 KNN Acc: 0.6301 LinearSVC Acc: 0.6226 SVC Acc: 0.5853 Forest Acc: 0.6535 LogReg Acc: 0.6205 Tree Acc: 0.6525 MLP Acc: 0.6119 \n",
      "Fold  9 KNN Acc: 0.5853 LinearSVC Acc: 0.6599 SVC Acc: 0.6087 Forest Acc: 0.6855 LogReg Acc: 0.6674 Tree Acc: 0.6482 MLP Acc: 0.6610 \n",
      "Fold 10 KNN Acc: 0.6439 LinearSVC Acc: 0.6812 SVC Acc: 0.6002 Forest Acc: 0.7026 LogReg Acc: 0.6663 Tree Acc: 0.7015 MLP Acc: 0.6727 \n"
     ]
    }
   ],
   "source": [
    "# fill by similar on simulated\n",
    "result_similar_sim_20 = test_imputation(data_sim.X.copy(), data_sim.y.copy(), data_sim.protected, complete_by_similar_row)"
   ]
  },
  {
   "cell_type": "code",
   "execution_count": 122,
   "metadata": {},
   "outputs": [
    {
     "name": "stdout",
     "output_type": "stream",
     "text": [
      "Fold  1 KNN Acc: 0.6169 LinearSVC Acc: 0.6379 SVC Acc: 0.5499 Forest Acc: 0.6630 LogReg Acc: 0.6444 Tree Acc: 0.6461 MLP Acc: 0.6386 \n",
      "Fold  2 KNN Acc: 0.6213 LinearSVC Acc: 0.6509 SVC Acc: 0.5659 Forest Acc: 0.6780 LogReg Acc: 0.6506 Tree Acc: 0.6582 MLP Acc: 0.6387 \n",
      "Fold  3 KNN Acc: 0.5974 LinearSVC Acc: 0.6397 SVC Acc: 0.5651 Forest Acc: 0.6592 LogReg Acc: 0.6466 Tree Acc: 0.6392 MLP Acc: 0.6194 \n",
      "Fold  4 KNN Acc: 0.6329 LinearSVC Acc: 0.6395 SVC Acc: 0.5856 Forest Acc: 0.6527 LogReg Acc: 0.6484 Tree Acc: 0.6475 MLP Acc: 0.6285 \n",
      "Fold  5 KNN Acc: 0.6060 LinearSVC Acc: 0.6599 SVC Acc: 0.5814 Forest Acc: 0.6580 LogReg Acc: 0.6581 Tree Acc: 0.6392 MLP Acc: 0.6472 \n",
      "Fold  6 KNN Acc: 0.6188 LinearSVC Acc: 0.6331 SVC Acc: 0.5614 Forest Acc: 0.6479 LogReg Acc: 0.6420 Tree Acc: 0.6313 MLP Acc: 0.6141 \n",
      "Fold  7 KNN Acc: 0.6264 LinearSVC Acc: 0.6290 SVC Acc: 0.5614 Forest Acc: 0.6499 LogReg Acc: 0.6383 Tree Acc: 0.6286 MLP Acc: 0.6192 \n",
      "Fold  8 KNN Acc: 0.6203 LinearSVC Acc: 0.6472 SVC Acc: 0.5619 Forest Acc: 0.6534 LogReg Acc: 0.6577 Tree Acc: 0.6291 MLP Acc: 0.6396 \n",
      "Fold  9 KNN Acc: 0.6259 LinearSVC Acc: 0.6480 SVC Acc: 0.5628 Forest Acc: 0.6838 LogReg Acc: 0.6610 Tree Acc: 0.6538 MLP Acc: 0.6209 \n",
      "Fold 10 KNN Acc: 0.6290 LinearSVC Acc: 0.6200 SVC Acc: 0.5735 Forest Acc: 0.6451 LogReg Acc: 0.6304 Tree Acc: 0.6388 MLP Acc: 0.5911 \n"
     ]
    }
   ],
   "source": [
    "# fill by multiple imputation on simulated\n",
    "result_multi_sim_20 = test_imputation(data_sim.X.copy(), data_sim.y.copy(), data_sim.protected, complete_by_multi, multi=True)"
   ]
  },
  {
   "cell_type": "markdown",
   "metadata": {},
   "source": [
    "### 10% Random"
   ]
  },
  {
   "cell_type": "code",
   "execution_count": 123,
   "metadata": {},
   "outputs": [
    {
     "name": "stdout",
     "output_type": "stream",
     "text": [
      "gen_complete_random: 8901 NaN values have been inserted\n"
     ]
    },
    {
     "data": {
      "text/plain": [
       "age                        720\n",
       "age_cat                    727\n",
       "c_charge_degree            779\n",
       "priors_count               761\n",
       "juv_misd_count             729\n",
       "juv_fel_count              761\n",
       "juv_other_count            750\n",
       "c_charge_desc              748\n",
       "days_b_screening_arrest    740\n",
       "sex                        764\n",
       "race                       733\n",
       "length_of_stay             689\n",
       "dtype: int64"
      ]
     },
     "execution_count": 123,
     "metadata": {},
     "output_type": "execute_result"
    }
   ],
   "source": [
    "data_sim = gen_complete_random(data_compas_complete, random_ratio=0.1)\n",
    "data_sim.X.isnull().sum(axis=0)"
   ]
  },
  {
   "cell_type": "code",
   "execution_count": 124,
   "metadata": {},
   "outputs": [
    {
     "name": "stdout",
     "output_type": "stream",
     "text": [
      "Fold  1 KNN Acc: 0.6645 LinearSVC Acc: 0.6677 SVC Acc: 0.5793 Forest Acc: 0.6315 LogReg Acc: 0.6816 Tree Acc: 0.6528 MLP Acc: 0.6656 \n",
      "Fold  2 KNN Acc: 0.6230 LinearSVC Acc: 0.6667 SVC Acc: 0.5942 Forest Acc: 0.6603 LogReg Acc: 0.6816 Tree Acc: 0.6273 MLP Acc: 0.6571 \n",
      "Fold  3 KNN Acc: 0.6528 LinearSVC Acc: 0.6592 SVC Acc: 0.5772 Forest Acc: 0.6571 LogReg Acc: 0.6667 Tree Acc: 0.6667 MLP Acc: 0.6283 \n",
      "Fold  4 KNN Acc: 0.6124 LinearSVC Acc: 0.6752 SVC Acc: 0.5942 Forest Acc: 0.6592 LogReg Acc: 0.6773 Tree Acc: 0.6613 MLP Acc: 0.5953 \n",
      "Fold  5 KNN Acc: 0.6087 LinearSVC Acc: 0.6407 SVC Acc: 0.6119 Forest Acc: 0.6503 LogReg Acc: 0.6567 Tree Acc: 0.6386 MLP Acc: 0.5981 \n",
      "Fold  6 KNN Acc: 0.6439 LinearSVC Acc: 0.6375 SVC Acc: 0.5917 Forest Acc: 0.6407 LogReg Acc: 0.6493 Tree Acc: 0.6450 MLP Acc: 0.6397 \n",
      "Fold  7 KNN Acc: 0.6247 LinearSVC Acc: 0.6546 SVC Acc: 0.5672 Forest Acc: 0.6375 LogReg Acc: 0.6514 Tree Acc: 0.6322 MLP Acc: 0.6333 \n",
      "Fold  8 KNN Acc: 0.6354 LinearSVC Acc: 0.6684 SVC Acc: 0.6013 Forest Acc: 0.6866 LogReg Acc: 0.6738 Tree Acc: 0.6695 MLP Acc: 0.6588 \n",
      "Fold  9 KNN Acc: 0.6588 LinearSVC Acc: 0.6802 SVC Acc: 0.6119 Forest Acc: 0.6439 LogReg Acc: 0.6706 Tree Acc: 0.6471 MLP Acc: 0.6077 \n",
      "Fold 10 KNN Acc: 0.6194 LinearSVC Acc: 0.6834 SVC Acc: 0.6066 Forest Acc: 0.6333 LogReg Acc: 0.6898 Tree Acc: 0.6397 MLP Acc: 0.6055 \n"
     ]
    }
   ],
   "source": [
    "# fill by mean on simulated\n",
    "result_mean_sim_10 = test_imputation(data_sim.X.copy(), data_sim.y.copy(), data_sim.protected, complete_by_mean_col)"
   ]
  },
  {
   "cell_type": "code",
   "execution_count": 125,
   "metadata": {},
   "outputs": [
    {
     "name": "stdout",
     "output_type": "stream",
     "text": [
      "Fold  1 KNN Acc: 0.6379 LinearSVC Acc: 0.6699 SVC Acc: 0.6326 Forest Acc: 0.7050 LogReg Acc: 0.6912 Tree Acc: 0.6592 MLP Acc: 0.6645 \n",
      "Fold  2 KNN Acc: 0.6358 LinearSVC Acc: 0.6613 SVC Acc: 0.6241 Forest Acc: 0.6688 LogReg Acc: 0.6656 Tree Acc: 0.6422 MLP Acc: 0.6784 \n",
      "Fold  3 KNN Acc: 0.6358 LinearSVC Acc: 0.6507 SVC Acc: 0.6241 Forest Acc: 0.6709 LogReg Acc: 0.6656 Tree Acc: 0.6571 MLP Acc: 0.5942 \n",
      "Fold  4 KNN Acc: 0.6337 LinearSVC Acc: 0.6486 SVC Acc: 0.5847 Forest Acc: 0.6752 LogReg Acc: 0.6528 Tree Acc: 0.6528 MLP Acc: 0.6550 \n",
      "Fold  5 KNN Acc: 0.6333 LinearSVC Acc: 0.6748 SVC Acc: 0.6386 Forest Acc: 0.6972 LogReg Acc: 0.6908 Tree Acc: 0.6876 MLP Acc: 0.6908 \n",
      "Fold  6 KNN Acc: 0.6322 LinearSVC Acc: 0.6738 SVC Acc: 0.6013 Forest Acc: 0.6652 LogReg Acc: 0.6706 Tree Acc: 0.6482 MLP Acc: 0.6301 \n",
      "Fold  7 KNN Acc: 0.6194 LinearSVC Acc: 0.6354 SVC Acc: 0.6013 Forest Acc: 0.6738 LogReg Acc: 0.6279 Tree Acc: 0.6429 MLP Acc: 0.5991 \n",
      "Fold  8 KNN Acc: 0.6418 LinearSVC Acc: 0.6365 SVC Acc: 0.5949 Forest Acc: 0.6652 LogReg Acc: 0.6567 Tree Acc: 0.6461 MLP Acc: 0.6205 \n",
      "Fold  9 KNN Acc: 0.6279 LinearSVC Acc: 0.6493 SVC Acc: 0.5778 Forest Acc: 0.6684 LogReg Acc: 0.6418 Tree Acc: 0.6716 MLP Acc: 0.6503 \n",
      "Fold 10 KNN Acc: 0.6247 LinearSVC Acc: 0.6599 SVC Acc: 0.5896 Forest Acc: 0.6738 LogReg Acc: 0.6695 Tree Acc: 0.6631 MLP Acc: 0.6802 \n"
     ]
    }
   ],
   "source": [
    "# fill by similar on simulated\n",
    "result_similar_sim_10 = test_imputation(data_sim.X.copy(), data_sim.y.copy(), data_sim.protected, complete_by_similar_row)"
   ]
  },
  {
   "cell_type": "code",
   "execution_count": 126,
   "metadata": {},
   "outputs": [
    {
     "name": "stdout",
     "output_type": "stream",
     "text": [
      "Fold  1 KNN Acc: 0.6227 LinearSVC Acc: 0.6624 SVC Acc: 0.6068 Forest Acc: 0.6750 LogReg Acc: 0.6670 Tree Acc: 0.6641 MLP Acc: 0.6603 \n",
      "Fold  2 KNN Acc: 0.6227 LinearSVC Acc: 0.6694 SVC Acc: 0.5995 Forest Acc: 0.6932 LogReg Acc: 0.6789 Tree Acc: 0.6594 MLP Acc: 0.6428 \n",
      "Fold  3 KNN Acc: 0.6354 LinearSVC Acc: 0.6705 SVC Acc: 0.5918 Forest Acc: 0.6826 LogReg Acc: 0.6749 Tree Acc: 0.6673 MLP Acc: 0.6446 \n",
      "Fold  4 KNN Acc: 0.6385 LinearSVC Acc: 0.6341 SVC Acc: 0.5590 Forest Acc: 0.6674 LogReg Acc: 0.6429 Tree Acc: 0.6607 MLP Acc: 0.6410 \n",
      "Fold  5 KNN Acc: 0.6259 LinearSVC Acc: 0.6461 SVC Acc: 0.6102 Forest Acc: 0.6809 LogReg Acc: 0.6622 Tree Acc: 0.6588 MLP Acc: 0.6479 \n",
      "Fold  6 KNN Acc: 0.6287 LinearSVC Acc: 0.6690 SVC Acc: 0.5652 Forest Acc: 0.6777 LogReg Acc: 0.6707 Tree Acc: 0.6555 MLP Acc: 0.6233 \n",
      "Fold  7 KNN Acc: 0.6287 LinearSVC Acc: 0.6365 SVC Acc: 0.5817 Forest Acc: 0.6596 LogReg Acc: 0.6405 Tree Acc: 0.6555 MLP Acc: 0.6432 \n",
      "Fold  8 KNN Acc: 0.6272 LinearSVC Acc: 0.6563 SVC Acc: 0.5861 Forest Acc: 0.6776 LogReg Acc: 0.6593 Tree Acc: 0.6599 MLP Acc: 0.6189 \n",
      "Fold  9 KNN Acc: 0.6149 LinearSVC Acc: 0.6429 SVC Acc: 0.5843 Forest Acc: 0.6597 LogReg Acc: 0.6541 Tree Acc: 0.6550 MLP Acc: 0.6475 \n",
      "Fold 10 KNN Acc: 0.6157 LinearSVC Acc: 0.6468 SVC Acc: 0.5717 Forest Acc: 0.6811 LogReg Acc: 0.6558 Tree Acc: 0.6702 MLP Acc: 0.6522 \n"
     ]
    }
   ],
   "source": [
    "# fill by multiple imputation on simulated\n",
    "result_multi_sim_10 = test_imputation(data_sim.X.copy(), data_sim.y.copy(), data_sim.protected, complete_by_multi, multi=True)"
   ]
  },
  {
   "cell_type": "markdown",
   "metadata": {},
   "source": [
    "### 5% Random"
   ]
  },
  {
   "cell_type": "code",
   "execution_count": 127,
   "metadata": {},
   "outputs": [
    {
     "name": "stdout",
     "output_type": "stream",
     "text": [
      "gen_complete_random: 4196 NaN values have been inserted\n"
     ]
    },
    {
     "data": {
      "text/plain": [
       "age                        331\n",
       "age_cat                    366\n",
       "c_charge_degree            358\n",
       "priors_count               357\n",
       "juv_misd_count             331\n",
       "juv_fel_count              373\n",
       "juv_other_count            359\n",
       "c_charge_desc              339\n",
       "days_b_screening_arrest    376\n",
       "sex                        350\n",
       "race                       324\n",
       "length_of_stay             332\n",
       "dtype: int64"
      ]
     },
     "execution_count": 127,
     "metadata": {},
     "output_type": "execute_result"
    }
   ],
   "source": [
    "data_sim = gen_complete_random(data_compas_complete, random_ratio=0.05)\n",
    "data_sim.X.isnull().sum(axis=0)"
   ]
  },
  {
   "cell_type": "code",
   "execution_count": 128,
   "metadata": {},
   "outputs": [
    {
     "name": "stdout",
     "output_type": "stream",
     "text": [
      "Fold  1 KNN Acc: 0.6102 LinearSVC Acc: 0.6667 SVC Acc: 0.6145 Forest Acc: 0.6805 LogReg Acc: 0.6826 Tree Acc: 0.6826 MLP Acc: 0.6550 \n",
      "Fold  2 KNN Acc: 0.6379 LinearSVC Acc: 0.6379 SVC Acc: 0.5996 Forest Acc: 0.6624 LogReg Acc: 0.6475 Tree Acc: 0.6773 MLP Acc: 0.6049 \n",
      "Fold  3 KNN Acc: 0.6241 LinearSVC Acc: 0.6731 SVC Acc: 0.6422 Forest Acc: 0.6997 LogReg Acc: 0.6752 Tree Acc: 0.6763 MLP Acc: 0.6560 \n",
      "Fold  4 KNN Acc: 0.6560 LinearSVC Acc: 0.6624 SVC Acc: 0.5911 Forest Acc: 0.6912 LogReg Acc: 0.6741 Tree Acc: 0.6826 MLP Acc: 0.6933 \n",
      "Fold  5 KNN Acc: 0.6461 LinearSVC Acc: 0.6780 SVC Acc: 0.6151 Forest Acc: 0.6727 LogReg Acc: 0.6759 Tree Acc: 0.6791 MLP Acc: 0.6791 \n",
      "Fold  6 KNN Acc: 0.6162 LinearSVC Acc: 0.6642 SVC Acc: 0.6055 Forest Acc: 0.6493 LogReg Acc: 0.6620 Tree Acc: 0.6493 MLP Acc: 0.6407 \n",
      "Fold  7 KNN Acc: 0.6130 LinearSVC Acc: 0.6514 SVC Acc: 0.6023 Forest Acc: 0.6567 LogReg Acc: 0.6663 Tree Acc: 0.6397 MLP Acc: 0.6610 \n",
      "Fold  8 KNN Acc: 0.6258 LinearSVC Acc: 0.6727 SVC Acc: 0.6226 Forest Acc: 0.6919 LogReg Acc: 0.6738 Tree Acc: 0.6823 MLP Acc: 0.6855 \n",
      "Fold  9 KNN Acc: 0.6333 LinearSVC Acc: 0.6631 SVC Acc: 0.5864 Forest Acc: 0.7047 LogReg Acc: 0.6876 Tree Acc: 0.6962 MLP Acc: 0.6706 \n",
      "Fold 10 KNN Acc: 0.6652 LinearSVC Acc: 0.6716 SVC Acc: 0.6205 Forest Acc: 0.6684 LogReg Acc: 0.6759 Tree Acc: 0.6588 MLP Acc: 0.6567 \n"
     ]
    }
   ],
   "source": [
    "# fill by mean on simulated\n",
    "result_mean_sim_5 = test_imputation(data_sim.X.copy(), data_sim.y.copy(), data_sim.protected, complete_by_mean_col)"
   ]
  },
  {
   "cell_type": "code",
   "execution_count": 129,
   "metadata": {},
   "outputs": [
    {
     "name": "stdout",
     "output_type": "stream",
     "text": [
      "Fold  1 KNN Acc: 0.6177 LinearSVC Acc: 0.6464 SVC Acc: 0.6305 Forest Acc: 0.6816 LogReg Acc: 0.6518 Tree Acc: 0.6688 MLP Acc: 0.6560 \n",
      "Fold  2 KNN Acc: 0.6379 LinearSVC Acc: 0.6560 SVC Acc: 0.6230 Forest Acc: 0.6805 LogReg Acc: 0.6560 Tree Acc: 0.6539 MLP Acc: 0.6177 \n",
      "Fold  3 KNN Acc: 0.6422 LinearSVC Acc: 0.6645 SVC Acc: 0.6102 Forest Acc: 0.6720 LogReg Acc: 0.6709 Tree Acc: 0.6635 MLP Acc: 0.6209 \n",
      "Fold  4 KNN Acc: 0.6326 LinearSVC Acc: 0.6677 SVC Acc: 0.6017 Forest Acc: 0.6965 LogReg Acc: 0.6816 Tree Acc: 0.6922 MLP Acc: 0.6944 \n",
      "Fold  5 KNN Acc: 0.6429 LinearSVC Acc: 0.6642 SVC Acc: 0.6098 Forest Acc: 0.6898 LogReg Acc: 0.6610 Tree Acc: 0.6844 MLP Acc: 0.6940 \n",
      "Fold  6 KNN Acc: 0.6301 LinearSVC Acc: 0.6802 SVC Acc: 0.6215 Forest Acc: 0.6940 LogReg Acc: 0.6962 Tree Acc: 0.6887 MLP Acc: 0.6588 \n",
      "Fold  7 KNN Acc: 0.6354 LinearSVC Acc: 0.6514 SVC Acc: 0.6247 Forest Acc: 0.6866 LogReg Acc: 0.6557 Tree Acc: 0.6759 MLP Acc: 0.6514 \n",
      "Fold  8 KNN Acc: 0.6269 LinearSVC Acc: 0.6727 SVC Acc: 0.6599 Forest Acc: 0.6834 LogReg Acc: 0.6695 Tree Acc: 0.6791 MLP Acc: 0.6588 \n",
      "Fold  9 KNN Acc: 0.6450 LinearSVC Acc: 0.6631 SVC Acc: 0.5842 Forest Acc: 0.6599 LogReg Acc: 0.6748 Tree Acc: 0.6642 MLP Acc: 0.6663 \n",
      "Fold 10 KNN Acc: 0.6354 LinearSVC Acc: 0.6684 SVC Acc: 0.6141 Forest Acc: 0.6802 LogReg Acc: 0.6770 Tree Acc: 0.6812 MLP Acc: 0.6663 \n"
     ]
    }
   ],
   "source": [
    "# fill by similar on simulated\n",
    "result_similar_sim_5 = test_imputation(data_sim.X.copy(), data_sim.y.copy(), data_sim.protected, complete_by_similar_row)"
   ]
  },
  {
   "cell_type": "code",
   "execution_count": 130,
   "metadata": {},
   "outputs": [
    {
     "name": "stdout",
     "output_type": "stream",
     "text": [
      "Fold  1 KNN Acc: 0.6156 LinearSVC Acc: 0.6644 SVC Acc: 0.5892 Forest Acc: 0.6696 LogReg Acc: 0.6717 Tree Acc: 0.6714 MLP Acc: 0.6562 \n",
      "Fold  2 KNN Acc: 0.6414 LinearSVC Acc: 0.6860 SVC Acc: 0.6274 Forest Acc: 0.7072 LogReg Acc: 0.7008 Tree Acc: 0.7085 MLP Acc: 0.6549 \n",
      "Fold  3 KNN Acc: 0.6498 LinearSVC Acc: 0.6439 SVC Acc: 0.5873 Forest Acc: 0.6696 LogReg Acc: 0.6511 Tree Acc: 0.6558 MLP Acc: 0.6238 \n",
      "Fold  4 KNN Acc: 0.6318 LinearSVC Acc: 0.6438 SVC Acc: 0.5923 Forest Acc: 0.6702 LogReg Acc: 0.6468 Tree Acc: 0.6541 MLP Acc: 0.6353 \n",
      "Fold  5 KNN Acc: 0.6278 LinearSVC Acc: 0.6482 SVC Acc: 0.5689 Forest Acc: 0.6929 LogReg Acc: 0.6554 Tree Acc: 0.6861 MLP Acc: 0.6760 \n",
      "Fold  6 KNN Acc: 0.6465 LinearSVC Acc: 0.6765 SVC Acc: 0.5929 Forest Acc: 0.6898 LogReg Acc: 0.6854 Tree Acc: 0.6789 MLP Acc: 0.6758 \n",
      "Fold  7 KNN Acc: 0.6432 LinearSVC Acc: 0.6820 SVC Acc: 0.5952 Forest Acc: 0.6928 LogReg Acc: 0.6872 Tree Acc: 0.6872 MLP Acc: 0.6667 \n",
      "Fold  8 KNN Acc: 0.6281 LinearSVC Acc: 0.6531 SVC Acc: 0.5970 Forest Acc: 0.6808 LogReg Acc: 0.6588 Tree Acc: 0.6731 MLP Acc: 0.6559 \n",
      "Fold  9 KNN Acc: 0.6183 LinearSVC Acc: 0.6515 SVC Acc: 0.5821 Forest Acc: 0.6692 LogReg Acc: 0.6627 Tree Acc: 0.6669 MLP Acc: 0.6443 \n",
      "Fold 10 KNN Acc: 0.6376 LinearSVC Acc: 0.6598 SVC Acc: 0.5808 Forest Acc: 0.7058 LogReg Acc: 0.6675 Tree Acc: 0.6874 MLP Acc: 0.6278 \n"
     ]
    }
   ],
   "source": [
    "# fill by multiple imputation on simulated\n",
    "result_multi_sim_5 = test_imputation(data_sim.X.copy(), data_sim.y.copy(), data_sim.protected, complete_by_multi, multi=True)"
   ]
  },
  {
   "cell_type": "markdown",
   "metadata": {},
   "source": [
    "### Save Results"
   ]
  },
  {
   "cell_type": "code",
   "execution_count": 131,
   "metadata": {},
   "outputs": [],
   "source": [
    "# save confusion matrix for each classifier\n",
    "classifiers = [\"KNN\", \"LinearSVC\", \"SVC\", \"Forest\", \"LogReg\", \"Tree\", \"MLP\"]\n",
    "raw_data = [result_original, result_mean_sim_20, result_similar_sim_20, result_multi_sim_20,\n",
    "            result_mean_sim_10, result_similar_sim_10, result_multi_sim_10,\n",
    "            result_mean_sim_5, result_similar_sim_5, result_multi_sim_5]\n",
    "fold_names = [\"(Fold {:>2})\".format(x+1) for x in range(10)]\n",
    "conf_names = [x + \" \" + y for y in fold_names\n",
    "              for x in [\"TN_AA\", \"FP_AA\", \"FN_AA\", \"TP_AA\", \"TN_C\", \"FP_C\", \"FN_C\", \"TP_C\"]]\n",
    "methods = [\"Original\",\n",
    "           \"Mean Imputation (20%)\",\n",
    "           \"Similar Imputation (20%)\",\n",
    "           \"Multiple Imputation (20%)\",\n",
    "           \"Mean Imputation (10%)\",\n",
    "           \"Similar Imputation (10%)\",\n",
    "           \"Multiple Imputation (10%)\",\n",
    "           \"Mean Imputation (5%)\",\n",
    "           \"Similar Imputation (5%)\",\n",
    "           \"Multiple Imputation (5%)\"]\n",
    "\n",
    "if not os.path.exists(\"compas_analysis\"):\n",
    "    os.makedirs(\"compas_analysis\")\n",
    "\n",
    "for clf_name in classifiers:\n",
    "    if not os.path.exists(os.path.join(\"compas_analysis\", clf_name)):\n",
    "        os.makedirs(os.path.join(\"compas_analysis\", clf_name))    "
   ]
  },
  {
   "cell_type": "code",
   "execution_count": 132,
   "metadata": {},
   "outputs": [],
   "source": [
    "def save_cv(data):\n",
    "    data_cv = [m[0] for m in data]\n",
    "    for clf_name in classifiers:\n",
    "        new_data = []\n",
    "        new_data_acc = []\n",
    "        dd = [m[clf_name] for m in data_cv]\n",
    "        for fold_10 in dd:\n",
    "            fold_line = []\n",
    "            fold_line_acc = []\n",
    "            for fold in fold_10:\n",
    "                fold_line += fold[\"African-American\"]\n",
    "                fold_line += fold[\"Caucasian\"]\n",
    "                fold_line_acc.append(\n",
    "                    (fold[\"African-American\"][0] + fold[\"African-American\"][3] +\n",
    "                     fold[\"Caucasian\"][0] + fold[\"Caucasian\"][3]) /\n",
    "                    (sum(fold[\"African-American\"]) + sum(fold[\"Caucasian\"]))\n",
    "                )\n",
    "            new_data.append(fold_line)\n",
    "            fold_line_acc.append(sum(fold_line_acc) / len(fold_line_acc))\n",
    "            new_data_acc.append(fold_line_acc)\n",
    "        df = pd.DataFrame(new_data, columns=conf_names, index=methods)\n",
    "        df.transpose().to_csv(os.path.join(\"compas_analysis\", clf_name, \"10folds.csv\"))\n",
    "        df = pd.DataFrame(new_data_acc, columns=fold_names + [\"Average\"], index=methods)\n",
    "        df.transpose().to_csv(os.path.join(\"compas_analysis\", clf_name, \"accuracy.csv\"))"
   ]
  },
  {
   "cell_type": "code",
   "execution_count": 133,
   "metadata": {},
   "outputs": [],
   "source": [
    "def save_bias(data):\n",
    "    bias1 = [m[1] for m in data]\n",
    "    bias2 = [m[2] for m in data]\n",
    "    for clf_name in classifiers:\n",
    "        bias1_clf = [m[clf_name] for m in bias1]\n",
    "        bias1_clf = [x + [sum(x) / len(x)] for x in bias1_clf]\n",
    "        bias2_clf = [m[clf_name] for m in bias2]\n",
    "        bias2_clf = [x + [sum(x) / len(x)] for x in bias2_clf]\n",
    "        df1 = pd.DataFrame(bias1_clf, columns=fold_names + [\"Average\"], index=methods)\n",
    "        df2 = pd.DataFrame(bias2_clf, columns=fold_names + [\"Average\"], index=methods)\n",
    "        df1.transpose().to_csv(os.path.join(\"compas_analysis\", clf_name, \"bias1.csv\"))\n",
    "        df2.transpose().to_csv(os.path.join(\"compas_analysis\", clf_name, \"bias2.csv\"))"
   ]
  },
  {
   "cell_type": "code",
   "execution_count": 134,
   "metadata": {},
   "outputs": [],
   "source": [
    "save_cv(raw_data)\n",
    "save_bias(raw_data)"
   ]
  },
  {
   "cell_type": "markdown",
   "metadata": {},
   "source": [
    "### Plots"
   ]
  },
  {
   "cell_type": "code",
   "execution_count": 135,
   "metadata": {},
   "outputs": [],
   "source": [
    "import matplotlib.pyplot as plt\n",
    "import seaborn as sns"
   ]
  },
  {
   "cell_type": "code",
   "execution_count": 136,
   "metadata": {},
   "outputs": [
    {
     "data": {
      "image/png": "[encoded data removed]",
      "text/plain": [
       "<Figure size 1800x576 with 1 Axes>"
      ]
     },
     "metadata": {},
     "output_type": "display_data"
    }
   ],
   "source": [
    "fig = plt.figure(figsize=(25, 8))\n",
    "fig.patch.set_alpha(1.0)\n",
    "ax = fig.add_subplot(111)\n",
    "ax.tick_params(labelsize=15)\n",
    "plt.title(\"Compas Analysis: Bias 1\", fontsize=15)\n",
    "plot_basic_pos = np.arange(len(classifiers)) * 16\n",
    "plot_additional_pos = [0, 2, 3, 4, 6, 7, 8, 10, 11, 12]\n",
    "plot_xticks_pos = np.array([np.array([3.5, 6.5, 7.5, 11.5]) + m for m in plot_basic_pos]).ravel().tolist()\n",
    "plot_xtick_labels = np.array([[\"20%\", \"\\n\\n{}\".format(name), \"10%\", \"5%\"] for name in classifiers]).ravel().tolist()\n",
    "plot_data = []\n",
    "for clf_name in classifiers:\n",
    "    dd = pd.read_csv(os.path.join(\"compas_analysis\", clf_name, \"bias1.csv\"), index_col=0)\n",
    "    avg = dd.loc[\"Average\"].tolist()\n",
    "    plot_data.append(avg)\n",
    "plot_data = np.array(plot_data).T\n",
    "plot_methods = [\"Original\", \"Mean Imputation\", \"Similar Imputation\", \"Multiple Imputation\"]\n",
    "plot_barcolors = [\"grey\", \"red\", \"green\", \"blue\",\n",
    "                  \"red\", \"green\", \"blue\",\n",
    "                  \"red\", \"green\", \"blue\"]\n",
    "for (i, method) in enumerate(methods):\n",
    "    ax.bar(plot_basic_pos + plot_additional_pos[i] + 0.5, plot_data[i], 1, label=plot_methods[i] if i < 4 else None, color=plot_barcolors[i])\n",
    "plt.xticks(plot_xticks_pos)\n",
    "ax.set_xticklabels(plot_xtick_labels)\n",
    "plt.ylabel(\"Values\", fontsize=15)\n",
    "plt.xlim([-1, 16*len(classifiers) - 2])\n",
    "plt.legend(title=\"Methods\", loc=\"upper left\", prop={\"size\": 12})\n",
    "plt.savefig(\"bias1.png\", transparent=False)\n",
    "plt.show()"
   ]
  },
  {
   "cell_type": "code",
   "execution_count": 137,
   "metadata": {},
   "outputs": [
    {
     "data": {
      "image/png": "[encoded data removed]",
      "text/plain": [
       "<Figure size 1800x576 with 1 Axes>"
      ]
     },
     "metadata": {},
     "output_type": "display_data"
    }
   ],
   "source": [
    "fig = plt.figure(figsize=(25, 8))\n",
    "fig.patch.set_alpha(1.0)\n",
    "ax = fig.add_subplot(111)\n",
    "ax.tick_params(labelsize=15)\n",
    "plt.title(\"Compas Analysis: Bias 2\", fontsize=15)\n",
    "plot_basic_pos = np.arange(len(classifiers)) * 16\n",
    "plot_additional_pos = [0, 2, 3, 4, 6, 7, 8, 10, 11, 12]\n",
    "plot_xticks_pos = np.array([np.array([3.5, 6.5, 7.5, 11.5]) + m for m in plot_basic_pos]).ravel().tolist()\n",
    "plot_xtick_labels = np.array([[\"20%\", \"\\n\\n{}\".format(name), \"10%\", \"5%\"] for name in classifiers]).ravel().tolist()\n",
    "plot_data = []\n",
    "for clf_name in classifiers:\n",
    "    dd = pd.read_csv(os.path.join(\"compas_analysis\", clf_name, \"bias2.csv\"), index_col=0)\n",
    "    avg = dd.loc[\"Average\"].tolist()\n",
    "    plot_data.append(avg)\n",
    "plot_data = np.array(plot_data).T\n",
    "plot_methods = [\"Original\", \"Mean Imputation\", \"Similar Imputation\", \"Multiple Imputation\"]\n",
    "plot_barcolors = [\"grey\", \"red\", \"green\", \"blue\",\n",
    "                  \"red\", \"green\", \"blue\",\n",
    "                  \"red\", \"green\", \"blue\"]\n",
    "for (i, method) in enumerate(methods):\n",
    "    ax.bar(plot_basic_pos + plot_additional_pos[i] + 0.5, plot_data[i], 1, label=plot_methods[i] if i < 4 else None, color=plot_barcolors[i])\n",
    "plt.xticks(plot_xticks_pos)\n",
    "ax.set_xticklabels(plot_xtick_labels)\n",
    "plt.ylabel(\"Values\", fontsize=15)\n",
    "plt.xlim([-1, 16*len(classifiers) - 2])\n",
    "plt.legend(title=\"Methods\", loc=\"upper left\", prop={\"size\": 12})\n",
    "plt.savefig(\"bias2.png\", transparent=False)\n",
    "plt.show()"
   ]
  },
  {
   "cell_type": "code",
   "execution_count": 138,
   "metadata": {},
   "outputs": [
    {
     "data": {
      "image/png": "[encoded data removed]",
      "text/plain": [
       "<Figure size 1800x576 with 1 Axes>"
      ]
     },
     "metadata": {},
     "output_type": "display_data"
    }
   ],
   "source": [
    "fig = plt.figure(figsize=(25, 8))\n",
    "fig.patch.set_alpha(1.0)\n",
    "ax = fig.add_subplot(111)\n",
    "ax.tick_params(labelsize=15)\n",
    "plt.title(\"Compas Analysis: Accuracy\", fontsize=15)\n",
    "plot_basic_pos = np.arange(len(classifiers)) * 16\n",
    "plot_additional_pos = [0, 2, 3, 4, 6, 7, 8, 10, 11, 12]\n",
    "plot_xticks_pos = np.array([np.array([3.5, 6.5, 7.5, 11.5]) + m for m in plot_basic_pos]).ravel().tolist()\n",
    "plot_xtick_labels = np.array([[\"20%\", \"\\n\\n{}\".format(name), \"10%\", \"5%\"] for name in classifiers]).ravel().tolist()\n",
    "plot_data = []\n",
    "for clf_name in classifiers:\n",
    "    dd = pd.read_csv(os.path.join(\"compas_analysis\", clf_name, \"accuracy.csv\"), index_col=0)\n",
    "    avg = dd.loc[\"Average\"].tolist()\n",
    "    plot_data.append(avg)\n",
    "plot_data = np.array(plot_data).T\n",
    "plot_methods = [\"Original\", \"Mean Imputation\", \"Similar Imputation\", \"Multiple Imputation\"]\n",
    "plot_barcolors = [\"grey\", \"red\", \"green\", \"blue\",\n",
    "                  \"red\", \"green\", \"blue\",\n",
    "                  \"red\", \"green\", \"blue\"]\n",
    "for (i, method) in enumerate(methods):\n",
    "    ax.bar(plot_basic_pos + plot_additional_pos[i] + 0.5, plot_data[i], 1, label=plot_methods[i] if i < 4 else None, color=plot_barcolors[i])\n",
    "plt.xticks(plot_xticks_pos)\n",
    "ax.set_xticklabels(plot_xtick_labels)\n",
    "plt.ylabel(\"Accuracy\", fontsize=15)\n",
    "plt.xlim([-1, 16*len(classifiers) - 2])\n",
    "plt.ylim([0.0, 1.0])\n",
    "plt.legend(title=\"Methods\", loc=\"upper left\", prop={\"size\": 12})\n",
    "plt.savefig(\"accuracy.png\", transparent=False)\n",
    "plt.show()"
   ]
  }
 ],
 "metadata": {
  "kernelspec": {
   "display_name": "Python 3",
   "language": "python",
   "name": "python3"
  },
  "language_info": {
   "codemirror_mode": {
    "name": "ipython",
    "version": 3
   },
   "file_extension": ".py",
   "mimetype": "text/x-python",
   "name": "python",
   "nbconvert_exporter": "python",
   "pygments_lexer": "ipython3",
   "version": "3.8.2"
  }
 },
 "nbformat": 4,
 "nbformat_minor": 4
}
