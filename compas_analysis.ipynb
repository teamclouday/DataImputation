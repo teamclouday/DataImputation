{
 "cells": [
  {
   "cell_type": "markdown",
   "metadata": {},
   "source": [
    "# Compas Data Imputation Analysis"
   ]
  },
  {
   "cell_type": "code",
   "execution_count": 1,
   "metadata": {},
   "outputs": [],
   "source": [
    "import os\n",
    "import numpy as np\n",
    "import pandas as pd"
   ]
  },
  {
   "cell_type": "code",
   "execution_count": 2,
   "metadata": {},
   "outputs": [],
   "source": [
    "import warnings\n",
    "warnings.filterwarnings('ignore')"
   ]
  },
  {
   "cell_type": "code",
   "execution_count": 3,
   "metadata": {},
   "outputs": [],
   "source": [
    "from utils.data import create_compas_dataset, Dataset\n",
    "from utils.generator import gen_complete_random\n",
    "from utils.completer import complete_by_mean_col, complete_by_multi, complete_by_similar_row"
   ]
  },
  {
   "cell_type": "code",
   "execution_count": 4,
   "metadata": {},
   "outputs": [],
   "source": [
    "data = create_compas_dataset()"
   ]
  },
  {
   "cell_type": "code",
   "execution_count": 5,
   "metadata": {},
   "outputs": [],
   "source": [
    "data_compas_complete = data.copy()\n",
    "tmp_concat = pd.concat([data_compas_complete.X, pd.DataFrame(data_compas_complete.y, columns=[\"_TARGET_\"])], axis=1)\n",
    "tmp_concat.dropna(inplace=True)\n",
    "tmp_concat.reset_index(drop=True, inplace=True)\n",
    "data_compas_complete.X = tmp_concat.drop(columns=[\"_TARGET_\"]).copy()\n",
    "data_compas_complete.y = tmp_concat[\"_TARGET_\"].copy().to_numpy().ravel()"
   ]
  },
  {
   "cell_type": "code",
   "execution_count": 6,
   "metadata": {},
   "outputs": [],
   "source": [
    "X = data_compas_complete.X.drop(columns=data_compas_complete.protected).copy().to_numpy()\n",
    "y = data_compas_complete.y.copy()"
   ]
  },
  {
   "cell_type": "code",
   "execution_count": 7,
   "metadata": {},
   "outputs": [],
   "source": [
    "from sklearn.neighbors import KNeighborsClassifier\n",
    "from sklearn.svm import LinearSVC, SVC\n",
    "from sklearn.ensemble import RandomForestClassifier\n",
    "from sklearn.linear_model import LogisticRegression\n",
    "from sklearn.tree import DecisionTreeClassifier\n",
    "from sklearn.neural_network import MLPClassifier\n",
    "from sklearn.model_selection import train_test_split"
   ]
  },
  {
   "cell_type": "code",
   "execution_count": 8,
   "metadata": {},
   "outputs": [],
   "source": [
    "from imblearn.over_sampling import SVMSMOTE"
   ]
  },
  {
   "cell_type": "markdown",
   "metadata": {},
   "source": [
    "### Parameter Searching"
   ]
  },
  {
   "cell_type": "code",
   "execution_count": 9,
   "metadata": {},
   "outputs": [],
   "source": [
    "from sklearn.model_selection import GridSearchCV\n",
    "\n",
    "def grid_search(X, y, model, params, smote):\n",
    "    print(\"Model: {}\".format(model.__class__.__name__))\n",
    "    X_res, y_res = smote.fit_resample(X, y) # enlarge dataset\n",
    "    search = GridSearchCV(model, param_grid=params, cv=10, n_jobs=-1)\n",
    "    search.fit(X_res, y_res)\n",
    "    print(\"Best parameter: {}\".format(search.best_params_))\n",
    "    print(\"Acc best: {:.4f}\".format(search.best_score_))\n",
    "    print(\"Acc on input data: {:.4f}\".format(search.best_estimator_.score(X, y)))\n",
    "    print(\"Acc on enlarged data: {:.4f}\".format(search.best_estimator_.score(X_res, y_res)))\n",
    "    return search.best_params_"
   ]
  },
  {
   "cell_type": "code",
   "execution_count": 10,
   "metadata": {},
   "outputs": [],
   "source": [
    "all_params = {\n",
    "    \"KNN\": None,\n",
    "    \"LinearSVC\": None,\n",
    "    \"SVC\": None,\n",
    "    \"Forest\": None,\n",
    "    \"LogReg\": None,\n",
    "    \"Tree\": None,\n",
    "    \"MLP\": None,\n",
    "}"
   ]
  },
  {
   "cell_type": "code",
   "execution_count": 11,
   "metadata": {},
   "outputs": [
    {
     "name": "stdout",
     "output_type": "stream",
     "text": [
      "Model: KNeighborsClassifier\n",
      "Best parameter: {'leaf_size': 5, 'n_neighbors': 2}\n",
      "Acc best: 0.7061\n",
      "Acc on input data: 0.8993\n",
      "Acc on enlarged data: 0.9071\n"
     ]
    }
   ],
   "source": [
    "tmp_params = {\n",
    "    \"n_neighbors\": [2, 5, 10, 50, 100, 500],\n",
    "    \"leaf_size\": [5, 10, 30, 50, 100],\n",
    "}\n",
    "all_params[\"KNN\"] = grid_search(X, y, KNeighborsClassifier(), tmp_params, SVMSMOTE(random_state=22))"
   ]
  },
  {
   "cell_type": "code",
   "execution_count": 12,
   "metadata": {},
   "outputs": [
    {
     "name": "stdout",
     "output_type": "stream",
     "text": [
      "Model: LinearSVC\n",
      "Best parameter: {'C': 0.1, 'max_iter': 1000, 'tol': 0.001}\n",
      "Acc best: 0.6728\n",
      "Acc on input data: 0.6641\n",
      "Acc on enlarged data: 0.6725\n"
     ]
    }
   ],
   "source": [
    "tmp_params = {\n",
    "    \"tol\": [1e-5, 1e-4, 1e-3],\n",
    "    \"C\": [0.001, 0.01, 0.1, 1, 10],\n",
    "    \"max_iter\": [1000, 5000, 10000],\n",
    "}\n",
    "all_params[\"LinearSVC\"] = grid_search(X, y, LinearSVC(dual=False), tmp_params, SVMSMOTE(random_state=22))"
   ]
  },
  {
   "cell_type": "code",
   "execution_count": 13,
   "metadata": {},
   "outputs": [
    {
     "name": "stdout",
     "output_type": "stream",
     "text": [
      "Model: SVC\n",
      "Best parameter: {'C': 10, 'max_iter': -1, 'tol': 0.0001}\n",
      "Acc best: 0.6452\n",
      "Acc on input data: 0.6285\n",
      "Acc on enlarged data: 0.6489\n"
     ]
    }
   ],
   "source": [
    "tmp_params = {\n",
    "    \"tol\": [1e-5, 1e-4, 1e-3],\n",
    "    \"C\": [0.001, 0.01, 0.1, 1, 10],\n",
    "    \"max_iter\": [1000, 5000, 10000, -1],\n",
    "}\n",
    "all_params[\"SVC\"] = grid_search(X, y, SVC(), tmp_params, SVMSMOTE(random_state=22))"
   ]
  },
  {
   "cell_type": "code",
   "execution_count": 14,
   "metadata": {},
   "outputs": [
    {
     "name": "stdout",
     "output_type": "stream",
     "text": [
      "Model: RandomForestClassifier\n",
      "Best parameter: {'max_depth': 50, 'min_samples_leaf': 5, 'n_estimators': 100}\n",
      "Acc best: 0.7677\n",
      "Acc on input data: 0.8166\n",
      "Acc on enlarged data: 0.8567\n"
     ]
    }
   ],
   "source": [
    "tmp_params = {\n",
    "    \"n_estimators\": [50, 100, 200, 500],\n",
    "    \"max_depth\": [None, 10, 50, 100],\n",
    "    \"min_samples_leaf\": [1, 5, 10],\n",
    "}\n",
    "all_params[\"Forest\"] = grid_search(X, y, RandomForestClassifier(), tmp_params, SVMSMOTE(random_state=22))"
   ]
  },
  {
   "cell_type": "code",
   "execution_count": 15,
   "metadata": {},
   "outputs": [
    {
     "name": "stdout",
     "output_type": "stream",
     "text": [
      "Model: LogisticRegression\n",
      "Best parameter: {'C': 10.0, 'max_iter': 100, 'tol': 1e-05}\n",
      "Acc best: 0.6755\n",
      "Acc on input data: 0.6767\n",
      "Acc on enlarged data: 0.6762\n"
     ]
    }
   ],
   "source": [
    "tmp_params = {\n",
    "    \"tol\": [1e-5, 1e-4, 1e-3],\n",
    "    \"C\": [1e-2, 1e-1, 1, 1e1, 1e2],\n",
    "    \"max_iter\": [100, 500, 1000, 2000],\n",
    "}\n",
    "all_params[\"LogReg\"] = grid_search(X, y, LogisticRegression(), tmp_params, SVMSMOTE(random_state=22))"
   ]
  },
  {
   "cell_type": "code",
   "execution_count": 16,
   "metadata": {},
   "outputs": [
    {
     "name": "stdout",
     "output_type": "stream",
     "text": [
      "Model: DecisionTreeClassifier\n",
      "Best parameter: {'max_depth': 10, 'max_leaf_nodes': 100, 'min_samples_leaf': 1}\n",
      "Acc best: 0.7494\n",
      "Acc on input data: 0.7267\n",
      "Acc on enlarged data: 0.7765\n"
     ]
    }
   ],
   "source": [
    "tmp_params = {\n",
    "    \"max_depth\": [None, 10, 50, 100, 200],\n",
    "    \"max_leaf_nodes\": [None, 10, 100, 1000],\n",
    "    \"min_samples_leaf\": [1, 5, 10],\n",
    "}\n",
    "all_params[\"Tree\"] = grid_search(X, y, DecisionTreeClassifier(), tmp_params, SVMSMOTE(random_state=22))"
   ]
  },
  {
   "cell_type": "code",
   "execution_count": 17,
   "metadata": {},
   "outputs": [
    {
     "name": "stdout",
     "output_type": "stream",
     "text": [
      "Model: MLPClassifier\n",
      "Best parameter: {'alpha': 0.0001, 'learning_rate_init': 0.01, 'max_iter': 500}\n",
      "Acc best: 0.6878\n",
      "Acc on input data: 0.6685\n",
      "Acc on enlarged data: 0.6911\n"
     ]
    }
   ],
   "source": [
    "tmp_params = {\n",
    "    \"alpha\": [1e-5, 1e-4, 1e-3],\n",
    "    \"learning_rate_init\": [1e-4, 1e-3, 1e-2],\n",
    "    \"max_iter\": [200, 500, 1000],\n",
    "}\n",
    "all_params[\"MLP\"] = grid_search(X, y, MLPClassifier(), tmp_params, SVMSMOTE(random_state=22))"
   ]
  },
  {
   "cell_type": "markdown",
   "metadata": {},
   "source": [
    "### Data Imputation"
   ]
  },
  {
   "cell_type": "code",
   "execution_count": 18,
   "metadata": {},
   "outputs": [],
   "source": [
    "from sklearn.model_selection import KFold\n",
    "from sklearn.metrics import confusion_matrix\n",
    "\n",
    "def bias1(data):\n",
    "    # input should be data from compute_confusion_matrix\n",
    "    # bias 1 = (FP_AA / FN_AA) - (FP_C / FN_C)\n",
    "    FP_AA = data[\"African-American\"][1]\n",
    "    FN_AA = data[\"African-American\"][2]\n",
    "    FP_C = data[\"Caucasian\"][1]\n",
    "    FN_C = data[\"Caucasian\"][2]\n",
    "    bias = (FP_AA / FN_AA) - (FP_C / FN_C)\n",
    "    return bias\n",
    "   \n",
    "def bias2(data):\n",
    "    # input should be data from compute_confusion_matrix\n",
    "    # bias 2 = (FP_AA / FP_C) - (FN_AA / FN_C)\n",
    "    FP_AA = data[\"African-American\"][1]\n",
    "    FN_AA = data[\"African-American\"][2]\n",
    "    FP_C = data[\"Caucasian\"][1]\n",
    "    FN_C = data[\"Caucasian\"][2]\n",
    "    bias = (FP_AA / FP_C) - (FN_AA / FN_C)\n",
    "    return bias\n",
    "\n",
    "def helper_freq(array):\n",
    "    \"\"\"simple helper function to return the most frequent number in an array\"\"\"\n",
    "    count = np.bincount(array)\n",
    "    return array[np.argmax(count)]\n",
    "\n",
    "def average_cv(cv_data):\n",
    "    # compute average for the confusion matrix data for each fold\n",
    "    result = {}\n",
    "    for name, data in cv_data.items():\n",
    "        new_data = {\n",
    "            \"African-American\": np.array([m[\"African-American\"] for m in data]).mean(axis=0).tolist(),\n",
    "            \"Caucasian\": np.array([m[\"Caucasian\"] for m in data]).mean(axis=0).tolist()\n",
    "        }\n",
    "        result[name] = new_data\n",
    "    return result\n",
    "\n",
    "def compute_confusion_matrix(X_train, y_train, X_test, y_test, clf, protected_features, multi=False):\n",
    "    # X are pandas dataframe\n",
    "    # y are numpy array\n",
    "    # clf is a sklearn classifier\n",
    "    # protected_features is list\n",
    "    smote = SVMSMOTE(random_state=22)\n",
    "    if not multi:\n",
    "        X_train = X_train.drop(columns=protected_features).copy().to_numpy()\n",
    "        X_train_res, y_train_res = smote.fit_resample(X_train, y_train)\n",
    "        clf.fit(X_train_res, y_train_res)\n",
    "        print(\"Acc: {:.4f}\".format(clf.score(X_test.drop(columns=protected_features).copy().to_numpy(), y_test)), end=\" \")\n",
    "        X_test_AA = X_test[X_test[\"race\"] == \"African-American\"].drop(columns=protected_features).to_numpy()\n",
    "        X_test_C = X_test[X_test[\"race\"] == \"Caucasian\"].drop(columns=protected_features).to_numpy()\n",
    "        y_test_AA = y_test[X_test[X_test[\"race\"] == \"African-American\"].index.tolist()]\n",
    "        y_test_C = y_test[X_test[X_test[\"race\"] == \"Caucasian\"].index.tolist()]\n",
    "        matrix_AA = confusion_matrix(y_test_AA, clf.predict(X_test_AA))\n",
    "        matrix_C = confusion_matrix(y_test_C, clf.predict(X_test_C))\n",
    "    else:\n",
    "        prediction_AA = []\n",
    "        prediction_C = []\n",
    "        X_test_first = X_test[0]\n",
    "        y_test_AA = y_test[X_test_first[X_test_first[\"race\"] == \"African-American\"].index.tolist()]\n",
    "        y_test_C = y_test[X_test_first[X_test_first[\"race\"] == \"Caucasian\"].index.tolist()]\n",
    "        scores = [0, 0]\n",
    "        for X_train_m in X_train:\n",
    "            X_train_m = X_train_m.drop(columns=protected_features).copy().to_numpy()\n",
    "            X_train_res, y_train_res = smote.fit_resample(X_train_m, y_train)\n",
    "            clf.fit(X_train_res, y_train_res)\n",
    "            for X_test_m in X_test:\n",
    "                X_test_AA = X_test_m[X_test_m[\"race\"] == \"African-American\"].drop(columns=protected_features).to_numpy()\n",
    "                X_test_C = X_test_m[X_test_m[\"race\"] == \"Caucasian\"].drop(columns=protected_features).to_numpy()\n",
    "                prediction_AA.append(clf.predict(X_test_AA))\n",
    "                prediction_C.append(clf.predict(X_test_C))\n",
    "                scores[0] += clf.score(X_test_m.drop(columns=protected_features).copy().to_numpy(), y_test)\n",
    "                scores[1] += 1\n",
    "        print(\"Acc: {:.4f}\".format(scores[0] / scores[1]), end=\" \")\n",
    "        # compute final predictions by voting\n",
    "        prediction_AA = np.apply_along_axis(helper_freq, 0, np.array(prediction_AA))\n",
    "        prediction_C = np.apply_along_axis(helper_freq, 0, np.array(prediction_C))\n",
    "        matrix_AA = confusion_matrix(y_test_AA, prediction_AA)\n",
    "        matrix_C = confusion_matrix(y_test_C, prediction_C)\n",
    "    result = {\n",
    "        \"African-American\": matrix_AA.ravel().tolist(), # [tn, fp, fn, tp]\n",
    "        \"Caucasian\": matrix_C.ravel().tolist()\n",
    "    }\n",
    "    return result\n",
    "\n",
    "def test_imputation(X, y, protected_features, completer_func=None, multi=False):\n",
    "    # X is pandas dataframe\n",
    "    # y is numpy array,\n",
    "    # protected_features is list\n",
    "    # completer func is the imputation function\n",
    "    global all_params\n",
    "    clfs = { # define all the classifiers with best parameters\n",
    "        \"KNN\": KNeighborsClassifier(n_neighbors=all_params[\"KNN\"][\"n_neighbors\"], leaf_size=all_params[\"KNN\"][\"leaf_size\"]),\n",
    "        \"LinearSVC\": LinearSVC(dual=False, tol=all_params[\"LinearSVC\"][\"tol\"], C=all_params[\"LinearSVC\"][\"C\"], max_iter=all_params[\"LinearSVC\"][\"max_iter\"]),\n",
    "        \"SVC\": SVC(tol=all_params[\"SVC\"][\"tol\"], C=all_params[\"SVC\"][\"C\"], max_iter=all_params[\"SVC\"][\"max_iter\"]),\n",
    "        \"Forest\": RandomForestClassifier(n_estimators=all_params[\"Forest\"][\"n_estimators\"], max_depth=all_params[\"Forest\"][\"max_depth\"], min_samples_leaf=all_params[\"Forest\"][\"min_samples_leaf\"]),\n",
    "        \"LogReg\": LogisticRegression(tol=all_params[\"LogReg\"][\"tol\"], C=all_params[\"LogReg\"][\"C\"], max_iter=all_params[\"LogReg\"][\"max_iter\"]),\n",
    "        \"Tree\": DecisionTreeClassifier(max_depth=all_params[\"Tree\"][\"max_depth\"], max_leaf_nodes=all_params[\"Tree\"][\"max_leaf_nodes\"], min_samples_leaf=all_params[\"Tree\"][\"min_samples_leaf\"]),\n",
    "        \"MLP\": MLPClassifier(alpha=all_params[\"MLP\"][\"alpha\"], learning_rate_init=all_params[\"MLP\"][\"learning_rate_init\"], max_iter=all_params[\"MLP\"][\"max_iter\"]),\n",
    "    }\n",
    "    data_cv = { # save each cv output\n",
    "        \"KNN\": [],\n",
    "        \"LinearSVC\": [],\n",
    "        \"SVC\": [],\n",
    "        \"Forest\": [],\n",
    "        \"LogReg\": [],\n",
    "        \"Tree\": [],\n",
    "        \"MLP\": [],\n",
    "    }\n",
    "    bias1_cv = { # save each bias 1 outputs\n",
    "        \"KNN\": [],\n",
    "        \"LinearSVC\": [],\n",
    "        \"SVC\": [],\n",
    "        \"Forest\": [],\n",
    "        \"LogReg\": [],\n",
    "        \"Tree\": [],\n",
    "        \"MLP\": [],\n",
    "    }\n",
    "    bias2_cv = { # save each bias 2 outputs\n",
    "        \"KNN\": [],\n",
    "        \"LinearSVC\": [],\n",
    "        \"SVC\": [],\n",
    "        \"Forest\": [],\n",
    "        \"LogReg\": [],\n",
    "        \"Tree\": [],\n",
    "        \"MLP\": [],\n",
    "    }\n",
    "    kf = KFold(n_splits=10, shuffle=True)\n",
    "    fold = 1\n",
    "    for train_idx, test_idx in kf.split(X):\n",
    "        print(\"Fold {:>2}\".format(fold), end=\" \")\n",
    "        X_train, X_test = X.iloc[train_idx], X.iloc[test_idx]\n",
    "        y_train, y_test = y[train_idx], y[test_idx]\n",
    "        X_test = X_test.reset_index(drop=True)\n",
    "        X_train = X_train.reset_index(drop=True)\n",
    "        if completer_func:\n",
    "        # do imputations on training set and test set individually\n",
    "            data_incomplete = Dataset(\"tmp\", X_train, y_train, auto_convert=False, protected_features=protected_features)\n",
    "            data_complete = completer_func(data_incomplete)\n",
    "            X_train = [m.X.copy() for m in data_complete] if multi else data_complete.X.copy() \n",
    "            y_train = data_complete[0].y.copy() if multi else data_complete.y.copy()\n",
    "            data_incomplete = Dataset(\"tmp\", X_test, y_test, auto_convert=False, protected_features=protected_features)\n",
    "            data_complete = completer_func(data_incomplete)\n",
    "            X_test = [m.X.copy() for m in data_complete] if multi else data_complete.X.copy()\n",
    "            y_test = data_complete[0].y.copy() if multi else data_complete.y.copy()\n",
    "        # get result for each classifier\n",
    "        for clf_name, clf in clfs.items():\n",
    "            print(\"{}\".format(clf_name), end=\" \")\n",
    "            result = compute_confusion_matrix(X_train, y_train, X_test, y_test, clf, protected_features, multi=multi)\n",
    "            data_cv[clf_name].append(result)\n",
    "            bias1_cv[clf_name].append(bias1(result))\n",
    "            bias2_cv[clf_name].append(bias2(result))\n",
    "        print()\n",
    "        fold += 1\n",
    "    # print(\"Result:\\n{}\".format(data_cv))\n",
    "    return (data_cv, bias1_cv, bias2_cv)"
   ]
  },
  {
   "cell_type": "code",
   "execution_count": 19,
   "metadata": {},
   "outputs": [
    {
     "name": "stdout",
     "output_type": "stream",
     "text": [
      "Fold  1 KNN Acc: 0.6507 LinearSVC Acc: 0.6677 SVC Acc: 0.6038 Forest Acc: 0.7071 LogReg Acc: 0.6763 Tree Acc: 0.6933 MLP Acc: 0.6645 \n",
      "Fold  2 KNN Acc: 0.6198 LinearSVC Acc: 0.6496 SVC Acc: 0.5985 Forest Acc: 0.7135 LogReg Acc: 0.6784 Tree Acc: 0.6794 MLP Acc: 0.6805 \n",
      "Fold  3 KNN Acc: 0.6486 LinearSVC Acc: 0.6709 SVC Acc: 0.6230 Forest Acc: 0.7167 LogReg Acc: 0.6826 Tree Acc: 0.7082 MLP Acc: 0.6294 \n",
      "Fold  4 KNN Acc: 0.6613 LinearSVC Acc: 0.6880 SVC Acc: 0.6390 Forest Acc: 0.7071 LogReg Acc: 0.7007 Tree Acc: 0.7018 MLP Acc: 0.6539 \n",
      "Fold  5 KNN Acc: 0.6237 LinearSVC Acc: 0.6716 SVC Acc: 0.6002 Forest Acc: 0.6994 LogReg Acc: 0.6834 Tree Acc: 0.6962 MLP Acc: 0.6290 \n",
      "Fold  6 KNN Acc: 0.6311 LinearSVC Acc: 0.6599 SVC Acc: 0.5970 Forest Acc: 0.7111 LogReg Acc: 0.6567 Tree Acc: 0.6791 MLP Acc: 0.6279 \n",
      "Fold  7 KNN Acc: 0.6514 LinearSVC Acc: 0.6706 SVC Acc: 0.6109 Forest Acc: 0.7122 LogReg Acc: 0.6695 Tree Acc: 0.6855 MLP Acc: 0.6823 \n",
      "Fold  8 KNN Acc: 0.6258 LinearSVC Acc: 0.6588 SVC Acc: 0.5896 Forest Acc: 0.6844 LogReg Acc: 0.6461 Tree Acc: 0.6866 MLP Acc: 0.6503 \n",
      "Fold  9 KNN Acc: 0.6525 LinearSVC Acc: 0.6546 SVC Acc: 0.6023 Forest Acc: 0.6983 LogReg Acc: 0.6567 Tree Acc: 0.6962 MLP Acc: 0.6599 \n",
      "Fold 10 KNN Acc: 0.6279 LinearSVC Acc: 0.6748 SVC Acc: 0.6418 Forest Acc: 0.6823 LogReg Acc: 0.6855 Tree Acc: 0.6802 MLP Acc: 0.6695 \n"
     ]
    }
   ],
   "source": [
    "# try on original data\n",
    "result_original = test_imputation(data_compas_complete.X.copy(), data_compas_complete.y.copy(), data_compas_complete.protected)"
   ]
  },
  {
   "cell_type": "markdown",
   "metadata": {},
   "source": [
    "### 20% Random"
   ]
  },
  {
   "cell_type": "code",
   "execution_count": 20,
   "metadata": {},
   "outputs": [
    {
     "name": "stdout",
     "output_type": "stream",
     "text": [
      "gen_complete_random: 20980 NaN values have been inserted\n"
     ]
    },
    {
     "data": {
      "text/plain": [
       "age                        1767\n",
       "age_cat                    1765\n",
       "c_charge_degree            1726\n",
       "priors_count               1735\n",
       "juv_misd_count             1766\n",
       "juv_fel_count              1716\n",
       "juv_other_count            1723\n",
       "c_charge_desc              1721\n",
       "days_b_screening_arrest    1767\n",
       "sex                        1740\n",
       "race                       1775\n",
       "length_of_stay             1779\n",
       "dtype: int64"
      ]
     },
     "execution_count": 20,
     "metadata": {},
     "output_type": "execute_result"
    }
   ],
   "source": [
    "# generate simulated missing data\n",
    "data_sim = gen_complete_random(data_compas_complete, random_ratio=0.2)\n",
    "data_sim.X.isnull().sum(axis=0)"
   ]
  },
  {
   "cell_type": "code",
   "execution_count": 21,
   "metadata": {},
   "outputs": [
    {
     "name": "stdout",
     "output_type": "stream",
     "text": [
      "Fold  1 KNN Acc: 0.6305 LinearSVC Acc: 0.6518 SVC Acc: 0.5634 Forest Acc: 0.5612 LogReg Acc: 0.6709 Tree Acc: 0.6177 MLP Acc: 0.6635 \n",
      "Fold  2 KNN Acc: 0.6070 LinearSVC Acc: 0.6411 SVC Acc: 0.5836 Forest Acc: 0.5463 LogReg Acc: 0.6464 Tree Acc: 0.5964 MLP Acc: 0.6539 \n",
      "Fold  3 KNN Acc: 0.6219 LinearSVC Acc: 0.6613 SVC Acc: 0.5889 Forest Acc: 0.5676 LogReg Acc: 0.6635 Tree Acc: 0.6145 MLP Acc: 0.6699 \n",
      "Fold  4 KNN Acc: 0.6454 LinearSVC Acc: 0.6411 SVC Acc: 0.5740 Forest Acc: 0.5676 LogReg Acc: 0.6443 Tree Acc: 0.5985 MLP Acc: 0.5932 \n",
      "Fold  5 KNN Acc: 0.6013 LinearSVC Acc: 0.6066 SVC Acc: 0.5469 Forest Acc: 0.5928 LogReg Acc: 0.6311 Tree Acc: 0.6183 MLP Acc: 0.6173 \n",
      "Fold  6 KNN Acc: 0.5970 LinearSVC Acc: 0.6610 SVC Acc: 0.5490 Forest Acc: 0.5917 LogReg Acc: 0.6599 Tree Acc: 0.5896 MLP Acc: 0.6407 \n",
      "Fold  7 KNN Acc: 0.6279 LinearSVC Acc: 0.6471 SVC Acc: 0.5714 Forest Acc: 0.5597 LogReg Acc: 0.6386 Tree Acc: 0.5981 MLP Acc: 0.6013 \n",
      "Fold  8 KNN Acc: 0.6482 LinearSVC Acc: 0.6684 SVC Acc: 0.5874 Forest Acc: 0.5949 LogReg Acc: 0.6674 Tree Acc: 0.6173 MLP Acc: 0.6311 \n",
      "Fold  9 KNN Acc: 0.6066 LinearSVC Acc: 0.6525 SVC Acc: 0.5938 Forest Acc: 0.5959 LogReg Acc: 0.6546 Tree Acc: 0.6279 MLP Acc: 0.6503 \n",
      "Fold 10 KNN Acc: 0.6109 LinearSVC Acc: 0.6855 SVC Acc: 0.5885 Forest Acc: 0.6045 LogReg Acc: 0.6887 Tree Acc: 0.6269 MLP Acc: 0.6802 \n"
     ]
    }
   ],
   "source": [
    "# fill by mean on simulated\n",
    "result_mean_sim_20 = test_imputation(data_sim.X.copy(), data_sim.y.copy(), data_sim.protected, complete_by_mean_col)"
   ]
  },
  {
   "cell_type": "code",
   "execution_count": 22,
   "metadata": {},
   "outputs": [
    {
     "name": "stdout",
     "output_type": "stream",
     "text": [
      "Fold  1 KNN Acc: 0.6038 LinearSVC Acc: 0.6326 SVC Acc: 0.5580 Forest Acc: 0.6326 LogReg Acc: 0.6262 Tree Acc: 0.6251 MLP Acc: 0.5740 \n",
      "Fold  2 KNN Acc: 0.6315 LinearSVC Acc: 0.6347 SVC Acc: 0.5847 Forest Acc: 0.6592 LogReg Acc: 0.6507 Tree Acc: 0.6624 MLP Acc: 0.5559 \n",
      "Fold  3 KNN Acc: 0.6368 LinearSVC Acc: 0.6550 SVC Acc: 0.6028 Forest Acc: 0.6784 LogReg Acc: 0.6603 Tree Acc: 0.6518 MLP Acc: 0.5868 \n",
      "Fold  4 KNN Acc: 0.6635 LinearSVC Acc: 0.6624 SVC Acc: 0.5644 Forest Acc: 0.6901 LogReg Acc: 0.6752 Tree Acc: 0.6848 MLP Acc: 0.6283 \n",
      "Fold  5 KNN Acc: 0.6215 LinearSVC Acc: 0.6215 SVC Acc: 0.5917 Forest Acc: 0.6642 LogReg Acc: 0.6269 Tree Acc: 0.6514 MLP Acc: 0.6663 \n",
      "Fold  6 KNN Acc: 0.6002 LinearSVC Acc: 0.6546 SVC Acc: 0.5746 Forest Acc: 0.6535 LogReg Acc: 0.6386 Tree Acc: 0.6311 MLP Acc: 0.6333 \n",
      "Fold  7 KNN Acc: 0.6034 LinearSVC Acc: 0.6738 SVC Acc: 0.6151 Forest Acc: 0.6866 LogReg Acc: 0.6770 Tree Acc: 0.6461 MLP Acc: 0.6631 \n",
      "Fold  8 KNN Acc: 0.6237 LinearSVC Acc: 0.6525 SVC Acc: 0.5704 Forest Acc: 0.6642 LogReg Acc: 0.6620 Tree Acc: 0.6343 MLP Acc: 0.6493 \n",
      "Fold  9 KNN Acc: 0.5938 LinearSVC Acc: 0.6183 SVC Acc: 0.5864 Forest Acc: 0.6397 LogReg Acc: 0.6343 Tree Acc: 0.6333 MLP Acc: 0.6514 \n",
      "Fold 10 KNN Acc: 0.6418 LinearSVC Acc: 0.6514 SVC Acc: 0.5800 Forest Acc: 0.6759 LogReg Acc: 0.6439 Tree Acc: 0.6450 MLP Acc: 0.6375 \n"
     ]
    }
   ],
   "source": [
    "# fill by similar on simulated\n",
    "result_similar_sim_20 = test_imputation(data_sim.X.copy(), data_sim.y.copy(), data_sim.protected, complete_by_similar_row)"
   ]
  },
  {
   "cell_type": "code",
   "execution_count": 23,
   "metadata": {},
   "outputs": [
    {
     "name": "stdout",
     "output_type": "stream",
     "text": [
      "Fold  1 KNN Acc: 0.6165 LinearSVC Acc: 0.6275 SVC Acc: 0.6082 Forest Acc: 0.6401 LogReg Acc: 0.6317 Tree Acc: 0.6276 MLP Acc: 0.6430 \n",
      "Fold  2 KNN Acc: 0.6192 LinearSVC Acc: 0.6217 SVC Acc: 0.5729 Forest Acc: 0.6296 LogReg Acc: 0.6288 Tree Acc: 0.6093 MLP Acc: 0.6263 \n",
      "Fold  3 KNN Acc: 0.6355 LinearSVC Acc: 0.6545 SVC Acc: 0.5890 Forest Acc: 0.6676 LogReg Acc: 0.6572 Tree Acc: 0.6463 MLP Acc: 0.6436 \n",
      "Fold  4 KNN Acc: 0.6239 LinearSVC Acc: 0.6600 SVC Acc: 0.5914 Forest Acc: 0.6634 LogReg Acc: 0.6620 Tree Acc: 0.6418 MLP Acc: 0.6457 \n",
      "Fold  5 KNN Acc: 0.6264 LinearSVC Acc: 0.6374 SVC Acc: 0.5760 Forest Acc: 0.6380 LogReg Acc: 0.6401 Tree Acc: 0.6207 MLP Acc: 0.6089 \n",
      "Fold  6 KNN Acc: 0.6179 LinearSVC Acc: 0.6226 SVC Acc: 0.5423 Forest Acc: 0.6627 LogReg Acc: 0.6293 Tree Acc: 0.6460 MLP Acc: 0.6127 \n",
      "Fold  7 KNN Acc: 0.6131 LinearSVC Acc: 0.6239 SVC Acc: 0.5472 Forest Acc: 0.6520 LogReg Acc: 0.6352 Tree Acc: 0.6310 MLP Acc: 0.6140 \n",
      "Fold  8 KNN Acc: 0.6088 LinearSVC Acc: 0.6582 SVC Acc: 0.5732 Forest Acc: 0.6527 LogReg Acc: 0.6633 Tree Acc: 0.6458 MLP Acc: 0.6329 \n",
      "Fold  9 KNN Acc: 0.6360 LinearSVC Acc: 0.6295 SVC Acc: 0.5801 Forest Acc: 0.6491 LogReg Acc: 0.6380 Tree Acc: 0.6420 MLP Acc: 0.6345 \n",
      "Fold 10 KNN Acc: 0.6274 LinearSVC Acc: 0.6356 SVC Acc: 0.5702 Forest Acc: 0.6601 LogReg Acc: 0.6444 Tree Acc: 0.6337 MLP Acc: 0.6370 \n"
     ]
    }
   ],
   "source": [
    "# fill by multiple imputation on simulated\n",
    "result_multi_sim_20 = test_imputation(data_sim.X.copy(), data_sim.y.copy(), data_sim.protected, complete_by_multi, multi=True)"
   ]
  },
  {
   "cell_type": "markdown",
   "metadata": {},
   "source": [
    "### 10% Random"
   ]
  },
  {
   "cell_type": "code",
   "execution_count": 24,
   "metadata": {},
   "outputs": [
    {
     "name": "stdout",
     "output_type": "stream",
     "text": [
      "gen_complete_random: 8901 NaN values have been inserted\n"
     ]
    },
    {
     "data": {
      "text/plain": [
       "age                        739\n",
       "age_cat                    785\n",
       "c_charge_degree            728\n",
       "priors_count               736\n",
       "juv_misd_count             719\n",
       "juv_fel_count              732\n",
       "juv_other_count            745\n",
       "c_charge_desc              710\n",
       "days_b_screening_arrest    767\n",
       "sex                        733\n",
       "race                       765\n",
       "length_of_stay             742\n",
       "dtype: int64"
      ]
     },
     "execution_count": 24,
     "metadata": {},
     "output_type": "execute_result"
    }
   ],
   "source": [
    "data_sim = gen_complete_random(data_compas_complete, random_ratio=0.1)\n",
    "data_sim.X.isnull().sum(axis=0)"
   ]
  },
  {
   "cell_type": "code",
   "execution_count": 25,
   "metadata": {},
   "outputs": [
    {
     "name": "stdout",
     "output_type": "stream",
     "text": [
      "Fold  1 KNN Acc: 0.6337 LinearSVC Acc: 0.6432 SVC Acc: 0.5644 Forest Acc: 0.6273 LogReg Acc: 0.6624 Tree Acc: 0.6443 MLP Acc: 0.6368 \n",
      "Fold  2 KNN Acc: 0.6315 LinearSVC Acc: 0.6677 SVC Acc: 0.5815 Forest Acc: 0.6784 LogReg Acc: 0.6773 Tree Acc: 0.6677 MLP Acc: 0.6124 \n",
      "Fold  3 KNN Acc: 0.6422 LinearSVC Acc: 0.6731 SVC Acc: 0.5836 Forest Acc: 0.6539 LogReg Acc: 0.6773 Tree Acc: 0.6741 MLP Acc: 0.6550 \n",
      "Fold  4 KNN Acc: 0.6155 LinearSVC Acc: 0.6581 SVC Acc: 0.6113 Forest Acc: 0.6592 LogReg Acc: 0.6560 Tree Acc: 0.6581 MLP Acc: 0.6635 \n",
      "Fold  5 KNN Acc: 0.6429 LinearSVC Acc: 0.6482 SVC Acc: 0.5885 Forest Acc: 0.6695 LogReg Acc: 0.6716 Tree Acc: 0.6557 MLP Acc: 0.6311 \n",
      "Fold  6 KNN Acc: 0.6141 LinearSVC Acc: 0.6663 SVC Acc: 0.5991 Forest Acc: 0.6407 LogReg Acc: 0.6748 Tree Acc: 0.6567 MLP Acc: 0.6333 \n",
      "Fold  7 KNN Acc: 0.6482 LinearSVC Acc: 0.6652 SVC Acc: 0.6023 Forest Acc: 0.6546 LogReg Acc: 0.6706 Tree Acc: 0.6514 MLP Acc: 0.5842 \n",
      "Fold  8 KNN Acc: 0.6258 LinearSVC Acc: 0.6439 SVC Acc: 0.5842 Forest Acc: 0.6439 LogReg Acc: 0.6642 Tree Acc: 0.6482 MLP Acc: 0.6503 \n",
      "Fold  9 KNN Acc: 0.6258 LinearSVC Acc: 0.6450 SVC Acc: 0.5736 Forest Acc: 0.6514 LogReg Acc: 0.6610 Tree Acc: 0.6525 MLP Acc: 0.6535 \n",
      "Fold 10 KNN Acc: 0.6471 LinearSVC Acc: 0.6759 SVC Acc: 0.6151 Forest Acc: 0.6674 LogReg Acc: 0.6802 Tree Acc: 0.6780 MLP Acc: 0.6866 \n"
     ]
    }
   ],
   "source": [
    "# fill by mean on simulated\n",
    "result_mean_sim_10 = test_imputation(data_sim.X.copy(), data_sim.y.copy(), data_sim.protected, complete_by_mean_col)"
   ]
  },
  {
   "cell_type": "code",
   "execution_count": 26,
   "metadata": {},
   "outputs": [
    {
     "name": "stdout",
     "output_type": "stream",
     "text": [
      "Fold  1 KNN Acc: 0.6475 LinearSVC Acc: 0.6518 SVC Acc: 0.5815 Forest Acc: 0.6976 LogReg Acc: 0.6720 Tree Acc: 0.6826 MLP Acc: 0.6177 \n",
      "Fold  2 KNN Acc: 0.6294 LinearSVC Acc: 0.6635 SVC Acc: 0.5708 Forest Acc: 0.6869 LogReg Acc: 0.6571 Tree Acc: 0.6794 MLP Acc: 0.6624 \n",
      "Fold  3 KNN Acc: 0.6113 LinearSVC Acc: 0.6773 SVC Acc: 0.6155 Forest Acc: 0.6944 LogReg Acc: 0.6741 Tree Acc: 0.6731 MLP Acc: 0.6773 \n",
      "Fold  4 KNN Acc: 0.6432 LinearSVC Acc: 0.6400 SVC Acc: 0.5921 Forest Acc: 0.6539 LogReg Acc: 0.6539 Tree Acc: 0.6315 MLP Acc: 0.6475 \n",
      "Fold  5 KNN Acc: 0.6375 LinearSVC Acc: 0.6599 SVC Acc: 0.6055 Forest Acc: 0.6588 LogReg Acc: 0.6791 Tree Acc: 0.6439 MLP Acc: 0.6461 \n",
      "Fold  6 KNN Acc: 0.6343 LinearSVC Acc: 0.6727 SVC Acc: 0.6055 Forest Acc: 0.6770 LogReg Acc: 0.6738 Tree Acc: 0.6599 MLP Acc: 0.6279 \n",
      "Fold  7 KNN Acc: 0.6173 LinearSVC Acc: 0.6407 SVC Acc: 0.6066 Forest Acc: 0.6567 LogReg Acc: 0.6471 Tree Acc: 0.6823 MLP Acc: 0.6269 \n",
      "Fold  8 KNN Acc: 0.6525 LinearSVC Acc: 0.6695 SVC Acc: 0.5970 Forest Acc: 0.6940 LogReg Acc: 0.6652 Tree Acc: 0.6791 MLP Acc: 0.6738 \n",
      "Fold  9 KNN Acc: 0.6365 LinearSVC Acc: 0.6770 SVC Acc: 0.6269 Forest Acc: 0.7026 LogReg Acc: 0.6855 Tree Acc: 0.6770 MLP Acc: 0.6919 \n",
      "Fold 10 KNN Acc: 0.6333 LinearSVC Acc: 0.6663 SVC Acc: 0.5981 Forest Acc: 0.6887 LogReg Acc: 0.6738 Tree Acc: 0.6695 MLP Acc: 0.6706 \n"
     ]
    }
   ],
   "source": [
    "# fill by similar on simulated\n",
    "result_similar_sim_10 = test_imputation(data_sim.X.copy(), data_sim.y.copy(), data_sim.protected, complete_by_similar_row)"
   ]
  },
  {
   "cell_type": "code",
   "execution_count": 27,
   "metadata": {},
   "outputs": [
    {
     "name": "stdout",
     "output_type": "stream",
     "text": [
      "Fold  1 KNN Acc: 0.6380 LinearSVC Acc: 0.6605 SVC Acc: 0.5986 Forest Acc: 0.6894 LogReg Acc: 0.6659 Tree Acc: 0.6866 MLP Acc: 0.6796 \n",
      "Fold  2 KNN Acc: 0.6103 LinearSVC Acc: 0.6635 SVC Acc: 0.5849 Forest Acc: 0.6801 LogReg Acc: 0.6618 Tree Acc: 0.6671 MLP Acc: 0.6331 \n",
      "Fold  3 KNN Acc: 0.6270 LinearSVC Acc: 0.6343 SVC Acc: 0.5628 Forest Acc: 0.6732 LogReg Acc: 0.6369 Tree Acc: 0.6661 MLP Acc: 0.6280 \n",
      "Fold  4 KNN Acc: 0.6051 LinearSVC Acc: 0.6665 SVC Acc: 0.5946 Forest Acc: 0.6867 LogReg Acc: 0.6690 Tree Acc: 0.6796 MLP Acc: 0.6704 \n",
      "Fold  5 KNN Acc: 0.6157 LinearSVC Acc: 0.6380 SVC Acc: 0.5546 Forest Acc: 0.6499 LogReg Acc: 0.6466 Tree Acc: 0.6482 MLP Acc: 0.6297 \n",
      "Fold  6 KNN Acc: 0.6476 LinearSVC Acc: 0.6681 SVC Acc: 0.6099 Forest Acc: 0.6928 LogReg Acc: 0.6759 Tree Acc: 0.6826 MLP Acc: 0.6563 \n",
      "Fold  7 KNN Acc: 0.6476 LinearSVC Acc: 0.6577 SVC Acc: 0.5616 Forest Acc: 0.6782 LogReg Acc: 0.6594 Tree Acc: 0.6659 MLP Acc: 0.6524 \n",
      "Fold  8 KNN Acc: 0.6338 LinearSVC Acc: 0.6773 SVC Acc: 0.6022 Forest Acc: 0.6883 LogReg Acc: 0.6845 Tree Acc: 0.6812 MLP Acc: 0.6760 \n",
      "Fold  9 KNN Acc: 0.6360 LinearSVC Acc: 0.6507 SVC Acc: 0.6103 Forest Acc: 0.6568 LogReg Acc: 0.6533 Tree Acc: 0.6462 MLP Acc: 0.6449 \n",
      "Fold 10 KNN Acc: 0.6313 LinearSVC Acc: 0.6306 SVC Acc: 0.5499 Forest Acc: 0.6739 LogReg Acc: 0.6432 Tree Acc: 0.6762 MLP Acc: 0.6423 \n"
     ]
    }
   ],
   "source": [
    "# fill by multiple imputation on simulated\n",
    "result_multi_sim_10 = test_imputation(data_sim.X.copy(), data_sim.y.copy(), data_sim.protected, complete_by_multi, multi=True)"
   ]
  },
  {
   "cell_type": "markdown",
   "metadata": {},
   "source": [
    "### 5% Random"
   ]
  },
  {
   "cell_type": "code",
   "execution_count": 28,
   "metadata": {},
   "outputs": [
    {
     "name": "stdout",
     "output_type": "stream",
     "text": [
      "gen_complete_random: 4196 NaN values have been inserted\n"
     ]
    },
    {
     "data": {
      "text/plain": [
       "age                        330\n",
       "age_cat                    352\n",
       "c_charge_degree            364\n",
       "priors_count               346\n",
       "juv_misd_count             340\n",
       "juv_fel_count              363\n",
       "juv_other_count            360\n",
       "c_charge_desc              336\n",
       "days_b_screening_arrest    338\n",
       "sex                        354\n",
       "race                       355\n",
       "length_of_stay             358\n",
       "dtype: int64"
      ]
     },
     "execution_count": 28,
     "metadata": {},
     "output_type": "execute_result"
    }
   ],
   "source": [
    "data_sim = gen_complete_random(data_compas_complete, random_ratio=0.05)\n",
    "data_sim.X.isnull().sum(axis=0)"
   ]
  },
  {
   "cell_type": "code",
   "execution_count": 29,
   "metadata": {},
   "outputs": [
    {
     "name": "stdout",
     "output_type": "stream",
     "text": [
      "Fold  1 KNN Acc: 0.6326 LinearSVC Acc: 0.6539 SVC Acc: 0.6177 Forest Acc: 0.6954 LogReg Acc: 0.6720 Tree Acc: 0.6922 MLP Acc: 0.6550 \n",
      "Fold  2 KNN Acc: 0.6400 LinearSVC Acc: 0.6411 SVC Acc: 0.6006 Forest Acc: 0.6645 LogReg Acc: 0.6518 Tree Acc: 0.6507 MLP Acc: 0.5708 \n",
      "Fold  3 KNN Acc: 0.6198 LinearSVC Acc: 0.6816 SVC Acc: 0.5772 Forest Acc: 0.6997 LogReg Acc: 0.6933 Tree Acc: 0.6922 MLP Acc: 0.6805 \n",
      "Fold  4 KNN Acc: 0.6368 LinearSVC Acc: 0.6826 SVC Acc: 0.6347 Forest Acc: 0.6763 LogReg Acc: 0.6997 Tree Acc: 0.6592 MLP Acc: 0.6560 \n",
      "Fold  5 KNN Acc: 0.6215 LinearSVC Acc: 0.6599 SVC Acc: 0.5938 Forest Acc: 0.6908 LogReg Acc: 0.6578 Tree Acc: 0.6684 MLP Acc: 0.6226 \n",
      "Fold  6 KNN Acc: 0.6087 LinearSVC Acc: 0.6770 SVC Acc: 0.6141 Forest Acc: 0.6908 LogReg Acc: 0.6706 Tree Acc: 0.6748 MLP Acc: 0.6354 \n",
      "Fold  7 KNN Acc: 0.6194 LinearSVC Acc: 0.6461 SVC Acc: 0.5714 Forest Acc: 0.6855 LogReg Acc: 0.6578 Tree Acc: 0.6599 MLP Acc: 0.6322 \n",
      "Fold  8 KNN Acc: 0.6322 LinearSVC Acc: 0.6567 SVC Acc: 0.6087 Forest Acc: 0.6930 LogReg Acc: 0.6652 Tree Acc: 0.6503 MLP Acc: 0.5906 \n",
      "Fold  9 KNN Acc: 0.6237 LinearSVC Acc: 0.6748 SVC Acc: 0.6045 Forest Acc: 0.7004 LogReg Acc: 0.6770 Tree Acc: 0.6802 MLP Acc: 0.6887 \n",
      "Fold 10 KNN Acc: 0.6194 LinearSVC Acc: 0.6599 SVC Acc: 0.6045 Forest Acc: 0.6525 LogReg Acc: 0.6684 Tree Acc: 0.6652 MLP Acc: 0.6514 \n"
     ]
    }
   ],
   "source": [
    "# fill by mean on simulated\n",
    "result_mean_sim_5 = test_imputation(data_sim.X.copy(), data_sim.y.copy(), data_sim.protected, complete_by_mean_col)"
   ]
  },
  {
   "cell_type": "code",
   "execution_count": 30,
   "metadata": {},
   "outputs": [
    {
     "name": "stdout",
     "output_type": "stream",
     "text": [
      "Fold  1 KNN Acc: 0.6411 LinearSVC Acc: 0.6613 SVC Acc: 0.5921 Forest Acc: 0.7071 LogReg Acc: 0.6699 Tree Acc: 0.6933 MLP Acc: 0.6709 \n",
      "Fold  2 KNN Acc: 0.6230 LinearSVC Acc: 0.6454 SVC Acc: 0.5942 Forest Acc: 0.6837 LogReg Acc: 0.6613 Tree Acc: 0.6880 MLP Acc: 0.6166 \n",
      "Fold  3 KNN Acc: 0.6337 LinearSVC Acc: 0.6486 SVC Acc: 0.6155 Forest Acc: 0.6805 LogReg Acc: 0.6635 Tree Acc: 0.6539 MLP Acc: 0.6550 \n",
      "Fold  4 KNN Acc: 0.6326 LinearSVC Acc: 0.6794 SVC Acc: 0.6070 Forest Acc: 0.7050 LogReg Acc: 0.6731 Tree Acc: 0.6944 MLP Acc: 0.6496 \n",
      "Fold  5 KNN Acc: 0.6194 LinearSVC Acc: 0.6802 SVC Acc: 0.6173 Forest Acc: 0.6972 LogReg Acc: 0.6898 Tree Acc: 0.6866 MLP Acc: 0.7015 \n",
      "Fold  6 KNN Acc: 0.6343 LinearSVC Acc: 0.6663 SVC Acc: 0.6205 Forest Acc: 0.6684 LogReg Acc: 0.6716 Tree Acc: 0.6759 MLP Acc: 0.6631 \n",
      "Fold  7 KNN Acc: 0.6162 LinearSVC Acc: 0.6429 SVC Acc: 0.6013 Forest Acc: 0.6738 LogReg Acc: 0.6567 Tree Acc: 0.6525 MLP Acc: 0.6525 \n",
      "Fold  8 KNN Acc: 0.6237 LinearSVC Acc: 0.6855 SVC Acc: 0.5768 Forest Acc: 0.6802 LogReg Acc: 0.6855 Tree Acc: 0.6716 MLP Acc: 0.6375 \n",
      "Fold  9 KNN Acc: 0.6290 LinearSVC Acc: 0.6716 SVC Acc: 0.6301 Forest Acc: 0.7164 LogReg Acc: 0.6684 Tree Acc: 0.7026 MLP Acc: 0.6525 \n",
      "Fold 10 KNN Acc: 0.6258 LinearSVC Acc: 0.6439 SVC Acc: 0.6226 Forest Acc: 0.6770 LogReg Acc: 0.6450 Tree Acc: 0.6684 MLP Acc: 0.5768 \n"
     ]
    }
   ],
   "source": [
    "# fill by similar on simulated\n",
    "result_similar_sim_5 = test_imputation(data_sim.X.copy(), data_sim.y.copy(), data_sim.protected, complete_by_similar_row)"
   ]
  },
  {
   "cell_type": "code",
   "execution_count": 31,
   "metadata": {},
   "outputs": [
    {
     "name": "stdout",
     "output_type": "stream",
     "text": [
      "Fold  1 KNN Acc: 0.6388 LinearSVC Acc: 0.6532 SVC Acc: 0.5942 Forest Acc: 0.6929 LogReg Acc: 0.6622 Tree Acc: 0.6801 MLP Acc: 0.6257 \n",
      "Fold  2 KNN Acc: 0.6260 LinearSVC Acc: 0.6534 SVC Acc: 0.5888 Forest Acc: 0.6926 LogReg Acc: 0.6629 Tree Acc: 0.6913 MLP Acc: 0.6345 \n",
      "Fold  3 KNN Acc: 0.6081 LinearSVC Acc: 0.6642 SVC Acc: 0.5918 Forest Acc: 0.6732 LogReg Acc: 0.6657 Tree Acc: 0.6509 MLP Acc: 0.6443 \n",
      "Fold  4 KNN Acc: 0.6193 LinearSVC Acc: 0.6535 SVC Acc: 0.5781 Forest Acc: 0.6879 LogReg Acc: 0.6683 Tree Acc: 0.6731 MLP Acc: 0.6577 \n",
      "Fold  5 KNN Acc: 0.6320 LinearSVC Acc: 0.6824 SVC Acc: 0.6202 Forest Acc: 0.7006 LogReg Acc: 0.6904 Tree Acc: 0.6892 MLP Acc: 0.6875 \n",
      "Fold  6 KNN Acc: 0.6320 LinearSVC Acc: 0.6303 SVC Acc: 0.5644 Forest Acc: 0.6625 LogReg Acc: 0.6409 Tree Acc: 0.6571 MLP Acc: 0.5997 \n",
      "Fold  7 KNN Acc: 0.6297 LinearSVC Acc: 0.6480 SVC Acc: 0.5739 Forest Acc: 0.6721 LogReg Acc: 0.6538 Tree Acc: 0.6678 MLP Acc: 0.6415 \n",
      "Fold  8 KNN Acc: 0.6491 LinearSVC Acc: 0.6826 SVC Acc: 0.5951 Forest Acc: 0.7049 LogReg Acc: 0.6901 Tree Acc: 0.6999 MLP Acc: 0.6970 \n",
      "Fold  9 KNN Acc: 0.6275 LinearSVC Acc: 0.6665 SVC Acc: 0.6099 Forest Acc: 0.6933 LogReg Acc: 0.6724 Tree Acc: 0.6705 MLP Acc: 0.6444 \n",
      "Fold 10 KNN Acc: 0.6352 LinearSVC Acc: 0.6899 SVC Acc: 0.6139 Forest Acc: 0.7009 LogReg Acc: 0.7004 Tree Acc: 0.6792 MLP Acc: 0.6650 \n"
     ]
    }
   ],
   "source": [
    "# fill by multiple imputation on simulated\n",
    "result_multi_sim_5 = test_imputation(data_sim.X.copy(), data_sim.y.copy(), data_sim.protected, complete_by_multi, multi=True)"
   ]
  },
  {
   "cell_type": "markdown",
   "metadata": {},
   "source": [
    "### Save Results"
   ]
  },
  {
   "cell_type": "code",
   "execution_count": 33,
   "metadata": {},
   "outputs": [],
   "source": [
    "# save confusion matrix for each classifier\n",
    "classifiers = [\"KNN\", \"LinearSVC\", \"SVC\", \"Forest\", \"LogReg\", \"Tree\", \"MLP\"]\n",
    "raw_data = [result_original, result_mean_sim_20, result_similar_sim_20, result_multi_sim_20,\n",
    "            result_mean_sim_10, result_similar_sim_10, result_multi_sim_10,\n",
    "            result_mean_sim_5, result_similar_sim_5, result_multi_sim_5]\n",
    "fold_names = [\"(Fold {:>2})\".format(x+1) for x in range(10)]\n",
    "conf_names = [x + \" \" + y for y in fold_names\n",
    "              for x in [\"TN_AA\", \"FP_AA\", \"FN_AA\", \"TP_AA\", \"TN_C\", \"FP_C\", \"FN_C\", \"TP_C\"]]\n",
    "methods = [\"Original\",\n",
    "           \"Mean Imputation (20%)\",\n",
    "           \"Similar Imputation (20%)\",\n",
    "           \"Multiple Imputation (20%)\",\n",
    "           \"Mean Imputation (10%)\",\n",
    "           \"Similar Imputation (10%)\",\n",
    "           \"Multiple Imputation (10%)\",\n",
    "           \"Mean Imputation (5%)\",\n",
    "           \"Similar Imputation (5%)\",\n",
    "           \"Multiple Imputation (5%)\"]\n",
    "\n",
    "if not os.path.exists(\"compas_analysis\"):\n",
    "    os.makedirs(\"compas_analysis\")\n",
    "\n",
    "for clf_name in classifiers:\n",
    "    if not os.path.exists(os.path.join(\"compas_analysis\", clf_name)):\n",
    "        os.makedirs(os.path.join(\"compas_analysis\", clf_name))    "
   ]
  },
  {
   "cell_type": "code",
   "execution_count": 48,
   "metadata": {},
   "outputs": [],
   "source": [
    "def save_cv(data):\n",
    "    data_cv = [m[0] for m in data]\n",
    "    for clf_name in classifiers:\n",
    "        new_data = []\n",
    "        dd = [m[clf_name] for m in data_cv]\n",
    "        for fold_10 in dd:\n",
    "            fold_line = []\n",
    "            for fold in fold_10:\n",
    "                fold_line += fold[\"African-American\"]\n",
    "                fold_line += fold[\"Caucasian\"]\n",
    "            new_data.append(fold_line)\n",
    "        df = pd.DataFrame(new_data, columns=conf_names, index=methods)\n",
    "        df.transpose().to_csv(os.path.join(\"compas_analysis\", clf_name, \"10folds.csv\"))"
   ]
  },
  {
   "cell_type": "code",
   "execution_count": 51,
   "metadata": {},
   "outputs": [],
   "source": [
    "def save_bias(data):\n",
    "    bias1 = [m[1] for m in data]\n",
    "    bias2 = [m[2] for m in data]\n",
    "    for clf_name in classifiers:\n",
    "        bias1_clf = [m[clf_name] for m in bias1]\n",
    "        bias1_clf = [x + [sum(x) / len(x)] for x in bias1_clf]\n",
    "        bias2_clf = [m[clf_name] for m in bias2]\n",
    "        bias2_clf = [x + [sum(x) / len(x)] for x in bias2_clf]\n",
    "        df1 = pd.DataFrame(bias1_clf, columns=fold_names + [\"Average\"], index=methods)\n",
    "        df2 = pd.DataFrame(bias2_clf, columns=fold_names + [\"Average\"], index=methods)\n",
    "        df1.transpose().to_csv(os.path.join(\"compas_analysis\", clf_name, \"bias1.csv\"))\n",
    "        df2.transpose().to_csv(os.path.join(\"compas_analysis\", clf_name, \"bias2.csv\"))"
   ]
  },
  {
   "cell_type": "code",
   "execution_count": 52,
   "metadata": {},
   "outputs": [],
   "source": [
    "save_cv(raw_data)\n",
    "save_bias(raw_data)"
   ]
  },
  {
   "cell_type": "markdown",
   "metadata": {},
   "source": [
    "### Plots"
   ]
  },
  {
   "cell_type": "code",
   "execution_count": 53,
   "metadata": {},
   "outputs": [],
   "source": [
    "import matplotlib.pyplot as plt\n",
    "import seaborn as sns"
   ]
  },
  {
   "cell_type": "code",
   "execution_count": 63,
   "metadata": {},
   "outputs": [
    {
     "data": {
      "image/png": "[encoded data removed]",
      "text/plain": [
       "<Figure size 1512x720 with 1 Axes>"
      ]
     },
     "metadata": {
      "needs_background": "light"
     },
     "output_type": "display_data"
    }
   ],
   "source": [
    "bias1_plot = []\n",
    "for clf_name in classifiers:\n",
    "    dd = pd.read_csv(os.path.join(\"compas_analysis\", clf_name, \"bias1.csv\"), index_col=0)\n",
    "    avg = dd.loc[\"Average\"].tolist()\n",
    "    for (i, method_name) in enumerate(methods):\n",
    "        bias1_plot.append([clf_name, method_name, avg[i]])\n",
    "bias1_plot = pd.DataFrame(bias1_plot, columns=[\"classifier\", \"method\", \"value\"])\n",
    "plt.figure(figsize=(21, 10))\n",
    "sns.set_context('paper')\n",
    "sns.barplot(x=\"classifier\", y=\"value\", hue=\"method\", data=bias1_plot, alpha=1.0)\n",
    "plt.title(\"Compas Analysis: Bias 1\")\n",
    "plt.show()"
   ]
  },
  {
   "cell_type": "code",
   "execution_count": 62,
   "metadata": {},
   "outputs": [
    {
     "data": {
      "image/png": "[encoded data removed]",
      "text/plain": [
       "<Figure size 2160x720 with 1 Axes>"
      ]
     },
     "metadata": {
      "needs_background": "light"
     },
     "output_type": "display_data"
    }
   ],
   "source": [
    "bias2_plot = []\n",
    "for clf_name in classifiers:\n",
    "    dd = pd.read_csv(os.path.join(\"compas_analysis\", clf_name, \"bias2.csv\"), index_col=0)\n",
    "    avg = dd.loc[\"Average\"].tolist()\n",
    "    for (i, method_name) in enumerate(methods):\n",
    "        bias2_plot.append([clf_name, method_name, avg[i]])\n",
    "bias2_plot = pd.DataFrame(bias2_plot, columns=[\"classifier\", \"method\", \"value\"])\n",
    "plt.figure(figsize=(30, 10))\n",
    "sns.set_context('paper')\n",
    "sns.barplot(x=\"classifier\", y=\"value\", hue=\"method\", data=bias2_plot, alpha=1.0)\n",
    "plt.title(\"Compas Analysis: Bias 2\")\n",
    "plt.show()"
   ]
  }
 ],
 "metadata": {
  "kernelspec": {
   "display_name": "Python 3",
   "language": "python",
   "name": "python3"
  },
  "language_info": {
   "codemirror_mode": {
    "name": "ipython",
    "version": 3
   },
   "file_extension": ".py",
   "mimetype": "text/x-python",
   "name": "python",
   "nbconvert_exporter": "python",
   "pygments_lexer": "ipython3",
   "version": "3.8.2"
  }
 },
 "nbformat": 4,
 "nbformat_minor": 4
}
