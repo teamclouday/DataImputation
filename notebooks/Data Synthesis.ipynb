{
 "cells": [
  {
   "cell_type": "code",
   "execution_count": 1,
   "metadata": {},
   "outputs": [],
   "source": [
    "import os\n",
    "os.chdir(\"..\")\n",
    "import pandas as pd\n",
    "import numpy as np\n",
    "from scipy.stats import truncnorm"
   ]
  },
  {
   "cell_type": "code",
   "execution_count": 2,
   "metadata": {},
   "outputs": [],
   "source": [
    "from utils.data import Dataset\n",
    "from utils.completer import complete_by_mean_col\n",
    "from utils.generator import gen_complete_random"
   ]
  },
  {
   "cell_type": "code",
   "execution_count": 3,
   "metadata": {},
   "outputs": [],
   "source": [
    "from sklearn.linear_model import LogisticRegression\n",
    "from sklearn.neighbors import KNeighborsClassifier\n",
    "from sklearn.svm import LinearSVC\n",
    "from sklearn.ensemble import RandomForestClassifier\n",
    "from sklearn.model_selection import train_test_split"
   ]
  },
  {
   "cell_type": "code",
   "execution_count": 4,
   "metadata": {},
   "outputs": [],
   "source": [
    "def create_data(size=1000, corr=0.5):\n",
    "    Y = np.random.randint(0, 2, (size,)).astype(np.float32)\n",
    "\n",
    "    col0 = np.random.randint(0, 2, (size,)).astype(np.float32)\n",
    "\n",
    "    vec1 = np.random.randint(0, 2, (size,)).astype(np.float32)\n",
    "    col1 = corr*(col0/np.linalg.norm(col0)) + (1-corr**2)**0.5*(vec1/np.linalg.norm(vec1))\n",
    "\n",
    "    lower, upper = 0.1, 10.0\n",
    "    mean = 2.0\n",
    "    sd = 0.5\n",
    "    col2 = np.random.randn() * Y + truncnorm((lower - mean) / sd, (upper - mean) / sd, loc=mean, scale=sd).rvs(size)\n",
    "    col3 = np.random.randn() * Y + truncnorm((lower - mean) / sd, (upper - mean) / sd, loc=mean, scale=sd).rvs(size)\n",
    "    col4 = np.random.randn() * Y + truncnorm((lower - mean) / sd, (upper - mean) / sd, loc=mean, scale=sd).rvs(size)\n",
    "    \n",
    "    X = pd.DataFrame(np.column_stack((col0, col1, col2, col3, col4)))\n",
    "\n",
    "    return X, Y"
   ]
  },
  {
   "cell_type": "code",
   "execution_count": 5,
   "metadata": {},
   "outputs": [
    {
     "data": {
      "text/html": [
       "<div>\n",
       "<style scoped>\n",
       "    .dataframe tbody tr th:only-of-type {\n",
       "        vertical-align: middle;\n",
       "    }\n",
       "\n",
       "    .dataframe tbody tr th {\n",
       "        vertical-align: top;\n",
       "    }\n",
       "\n",
       "    .dataframe thead th {\n",
       "        text-align: right;\n",
       "    }\n",
       "</style>\n",
       "<table border=\"1\" class=\"dataframe\">\n",
       "  <thead>\n",
       "    <tr style=\"text-align: right;\">\n",
       "      <th></th>\n",
       "      <th>0</th>\n",
       "      <th>1</th>\n",
       "      <th>2</th>\n",
       "      <th>3</th>\n",
       "      <th>4</th>\n",
       "    </tr>\n",
       "  </thead>\n",
       "  <tbody>\n",
       "    <tr>\n",
       "      <th>0</th>\n",
       "      <td>1.000000</td>\n",
       "      <td>0.496746</td>\n",
       "      <td>0.038494</td>\n",
       "      <td>0.001687</td>\n",
       "      <td>-0.021790</td>\n",
       "    </tr>\n",
       "    <tr>\n",
       "      <th>1</th>\n",
       "      <td>0.496746</td>\n",
       "      <td>1.000000</td>\n",
       "      <td>0.047532</td>\n",
       "      <td>0.022929</td>\n",
       "      <td>0.006904</td>\n",
       "    </tr>\n",
       "    <tr>\n",
       "      <th>2</th>\n",
       "      <td>0.038494</td>\n",
       "      <td>0.047532</td>\n",
       "      <td>1.000000</td>\n",
       "      <td>-0.279850</td>\n",
       "      <td>-0.059029</td>\n",
       "    </tr>\n",
       "    <tr>\n",
       "      <th>3</th>\n",
       "      <td>0.001687</td>\n",
       "      <td>0.022929</td>\n",
       "      <td>-0.279850</td>\n",
       "      <td>1.000000</td>\n",
       "      <td>0.060634</td>\n",
       "    </tr>\n",
       "    <tr>\n",
       "      <th>4</th>\n",
       "      <td>-0.021790</td>\n",
       "      <td>0.006904</td>\n",
       "      <td>-0.059029</td>\n",
       "      <td>0.060634</td>\n",
       "      <td>1.000000</td>\n",
       "    </tr>\n",
       "  </tbody>\n",
       "</table>\n",
       "</div>"
      ],
      "text/plain": [
       "          0         1         2         3         4\n",
       "0  1.000000  0.496746  0.038494  0.001687 -0.021790\n",
       "1  0.496746  1.000000  0.047532  0.022929  0.006904\n",
       "2  0.038494  0.047532  1.000000 -0.279850 -0.059029\n",
       "3  0.001687  0.022929 -0.279850  1.000000  0.060634\n",
       "4 -0.021790  0.006904 -0.059029  0.060634  1.000000"
      ]
     },
     "execution_count": 5,
     "metadata": {},
     "output_type": "execute_result"
    }
   ],
   "source": [
    "X_data, Y_data = create_data()\n",
    "X_data.corr()"
   ]
  },
  {
   "cell_type": "code",
   "execution_count": 6,
   "metadata": {},
   "outputs": [
    {
     "data": {
      "text/html": [
       "<div>\n",
       "<style scoped>\n",
       "    .dataframe tbody tr th:only-of-type {\n",
       "        vertical-align: middle;\n",
       "    }\n",
       "\n",
       "    .dataframe tbody tr th {\n",
       "        vertical-align: top;\n",
       "    }\n",
       "\n",
       "    .dataframe thead th {\n",
       "        text-align: right;\n",
       "    }\n",
       "</style>\n",
       "<table border=\"1\" class=\"dataframe\">\n",
       "  <thead>\n",
       "    <tr style=\"text-align: right;\">\n",
       "      <th></th>\n",
       "      <th>0</th>\n",
       "      <th>1</th>\n",
       "      <th>2</th>\n",
       "      <th>3</th>\n",
       "      <th>4</th>\n",
       "      <th>_TARGET_</th>\n",
       "    </tr>\n",
       "  </thead>\n",
       "  <tbody>\n",
       "    <tr>\n",
       "      <th>0</th>\n",
       "      <td>1.000000</td>\n",
       "      <td>0.496746</td>\n",
       "      <td>0.038494</td>\n",
       "      <td>0.001687</td>\n",
       "      <td>-0.021790</td>\n",
       "      <td>0.015265</td>\n",
       "    </tr>\n",
       "    <tr>\n",
       "      <th>1</th>\n",
       "      <td>0.496746</td>\n",
       "      <td>1.000000</td>\n",
       "      <td>0.047532</td>\n",
       "      <td>0.022929</td>\n",
       "      <td>0.006904</td>\n",
       "      <td>0.018243</td>\n",
       "    </tr>\n",
       "    <tr>\n",
       "      <th>2</th>\n",
       "      <td>0.038494</td>\n",
       "      <td>0.047532</td>\n",
       "      <td>1.000000</td>\n",
       "      <td>-0.279850</td>\n",
       "      <td>-0.059029</td>\n",
       "      <td>0.662349</td>\n",
       "    </tr>\n",
       "    <tr>\n",
       "      <th>3</th>\n",
       "      <td>0.001687</td>\n",
       "      <td>0.022929</td>\n",
       "      <td>-0.279850</td>\n",
       "      <td>1.000000</td>\n",
       "      <td>0.060634</td>\n",
       "      <td>-0.433767</td>\n",
       "    </tr>\n",
       "    <tr>\n",
       "      <th>4</th>\n",
       "      <td>-0.021790</td>\n",
       "      <td>0.006904</td>\n",
       "      <td>-0.059029</td>\n",
       "      <td>0.060634</td>\n",
       "      <td>1.000000</td>\n",
       "      <td>-0.021018</td>\n",
       "    </tr>\n",
       "    <tr>\n",
       "      <th>_TARGET_</th>\n",
       "      <td>0.015265</td>\n",
       "      <td>0.018243</td>\n",
       "      <td>0.662349</td>\n",
       "      <td>-0.433767</td>\n",
       "      <td>-0.021018</td>\n",
       "      <td>1.000000</td>\n",
       "    </tr>\n",
       "  </tbody>\n",
       "</table>\n",
       "</div>"
      ],
      "text/plain": [
       "                 0         1         2         3         4  _TARGET_\n",
       "0         1.000000  0.496746  0.038494  0.001687 -0.021790  0.015265\n",
       "1         0.496746  1.000000  0.047532  0.022929  0.006904  0.018243\n",
       "2         0.038494  0.047532  1.000000 -0.279850 -0.059029  0.662349\n",
       "3         0.001687  0.022929 -0.279850  1.000000  0.060634 -0.433767\n",
       "4        -0.021790  0.006904 -0.059029  0.060634  1.000000 -0.021018\n",
       "_TARGET_  0.015265  0.018243  0.662349 -0.433767 -0.021018  1.000000"
      ]
     },
     "execution_count": 6,
     "metadata": {},
     "output_type": "execute_result"
    }
   ],
   "source": [
    "pd.concat([X_data, pd.DataFrame(Y_data, columns=[\"_TARGET_\"])], axis=1).corr()"
   ]
  },
  {
   "cell_type": "code",
   "execution_count": 7,
   "metadata": {},
   "outputs": [],
   "source": [
    "X_train, X_test, Y_train, Y_test = train_test_split(X_data, Y_data, test_size=0.3)"
   ]
  },
  {
   "cell_type": "code",
   "execution_count": 8,
   "metadata": {},
   "outputs": [
    {
     "data": {
      "text/plain": [
       "0.8566666666666667"
      ]
     },
     "execution_count": 8,
     "metadata": {},
     "output_type": "execute_result"
    }
   ],
   "source": [
    "clf = LogisticRegression()\n",
    "clf.fit(X_train, Y_train)\n",
    "clf.score(X_test, Y_test)"
   ]
  },
  {
   "cell_type": "code",
   "execution_count": 9,
   "metadata": {},
   "outputs": [
    {
     "data": {
      "text/plain": [
       "0.82"
      ]
     },
     "execution_count": 9,
     "metadata": {},
     "output_type": "execute_result"
    }
   ],
   "source": [
    "clf = KNeighborsClassifier()\n",
    "clf.fit(X_train, Y_train)\n",
    "clf.score(X_test, Y_test)"
   ]
  },
  {
   "cell_type": "code",
   "execution_count": 10,
   "metadata": {},
   "outputs": [
    {
     "data": {
      "text/plain": [
       "0.8566666666666667"
      ]
     },
     "execution_count": 10,
     "metadata": {},
     "output_type": "execute_result"
    }
   ],
   "source": [
    "clf = LinearSVC(max_iter=10000)\n",
    "clf.fit(X_train, Y_train)\n",
    "clf.score(X_test, Y_test)"
   ]
  },
  {
   "cell_type": "code",
   "execution_count": 11,
   "metadata": {},
   "outputs": [
    {
     "data": {
      "text/plain": [
       "0.81"
      ]
     },
     "execution_count": 11,
     "metadata": {},
     "output_type": "execute_result"
    }
   ],
   "source": [
    "clf = RandomForestClassifier()\n",
    "clf.fit(X_train, Y_train)\n",
    "clf.score(X_test, Y_test)"
   ]
  },
  {
   "cell_type": "code",
   "execution_count": null,
   "metadata": {},
   "outputs": [],
   "source": []
  }
 ],
 "metadata": {
  "kernelspec": {
   "display_name": "Python 3",
   "language": "python",
   "name": "python3"
  },
  "language_info": {
   "codemirror_mode": {
    "name": "ipython",
    "version": 3
   },
   "file_extension": ".py",
   "mimetype": "text/x-python",
   "name": "python",
   "nbconvert_exporter": "python",
   "pygments_lexer": "ipython3",
   "version": "3.6.8"
  }
 },
 "nbformat": 4,
 "nbformat_minor": 4
}
