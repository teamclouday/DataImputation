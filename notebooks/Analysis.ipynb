{
 "cells": [
  {
   "cell_type": "code",
   "execution_count": 1,
   "metadata": {},
   "outputs": [],
   "source": [
    "import os\n",
    "os.chdir(\"..\")\n",
    "import numpy as np\n",
    "import pandas as pd\n",
    "import seaborn as sns\n",
    "import matplotlib.pyplot as plt"
   ]
  },
  {
   "cell_type": "code",
   "execution_count": 2,
   "metadata": {},
   "outputs": [],
   "source": [
    "data = pd.read_excel(os.path.join(\"ratio_analysis_plots\", \"d_processed.xlsx\"))"
   ]
  },
  {
   "cell_type": "code",
   "execution_count": 3,
   "metadata": {},
   "outputs": [
    {
     "data": {
      "text/html": [
       "<div>\n",
       "<style scoped>\n",
       "    .dataframe tbody tr th:only-of-type {\n",
       "        vertical-align: middle;\n",
       "    }\n",
       "\n",
       "    .dataframe tbody tr th {\n",
       "        vertical-align: top;\n",
       "    }\n",
       "\n",
       "    .dataframe thead th {\n",
       "        text-align: right;\n",
       "    }\n",
       "</style>\n",
       "<table border=\"1\" class=\"dataframe\">\n",
       "  <thead>\n",
       "    <tr style=\"text-align: right;\">\n",
       "      <th></th>\n",
       "      <th>dataset</th>\n",
       "      <th>ml_name</th>\n",
       "      <th>method</th>\n",
       "      <th>lambda</th>\n",
       "      <th>k</th>\n",
       "      <th>Avg.e^2</th>\n",
       "    </tr>\n",
       "  </thead>\n",
       "  <tbody>\n",
       "    <tr>\n",
       "      <th>0</th>\n",
       "      <td>adult</td>\n",
       "      <td>KNN</td>\n",
       "      <td>mean_v1</td>\n",
       "      <td>14.569371</td>\n",
       "      <td>1.933125e-06</td>\n",
       "      <td>0.424207</td>\n",
       "    </tr>\n",
       "    <tr>\n",
       "      <th>1</th>\n",
       "      <td>adult</td>\n",
       "      <td>KNN</td>\n",
       "      <td>mean_v2</td>\n",
       "      <td>-3.832102</td>\n",
       "      <td>3.892365e+00</td>\n",
       "      <td>0.332409</td>\n",
       "    </tr>\n",
       "    <tr>\n",
       "      <th>2</th>\n",
       "      <td>adult</td>\n",
       "      <td>KNN</td>\n",
       "      <td>similar_v1</td>\n",
       "      <td>6.629730</td>\n",
       "      <td>1.111963e-03</td>\n",
       "      <td>0.147048</td>\n",
       "    </tr>\n",
       "    <tr>\n",
       "      <th>3</th>\n",
       "      <td>adult</td>\n",
       "      <td>KNN</td>\n",
       "      <td>similar_v2</td>\n",
       "      <td>5.332352</td>\n",
       "      <td>2.483361e-03</td>\n",
       "      <td>0.241792</td>\n",
       "    </tr>\n",
       "    <tr>\n",
       "      <th>4</th>\n",
       "      <td>adult</td>\n",
       "      <td>KNN</td>\n",
       "      <td>multi_v1</td>\n",
       "      <td>5.095211</td>\n",
       "      <td>3.511095e-03</td>\n",
       "      <td>0.090114</td>\n",
       "    </tr>\n",
       "    <tr>\n",
       "      <th>...</th>\n",
       "      <td>...</td>\n",
       "      <td>...</td>\n",
       "      <td>...</td>\n",
       "      <td>...</td>\n",
       "      <td>...</td>\n",
       "      <td>...</td>\n",
       "    </tr>\n",
       "    <tr>\n",
       "      <th>211</th>\n",
       "      <td>bank</td>\n",
       "      <td>MLP</td>\n",
       "      <td>mean_v2</td>\n",
       "      <td>-8.510056</td>\n",
       "      <td>7.599501e+01</td>\n",
       "      <td>0.556829</td>\n",
       "    </tr>\n",
       "    <tr>\n",
       "      <th>212</th>\n",
       "      <td>bank</td>\n",
       "      <td>MLP</td>\n",
       "      <td>similar_v1</td>\n",
       "      <td>-0.694158</td>\n",
       "      <td>6.901930e-02</td>\n",
       "      <td>0.452284</td>\n",
       "    </tr>\n",
       "    <tr>\n",
       "      <th>213</th>\n",
       "      <td>bank</td>\n",
       "      <td>MLP</td>\n",
       "      <td>similar_v2</td>\n",
       "      <td>-7.076779</td>\n",
       "      <td>1.754112e+01</td>\n",
       "      <td>0.527676</td>\n",
       "    </tr>\n",
       "    <tr>\n",
       "      <th>214</th>\n",
       "      <td>bank</td>\n",
       "      <td>MLP</td>\n",
       "      <td>multi_v1</td>\n",
       "      <td>18.064996</td>\n",
       "      <td>4.123700e-09</td>\n",
       "      <td>0.623496</td>\n",
       "    </tr>\n",
       "    <tr>\n",
       "      <th>215</th>\n",
       "      <td>bank</td>\n",
       "      <td>MLP</td>\n",
       "      <td>multi_v2</td>\n",
       "      <td>18.656052</td>\n",
       "      <td>2.431238e-09</td>\n",
       "      <td>0.590277</td>\n",
       "    </tr>\n",
       "  </tbody>\n",
       "</table>\n",
       "<p>216 rows × 6 columns</p>\n",
       "</div>"
      ],
      "text/plain": [
       "    dataset ml_name      method     lambda             k   Avg.e^2\n",
       "0     adult     KNN     mean_v1  14.569371  1.933125e-06  0.424207\n",
       "1     adult     KNN     mean_v2  -3.832102  3.892365e+00  0.332409\n",
       "2     adult     KNN  similar_v1   6.629730  1.111963e-03  0.147048\n",
       "3     adult     KNN  similar_v2   5.332352  2.483361e-03  0.241792\n",
       "4     adult     KNN    multi_v1   5.095211  3.511095e-03  0.090114\n",
       "..      ...     ...         ...        ...           ...       ...\n",
       "211    bank     MLP     mean_v2  -8.510056  7.599501e+01  0.556829\n",
       "212    bank     MLP  similar_v1  -0.694158  6.901930e-02  0.452284\n",
       "213    bank     MLP  similar_v2  -7.076779  1.754112e+01  0.527676\n",
       "214    bank     MLP    multi_v1  18.064996  4.123700e-09  0.623496\n",
       "215    bank     MLP    multi_v2  18.656052  2.431238e-09  0.590277\n",
       "\n",
       "[216 rows x 6 columns]"
      ]
     },
     "execution_count": 3,
     "metadata": {},
     "output_type": "execute_result"
    }
   ],
   "source": [
    "data"
   ]
  },
  {
   "cell_type": "markdown",
   "metadata": {},
   "source": [
    "### Analysis of Output  \n",
    "Dataset is the major factor of exponential curve fit and curve steepness"
   ]
  },
  {
   "cell_type": "markdown",
   "metadata": {},
   "source": [
    "#### Groupby ML"
   ]
  },
  {
   "cell_type": "code",
   "execution_count": 4,
   "metadata": {},
   "outputs": [
    {
     "data": {
      "text/html": [
       "<div>\n",
       "<style scoped>\n",
       "    .dataframe tbody tr th:only-of-type {\n",
       "        vertical-align: middle;\n",
       "    }\n",
       "\n",
       "    .dataframe tbody tr th {\n",
       "        vertical-align: top;\n",
       "    }\n",
       "\n",
       "    .dataframe thead th {\n",
       "        text-align: right;\n",
       "    }\n",
       "</style>\n",
       "<table border=\"1\" class=\"dataframe\">\n",
       "  <thead>\n",
       "    <tr style=\"text-align: right;\">\n",
       "      <th></th>\n",
       "      <th>Avg.e^2</th>\n",
       "    </tr>\n",
       "    <tr>\n",
       "      <th>ml_name</th>\n",
       "      <th></th>\n",
       "    </tr>\n",
       "  </thead>\n",
       "  <tbody>\n",
       "    <tr>\n",
       "      <th>LinearSVC</th>\n",
       "      <td>0.325652</td>\n",
       "    </tr>\n",
       "    <tr>\n",
       "      <th>LogReg</th>\n",
       "      <td>0.325905</td>\n",
       "    </tr>\n",
       "    <tr>\n",
       "      <th>KNN</th>\n",
       "      <td>0.387774</td>\n",
       "    </tr>\n",
       "    <tr>\n",
       "      <th>MLP</th>\n",
       "      <td>0.403259</td>\n",
       "    </tr>\n",
       "    <tr>\n",
       "      <th>Tree</th>\n",
       "      <td>0.417961</td>\n",
       "    </tr>\n",
       "    <tr>\n",
       "      <th>Forest</th>\n",
       "      <td>0.423837</td>\n",
       "    </tr>\n",
       "  </tbody>\n",
       "</table>\n",
       "</div>"
      ],
      "text/plain": [
       "            Avg.e^2\n",
       "ml_name            \n",
       "LinearSVC  0.325652\n",
       "LogReg     0.325905\n",
       "KNN        0.387774\n",
       "MLP        0.403259\n",
       "Tree       0.417961\n",
       "Forest     0.423837"
      ]
     },
     "execution_count": 4,
     "metadata": {},
     "output_type": "execute_result"
    }
   ],
   "source": [
    "data.groupby(\"ml_name\").agg({'Avg.e^2':'median'}).sort_values(by=\"Avg.e^2\")"
   ]
  },
  {
   "cell_type": "code",
   "execution_count": 5,
   "metadata": {},
   "outputs": [
    {
     "data": {
      "text/html": [
       "<div>\n",
       "<style scoped>\n",
       "    .dataframe tbody tr th:only-of-type {\n",
       "        vertical-align: middle;\n",
       "    }\n",
       "\n",
       "    .dataframe tbody tr th {\n",
       "        vertical-align: top;\n",
       "    }\n",
       "\n",
       "    .dataframe thead th {\n",
       "        text-align: right;\n",
       "    }\n",
       "</style>\n",
       "<table border=\"1\" class=\"dataframe\">\n",
       "  <thead>\n",
       "    <tr style=\"text-align: right;\">\n",
       "      <th></th>\n",
       "      <th>lambda</th>\n",
       "    </tr>\n",
       "    <tr>\n",
       "      <th>ml_name</th>\n",
       "      <th></th>\n",
       "    </tr>\n",
       "  </thead>\n",
       "  <tbody>\n",
       "    <tr>\n",
       "      <th>KNN</th>\n",
       "      <td>0.353970</td>\n",
       "    </tr>\n",
       "    <tr>\n",
       "      <th>LogReg</th>\n",
       "      <td>0.384772</td>\n",
       "    </tr>\n",
       "    <tr>\n",
       "      <th>LinearSVC</th>\n",
       "      <td>0.600193</td>\n",
       "    </tr>\n",
       "    <tr>\n",
       "      <th>MLP</th>\n",
       "      <td>1.727437</td>\n",
       "    </tr>\n",
       "    <tr>\n",
       "      <th>Tree</th>\n",
       "      <td>1.897911</td>\n",
       "    </tr>\n",
       "    <tr>\n",
       "      <th>Forest</th>\n",
       "      <td>3.016339</td>\n",
       "    </tr>\n",
       "  </tbody>\n",
       "</table>\n",
       "</div>"
      ],
      "text/plain": [
       "             lambda\n",
       "ml_name            \n",
       "KNN        0.353970\n",
       "LogReg     0.384772\n",
       "LinearSVC  0.600193\n",
       "MLP        1.727437\n",
       "Tree       1.897911\n",
       "Forest     3.016339"
      ]
     },
     "execution_count": 5,
     "metadata": {},
     "output_type": "execute_result"
    }
   ],
   "source": [
    "data.groupby(\"ml_name\").agg({'lambda':'median'}).sort_values(by=\"lambda\")"
   ]
  },
  {
   "cell_type": "markdown",
   "metadata": {},
   "source": [
    "#### Groupby Dataset"
   ]
  },
  {
   "cell_type": "code",
   "execution_count": 6,
   "metadata": {},
   "outputs": [
    {
     "data": {
      "text/html": [
       "<div>\n",
       "<style scoped>\n",
       "    .dataframe tbody tr th:only-of-type {\n",
       "        vertical-align: middle;\n",
       "    }\n",
       "\n",
       "    .dataframe tbody tr th {\n",
       "        vertical-align: top;\n",
       "    }\n",
       "\n",
       "    .dataframe thead th {\n",
       "        text-align: right;\n",
       "    }\n",
       "</style>\n",
       "<table border=\"1\" class=\"dataframe\">\n",
       "  <thead>\n",
       "    <tr style=\"text-align: right;\">\n",
       "      <th></th>\n",
       "      <th>Avg.e^2</th>\n",
       "    </tr>\n",
       "    <tr>\n",
       "      <th>dataset</th>\n",
       "      <th></th>\n",
       "    </tr>\n",
       "  </thead>\n",
       "  <tbody>\n",
       "    <tr>\n",
       "      <th>compas</th>\n",
       "      <td>0.148974</td>\n",
       "    </tr>\n",
       "    <tr>\n",
       "      <th>adult</th>\n",
       "      <td>0.247918</td>\n",
       "    </tr>\n",
       "    <tr>\n",
       "      <th>communities</th>\n",
       "      <td>0.340193</td>\n",
       "    </tr>\n",
       "    <tr>\n",
       "      <th>titanic</th>\n",
       "      <td>0.448134</td>\n",
       "    </tr>\n",
       "    <tr>\n",
       "      <th>german</th>\n",
       "      <td>0.481169</td>\n",
       "    </tr>\n",
       "    <tr>\n",
       "      <th>bank</th>\n",
       "      <td>0.515395</td>\n",
       "    </tr>\n",
       "  </tbody>\n",
       "</table>\n",
       "</div>"
      ],
      "text/plain": [
       "              Avg.e^2\n",
       "dataset              \n",
       "compas       0.148974\n",
       "adult        0.247918\n",
       "communities  0.340193\n",
       "titanic      0.448134\n",
       "german       0.481169\n",
       "bank         0.515395"
      ]
     },
     "execution_count": 6,
     "metadata": {},
     "output_type": "execute_result"
    }
   ],
   "source": [
    "data.groupby(\"dataset\").agg({'Avg.e^2':'median'}).sort_values(by=\"Avg.e^2\")"
   ]
  },
  {
   "cell_type": "code",
   "execution_count": 7,
   "metadata": {},
   "outputs": [
    {
     "data": {
      "text/html": [
       "<div>\n",
       "<style scoped>\n",
       "    .dataframe tbody tr th:only-of-type {\n",
       "        vertical-align: middle;\n",
       "    }\n",
       "\n",
       "    .dataframe tbody tr th {\n",
       "        vertical-align: top;\n",
       "    }\n",
       "\n",
       "    .dataframe thead th {\n",
       "        text-align: right;\n",
       "    }\n",
       "</style>\n",
       "<table border=\"1\" class=\"dataframe\">\n",
       "  <thead>\n",
       "    <tr style=\"text-align: right;\">\n",
       "      <th></th>\n",
       "      <th>lambda</th>\n",
       "    </tr>\n",
       "    <tr>\n",
       "      <th>dataset</th>\n",
       "      <th></th>\n",
       "    </tr>\n",
       "  </thead>\n",
       "  <tbody>\n",
       "    <tr>\n",
       "      <th>titanic</th>\n",
       "      <td>-1.184967</td>\n",
       "    </tr>\n",
       "    <tr>\n",
       "      <th>bank</th>\n",
       "      <td>-0.785825</td>\n",
       "    </tr>\n",
       "    <tr>\n",
       "      <th>german</th>\n",
       "      <td>-0.611679</td>\n",
       "    </tr>\n",
       "    <tr>\n",
       "      <th>communities</th>\n",
       "      <td>2.770809</td>\n",
       "    </tr>\n",
       "    <tr>\n",
       "      <th>adult</th>\n",
       "      <td>5.719160</td>\n",
       "    </tr>\n",
       "    <tr>\n",
       "      <th>compas</th>\n",
       "      <td>6.417708</td>\n",
       "    </tr>\n",
       "  </tbody>\n",
       "</table>\n",
       "</div>"
      ],
      "text/plain": [
       "               lambda\n",
       "dataset              \n",
       "titanic     -1.184967\n",
       "bank        -0.785825\n",
       "german      -0.611679\n",
       "communities  2.770809\n",
       "adult        5.719160\n",
       "compas       6.417708"
      ]
     },
     "execution_count": 7,
     "metadata": {},
     "output_type": "execute_result"
    }
   ],
   "source": [
    "data.groupby(\"dataset\").agg({'lambda':'median'}).sort_values(by=\"lambda\")"
   ]
  },
  {
   "cell_type": "markdown",
   "metadata": {},
   "source": [
    "#### Groupby Imputation Method"
   ]
  },
  {
   "cell_type": "code",
   "execution_count": 8,
   "metadata": {},
   "outputs": [
    {
     "data": {
      "text/html": [
       "<div>\n",
       "<style scoped>\n",
       "    .dataframe tbody tr th:only-of-type {\n",
       "        vertical-align: middle;\n",
       "    }\n",
       "\n",
       "    .dataframe tbody tr th {\n",
       "        vertical-align: top;\n",
       "    }\n",
       "\n",
       "    .dataframe thead th {\n",
       "        text-align: right;\n",
       "    }\n",
       "</style>\n",
       "<table border=\"1\" class=\"dataframe\">\n",
       "  <thead>\n",
       "    <tr style=\"text-align: right;\">\n",
       "      <th></th>\n",
       "      <th>Avg.e^2</th>\n",
       "    </tr>\n",
       "    <tr>\n",
       "      <th>method</th>\n",
       "      <th></th>\n",
       "    </tr>\n",
       "  </thead>\n",
       "  <tbody>\n",
       "    <tr>\n",
       "      <th>similar_v1</th>\n",
       "      <td>0.273038</td>\n",
       "    </tr>\n",
       "    <tr>\n",
       "      <th>multi_v1</th>\n",
       "      <td>0.280543</td>\n",
       "    </tr>\n",
       "    <tr>\n",
       "      <th>multi_v2</th>\n",
       "      <td>0.370827</td>\n",
       "    </tr>\n",
       "    <tr>\n",
       "      <th>mean_v1</th>\n",
       "      <td>0.406623</td>\n",
       "    </tr>\n",
       "    <tr>\n",
       "      <th>similar_v2</th>\n",
       "      <td>0.421221</td>\n",
       "    </tr>\n",
       "    <tr>\n",
       "      <th>mean_v2</th>\n",
       "      <td>0.470482</td>\n",
       "    </tr>\n",
       "  </tbody>\n",
       "</table>\n",
       "</div>"
      ],
      "text/plain": [
       "             Avg.e^2\n",
       "method              \n",
       "similar_v1  0.273038\n",
       "multi_v1    0.280543\n",
       "multi_v2    0.370827\n",
       "mean_v1     0.406623\n",
       "similar_v2  0.421221\n",
       "mean_v2     0.470482"
      ]
     },
     "execution_count": 8,
     "metadata": {},
     "output_type": "execute_result"
    }
   ],
   "source": [
    "data.groupby(\"method\").agg({'Avg.e^2':'median'}).sort_values(by=\"Avg.e^2\")"
   ]
  },
  {
   "cell_type": "code",
   "execution_count": 9,
   "metadata": {},
   "outputs": [
    {
     "data": {
      "text/html": [
       "<div>\n",
       "<style scoped>\n",
       "    .dataframe tbody tr th:only-of-type {\n",
       "        vertical-align: middle;\n",
       "    }\n",
       "\n",
       "    .dataframe tbody tr th {\n",
       "        vertical-align: top;\n",
       "    }\n",
       "\n",
       "    .dataframe thead th {\n",
       "        text-align: right;\n",
       "    }\n",
       "</style>\n",
       "<table border=\"1\" class=\"dataframe\">\n",
       "  <thead>\n",
       "    <tr style=\"text-align: right;\">\n",
       "      <th></th>\n",
       "      <th>lambda</th>\n",
       "    </tr>\n",
       "    <tr>\n",
       "      <th>method</th>\n",
       "      <th></th>\n",
       "    </tr>\n",
       "  </thead>\n",
       "  <tbody>\n",
       "    <tr>\n",
       "      <th>mean_v2</th>\n",
       "      <td>-0.593358</td>\n",
       "    </tr>\n",
       "    <tr>\n",
       "      <th>similar_v2</th>\n",
       "      <td>0.539437</td>\n",
       "    </tr>\n",
       "    <tr>\n",
       "      <th>similar_v1</th>\n",
       "      <td>2.004557</td>\n",
       "    </tr>\n",
       "    <tr>\n",
       "      <th>multi_v1</th>\n",
       "      <td>2.121350</td>\n",
       "    </tr>\n",
       "    <tr>\n",
       "      <th>mean_v1</th>\n",
       "      <td>2.244799</td>\n",
       "    </tr>\n",
       "    <tr>\n",
       "      <th>multi_v2</th>\n",
       "      <td>2.481914</td>\n",
       "    </tr>\n",
       "  </tbody>\n",
       "</table>\n",
       "</div>"
      ],
      "text/plain": [
       "              lambda\n",
       "method              \n",
       "mean_v2    -0.593358\n",
       "similar_v2  0.539437\n",
       "similar_v1  2.004557\n",
       "multi_v1    2.121350\n",
       "mean_v1     2.244799\n",
       "multi_v2    2.481914"
      ]
     },
     "execution_count": 9,
     "metadata": {},
     "output_type": "execute_result"
    }
   ],
   "source": [
    "data.groupby(\"method\").agg({'lambda':'median'}).sort_values(by=\"lambda\")"
   ]
  },
  {
   "cell_type": "markdown",
   "metadata": {},
   "source": [
    "### Analysis of Datasets  \n",
    "1. Correlation to the protected attribute can affect the initial bias, but not related to curve steepness"
   ]
  },
  {
   "cell_type": "code",
   "execution_count": 10,
   "metadata": {},
   "outputs": [],
   "source": [
    "from utils.data import create_adult_dataset, create_bank_dataset\n",
    "from utils.data import create_communities_dataset, create_compas_dataset\n",
    "from utils.data import create_german_dataset, create_titanic_dataset\n",
    "from sklearn.preprocessing import LabelEncoder"
   ]
  },
  {
   "cell_type": "code",
   "execution_count": 11,
   "metadata": {},
   "outputs": [],
   "source": [
    "def drop_na(data):\n",
    "    data = data.copy()\n",
    "    tmp_concat = pd.concat([data.X, pd.DataFrame(data.y, columns=[\"_TARGET_\"])], axis=1)\n",
    "    tmp_concat.dropna(inplace=True)\n",
    "    tmp_concat.reset_index(drop=True, inplace=True)\n",
    "    data.X = tmp_concat.drop(columns=[\"_TARGET_\"]).copy()\n",
    "    data.y = tmp_concat[\"_TARGET_\"].copy().to_numpy().ravel()\n",
    "    return data"
   ]
  },
  {
   "cell_type": "code",
   "execution_count": 12,
   "metadata": {},
   "outputs": [],
   "source": [
    "def convert_protected(data):\n",
    "    data = data.copy()\n",
    "    encoder = LabelEncoder()\n",
    "    for feature in data.protected_features:\n",
    "        data.X[feature] = encoder.fit_transform(data.X[feature])\n",
    "    return data, encoder"
   ]
  },
  {
   "cell_type": "code",
   "execution_count": 13,
   "metadata": {},
   "outputs": [],
   "source": [
    "def concat(data):\n",
    "    data = data.copy()\n",
    "    return pd.concat([data.X, pd.DataFrame(data.y, columns=[\"_TARGET_\"])], axis=1)"
   ]
  },
  {
   "cell_type": "code",
   "execution_count": 14,
   "metadata": {},
   "outputs": [],
   "source": [
    "def clf_evaluate(X, y):\n",
    "    import warnings\n",
    "    warnings.filterwarnings('ignore')\n",
    "    from sklearn.linear_model import LogisticRegression\n",
    "    from sklearn.tree import DecisionTreeClassifier\n",
    "    from sklearn.ensemble import RandomForestClassifier\n",
    "    from sklearn.neighbors import KNeighborsClassifier\n",
    "    from sklearn.model_selection import StratifiedShuffleSplit\n",
    "    from sklearn.preprocessing import StandardScaler\n",
    "    from sklearn.svm import LinearSVC\n",
    "    from imblearn.over_sampling import SMOTE\n",
    "    smote = SMOTE()\n",
    "    X_res, y_res = smote.fit_resample(X, y)\n",
    "    clf = {\n",
    "        \"Logistic Regression\": LogisticRegression,\n",
    "        \"Decision Tree\": DecisionTreeClassifier,\n",
    "        \"Random Forest\": RandomForestClassifier,\n",
    "        \"K-Nearest Neighbors\": KNeighborsClassifier,\n",
    "        \"Linear SVM\": LinearSVC,\n",
    "    }\n",
    "    result = {}\n",
    "    scaler = StandardScaler()\n",
    "    scaler.fit(X_res)\n",
    "    best_score = 0.0\n",
    "    best_clf = \"\"\n",
    "    for name, model_fn in clf.items():\n",
    "        score = 0.0\n",
    "        kf = StratifiedShuffleSplit(n_splits=5)\n",
    "        for train_idx, test_idx in kf.split(X_res, y_res):\n",
    "            X_train, X_test = X_res[train_idx], X_res[test_idx]\n",
    "            y_train, y_test = y_res[train_idx], y_res[test_idx]\n",
    "            model = model_fn()\n",
    "            model.fit(scaler.transform(X_train), y_train)\n",
    "            score += model.score(scaler.transform(X_test), y_test)\n",
    "        score /= 5\n",
    "        if score > best_score:\n",
    "            best_clf = name\n",
    "            best_score = score\n",
    "    return (best_clf, best_score)"
   ]
  },
  {
   "cell_type": "code",
   "execution_count": 15,
   "metadata": {},
   "outputs": [],
   "source": [
    "def analysis_report(data_fn, lr_data):\n",
    "    data = data_fn()\n",
    "    assert len(data.protected_features) > 0\n",
    "    data = drop_na(data)\n",
    "    data, encoder = convert_protected(data)\n",
    "    cdata = concat(data)\n",
    "\n",
    "    print(\"Dataset Name: {:<20} {} features, {} rows\".format(data.name, data.X.shape[1], data.X.shape[0]))\n",
    "    print()\n",
    "\n",
    "    print(\"Target Value Distribution:\")\n",
    "    for key, val in cdata[\"_TARGET_\"].value_counts().items():\n",
    "        print(\"\\tValue: {:<20} Percent: {:.4f}%\".format(key, val/cdata.shape[0]))\n",
    "    print()\n",
    "        \n",
    "    print(\"Protected Attribute: {}\".format(data.protected_features[0], encoder.classes_))\n",
    "    print(\"Protected Value Distribution:\")\n",
    "    for key, val in cdata[data.protected_features[0]].value_counts().items():\n",
    "        print(\"\\tValue: {:<20} Percent: {:.4f}%\".format(encoder.inverse_transform([key])[0], val/cdata.shape[0]))\n",
    "    print()\n",
    "        \n",
    "    print(\"Correlations with Target:\")\n",
    "    corr = cdata.corr()\n",
    "    for key, val in corr[\"_TARGET_\"][corr[\"_TARGET_\"].abs().sort_values(ascending=False).head(20).index].items():\n",
    "        print(\"\\tFeature: {:<30} Corr: {:.4f}\".format(key, val))\n",
    "    print()\n",
    "\n",
    "    print(\"Correlations with Protected:\")\n",
    "    for key, val in corr[data.protected_features[0]][corr[data.protected_features[0]].abs().sort_values(ascending=False).head(20).index].items():\n",
    "        print(\"\\tFeature: {:<30} Corr: {:.4f}\".format(key, val))\n",
    "    print()\n",
    "\n",
    "    most_correlated_features = corr[data.protected_features[0]].copy()\n",
    "    most_correlated_features = most_correlated_features[most_correlated_features.abs() >= 0.05]\n",
    "    most_correlated_features = most_correlated_features.keys().tolist()\n",
    "    most_correlated_features = [m for m in most_correlated_features if m != data.protected_features[0] and m != \"_TARGET_\"]\n",
    "    best_clf, best_score = clf_evaluate(cdata[most_correlated_features].to_numpy(), cdata[data.protected_features[0]].to_numpy())\n",
    "    print(\"Try to fit ML Model on Protected Feature with Most Correlated Features (corr >= 0.05)\")\n",
    "    print(\"\\tBest Model: {:<20} Best Score: {:.4f}\".format(best_clf, best_score))\n",
    "    best_clf, best_score = clf_evaluate(cdata.drop(columns=[data.protected_features[0], \"_TARGET_\"]).to_numpy(), cdata[data.protected_features[0]].to_numpy())\n",
    "    print(\"Try to fit ML Model on Protected Feature with All Other Features (non-target)\")\n",
    "    print(\"\\tBest Model: {:<20} Best Score: {:.4f}\".format(best_clf, best_score))\n",
    "    print()\n",
    "\n",
    "    print(\"Parato Front Curve Fit: (error = {:.4f})\\n\\tBias = {:.4f} x e^({:.4f} x Accuracy)\".format(\n",
    "        lr_data.groupby(\"dataset\").agg({'Avg.e^2':'median'}).loc[data.name][0],\n",
    "        lr_data.groupby(\"dataset\").agg({'k':'median'}).loc[data.name][0],\n",
    "        lr_data.groupby(\"dataset\").agg({'lambda':'median'}).loc[data.name][0],\n",
    "    ))\n",
    "    plt.figure(figsize=(3,3))\n",
    "    plotX = np.linspace(0.5, 1.0, 1000)\n",
    "    plotY = lr_data.groupby(\"dataset\").agg({'k':'median'}).loc[data.name][0] * \\\n",
    "            np.exp(\n",
    "                lr_data.groupby(\"dataset\").agg({'lambda':'median'}).loc[data.name][0] * \\\n",
    "                plotX\n",
    "            )\n",
    "    plt.plot(plotX, plotY)\n",
    "    plt.xlim([0.45, 1.05])\n",
    "    plt.ylim([0.0, 1.5])\n",
    "    plt.xlabel(\"Accuracy\")\n",
    "    plt.ylabel(\"Bias\")\n",
    "    plt.show()\n",
    "    print()\n"
   ]
  },
  {
   "cell_type": "markdown",
   "metadata": {},
   "source": [
    "### Adult Dataset"
   ]
  },
  {
   "cell_type": "code",
   "execution_count": 16,
   "metadata": {},
   "outputs": [
    {
     "name": "stdout",
     "output_type": "stream",
     "text": [
      "Dataset Name: adult                10 features, 30718 rows\n",
      "\n",
      "Target Value Distribution:\n",
      "\tValue: 0                    Percent: 0.7510%\n",
      "\tValue: 1                    Percent: 0.2490%\n",
      "\n",
      "Protected Attribute: sex\n",
      "Protected Value Distribution:\n",
      "\tValue:  Male                Percent: 0.6767%\n",
      "\tValue:  Female              Percent: 0.3233%\n",
      "\n",
      "Correlations with Target:\n",
      "\tFeature: _TARGET_                       Corr: 1.0000\n",
      "\tFeature: education-num                  Corr: 0.3346\n",
      "\tFeature: relationship                   Corr: -0.2513\n",
      "\tFeature: age                            Corr: 0.2424\n",
      "\tFeature: hours-per-week                 Corr: 0.2285\n",
      "\tFeature: sex                            Corr: 0.2166\n",
      "\tFeature: marital-status                 Corr: -0.1946\n",
      "\tFeature: education                      Corr: 0.0783\n",
      "\tFeature: race                           Corr: 0.0709\n",
      "\tFeature: occupation                     Corr: 0.0501\n",
      "\tFeature: workclass                      Corr: 0.0010\n",
      "\n",
      "Correlations with Protected:\n",
      "\tFeature: sex                            Corr: 1.0000\n",
      "\tFeature: relationship                   Corr: -0.5858\n",
      "\tFeature: hours-per-week                 Corr: 0.2303\n",
      "\tFeature: _TARGET_                       Corr: 0.2166\n",
      "\tFeature: marital-status                 Corr: -0.1204\n",
      "\tFeature: race                           Corr: 0.0861\n",
      "\tFeature: age                            Corr: 0.0821\n",
      "\tFeature: workclass                      Corr: 0.0728\n",
      "\tFeature: occupation                     Corr: 0.0621\n",
      "\tFeature: education                      Corr: -0.0282\n",
      "\tFeature: education-num                  Corr: 0.0074\n",
      "\n",
      "Try to fit ML Model on Protected Feature with Most Correlated Features (corr >= 0.05)\n",
      "\tBest Model: Random Forest        Best Score: 0.8785\n",
      "Try to fit ML Model on Protected Feature with All Other Features (non-target)\n",
      "\tBest Model: Random Forest        Best Score: 0.8821\n",
      "\n",
      "Parato Front Curve Fit: (error = 0.2479)\n",
      "\tBias = 0.0025 x e^(5.7192 x Accuracy)\n"
     ]
    },
    {
     "data": {
      "image/png": "[encoded data removed]",
      "text/plain": [
       "<Figure size 216x216 with 1 Axes>"
      ]
     },
     "metadata": {
      "needs_background": "light"
     },
     "output_type": "display_data"
    },
    {
     "name": "stdout",
     "output_type": "stream",
     "text": [
      "\n"
     ]
    }
   ],
   "source": [
    "analysis_report(create_adult_dataset, data)"
   ]
  },
  {
   "cell_type": "markdown",
   "metadata": {},
   "source": [
    "### Compas Dataset"
   ]
  },
  {
   "cell_type": "code",
   "execution_count": 17,
   "metadata": {},
   "outputs": [
    {
     "name": "stdout",
     "output_type": "stream",
     "text": [
      "Dataset Name: compas               11 features, 9388 rows\n",
      "\n",
      "Target Value Distribution:\n",
      "\tValue: 0                    Percent: 0.6605%\n",
      "\tValue: 1                    Percent: 0.3395%\n",
      "\n",
      "Protected Attribute: race\n",
      "Protected Value Distribution:\n",
      "\tValue: African-American     Percent: 0.4977%\n",
      "\tValue: Caucasian            Percent: 0.3465%\n",
      "\tValue: Hispanic             Percent: 0.0870%\n",
      "\tValue: Other                Percent: 0.0608%\n",
      "\tValue: Asian                Percent: 0.0051%\n",
      "\tValue: Native American      Percent: 0.0029%\n",
      "\n",
      "Correlations with Target:\n",
      "\tFeature: _TARGET_                       Corr: 1.0000\n",
      "\tFeature: priors_count                   Corr: 0.2635\n",
      "\tFeature: age                            Corr: -0.1534\n",
      "\tFeature: race                           Corr: -0.1294\n",
      "\tFeature: juv_other_count                Corr: 0.1070\n",
      "\tFeature: juv_misd_count                 Corr: 0.1048\n",
      "\tFeature: sex                            Corr: 0.0997\n",
      "\tFeature: c_charge_degree                Corr: -0.0795\n",
      "\tFeature: juv_fel_count                  Corr: 0.0679\n",
      "\tFeature: days_b_screening_arrest        Corr: 0.0576\n",
      "\tFeature: age_cat                        Corr: 0.0370\n",
      "\tFeature: length_of_stay                 Corr: -0.0165\n",
      "\n",
      "Correlations with Protected:\n",
      "\tFeature: race                           Corr: 1.0000\n",
      "\tFeature: priors_count                   Corr: -0.2060\n",
      "\tFeature: age                            Corr: 0.1371\n",
      "\tFeature: _TARGET_                       Corr: -0.1294\n",
      "\tFeature: c_charge_degree                Corr: 0.0993\n",
      "\tFeature: juv_misd_count                 Corr: -0.0747\n",
      "\tFeature: length_of_stay                 Corr: -0.0589\n",
      "\tFeature: juv_other_count                Corr: -0.0503\n",
      "\tFeature: juv_fel_count                  Corr: -0.0484\n",
      "\tFeature: days_b_screening_arrest        Corr: -0.0420\n",
      "\tFeature: age_cat                        Corr: -0.0235\n",
      "\tFeature: sex                            Corr: -0.0164\n",
      "\n",
      "Try to fit ML Model on Protected Feature with Most Correlated Features (corr >= 0.05)\n",
      "\tBest Model: Random Forest        Best Score: 0.7315\n",
      "Try to fit ML Model on Protected Feature with All Other Features (non-target)\n",
      "\tBest Model: Random Forest        Best Score: 0.7749\n",
      "\n",
      "Parato Front Curve Fit: (error = 0.1490)\n",
      "\tBias = 0.0045 x e^(6.4177 x Accuracy)\n"
     ]
    },
    {
     "data": {
      "image/png": "[encoded data removed]",
      "text/plain": [
       "<Figure size 216x216 with 1 Axes>"
      ]
     },
     "metadata": {
      "needs_background": "light"
     },
     "output_type": "display_data"
    },
    {
     "name": "stdout",
     "output_type": "stream",
     "text": [
      "\n"
     ]
    }
   ],
   "source": [
    "analysis_report(create_compas_dataset, data)"
   ]
  },
  {
   "cell_type": "markdown",
   "metadata": {},
   "source": [
    "### Communities Dataset"
   ]
  },
  {
   "cell_type": "code",
   "execution_count": 18,
   "metadata": {},
   "outputs": [
    {
     "name": "stdout",
     "output_type": "stream",
     "text": [
      "Dataset Name: communities          97 features, 1993 rows\n",
      "\n",
      "Target Value Distribution:\n",
      "\tValue: 0                    Percent: 0.6448%\n",
      "\tValue: 1                    Percent: 0.3552%\n",
      "\n",
      "Protected Attribute: race_c\n",
      "Protected Value Distribution:\n",
      "\tValue: white                Percent: 0.7888%\n",
      "\tValue: black                Percent: 0.1094%\n",
      "\tValue: hispanic             Percent: 0.0577%\n",
      "\tValue: asian                Percent: 0.0442%\n",
      "\n",
      "Correlations with Target:\n",
      "\tFeature: _TARGET_                       Corr: 1.0000\n",
      "\tFeature: PctKids2Par                    Corr: -0.6396\n",
      "\tFeature: PctIlleg                       Corr: 0.6290\n",
      "\tFeature: PctFam2Par                     Corr: -0.6031\n",
      "\tFeature: PctYoungKids2Par               Corr: -0.5803\n",
      "\tFeature: PctTeen2Par                    Corr: -0.5536\n",
      "\tFeature: pctWInvInc                     Corr: -0.5480\n",
      "\tFeature: pctWPubAsst                    Corr: 0.5432\n",
      "\tFeature: FemalePctDiv                   Corr: 0.5008\n",
      "\tFeature: PctPopUnderPov                 Corr: 0.4959\n",
      "\tFeature: TotalPctDiv                    Corr: 0.4905\n",
      "\tFeature: PctPersOwnOccup                Corr: -0.4859\n",
      "\tFeature: PctHousNoPhone                 Corr: 0.4768\n",
      "\tFeature: PctUnemployed                  Corr: 0.4759\n",
      "\tFeature: PctNotHSGrad                   Corr: 0.4720\n",
      "\tFeature: MalePctDivorce                 Corr: 0.4572\n",
      "\tFeature: PctPersDenseHous               Corr: 0.4494\n",
      "\tFeature: PctHousOwnOcc                  Corr: -0.4262\n",
      "\tFeature: PctLess9thGrade                Corr: 0.4255\n",
      "\tFeature: PctHousLess3BR                 Corr: 0.4227\n",
      "\n",
      "Correlations with Protected:\n",
      "\tFeature: race_c                         Corr: 1.0000\n",
      "\tFeature: PctIlleg                       Corr: -0.5509\n",
      "\tFeature: PctPersDenseHous               Corr: -0.4787\n",
      "\tFeature: PctKids2Par                    Corr: 0.4653\n",
      "\tFeature: PctLargHouseFam                Corr: -0.4317\n",
      "\tFeature: PctRecImmig10                  Corr: -0.4309\n",
      "\tFeature: PctRecImmig8                   Corr: -0.4204\n",
      "\tFeature: PctFam2Par                     Corr: 0.4196\n",
      "\tFeature: PctTeen2Par                    Corr: 0.4111\n",
      "\tFeature: pctWPubAsst                    Corr: -0.4043\n",
      "\tFeature: PctRecImmig5                   Corr: -0.3939\n",
      "\tFeature: _TARGET_                       Corr: -0.3846\n",
      "\tFeature: PctLargHouseOccup              Corr: -0.3812\n",
      "\tFeature: PctForeignBorn                 Corr: -0.3805\n",
      "\tFeature: PctRecentImmig                 Corr: -0.3801\n",
      "\tFeature: PctYoungKids2Par               Corr: 0.3799\n",
      "\tFeature: PctSpeakEnglOnly               Corr: 0.3580\n",
      "\tFeature: PctNotSpeakEnglWell            Corr: -0.3560\n",
      "\tFeature: pctWInvInc                     Corr: 0.3449\n",
      "\tFeature: PctPopUnderPov                 Corr: -0.3360\n",
      "\n",
      "Try to fit ML Model on Protected Feature with Most Correlated Features (corr >= 0.05)\n",
      "\tBest Model: Random Forest        Best Score: 0.9803\n",
      "Try to fit ML Model on Protected Feature with All Other Features (non-target)\n",
      "\tBest Model: Linear SVM           Best Score: 0.9873\n",
      "\n",
      "Parato Front Curve Fit: (error = 0.3402)\n",
      "\tBias = 0.0604 x e^(2.7708 x Accuracy)\n"
     ]
    },
    {
     "data": {
      "image/png": "[encoded data removed]",
      "text/plain": [
       "<Figure size 216x216 with 1 Axes>"
      ]
     },
     "metadata": {
      "needs_background": "light"
     },
     "output_type": "display_data"
    },
    {
     "name": "stdout",
     "output_type": "stream",
     "text": [
      "\n"
     ]
    }
   ],
   "source": [
    "analysis_report(create_communities_dataset, data)"
   ]
  },
  {
   "cell_type": "markdown",
   "metadata": {},
   "source": [
    "### Titanic Dataset"
   ]
  },
  {
   "cell_type": "code",
   "execution_count": 19,
   "metadata": {},
   "outputs": [
    {
     "name": "stdout",
     "output_type": "stream",
     "text": [
      "Dataset Name: titanic              7 features, 712 rows\n",
      "\n",
      "Target Value Distribution:\n",
      "\tValue: 0                    Percent: 0.5955%\n",
      "\tValue: 1                    Percent: 0.4045%\n",
      "\n",
      "Protected Attribute: Sex\n",
      "Protected Value Distribution:\n",
      "\tValue: male                 Percent: 0.6362%\n",
      "\tValue: female               Percent: 0.3638%\n",
      "\n",
      "Correlations with Target:\n",
      "\tFeature: _TARGET_                       Corr: 1.0000\n",
      "\tFeature: Sex                            Corr: -0.5368\n",
      "\tFeature: Pclass                         Corr: -0.3565\n",
      "\tFeature: Fare                           Corr: 0.2661\n",
      "\tFeature: Embarked                       Corr: -0.1820\n",
      "\tFeature: Parch                          Corr: 0.0953\n",
      "\tFeature: Age                            Corr: -0.0824\n",
      "\tFeature: SibSp                          Corr: -0.0155\n",
      "\n",
      "Correlations with Protected:\n",
      "\tFeature: Sex                            Corr: 1.0000\n",
      "\tFeature: _TARGET_                       Corr: -0.5368\n",
      "\tFeature: Parch                          Corr: -0.2495\n",
      "\tFeature: Fare                           Corr: -0.1825\n",
      "\tFeature: Pclass                         Corr: 0.1508\n",
      "\tFeature: Embarked                       Corr: 0.1096\n",
      "\tFeature: SibSp                          Corr: -0.1063\n",
      "\tFeature: Age                            Corr: 0.0990\n",
      "\n",
      "Try to fit ML Model on Protected Feature with Most Correlated Features (corr >= 0.05)\n",
      "\tBest Model: Random Forest        Best Score: 0.7143\n",
      "Try to fit ML Model on Protected Feature with All Other Features (non-target)\n",
      "\tBest Model: K-Nearest Neighbors  Best Score: 0.7055\n",
      "\n",
      "Parato Front Curve Fit: (error = 0.4481)\n",
      "\tBias = 0.5809 x e^(-1.1850 x Accuracy)\n"
     ]
    },
    {
     "data": {
      "image/png": "[encoded data removed]",
      "text/plain": [
       "<Figure size 216x216 with 1 Axes>"
      ]
     },
     "metadata": {
      "needs_background": "light"
     },
     "output_type": "display_data"
    },
    {
     "name": "stdout",
     "output_type": "stream",
     "text": [
      "\n"
     ]
    }
   ],
   "source": [
    "analysis_report(create_titanic_dataset, data)"
   ]
  },
  {
   "cell_type": "markdown",
   "metadata": {},
   "source": [
    "### Germen Credit Dataset"
   ]
  },
  {
   "cell_type": "code",
   "execution_count": 20,
   "metadata": {},
   "outputs": [
    {
     "name": "stdout",
     "output_type": "stream",
     "text": [
      "Dataset Name: german               20 features, 1000 rows\n",
      "\n",
      "Target Value Distribution:\n",
      "\tValue: 0                    Percent: 0.7000%\n",
      "\tValue: 1                    Percent: 0.3000%\n",
      "\n",
      "Protected Attribute: Age\n",
      "Protected Value Distribution:\n",
      "\tValue: elder                Percent: 0.8100%\n",
      "\tValue: young                Percent: 0.1900%\n",
      "\n",
      "Correlations with Target:\n",
      "\tFeature: _TARGET_                       Corr: 1.0000\n",
      "\tFeature: Status_account                 Corr: -0.3508\n",
      "\tFeature: Credit_history                 Corr: -0.2288\n",
      "\tFeature: Duration_month                 Corr: 0.2149\n",
      "\tFeature: Savings_account                Corr: -0.1789\n",
      "\tFeature: Credit_amount                  Corr: 0.1547\n",
      "\tFeature: Property                       Corr: 0.1426\n",
      "\tFeature: Age                            Corr: 0.1279\n",
      "\tFeature: Employment_since               Corr: -0.1160\n",
      "\tFeature: Installment_plans              Corr: -0.1098\n",
      "\tFeature: Personal_status                Corr: -0.0882\n",
      "\tFeature: Foreign                        Corr: -0.0821\n",
      "\tFeature: Installment_rate               Corr: 0.0724\n",
      "\tFeature: Number_credits                 Corr: -0.0457\n",
      "\tFeature: Telephone                      Corr: -0.0365\n",
      "\tFeature: Job                            Corr: 0.0327\n",
      "\tFeature: Debtors_guarantors             Corr: -0.0251\n",
      "\tFeature: Housing                        Corr: -0.0193\n",
      "\tFeature: Num_liable_people              Corr: -0.0030\n",
      "\tFeature: Residence_since                Corr: 0.0030\n",
      "\n",
      "Correlations with Protected:\n",
      "\tFeature: Age                            Corr: 1.0000\n",
      "\tFeature: Housing                        Corr: -0.2905\n",
      "\tFeature: Employment_since               Corr: -0.1751\n",
      "\tFeature: Num_liable_people              Corr: -0.1652\n",
      "\tFeature: Telephone                      Corr: -0.1650\n",
      "\tFeature: Number_credits                 Corr: -0.1383\n",
      "\tFeature: Status_account                 Corr: -0.1371\n",
      "\tFeature: _TARGET_                       Corr: 0.1279\n",
      "\tFeature: Credit_history                 Corr: -0.1143\n",
      "\tFeature: Job                            Corr: -0.1122\n",
      "\tFeature: Property                       Corr: -0.0802\n",
      "\tFeature: Personal_status                Corr: -0.0777\n",
      "\tFeature: Installment_rate               Corr: -0.0613\n",
      "\tFeature: Savings_account                Corr: -0.0580\n",
      "\tFeature: Foreign                        Corr: -0.0544\n",
      "\tFeature: Installment_plans              Corr: 0.0461\n",
      "\tFeature: Credit_amount                  Corr: -0.0460\n",
      "\tFeature: Debtors_guarantors             Corr: 0.0184\n",
      "\tFeature: Residence_since                Corr: -0.0128\n",
      "\tFeature: Duration_month                 Corr: -0.0079\n",
      "\n",
      "Try to fit ML Model on Protected Feature with Most Correlated Features (corr >= 0.05)\n",
      "\tBest Model: Random Forest        Best Score: 0.8630\n",
      "Try to fit ML Model on Protected Feature with All Other Features (non-target)\n",
      "\tBest Model: Random Forest        Best Score: 0.8765\n",
      "\n",
      "Parato Front Curve Fit: (error = 0.4812)\n",
      "\tBias = 0.3577 x e^(-0.6117 x Accuracy)\n"
     ]
    },
    {
     "data": {
      "image/png": "[encoded data removed]",
      "text/plain": [
       "<Figure size 216x216 with 1 Axes>"
      ]
     },
     "metadata": {
      "needs_background": "light"
     },
     "output_type": "display_data"
    },
    {
     "name": "stdout",
     "output_type": "stream",
     "text": [
      "\n"
     ]
    }
   ],
   "source": [
    "analysis_report(create_german_dataset, data)"
   ]
  },
  {
   "cell_type": "markdown",
   "metadata": {},
   "source": [
    "### Bank Dataset"
   ]
  },
  {
   "cell_type": "code",
   "execution_count": 21,
   "metadata": {},
   "outputs": [
    {
     "name": "stdout",
     "output_type": "stream",
     "text": [
      "Dataset Name: bank                 16 features, 45211 rows\n",
      "\n",
      "Target Value Distribution:\n",
      "\tValue: 0                    Percent: 0.8830%\n",
      "\tValue: 1                    Percent: 0.1170%\n",
      "\n",
      "Protected Attribute: age\n",
      "Protected Value Distribution:\n",
      "\tValue: elder                Percent: 0.6679%\n",
      "\tValue: young                Percent: 0.3321%\n",
      "\n",
      "Correlations with Target:\n",
      "\tFeature: _TARGET_                       Corr: 1.0000\n",
      "\tFeature: duration                       Corr: 0.3945\n",
      "\tFeature: contact                        Corr: -0.1484\n",
      "\tFeature: housing                        Corr: -0.1392\n",
      "\tFeature: pdays                          Corr: 0.1036\n",
      "\tFeature: previous                       Corr: 0.0932\n",
      "\tFeature: poutcome                       Corr: -0.0778\n",
      "\tFeature: campaign                       Corr: -0.0732\n",
      "\tFeature: loan                           Corr: -0.0682\n",
      "\tFeature: education                      Corr: 0.0662\n",
      "\tFeature: balance                        Corr: 0.0528\n",
      "\tFeature: marital                        Corr: 0.0456\n",
      "\tFeature: job                            Corr: 0.0404\n",
      "\tFeature: age                            Corr: 0.0327\n",
      "\tFeature: day                            Corr: -0.0283\n",
      "\tFeature: month                          Corr: -0.0245\n",
      "\tFeature: default                        Corr: -0.0224\n",
      "\n",
      "Correlations with Protected:\n",
      "\tFeature: age                            Corr: 1.0000\n",
      "\tFeature: marital                        Corr: 0.3807\n",
      "\tFeature: education                      Corr: 0.0897\n",
      "\tFeature: housing                        Corr: 0.0743\n",
      "\tFeature: contact                        Corr: -0.0658\n",
      "\tFeature: balance                        Corr: -0.0536\n",
      "\tFeature: job                            Corr: 0.0437\n",
      "\tFeature: _TARGET_                       Corr: 0.0327\n",
      "\tFeature: campaign                       Corr: -0.0214\n",
      "\tFeature: pdays                          Corr: 0.0209\n",
      "\tFeature: duration                       Corr: 0.0175\n",
      "\tFeature: month                          Corr: 0.0142\n",
      "\tFeature: day                            Corr: 0.0129\n",
      "\tFeature: poutcome                       Corr: -0.0109\n",
      "\tFeature: default                        Corr: 0.0090\n",
      "\tFeature: previous                       Corr: 0.0048\n",
      "\tFeature: loan                           Corr: 0.0007\n",
      "\n",
      "Try to fit ML Model on Protected Feature with Most Correlated Features (corr >= 0.05)\n",
      "\tBest Model: Random Forest        Best Score: 0.7307\n",
      "Try to fit ML Model on Protected Feature with All Other Features (non-target)\n",
      "\tBest Model: Random Forest        Best Score: 0.7684\n",
      "\n",
      "Parato Front Curve Fit: (error = 0.5154)\n",
      "\tBias = 0.0990 x e^(-0.7858 x Accuracy)\n"
     ]
    },
    {
     "data": {
      "image/png": "[encoded data removed]",
      "text/plain": [
       "<Figure size 216x216 with 1 Axes>"
      ]
     },
     "metadata": {
      "needs_background": "light"
     },
     "output_type": "display_data"
    },
    {
     "name": "stdout",
     "output_type": "stream",
     "text": [
      "\n"
     ]
    }
   ],
   "source": [
    "analysis_report(create_bank_dataset, data)"
   ]
  },
  {
   "cell_type": "markdown",
   "metadata": {},
   "source": [
    "### Analysis \n",
    "\n",
    "A larger bias on start requires:  \n",
    "* Protected attribute and Target has high correlation  \n",
    "* Other (or some) features has high correlation with Protected attribute  \n",
    "\n",
    "Reason for Bias reduction after MCAR and Imputation methods:  \n",
    "* MCAR brings missing values randomly  \n",
    "* Imputation fills missing values with values that mitigate the differences (especially in V2)  \n",
    "\n",
    "Why no bias reduction?\n",
    "1. Bias on start is low (not biased data)  \n",
    "2. Data used to fill missing values increase (or doesn't change) the differences  \n",
    "\n",
    "What data is used for each Imputation method?  \n",
    "* _Mean Imputation_: averaged value for each feature, features are not affecting each other  \n",
    "* _Similar Imputation_: similar data rows, all features are taken into account when deciding similarity  \n",
    "* _Multiple Imputation_: iterative prediction, all features are taken into account, new values generated  "
   ]
  }
 ],
 "metadata": {
  "kernelspec": {
   "display_name": "Python 3",
   "language": "python",
   "name": "python3"
  },
  "language_info": {
   "codemirror_mode": {
    "name": "ipython",
    "version": 3
   },
   "file_extension": ".py",
   "mimetype": "text/x-python",
   "name": "python",
   "nbconvert_exporter": "python",
   "pygments_lexer": "ipython3",
   "version": "3.6.8"
  }
 },
 "nbformat": 4,
 "nbformat_minor": 4
}
