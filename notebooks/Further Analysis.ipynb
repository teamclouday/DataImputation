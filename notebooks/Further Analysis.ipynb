{
 "cells": [
  {
   "cell_type": "markdown",
   "metadata": {},
   "source": [
    "### Observations for Further Analysis (MCAR Experiments)\n",
    "* Bias is almost flat in `Titanic` and `German` dataset, also a large variance  \n",
    "* `Mean` Imputation has higher accuracy than other 2 methods  \n",
    "* `IFO-Mean` eventually have much higher bias than original bias when missingness reaches 0.95  \n",
    "* Three types of datasets (need to find the differences):  \n",
    "  * `Adult`, `Compas`, `Communities` (datasets that show good tradeoff)  \n",
    "  * `Bank` (dataset that has no/or little bias)  \n",
    "  * `German` and `Titanic` (flat bias)  \n",
    "* Different classification behaviors:  \n",
    "  * Linear models (`Linear SVM`, `Logistic Regression`) have larger bias  \n",
    "  * `KNN`, `Random Forest`, and `Decision Tree` have lower bias  "
   ]
  },
  {
   "cell_type": "markdown",
   "metadata": {},
   "source": [
    "### Scoring Function Idea  \n",
    "\n",
    "Generate MCAR missing values on complete dataset, collect the following features:  \n",
    "* dataset length  \n",
    "* percentage of missingness  \n",
    "* a function that summarize the feature importance to TARGET  \n",
    "* a function that summarize the feature importance to PROTECTED  \n",
    "\n",
    "Run Mean Imputation on missing values and generate new complete dataset, collect the following features:  \n",
    "* a function that summarize the change of the imputed values  \n",
    "* feature importance change on TARGET  \n",
    "* feature importance change on PROTECTED  \n",
    "\n",
    "Train cross validated classifier, and get:  \n",
    "* averaged bias  \n",
    "* averaged accuracy  \n",
    "\n",
    "Repeat this step for 1000 times, collect all values into a dataset  \n",
    "Finally, train another simple classifier on the features we collected, with target of accuracy and bias, repectively  "
   ]
  }
 ],
 "metadata": {
  "kernelspec": {
   "display_name": "Python 3",
   "language": "python",
   "name": "python3"
  },
  "language_info": {
   "codemirror_mode": {
    "name": "ipython",
    "version": 3
   },
   "file_extension": ".py",
   "mimetype": "text/x-python",
   "name": "python",
   "nbconvert_exporter": "python",
   "pygments_lexer": "ipython3",
   "version": "3.6.8"
  }
 },
 "nbformat": 4,
 "nbformat_minor": 4
}
