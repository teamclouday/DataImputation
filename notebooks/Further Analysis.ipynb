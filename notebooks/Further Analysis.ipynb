{
 "cells": [
  {
   "cell_type": "markdown",
   "metadata": {},
   "source": [
    "### Observations for Further Analysis (MCAR Experiments)\n",
    "* Bias is almost flat in `Titanic` and `German` dataset, also a large variance  \n",
    "* `Mean` Imputation has higher accuracy than other 2 methods  \n",
    "* `IFO-Mean` eventually have much higher bias than original bias when missingness reaches 0.95  \n",
    "* Three types of datasets (need to find the differences):  \n",
    "  * `Adult`, `Compas`, `Communities` (datasets that show good tradeoff)  \n",
    "  * `Bank` (dataset that has no/or little bias)  \n",
    "  * `German` and `Titanic` (flat bias)  \n",
    "* Different classification behaviors:  \n",
    "  * Linear models (`Linear SVM`, `Logistic Regression`) have larger bias  \n",
    "  * `KNN`, `Random Forest`, and `Decision Tree` have lower bias  "
   ]
  }
 ],
 "metadata": {
  "kernelspec": {
   "display_name": "Python 3",
   "language": "python",
   "name": "python3"
  },
  "language_info": {
   "codemirror_mode": {
    "name": "ipython",
    "version": 3
   },
   "file_extension": ".py",
   "mimetype": "text/x-python",
   "name": "python",
   "nbconvert_exporter": "python",
   "pygments_lexer": "ipython3",
   "version": "3.6.8"
  }
 },
 "nbformat": 4,
 "nbformat_minor": 4
}
