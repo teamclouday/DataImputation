{
 "cells": [
  {
   "cell_type": "markdown",
   "metadata": {},
   "source": [
    "### Methods to generate missing values"
   ]
  },
  {
   "cell_type": "code",
   "execution_count": 3,
   "metadata": {},
   "outputs": [],
   "source": [
    "# prepare target dataset\n",
    "import os\n",
    "import urllib\n",
    "\n",
    "TARGET_URL = \"https://archive.ics.uci.edu/ml/machine-learning-databases/iris/\"\n",
    "TARGET_FOLDER = os.path.join(\"dataset\", \"iris\")\n",
    "FILE_DATA = \"iris.data\"\n",
    "FILE_NAME = \"iris.names\"\n",
    "\n",
    "if not os.path.exists(TARGET_FOLDER):\n",
    "    os.makedirs(TARGET_FOLDER)\n",
    "    urllib.request.urlretrieve(TARGET_URL + FILE_DATA, os.path.join(TARGET_FOLDER, FILE_DATA))\n",
    "    urllib.request.urlretrieve(TARGET_URL + FILE_NAME, os.path.join(TARGET_FOLDER, FILE_NAME))"
   ]
  },
  {
   "cell_type": "code",
   "execution_count": null,
   "metadata": {},
   "outputs": [],
   "source": []
  }
 ],
 "metadata": {
  "kernelspec": {
   "display_name": "Python 3",
   "language": "python",
   "name": "python3"
  },
  "language_info": {
   "codemirror_mode": {
    "name": "ipython",
    "version": 3
   },
   "file_extension": ".py",
   "mimetype": "text/x-python",
   "name": "python",
   "nbconvert_exporter": "python",
   "pygments_lexer": "ipython3",
   "version": "3.8.1"
  }
 },
 "nbformat": 4,
 "nbformat_minor": 4
}
