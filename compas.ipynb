{
 "cells": [
  {
   "cell_type": "markdown",
   "metadata": {},
   "source": [
    "## Study Compas Dataset  \n",
    "[Link](https://github.com/propublica/compas-analysis/blob/master/Compas%20Analysis.ipynb)"
   ]
  },
  {
   "cell_type": "code",
   "execution_count": 1,
   "metadata": {},
   "outputs": [],
   "source": [
    "import os\n",
    "import numpy as np\n",
    "import pandas as pd"
   ]
  },
  {
   "cell_type": "code",
   "execution_count": 2,
   "metadata": {},
   "outputs": [],
   "source": [
    "DATASET_PATH = os.path.join(\"dataset\", \"compas\", \"compas-scores.csv\")"
   ]
  },
  {
   "cell_type": "code",
   "execution_count": 3,
   "metadata": {},
   "outputs": [
    {
     "data": {
      "text/html": [
       "<div>\n",
       "<style scoped>\n",
       "    .dataframe tbody tr th:only-of-type {\n",
       "        vertical-align: middle;\n",
       "    }\n",
       "\n",
       "    .dataframe tbody tr th {\n",
       "        vertical-align: top;\n",
       "    }\n",
       "\n",
       "    .dataframe thead th {\n",
       "        text-align: right;\n",
       "    }\n",
       "</style>\n",
       "<table border=\"1\" class=\"dataframe\">\n",
       "  <thead>\n",
       "    <tr style=\"text-align: right;\">\n",
       "      <th></th>\n",
       "      <th>id</th>\n",
       "      <th>name</th>\n",
       "      <th>first</th>\n",
       "      <th>last</th>\n",
       "      <th>compas_screening_date</th>\n",
       "      <th>sex</th>\n",
       "      <th>dob</th>\n",
       "      <th>age</th>\n",
       "      <th>age_cat</th>\n",
       "      <th>race</th>\n",
       "      <th>...</th>\n",
       "      <th>vr_offense_date</th>\n",
       "      <th>vr_charge_desc</th>\n",
       "      <th>v_type_of_assessment</th>\n",
       "      <th>v_decile_score</th>\n",
       "      <th>v_score_text</th>\n",
       "      <th>v_screening_date</th>\n",
       "      <th>type_of_assessment</th>\n",
       "      <th>decile_score.1</th>\n",
       "      <th>score_text</th>\n",
       "      <th>screening_date</th>\n",
       "    </tr>\n",
       "  </thead>\n",
       "  <tbody>\n",
       "    <tr>\n",
       "      <th>0</th>\n",
       "      <td>1</td>\n",
       "      <td>miguel hernandez</td>\n",
       "      <td>miguel</td>\n",
       "      <td>hernandez</td>\n",
       "      <td>2013-08-14</td>\n",
       "      <td>Male</td>\n",
       "      <td>1947-04-18</td>\n",
       "      <td>69</td>\n",
       "      <td>Greater than 45</td>\n",
       "      <td>Other</td>\n",
       "      <td>...</td>\n",
       "      <td>NaN</td>\n",
       "      <td>NaN</td>\n",
       "      <td>Risk of Violence</td>\n",
       "      <td>1</td>\n",
       "      <td>Low</td>\n",
       "      <td>2013-08-14</td>\n",
       "      <td>Risk of Recidivism</td>\n",
       "      <td>1</td>\n",
       "      <td>Low</td>\n",
       "      <td>2013-08-14</td>\n",
       "    </tr>\n",
       "    <tr>\n",
       "      <th>1</th>\n",
       "      <td>2</td>\n",
       "      <td>michael ryan</td>\n",
       "      <td>michael</td>\n",
       "      <td>ryan</td>\n",
       "      <td>2014-12-31</td>\n",
       "      <td>Male</td>\n",
       "      <td>1985-02-06</td>\n",
       "      <td>31</td>\n",
       "      <td>25 - 45</td>\n",
       "      <td>Caucasian</td>\n",
       "      <td>...</td>\n",
       "      <td>NaN</td>\n",
       "      <td>NaN</td>\n",
       "      <td>Risk of Violence</td>\n",
       "      <td>2</td>\n",
       "      <td>Low</td>\n",
       "      <td>2014-12-31</td>\n",
       "      <td>Risk of Recidivism</td>\n",
       "      <td>5</td>\n",
       "      <td>Medium</td>\n",
       "      <td>2014-12-31</td>\n",
       "    </tr>\n",
       "    <tr>\n",
       "      <th>2</th>\n",
       "      <td>3</td>\n",
       "      <td>kevon dixon</td>\n",
       "      <td>kevon</td>\n",
       "      <td>dixon</td>\n",
       "      <td>2013-01-27</td>\n",
       "      <td>Male</td>\n",
       "      <td>1982-01-22</td>\n",
       "      <td>34</td>\n",
       "      <td>25 - 45</td>\n",
       "      <td>African-American</td>\n",
       "      <td>...</td>\n",
       "      <td>2013-07-05</td>\n",
       "      <td>Felony Battery (Dom Strang)</td>\n",
       "      <td>Risk of Violence</td>\n",
       "      <td>1</td>\n",
       "      <td>Low</td>\n",
       "      <td>2013-01-27</td>\n",
       "      <td>Risk of Recidivism</td>\n",
       "      <td>3</td>\n",
       "      <td>Low</td>\n",
       "      <td>2013-01-27</td>\n",
       "    </tr>\n",
       "    <tr>\n",
       "      <th>3</th>\n",
       "      <td>4</td>\n",
       "      <td>ed philo</td>\n",
       "      <td>ed</td>\n",
       "      <td>philo</td>\n",
       "      <td>2013-04-14</td>\n",
       "      <td>Male</td>\n",
       "      <td>1991-05-14</td>\n",
       "      <td>24</td>\n",
       "      <td>Less than 25</td>\n",
       "      <td>African-American</td>\n",
       "      <td>...</td>\n",
       "      <td>NaN</td>\n",
       "      <td>NaN</td>\n",
       "      <td>Risk of Violence</td>\n",
       "      <td>3</td>\n",
       "      <td>Low</td>\n",
       "      <td>2013-04-14</td>\n",
       "      <td>Risk of Recidivism</td>\n",
       "      <td>4</td>\n",
       "      <td>Low</td>\n",
       "      <td>2013-04-14</td>\n",
       "    </tr>\n",
       "    <tr>\n",
       "      <th>4</th>\n",
       "      <td>5</td>\n",
       "      <td>marcu brown</td>\n",
       "      <td>marcu</td>\n",
       "      <td>brown</td>\n",
       "      <td>2013-01-13</td>\n",
       "      <td>Male</td>\n",
       "      <td>1993-01-21</td>\n",
       "      <td>23</td>\n",
       "      <td>Less than 25</td>\n",
       "      <td>African-American</td>\n",
       "      <td>...</td>\n",
       "      <td>NaN</td>\n",
       "      <td>NaN</td>\n",
       "      <td>Risk of Violence</td>\n",
       "      <td>6</td>\n",
       "      <td>Medium</td>\n",
       "      <td>2013-01-13</td>\n",
       "      <td>Risk of Recidivism</td>\n",
       "      <td>8</td>\n",
       "      <td>High</td>\n",
       "      <td>2013-01-13</td>\n",
       "    </tr>\n",
       "  </tbody>\n",
       "</table>\n",
       "<p>5 rows × 47 columns</p>\n",
       "</div>"
      ],
      "text/plain": [
       "   id              name    first       last compas_screening_date   sex  \\\n",
       "0   1  miguel hernandez   miguel  hernandez            2013-08-14  Male   \n",
       "1   2      michael ryan  michael       ryan            2014-12-31  Male   \n",
       "2   3       kevon dixon    kevon      dixon            2013-01-27  Male   \n",
       "3   4          ed philo       ed      philo            2013-04-14  Male   \n",
       "4   5       marcu brown    marcu      brown            2013-01-13  Male   \n",
       "\n",
       "          dob  age          age_cat              race  ...  vr_offense_date  \\\n",
       "0  1947-04-18   69  Greater than 45             Other  ...              NaN   \n",
       "1  1985-02-06   31          25 - 45         Caucasian  ...              NaN   \n",
       "2  1982-01-22   34          25 - 45  African-American  ...       2013-07-05   \n",
       "3  1991-05-14   24     Less than 25  African-American  ...              NaN   \n",
       "4  1993-01-21   23     Less than 25  African-American  ...              NaN   \n",
       "\n",
       "                vr_charge_desc  v_type_of_assessment  v_decile_score  \\\n",
       "0                          NaN      Risk of Violence               1   \n",
       "1                          NaN      Risk of Violence               2   \n",
       "2  Felony Battery (Dom Strang)      Risk of Violence               1   \n",
       "3                          NaN      Risk of Violence               3   \n",
       "4                          NaN      Risk of Violence               6   \n",
       "\n",
       "   v_score_text  v_screening_date  type_of_assessment decile_score.1  \\\n",
       "0           Low        2013-08-14  Risk of Recidivism              1   \n",
       "1           Low        2014-12-31  Risk of Recidivism              5   \n",
       "2           Low        2013-01-27  Risk of Recidivism              3   \n",
       "3           Low        2013-04-14  Risk of Recidivism              4   \n",
       "4        Medium        2013-01-13  Risk of Recidivism              8   \n",
       "\n",
       "  score_text screening_date  \n",
       "0        Low     2013-08-14  \n",
       "1     Medium     2014-12-31  \n",
       "2        Low     2013-01-27  \n",
       "3        Low     2013-04-14  \n",
       "4       High     2013-01-13  \n",
       "\n",
       "[5 rows x 47 columns]"
      ]
     },
     "execution_count": 3,
     "metadata": {},
     "output_type": "execute_result"
    }
   ],
   "source": [
    "data = pd.read_csv(DATASET_PATH)\n",
    "data.head(5)"
   ]
  },
  {
   "cell_type": "code",
   "execution_count": 4,
   "metadata": {},
   "outputs": [
    {
     "data": {
      "text/plain": [
       "(11757, 47)"
      ]
     },
     "execution_count": 4,
     "metadata": {},
     "output_type": "execute_result"
    }
   ],
   "source": [
    "data.shape"
   ]
  },
  {
   "cell_type": "code",
   "execution_count": 5,
   "metadata": {},
   "outputs": [
    {
     "data": {
      "text/plain": [
       "Index(['id', 'name', 'first', 'last', 'compas_screening_date', 'sex', 'dob',\n",
       "       'age', 'age_cat', 'race', 'juv_fel_count', 'decile_score',\n",
       "       'juv_misd_count', 'juv_other_count', 'priors_count',\n",
       "       'days_b_screening_arrest', 'c_jail_in', 'c_jail_out', 'c_case_number',\n",
       "       'c_offense_date', 'c_arrest_date', 'c_days_from_compas',\n",
       "       'c_charge_degree', 'c_charge_desc', 'is_recid', 'num_r_cases',\n",
       "       'r_case_number', 'r_charge_degree', 'r_days_from_arrest',\n",
       "       'r_offense_date', 'r_charge_desc', 'r_jail_in', 'r_jail_out',\n",
       "       'is_violent_recid', 'num_vr_cases', 'vr_case_number',\n",
       "       'vr_charge_degree', 'vr_offense_date', 'vr_charge_desc',\n",
       "       'v_type_of_assessment', 'v_decile_score', 'v_score_text',\n",
       "       'v_screening_date', 'type_of_assessment', 'decile_score.1',\n",
       "       'score_text', 'screening_date'],\n",
       "      dtype='object')"
      ]
     },
     "execution_count": 5,
     "metadata": {},
     "output_type": "execute_result"
    }
   ],
   "source": [
    "data.columns"
   ]
  },
  {
   "cell_type": "code",
   "execution_count": 6,
   "metadata": {},
   "outputs": [],
   "source": [
    "def check_data(df, columns):\n",
    "    for col in columns:\n",
    "        print(col + \":\")\n",
    "        if not col in df.columns:\n",
    "            print(\"Nothing found\")\n",
    "        else:\n",
    "            print(df[col].unique())\n",
    "        print()"
   ]
  },
  {
   "cell_type": "code",
   "execution_count": 7,
   "metadata": {},
   "outputs": [
    {
     "name": "stdout",
     "output_type": "stream",
     "text": [
      "age:\n",
      "[69 31 34 24 23 43 44 41 39 20 26 21 27 37 22 47 25 64 42 32 54 49 36 33\n",
      " 30 63 55 29 38 53 51 28 35 48 46 62 56 45 40 59 50 66 52 71 19 61 58 78\n",
      " 57 68 18 70 60 65 83 67 75 73 72 77 76 74 96 80 79 86]\n",
      "\n",
      "c_charge_degree:\n",
      "['F' 'O' 'M']\n",
      "\n",
      "race:\n",
      "['Other' 'Caucasian' 'African-American' 'Hispanic' 'Asian'\n",
      " 'Native American']\n",
      "\n",
      "age_cat:\n",
      "['Greater than 45' '25 - 45' 'Less than 25']\n",
      "\n",
      "score_text:\n",
      "['Low' 'Medium' 'High' nan]\n",
      "\n",
      "sex:\n",
      "['Male' 'Female']\n",
      "\n",
      "priors_count:\n",
      "[ 0  4  1  2 14  3  7  6  5 13  8  9 15 19 21 22 20 10 12 28 11 23 25 24\n",
      " 36 18 29 16 17 33 30 43 27 26 38 37 35 31 39]\n",
      "\n",
      "decile_score:\n",
      "[ 1  5  3  4  8  6 10  9  2 -1  7]\n",
      "\n",
      "is_recid:\n",
      "[ 0 -1  1]\n",
      "\n",
      "two_year_recid:\n",
      "Nothing found\n",
      "\n",
      "c_jail_in:\n",
      "['2013-08-13 06:03:42' nan '2013-01-26 03:45:27' ... '2013-05-16 08:58:35'\n",
      " '2013-05-21 03:12:58' '2014-01-10 06:49:02']\n",
      "\n",
      "c_jail_out:\n",
      "['2013-08-14 05:41:20' nan '2013-02-05 05:36:53' ... '2013-05-18 07:59:30'\n",
      " '2013-05-22 09:04:20' '2014-01-11 01:45:55']\n",
      "\n"
     ]
    }
   ],
   "source": [
    "check_data(data, ['age', 'c_charge_degree', 'race', 'age_cat', 'score_text', 'sex', 'priors_count', \n",
    "                    'decile_score', 'is_recid', 'two_year_recid', 'c_jail_in', 'c_jail_out']\n",
    "          )"
   ]
  },
  {
   "cell_type": "code",
   "execution_count": 8,
   "metadata": {},
   "outputs": [
    {
     "data": {
      "text/plain": [
       "(10958, 47)"
      ]
     },
     "execution_count": 8,
     "metadata": {},
     "output_type": "execute_result"
    }
   ],
   "source": [
    "# select data and preprocess\n",
    "data_processed = data[(data['days_b_screening_arrest'].isnull()) | (data['days_b_screening_arrest'] <= 30)]\n",
    "data_processed = data[(data['days_b_screening_arrest'].isnull()) | (data['days_b_screening_arrest'] >= -30)] # select within 30 days\n",
    "data_processed.shape"
   ]
  },
  {
   "cell_type": "code",
   "execution_count": 9,
   "metadata": {},
   "outputs": [
    {
     "data": {
      "text/plain": [
       "(9764, 47)"
      ]
     },
     "execution_count": 9,
     "metadata": {},
     "output_type": "execute_result"
    }
   ],
   "source": [
    "data_processed = data_processed[data_processed['is_recid'] != -1]\n",
    "data_processed = data_processed[data_processed['c_charge_degree'] != 'O']\n",
    "data_processed.dropna(subset=[\"c_charge_desc\", \"c_jail_out\", \"c_jail_in\", \"days_b_screening_arrest\"], inplace=True)\n",
    "data_processed.shape"
   ]
  },
  {
   "cell_type": "code",
   "execution_count": 10,
   "metadata": {},
   "outputs": [],
   "source": [
    "data_processed = data_processed.reset_index(drop=True)"
   ]
  },
  {
   "cell_type": "code",
   "execution_count": 11,
   "metadata": {},
   "outputs": [],
   "source": [
    "data_train = data_processed[[\"age\", \"age_cat\", \"c_charge_degree\", \"priors_count\", \"juv_misd_count\", \"juv_fel_count\", \"juv_other_count\", \"c_charge_desc\", \"days_b_screening_arrest\"]].copy()\n",
    "data_train[\"length_of_stay\"] = pd.to_datetime(data_processed[\"c_jail_out\"]) - pd.to_datetime(data_processed[\"c_jail_in\"])\n",
    "data_train[\"length_of_stay\"] = data_train[\"length_of_stay\"] / pd.Timedelta(hours=1) # convert to hour base\n",
    "data_target = data_processed[[\"is_recid\"]].copy()"
   ]
  },
  {
   "cell_type": "code",
   "execution_count": 12,
   "metadata": {},
   "outputs": [
    {
     "name": "stdout",
     "output_type": "stream",
     "text": [
      "<class 'pandas.core.frame.DataFrame'>\n",
      "RangeIndex: 9764 entries, 0 to 9763\n",
      "Data columns (total 10 columns):\n",
      " #   Column                   Non-Null Count  Dtype  \n",
      "---  ------                   --------------  -----  \n",
      " 0   age                      9764 non-null   int64  \n",
      " 1   age_cat                  9764 non-null   object \n",
      " 2   c_charge_degree          9764 non-null   object \n",
      " 3   priors_count             9764 non-null   int64  \n",
      " 4   juv_misd_count           9764 non-null   int64  \n",
      " 5   juv_fel_count            9764 non-null   int64  \n",
      " 6   juv_other_count          9764 non-null   int64  \n",
      " 7   c_charge_desc            9764 non-null   object \n",
      " 8   days_b_screening_arrest  9764 non-null   float64\n",
      " 9   length_of_stay           9764 non-null   float64\n",
      "dtypes: float64(2), int64(5), object(3)\n",
      "memory usage: 762.9+ KB\n"
     ]
    }
   ],
   "source": [
    "data_train.info()"
   ]
  },
  {
   "cell_type": "code",
   "execution_count": 13,
   "metadata": {},
   "outputs": [
    {
     "name": "stdout",
     "output_type": "stream",
     "text": [
      "<class 'pandas.core.frame.DataFrame'>\n",
      "RangeIndex: 9764 entries, 0 to 9763\n",
      "Data columns (total 1 columns):\n",
      " #   Column    Non-Null Count  Dtype\n",
      "---  ------    --------------  -----\n",
      " 0   is_recid  9764 non-null   int64\n",
      "dtypes: int64(1)\n",
      "memory usage: 76.4 KB\n"
     ]
    }
   ],
   "source": [
    "data_target.info()"
   ]
  },
  {
   "cell_type": "code",
   "execution_count": 14,
   "metadata": {},
   "outputs": [
    {
     "data": {
      "text/plain": [
       "0    6363\n",
       "1    3401\n",
       "Name: is_recid, dtype: int64"
      ]
     },
     "execution_count": 14,
     "metadata": {},
     "output_type": "execute_result"
    }
   ],
   "source": [
    "data_processed[\"is_recid\"].value_counts()"
   ]
  },
  {
   "cell_type": "code",
   "execution_count": 15,
   "metadata": {},
   "outputs": [
    {
     "data": {
      "text/plain": [
       "25 - 45            5577\n",
       "Greater than 45    2095\n",
       "Less than 25       2092\n",
       "Name: age_cat, dtype: int64"
      ]
     },
     "execution_count": 15,
     "metadata": {},
     "output_type": "execute_result"
    }
   ],
   "source": [
    "data_processed[\"age_cat\"].value_counts()"
   ]
  },
  {
   "cell_type": "code",
   "execution_count": 16,
   "metadata": {},
   "outputs": [
    {
     "data": {
      "text/plain": [
       "F    6366\n",
       "M    3398\n",
       "Name: c_charge_degree, dtype: int64"
      ]
     },
     "execution_count": 16,
     "metadata": {},
     "output_type": "execute_result"
    }
   ],
   "source": [
    "data_processed[\"c_charge_degree\"].value_counts()"
   ]
  },
  {
   "cell_type": "code",
   "execution_count": 17,
   "metadata": {},
   "outputs": [
    {
     "data": {
      "text/plain": [
       "African-American    4878\n",
       "Caucasian           3371\n",
       "Hispanic             855\n",
       "Other                582\n",
       "Asian                 48\n",
       "Native American       30\n",
       "Name: race, dtype: int64"
      ]
     },
     "execution_count": 17,
     "metadata": {},
     "output_type": "execute_result"
    }
   ],
   "source": [
    "data_processed[\"race\"].value_counts()"
   ]
  },
  {
   "cell_type": "code",
   "execution_count": 18,
   "metadata": {},
   "outputs": [
    {
     "data": {
      "text/plain": [
       "Male      7766\n",
       "Female    1998\n",
       "Name: sex, dtype: int64"
      ]
     },
     "execution_count": 18,
     "metadata": {},
     "output_type": "execute_result"
    }
   ],
   "source": [
    "data_processed[\"sex\"].value_counts()"
   ]
  },
  {
   "cell_type": "code",
   "execution_count": 19,
   "metadata": {},
   "outputs": [
    {
     "name": "stdout",
     "output_type": "stream",
     "text": [
      "<class 'pandas.core.frame.DataFrame'>\n",
      "RangeIndex: 9764 entries, 0 to 9763\n",
      "Data columns (total 1 columns):\n",
      " #   Column    Non-Null Count  Dtype\n",
      "---  ------    --------------  -----\n",
      " 0   is_recid  9764 non-null   int64\n",
      "dtypes: int64(1)\n",
      "memory usage: 76.4 KB\n"
     ]
    }
   ],
   "source": [
    "data_target.info()"
   ]
  },
  {
   "cell_type": "code",
   "execution_count": 20,
   "metadata": {},
   "outputs": [
    {
     "data": {
      "text/html": [
       "<div>\n",
       "<style scoped>\n",
       "    .dataframe tbody tr th:only-of-type {\n",
       "        vertical-align: middle;\n",
       "    }\n",
       "\n",
       "    .dataframe tbody tr th {\n",
       "        vertical-align: top;\n",
       "    }\n",
       "\n",
       "    .dataframe thead th {\n",
       "        text-align: right;\n",
       "    }\n",
       "</style>\n",
       "<table border=\"1\" class=\"dataframe\">\n",
       "  <thead>\n",
       "    <tr style=\"text-align: right;\">\n",
       "      <th></th>\n",
       "      <th>age</th>\n",
       "      <th>age_cat</th>\n",
       "      <th>c_charge_degree</th>\n",
       "      <th>priors_count</th>\n",
       "      <th>juv_misd_count</th>\n",
       "      <th>juv_fel_count</th>\n",
       "      <th>juv_other_count</th>\n",
       "      <th>c_charge_desc</th>\n",
       "      <th>days_b_screening_arrest</th>\n",
       "      <th>length_of_stay</th>\n",
       "    </tr>\n",
       "  </thead>\n",
       "  <tbody>\n",
       "    <tr>\n",
       "      <th>0</th>\n",
       "      <td>69</td>\n",
       "      <td>1</td>\n",
       "      <td>0</td>\n",
       "      <td>0</td>\n",
       "      <td>0</td>\n",
       "      <td>0</td>\n",
       "      <td>0</td>\n",
       "      <td>18</td>\n",
       "      <td>-1.0</td>\n",
       "      <td>23.627222</td>\n",
       "    </tr>\n",
       "    <tr>\n",
       "      <th>1</th>\n",
       "      <td>34</td>\n",
       "      <td>0</td>\n",
       "      <td>0</td>\n",
       "      <td>0</td>\n",
       "      <td>0</td>\n",
       "      <td>0</td>\n",
       "      <td>0</td>\n",
       "      <td>187</td>\n",
       "      <td>-1.0</td>\n",
       "      <td>241.857222</td>\n",
       "    </tr>\n",
       "    <tr>\n",
       "      <th>2</th>\n",
       "      <td>24</td>\n",
       "      <td>2</td>\n",
       "      <td>0</td>\n",
       "      <td>4</td>\n",
       "      <td>0</td>\n",
       "      <td>0</td>\n",
       "      <td>1</td>\n",
       "      <td>349</td>\n",
       "      <td>-1.0</td>\n",
       "      <td>26.058333</td>\n",
       "    </tr>\n",
       "    <tr>\n",
       "      <th>3</th>\n",
       "      <td>44</td>\n",
       "      <td>0</td>\n",
       "      <td>1</td>\n",
       "      <td>0</td>\n",
       "      <td>0</td>\n",
       "      <td>0</td>\n",
       "      <td>0</td>\n",
       "      <td>54</td>\n",
       "      <td>0.0</td>\n",
       "      <td>31.643889</td>\n",
       "    </tr>\n",
       "    <tr>\n",
       "      <th>4</th>\n",
       "      <td>41</td>\n",
       "      <td>0</td>\n",
       "      <td>0</td>\n",
       "      <td>14</td>\n",
       "      <td>0</td>\n",
       "      <td>0</td>\n",
       "      <td>0</td>\n",
       "      <td>325</td>\n",
       "      <td>-1.0</td>\n",
       "      <td>151.168333</td>\n",
       "    </tr>\n",
       "  </tbody>\n",
       "</table>\n",
       "</div>"
      ],
      "text/plain": [
       "   age  age_cat  c_charge_degree  priors_count  juv_misd_count  juv_fel_count  \\\n",
       "0   69        1                0             0               0              0   \n",
       "1   34        0                0             0               0              0   \n",
       "2   24        2                0             4               0              0   \n",
       "3   44        0                1             0               0              0   \n",
       "4   41        0                0            14               0              0   \n",
       "\n",
       "   juv_other_count  c_charge_desc  days_b_screening_arrest  length_of_stay  \n",
       "0                0             18                     -1.0       23.627222  \n",
       "1                0            187                     -1.0      241.857222  \n",
       "2                1            349                     -1.0       26.058333  \n",
       "3                0             54                      0.0       31.643889  \n",
       "4                0            325                     -1.0      151.168333  "
      ]
     },
     "execution_count": 20,
     "metadata": {},
     "output_type": "execute_result"
    }
   ],
   "source": [
    "# preprocessing\n",
    "from sklearn.preprocessing import LabelEncoder\n",
    "encoders = {}\n",
    "for col in ['age_cat', 'c_charge_degree', 'c_charge_desc']:\n",
    "    encoder = LabelEncoder()\n",
    "    data_train[col] = encoder.fit_transform(data_train[col])\n",
    "    encoders[col] = encoder\n",
    "data_train.head(5)"
   ]
  },
  {
   "cell_type": "code",
   "execution_count": 21,
   "metadata": {},
   "outputs": [
    {
     "data": {
      "text/html": [
       "<div>\n",
       "<style scoped>\n",
       "    .dataframe tbody tr th:only-of-type {\n",
       "        vertical-align: middle;\n",
       "    }\n",
       "\n",
       "    .dataframe tbody tr th {\n",
       "        vertical-align: top;\n",
       "    }\n",
       "\n",
       "    .dataframe thead th {\n",
       "        text-align: right;\n",
       "    }\n",
       "</style>\n",
       "<table border=\"1\" class=\"dataframe\">\n",
       "  <thead>\n",
       "    <tr style=\"text-align: right;\">\n",
       "      <th></th>\n",
       "      <th>age</th>\n",
       "      <th>age_cat</th>\n",
       "      <th>c_charge_degree</th>\n",
       "      <th>priors_count</th>\n",
       "      <th>juv_misd_count</th>\n",
       "      <th>juv_fel_count</th>\n",
       "      <th>juv_other_count</th>\n",
       "      <th>c_charge_desc</th>\n",
       "      <th>days_b_screening_arrest</th>\n",
       "      <th>length_of_stay</th>\n",
       "    </tr>\n",
       "  </thead>\n",
       "  <tbody>\n",
       "    <tr>\n",
       "      <th>count</th>\n",
       "      <td>9764.000000</td>\n",
       "      <td>9764.000000</td>\n",
       "      <td>9764.000000</td>\n",
       "      <td>9764.000000</td>\n",
       "      <td>9764.000000</td>\n",
       "      <td>9764.000000</td>\n",
       "      <td>9764.000000</td>\n",
       "      <td>9764.000000</td>\n",
       "      <td>9764.000000</td>\n",
       "      <td>9764.000000</td>\n",
       "    </tr>\n",
       "    <tr>\n",
       "      <th>mean</th>\n",
       "      <td>34.741909</td>\n",
       "      <td>0.643077</td>\n",
       "      <td>0.348013</td>\n",
       "      <td>3.127509</td>\n",
       "      <td>0.080705</td>\n",
       "      <td>0.063294</td>\n",
       "      <td>0.099857</td>\n",
       "      <td>228.884986</td>\n",
       "      <td>7.507374</td>\n",
       "      <td>568.780862</td>\n",
       "    </tr>\n",
       "    <tr>\n",
       "      <th>std</th>\n",
       "      <td>11.813679</td>\n",
       "      <td>0.811239</td>\n",
       "      <td>0.476365</td>\n",
       "      <td>4.669978</td>\n",
       "      <td>0.464714</td>\n",
       "      <td>0.458554</td>\n",
       "      <td>0.468362</td>\n",
       "      <td>156.667580</td>\n",
       "      <td>63.144447</td>\n",
       "      <td>1767.560725</td>\n",
       "    </tr>\n",
       "    <tr>\n",
       "      <th>min</th>\n",
       "      <td>18.000000</td>\n",
       "      <td>0.000000</td>\n",
       "      <td>0.000000</td>\n",
       "      <td>0.000000</td>\n",
       "      <td>0.000000</td>\n",
       "      <td>0.000000</td>\n",
       "      <td>0.000000</td>\n",
       "      <td>0.000000</td>\n",
       "      <td>-30.000000</td>\n",
       "      <td>-11.704722</td>\n",
       "    </tr>\n",
       "    <tr>\n",
       "      <th>25%</th>\n",
       "      <td>25.000000</td>\n",
       "      <td>0.000000</td>\n",
       "      <td>0.000000</td>\n",
       "      <td>0.000000</td>\n",
       "      <td>0.000000</td>\n",
       "      <td>0.000000</td>\n",
       "      <td>0.000000</td>\n",
       "      <td>61.000000</td>\n",
       "      <td>-1.000000</td>\n",
       "      <td>21.512222</td>\n",
       "    </tr>\n",
       "    <tr>\n",
       "      <th>50%</th>\n",
       "      <td>31.000000</td>\n",
       "      <td>0.000000</td>\n",
       "      <td>0.000000</td>\n",
       "      <td>1.000000</td>\n",
       "      <td>0.000000</td>\n",
       "      <td>0.000000</td>\n",
       "      <td>0.000000</td>\n",
       "      <td>203.000000</td>\n",
       "      <td>-1.000000</td>\n",
       "      <td>29.833056</td>\n",
       "    </tr>\n",
       "    <tr>\n",
       "      <th>75%</th>\n",
       "      <td>42.000000</td>\n",
       "      <td>1.000000</td>\n",
       "      <td>1.000000</td>\n",
       "      <td>4.000000</td>\n",
       "      <td>0.000000</td>\n",
       "      <td>0.000000</td>\n",
       "      <td>0.000000</td>\n",
       "      <td>349.000000</td>\n",
       "      <td>0.000000</td>\n",
       "      <td>213.165278</td>\n",
       "    </tr>\n",
       "    <tr>\n",
       "      <th>max</th>\n",
       "      <td>96.000000</td>\n",
       "      <td>2.000000</td>\n",
       "      <td>1.000000</td>\n",
       "      <td>43.000000</td>\n",
       "      <td>13.000000</td>\n",
       "      <td>20.000000</td>\n",
       "      <td>11.000000</td>\n",
       "      <td>476.000000</td>\n",
       "      <td>1057.000000</td>\n",
       "      <td>51670.880278</td>\n",
       "    </tr>\n",
       "  </tbody>\n",
       "</table>\n",
       "</div>"
      ],
      "text/plain": [
       "               age      age_cat  c_charge_degree  priors_count  \\\n",
       "count  9764.000000  9764.000000      9764.000000   9764.000000   \n",
       "mean     34.741909     0.643077         0.348013      3.127509   \n",
       "std      11.813679     0.811239         0.476365      4.669978   \n",
       "min      18.000000     0.000000         0.000000      0.000000   \n",
       "25%      25.000000     0.000000         0.000000      0.000000   \n",
       "50%      31.000000     0.000000         0.000000      1.000000   \n",
       "75%      42.000000     1.000000         1.000000      4.000000   \n",
       "max      96.000000     2.000000         1.000000     43.000000   \n",
       "\n",
       "       juv_misd_count  juv_fel_count  juv_other_count  c_charge_desc  \\\n",
       "count     9764.000000    9764.000000      9764.000000    9764.000000   \n",
       "mean         0.080705       0.063294         0.099857     228.884986   \n",
       "std          0.464714       0.458554         0.468362     156.667580   \n",
       "min          0.000000       0.000000         0.000000       0.000000   \n",
       "25%          0.000000       0.000000         0.000000      61.000000   \n",
       "50%          0.000000       0.000000         0.000000     203.000000   \n",
       "75%          0.000000       0.000000         0.000000     349.000000   \n",
       "max         13.000000      20.000000        11.000000     476.000000   \n",
       "\n",
       "       days_b_screening_arrest  length_of_stay  \n",
       "count              9764.000000     9764.000000  \n",
       "mean                  7.507374      568.780862  \n",
       "std                  63.144447     1767.560725  \n",
       "min                 -30.000000      -11.704722  \n",
       "25%                  -1.000000       21.512222  \n",
       "50%                  -1.000000       29.833056  \n",
       "75%                   0.000000      213.165278  \n",
       "max                1057.000000    51670.880278  "
      ]
     },
     "execution_count": 21,
     "metadata": {},
     "output_type": "execute_result"
    }
   ],
   "source": [
    "data_train.describe()"
   ]
  },
  {
   "cell_type": "markdown",
   "metadata": {},
   "source": [
    "## Build Model  \n",
    "The goal here is to build several models to predict the possibility of a person's is_recid in future  \n",
    "and compare it with the decile_score and score_text output  "
   ]
  },
  {
   "cell_type": "code",
   "execution_count": 22,
   "metadata": {},
   "outputs": [],
   "source": [
    "from sklearn.neighbors import KNeighborsClassifier\n",
    "from sklearn.svm import LinearSVC\n",
    "from sklearn.linear_model import SGDClassifier\n",
    "from sklearn.linear_model import LogisticRegression\n",
    "from sklearn.ensemble import RandomForestClassifier\n",
    "from sklearn.model_selection import cross_validate"
   ]
  },
  {
   "cell_type": "code",
   "execution_count": 23,
   "metadata": {},
   "outputs": [
    {
     "name": "stdout",
     "output_type": "stream",
     "text": [
      "0.6441019176046939\n"
     ]
    }
   ],
   "source": [
    "result = cross_validate(estimator=KNeighborsClassifier(),\n",
    "                        X=data_train.to_numpy(), y=data_target.to_numpy().ravel(), cv=5,\n",
    "                        return_estimator=True)\n",
    "result_best_ids = np.argmax(result[\"test_score\"])\n",
    "model_neighbor = {\n",
    "    'avg_score': result['test_score'].mean(),\n",
    "    'best_estimator': result['estimator'][result_best_ids]\n",
    "}\n",
    "print(model_neighbor['avg_score'])"
   ]
  },
  {
   "cell_type": "code",
   "execution_count": 24,
   "metadata": {},
   "outputs": [
    {
     "name": "stdout",
     "output_type": "stream",
     "text": [
      "0.6899836212468419\n"
     ]
    }
   ],
   "source": [
    "result = cross_validate(estimator=LinearSVC(dual=False),\n",
    "                        X=data_train.to_numpy(), y=data_target.to_numpy().ravel(), cv=5,\n",
    "                        return_estimator=True)\n",
    "result_best_ids = np.argmax(result[\"test_score\"])\n",
    "model_linearSVC = {\n",
    "    'avg_score': result['test_score'].mean(),\n",
    "    'best_estimator': result['estimator'][result_best_ids]\n",
    "}\n",
    "print(model_linearSVC['avg_score'])"
   ]
  },
  {
   "cell_type": "code",
   "execution_count": 25,
   "metadata": {},
   "outputs": [
    {
     "name": "stdout",
     "output_type": "stream",
     "text": [
      "0.6220814132104455\n"
     ]
    }
   ],
   "source": [
    "result = cross_validate(estimator=SGDClassifier(),\n",
    "                        X=data_train.to_numpy(), y=data_target.to_numpy().ravel(), cv=5,\n",
    "                        return_estimator=True)\n",
    "result_best_ids = np.argmax(result[\"test_score\"])\n",
    "model_SGD = {\n",
    "    'avg_score': result['test_score'].mean(),\n",
    "    'best_estimator': result['estimator'][result_best_ids]\n",
    "}\n",
    "print(model_SGD['avg_score'])"
   ]
  },
  {
   "cell_type": "code",
   "execution_count": 26,
   "metadata": {},
   "outputs": [
    {
     "name": "stdout",
     "output_type": "stream",
     "text": [
      "0.6898811097680744\n"
     ]
    }
   ],
   "source": [
    "result = cross_validate(estimator=LogisticRegression(max_iter=10000),\n",
    "                        X=data_train.to_numpy(), y=data_target.to_numpy().ravel(), cv=5,\n",
    "                        return_estimator=True)\n",
    "result_best_ids = np.argmax(result[\"test_score\"])\n",
    "model_logreg = {\n",
    "    'avg_score': result['test_score'].mean(),\n",
    "    'best_estimator': result['estimator'][result_best_ids]\n",
    "}\n",
    "print(model_logreg['avg_score'])"
   ]
  },
  {
   "cell_type": "code",
   "execution_count": 27,
   "metadata": {},
   "outputs": [
    {
     "name": "stdout",
     "output_type": "stream",
     "text": [
      "0.6859890311668472\n"
     ]
    }
   ],
   "source": [
    "result = cross_validate(estimator=RandomForestClassifier(),\n",
    "                        X=data_train.to_numpy(), y=data_target.to_numpy().ravel(), cv=5,\n",
    "                        return_estimator=True)\n",
    "result_best_ids = np.argmax(result[\"test_score\"])\n",
    "model_forest = {\n",
    "    'avg_score': result['test_score'].mean(),\n",
    "    'best_estimator': result['estimator'][result_best_ids]\n",
    "}\n",
    "print(model_forest['avg_score'])"
   ]
  },
  {
   "cell_type": "markdown",
   "metadata": {},
   "source": [
    "## Improvement"
   ]
  },
  {
   "cell_type": "code",
   "execution_count": 28,
   "metadata": {},
   "outputs": [
    {
     "data": {
      "text/plain": [
       "((6363,), (3401,))"
      ]
     },
     "execution_count": 28,
     "metadata": {},
     "output_type": "execute_result"
    }
   ],
   "source": [
    "# select balanced rows\n",
    "idx0 = data_target[data_target[\"is_recid\"] == 0].copy().index\n",
    "idx1 = data_target[data_target[\"is_recid\"] == 1].copy().index\n",
    "idx0.shape, idx1.shape"
   ]
  },
  {
   "cell_type": "code",
   "execution_count": 29,
   "metadata": {},
   "outputs": [
    {
     "data": {
      "text/plain": [
       "6802"
      ]
     },
     "execution_count": 29,
     "metadata": {},
     "output_type": "execute_result"
    }
   ],
   "source": [
    "rnd_idx0 = idx0.to_numpy()[np.random.permutation(idx0.shape[0])][:idx1.shape[0]]\n",
    "final_index = rnd_idx0.tolist() + idx1.tolist()\n",
    "len(final_index)"
   ]
  },
  {
   "cell_type": "code",
   "execution_count": 30,
   "metadata": {},
   "outputs": [
    {
     "data": {
      "text/plain": [
       "(6802, 1)"
      ]
     },
     "execution_count": 30,
     "metadata": {},
     "output_type": "execute_result"
    }
   ],
   "source": [
    "data_target_selected = data_target.iloc[final_index].copy()\n",
    "data_target_selected.shape"
   ]
  },
  {
   "cell_type": "code",
   "execution_count": 31,
   "metadata": {},
   "outputs": [
    {
     "data": {
      "text/plain": [
       "(3401, 1)"
      ]
     },
     "execution_count": 31,
     "metadata": {},
     "output_type": "execute_result"
    }
   ],
   "source": [
    "data_target_selected[data_target_selected[\"is_recid\"] == 0].shape"
   ]
  },
  {
   "cell_type": "code",
   "execution_count": 32,
   "metadata": {},
   "outputs": [
    {
     "data": {
      "text/plain": [
       "(3401, 1)"
      ]
     },
     "execution_count": 32,
     "metadata": {},
     "output_type": "execute_result"
    }
   ],
   "source": [
    "data_target_selected[data_target_selected[\"is_recid\"] == 1].shape"
   ]
  },
  {
   "cell_type": "code",
   "execution_count": 33,
   "metadata": {},
   "outputs": [],
   "source": [
    "data_train_selected = data_train.iloc[final_index].copy()"
   ]
  },
  {
   "cell_type": "code",
   "execution_count": 34,
   "metadata": {},
   "outputs": [
    {
     "name": "stdout",
     "output_type": "stream",
     "text": [
      "0.5907081730561439\n"
     ]
    }
   ],
   "source": [
    "result = cross_validate(estimator=KNeighborsClassifier(),\n",
    "                        X=data_train_selected.to_numpy(), y=data_target_selected.to_numpy().ravel(), cv=5,\n",
    "                        return_estimator=True)\n",
    "result_best_ids = np.argmax(result[\"test_score\"])\n",
    "model_neighbor_selected = {\n",
    "    'avg_score': result['test_score'].mean(),\n",
    "    'best_estimator': result['estimator'][result_best_ids]\n",
    "}\n",
    "print(model_neighbor_selected['avg_score'])"
   ]
  },
  {
   "cell_type": "code",
   "execution_count": 35,
   "metadata": {},
   "outputs": [
    {
     "name": "stdout",
     "output_type": "stream",
     "text": [
      "0.6515738859834896\n"
     ]
    }
   ],
   "source": [
    "result = cross_validate(estimator=LinearSVC(dual=False),\n",
    "                        X=data_train_selected.to_numpy(), y=data_target_selected.to_numpy().ravel(), cv=5,\n",
    "                        return_estimator=True)\n",
    "result_best_ids = np.argmax(result[\"test_score\"])\n",
    "model_linearSVC_selected = {\n",
    "    'avg_score': result['test_score'].mean(),\n",
    "    'best_estimator': result['estimator'][result_best_ids]\n",
    "}\n",
    "print(model_linearSVC_selected['avg_score'])"
   ]
  },
  {
   "cell_type": "code",
   "execution_count": 36,
   "metadata": {},
   "outputs": [
    {
     "name": "stdout",
     "output_type": "stream",
     "text": [
      "0.5758586895448848\n"
     ]
    }
   ],
   "source": [
    "result = cross_validate(estimator=SGDClassifier(),\n",
    "                        X=data_train_selected.to_numpy(), y=data_target_selected.to_numpy().ravel(), cv=5,\n",
    "                        return_estimator=True)\n",
    "result_best_ids = np.argmax(result[\"test_score\"])\n",
    "model_SGD_selected = {\n",
    "    'avg_score': result['test_score'].mean(),\n",
    "    'best_estimator': result['estimator'][result_best_ids]\n",
    "}\n",
    "print(model_SGD_selected['avg_score'])"
   ]
  },
  {
   "cell_type": "code",
   "execution_count": 37,
   "metadata": {},
   "outputs": [
    {
     "name": "stdout",
     "output_type": "stream",
     "text": [
      "0.6590710766305052\n"
     ]
    }
   ],
   "source": [
    "result = cross_validate(estimator=LogisticRegression(max_iter=10000),\n",
    "                        X=data_train_selected.to_numpy(), y=data_target_selected.to_numpy().ravel(), cv=5,\n",
    "                        return_estimator=True)\n",
    "result_best_ids = np.argmax(result[\"test_score\"])\n",
    "model_logreg_selected = {\n",
    "    'avg_score': result['test_score'].mean(),\n",
    "    'best_estimator': result['estimator'][result_best_ids]\n",
    "}\n",
    "print(model_logreg_selected['avg_score'])"
   ]
  },
  {
   "cell_type": "code",
   "execution_count": 38,
   "metadata": {},
   "outputs": [
    {
     "name": "stdout",
     "output_type": "stream",
     "text": [
      "0.6449583999654235\n"
     ]
    }
   ],
   "source": [
    "result = cross_validate(estimator=RandomForestClassifier(),\n",
    "                        X=data_train_selected.to_numpy(), y=data_target_selected.to_numpy().ravel(), cv=5,\n",
    "                        return_estimator=True)\n",
    "result_best_ids = np.argmax(result[\"test_score\"])\n",
    "model_forest_selected = {\n",
    "    'avg_score': result['test_score'].mean(),\n",
    "    'best_estimator': result['estimator'][result_best_ids]\n",
    "}\n",
    "print(model_forest_selected['avg_score'])"
   ]
  },
  {
   "cell_type": "markdown",
   "metadata": {},
   "source": [
    "### Try SMOTE "
   ]
  },
  {
   "cell_type": "code",
   "execution_count": 39,
   "metadata": {},
   "outputs": [],
   "source": [
    "from sklearn.model_selection import train_test_split\n",
    "\n",
    "def test_with_smote(X, y, algo_list, smote_obj, repeat=10, test_size=0.2):\n",
    "    for algo in algo_list:\n",
    "        score = 0\n",
    "        for _ in range(repeat):\n",
    "            X_train, X_test, y_train, y_test = train_test_split(X, y, test_size=test_size)\n",
    "            X_train_res, y_train_res = smote_obj.fit_resample(X_train, y_train)\n",
    "            algo.fit(X_train_res, y_train_res)\n",
    "            score += algo.score(X_test, y_test)\n",
    "        score /= repeat\n",
    "        print(\"{}: {:.5f}\".format(algo.__class__.__name__, score))"
   ]
  },
  {
   "cell_type": "code",
   "execution_count": 40,
   "metadata": {},
   "outputs": [],
   "source": [
    "import warnings\n",
    "warnings.filterwarnings('ignore')"
   ]
  },
  {
   "cell_type": "code",
   "execution_count": 41,
   "metadata": {},
   "outputs": [],
   "source": [
    "X = data_train.to_numpy()\n",
    "y = data_target.to_numpy().ravel()\n",
    "algo_list = [KNeighborsClassifier(), LinearSVC(dual=False), SGDClassifier(), LogisticRegression(max_iter=10000), RandomForestClassifier()]"
   ]
  },
  {
   "cell_type": "code",
   "execution_count": 42,
   "metadata": {},
   "outputs": [
    {
     "data": {
      "text/plain": [
       "((9764, 10), (9764,))"
      ]
     },
     "execution_count": 42,
     "metadata": {},
     "output_type": "execute_result"
    }
   ],
   "source": [
    "X.shape, y.shape"
   ]
  },
  {
   "cell_type": "code",
   "execution_count": 43,
   "metadata": {},
   "outputs": [],
   "source": [
    "from imblearn.over_sampling import BorderlineSMOTE, KMeansSMOTE, SVMSMOTE, ADASYN"
   ]
  },
  {
   "cell_type": "code",
   "execution_count": 44,
   "metadata": {},
   "outputs": [
    {
     "name": "stdout",
     "output_type": "stream",
     "text": [
      "KNeighborsClassifier: 0.59068\n",
      "LinearSVC: 0.65151\n",
      "SGDClassifier: 0.57537\n",
      "LogisticRegression: 0.65863\n",
      "RandomForestClassifier: 0.67409\n"
     ]
    }
   ],
   "source": [
    "test_with_smote(X, y, algo_list, BorderlineSMOTE(random_state=22))"
   ]
  },
  {
   "cell_type": "code",
   "execution_count": 45,
   "metadata": {},
   "outputs": [
    {
     "name": "stdout",
     "output_type": "stream",
     "text": [
      "KNeighborsClassifier: 0.63584\n",
      "LinearSVC: 0.67235\n",
      "SGDClassifier: 0.58433\n",
      "LogisticRegression: 0.67834\n",
      "RandomForestClassifier: 0.68638\n"
     ]
    }
   ],
   "source": [
    "test_with_smote(X, y, algo_list, KMeansSMOTE(cluster_balance_threshold=0.4, random_state=22))"
   ]
  },
  {
   "cell_type": "code",
   "execution_count": 46,
   "metadata": {},
   "outputs": [
    {
     "name": "stdout",
     "output_type": "stream",
     "text": [
      "KNeighborsClassifier: 0.59416\n",
      "LinearSVC: 0.65975\n",
      "SGDClassifier: 0.61126\n",
      "LogisticRegression: 0.66477\n",
      "RandomForestClassifier: 0.68336\n"
     ]
    }
   ],
   "source": [
    "test_with_smote(X, y, algo_list, SVMSMOTE(random_state=22))"
   ]
  },
  {
   "cell_type": "code",
   "execution_count": 47,
   "metadata": {},
   "outputs": [
    {
     "name": "stdout",
     "output_type": "stream",
     "text": [
      "KNeighborsClassifier: 0.58889\n",
      "LinearSVC: 0.65755\n",
      "SGDClassifier: 0.60804\n",
      "LogisticRegression: 0.66247\n",
      "RandomForestClassifier: 0.67942\n"
     ]
    }
   ],
   "source": [
    "test_with_smote(X, y, algo_list, ADASYN(random_state=22))"
   ]
  },
  {
   "cell_type": "code",
   "execution_count": 48,
   "metadata": {},
   "outputs": [],
   "source": [
    "def test_without_smote(X, y, algo_list, repeat=10, test_size=0.2):\n",
    "    for algo in algo_list:\n",
    "        score = 0\n",
    "        for _ in range(repeat):\n",
    "            X_train, X_test, y_train, y_test = train_test_split(X, y, test_size=test_size)\n",
    "            # X_train_res, y_train_res = smote_obj.fit_resample(X_train, y_train)\n",
    "            algo.fit(X_train, y_train)\n",
    "            score += algo.score(X_test, y_test)\n",
    "        score /= repeat\n",
    "        print(\"{}: {:.5f}\".format(algo.__class__.__name__, score))"
   ]
  },
  {
   "cell_type": "code",
   "execution_count": 49,
   "metadata": {},
   "outputs": [
    {
     "name": "stdout",
     "output_type": "stream",
     "text": [
      "KNeighborsClassifier: 0.63385\n",
      "LinearSVC: 0.69406\n",
      "SGDClassifier: 0.61101\n",
      "LogisticRegression: 0.69032\n",
      "RandomForestClassifier: 0.68612\n"
     ]
    }
   ],
   "source": [
    "test_without_smote(X, y, algo_list)"
   ]
  },
  {
   "cell_type": "code",
   "execution_count": 50,
   "metadata": {},
   "outputs": [],
   "source": [
    "from sklearn.model_selection import train_test_split\n",
    "X_train, X_test, y_train, y_test = train_test_split(X, y, test_size=0.2, random_state=22)"
   ]
  },
  {
   "cell_type": "markdown",
   "metadata": {},
   "source": [
    "### Add Parameter Searching"
   ]
  },
  {
   "cell_type": "code",
   "execution_count": 51,
   "metadata": {},
   "outputs": [],
   "source": [
    "from sklearn.model_selection import GridSearchCV\n",
    "\n",
    "def grid_search(X, y, model, params, smote):\n",
    "    print(\"Model: {}\".format(model.__class__.__name__))\n",
    "    X_res, y_res = smote.fit_resample(X, y) # enlarge dataset\n",
    "    search = GridSearchCV(model, param_grid=params, cv=10)\n",
    "    search.fit(X_res, y_res)\n",
    "    print(\"Best parameter: {}\".format(search.best_params_))\n",
    "    print(\"Acc on original data: {:.4f}\".format(search.best_estimator_.score(X_test, y_test)))\n",
    "    print(\"Acc on enlarged data: {:.4f}\".format(search.best_estimator_.score(X_res, y_res)))"
   ]
  },
  {
   "cell_type": "markdown",
   "metadata": {},
   "source": [
    "#### KNN"
   ]
  },
  {
   "cell_type": "code",
   "execution_count": 52,
   "metadata": {},
   "outputs": [
    {
     "name": "stdout",
     "output_type": "stream",
     "text": [
      "Model: KNeighborsClassifier\n",
      "Best parameter: {'n_neighbors': 2}\n",
      "Acc on original data: 0.6216\n",
      "Acc on enlarged data: 0.6925\n"
     ]
    }
   ],
   "source": [
    "knn_params = {\n",
    "    \"n_neighbors\": [2, 5, 10, 50, 100],\n",
    "}\n",
    "grid_search(X_train, y_train, KNeighborsClassifier(), knn_params, BorderlineSMOTE(random_state=22))"
   ]
  },
  {
   "cell_type": "code",
   "execution_count": 53,
   "metadata": {},
   "outputs": [
    {
     "name": "stdout",
     "output_type": "stream",
     "text": [
      "Model: KNeighborsClassifier\n",
      "Best parameter: {'n_neighbors': 2}\n",
      "Acc on original data: 0.6406\n",
      "Acc on enlarged data: 0.7379\n"
     ]
    }
   ],
   "source": [
    "grid_search(X_train, y_train, KNeighborsClassifier(), knn_params, KMeansSMOTE(cluster_balance_threshold=0.4, random_state=22))"
   ]
  },
  {
   "cell_type": "code",
   "execution_count": 54,
   "metadata": {},
   "outputs": [
    {
     "name": "stdout",
     "output_type": "stream",
     "text": [
      "Model: KNeighborsClassifier\n",
      "Best parameter: {'n_neighbors': 2}\n",
      "Acc on original data: 0.6272\n",
      "Acc on enlarged data: 0.7000\n"
     ]
    }
   ],
   "source": [
    "grid_search(X_train, y_train, KNeighborsClassifier(), knn_params, SVMSMOTE(random_state=22))"
   ]
  },
  {
   "cell_type": "code",
   "execution_count": 55,
   "metadata": {},
   "outputs": [
    {
     "name": "stdout",
     "output_type": "stream",
     "text": [
      "Model: KNeighborsClassifier\n",
      "Best parameter: {'n_neighbors': 2}\n",
      "Acc on original data: 0.6144\n",
      "Acc on enlarged data: 0.6728\n"
     ]
    }
   ],
   "source": [
    "grid_search(X_train, y_train, KNeighborsClassifier(), knn_params, ADASYN(random_state=22))"
   ]
  },
  {
   "cell_type": "markdown",
   "metadata": {},
   "source": [
    "#### SVC"
   ]
  },
  {
   "cell_type": "code",
   "execution_count": 56,
   "metadata": {},
   "outputs": [
    {
     "name": "stdout",
     "output_type": "stream",
     "text": [
      "Model: LinearSVC\n",
      "Best parameter: {'C': 1}\n",
      "Acc on original data: 0.6467\n",
      "Acc on enlarged data: 0.6524\n"
     ]
    }
   ],
   "source": [
    "svm_params = {\n",
    "    \"C\": [0.0001, 0.001, 0.01, 0.1, 1],\n",
    "}\n",
    "grid_search(X_train, y_train, LinearSVC(dual=False), svm_params, BorderlineSMOTE(random_state=22))"
   ]
  },
  {
   "cell_type": "code",
   "execution_count": 57,
   "metadata": {},
   "outputs": [
    {
     "name": "stdout",
     "output_type": "stream",
     "text": [
      "Model: LinearSVC\n",
      "Best parameter: {'C': 0.001}\n",
      "Acc on original data: 0.6641\n",
      "Acc on enlarged data: 0.6808\n"
     ]
    }
   ],
   "source": [
    "grid_search(X_train, y_train, LinearSVC(dual=False), svm_params, KMeansSMOTE(cluster_balance_threshold=0.4, random_state=22))"
   ]
  },
  {
   "cell_type": "code",
   "execution_count": 58,
   "metadata": {},
   "outputs": [
    {
     "name": "stdout",
     "output_type": "stream",
     "text": [
      "Model: LinearSVC\n",
      "Best parameter: {'C': 1}\n",
      "Acc on original data: 0.6385\n",
      "Acc on enlarged data: 0.6715\n"
     ]
    }
   ],
   "source": [
    "grid_search(X_train, y_train, LinearSVC(dual=False), svm_params, SVMSMOTE(random_state=22))"
   ]
  },
  {
   "cell_type": "code",
   "execution_count": 59,
   "metadata": {},
   "outputs": [
    {
     "name": "stdout",
     "output_type": "stream",
     "text": [
      "Model: LinearSVC\n",
      "Best parameter: {'C': 1}\n",
      "Acc on original data: 0.6441\n",
      "Acc on enlarged data: 0.6553\n"
     ]
    }
   ],
   "source": [
    "grid_search(X_train, y_train, LinearSVC(dual=False), svm_params, ADASYN(random_state=22))"
   ]
  },
  {
   "cell_type": "markdown",
   "metadata": {},
   "source": [
    "#### SGD"
   ]
  },
  {
   "cell_type": "code",
   "execution_count": 60,
   "metadata": {},
   "outputs": [
    {
     "name": "stdout",
     "output_type": "stream",
     "text": [
      "Model: SGDClassifier\n",
      "Best parameter: {'alpha': 10.0}\n",
      "Acc on original data: 0.6359\n",
      "Acc on enlarged data: 0.5968\n"
     ]
    }
   ],
   "source": [
    "sgd_params = {\n",
    "    \"alpha\": [1e-3, 1e-2, 1e-1, 1, 1e1]\n",
    "}\n",
    "grid_search(X_train, y_train, SGDClassifier(), sgd_params, BorderlineSMOTE(random_state=22))"
   ]
  },
  {
   "cell_type": "code",
   "execution_count": 61,
   "metadata": {},
   "outputs": [
    {
     "name": "stdout",
     "output_type": "stream",
     "text": [
      "Model: SGDClassifier\n",
      "Best parameter: {'alpha': 0.1}\n",
      "Acc on original data: 0.6242\n",
      "Acc on enlarged data: 0.6815\n"
     ]
    }
   ],
   "source": [
    "grid_search(X_train, y_train, SGDClassifier(), sgd_params, KMeansSMOTE(cluster_balance_threshold=0.4, random_state=22))"
   ]
  },
  {
   "cell_type": "code",
   "execution_count": 62,
   "metadata": {},
   "outputs": [
    {
     "name": "stdout",
     "output_type": "stream",
     "text": [
      "Model: SGDClassifier\n",
      "Best parameter: {'alpha': 1}\n",
      "Acc on original data: 0.6621\n",
      "Acc on enlarged data: 0.6168\n"
     ]
    }
   ],
   "source": [
    "grid_search(X_train, y_train, SGDClassifier(), sgd_params, SVMSMOTE(random_state=22))"
   ]
  },
  {
   "cell_type": "code",
   "execution_count": 63,
   "metadata": {},
   "outputs": [
    {
     "name": "stdout",
     "output_type": "stream",
     "text": [
      "Model: SGDClassifier\n",
      "Best parameter: {'alpha': 1}\n",
      "Acc on original data: 0.6462\n",
      "Acc on enlarged data: 0.6033\n"
     ]
    }
   ],
   "source": [
    "grid_search(X_train, y_train, SGDClassifier(), sgd_params, ADASYN(random_state=22))"
   ]
  },
  {
   "cell_type": "markdown",
   "metadata": {},
   "source": [
    "#### Logistic Regression"
   ]
  },
  {
   "cell_type": "code",
   "execution_count": 64,
   "metadata": {},
   "outputs": [
    {
     "name": "stdout",
     "output_type": "stream",
     "text": [
      "Model: LogisticRegression\n",
      "Best parameter: {'C': 0.01}\n",
      "Acc on original data: 0.6487\n",
      "Acc on enlarged data: 0.6569\n"
     ]
    }
   ],
   "source": [
    "lg_params = {\n",
    "    \"C\": [1e-2, 1e-1, 1, 1e1, 1e2]\n",
    "}\n",
    "grid_search(X_train, y_train, LogisticRegression(max_iter=10000), lg_params, BorderlineSMOTE(random_state=22))"
   ]
  },
  {
   "cell_type": "code",
   "execution_count": 65,
   "metadata": {},
   "outputs": [
    {
     "name": "stdout",
     "output_type": "stream",
     "text": [
      "Model: LogisticRegression\n",
      "Best parameter: {'C': 0.01}\n",
      "Acc on original data: 0.6631\n",
      "Acc on enlarged data: 0.6818\n"
     ]
    }
   ],
   "source": [
    "grid_search(X_train, y_train, LogisticRegression(max_iter=10000), lg_params, KMeansSMOTE(cluster_balance_threshold=0.4, random_state=22))"
   ]
  },
  {
   "cell_type": "code",
   "execution_count": 66,
   "metadata": {},
   "outputs": [
    {
     "name": "stdout",
     "output_type": "stream",
     "text": [
      "Model: LogisticRegression\n",
      "Best parameter: {'C': 0.01}\n",
      "Acc on original data: 0.6452\n",
      "Acc on enlarged data: 0.6718\n"
     ]
    }
   ],
   "source": [
    "grid_search(X_train, y_train, LogisticRegression(max_iter=10000), lg_params, SVMSMOTE(random_state=22))"
   ]
  },
  {
   "cell_type": "code",
   "execution_count": 67,
   "metadata": {},
   "outputs": [
    {
     "name": "stdout",
     "output_type": "stream",
     "text": [
      "Model: LogisticRegression\n",
      "Best parameter: {'C': 10.0}\n",
      "Acc on original data: 0.6421\n",
      "Acc on enlarged data: 0.6573\n"
     ]
    }
   ],
   "source": [
    "grid_search(X_train, y_train, LogisticRegression(max_iter=10000), lg_params, ADASYN(random_state=22))"
   ]
  },
  {
   "cell_type": "markdown",
   "metadata": {},
   "source": [
    "#### Random Forest"
   ]
  },
  {
   "cell_type": "code",
   "execution_count": 68,
   "metadata": {},
   "outputs": [
    {
     "name": "stdout",
     "output_type": "stream",
     "text": [
      "Model: RandomForestClassifier\n",
      "Best parameter: {'n_estimators': 200}\n",
      "Acc on original data: 0.6687\n",
      "Acc on enlarged data: 0.7589\n"
     ]
    }
   ],
   "source": [
    "forest_params = {\n",
    "    \"n_estimators\": [5, 10, 50, 100, 200],\n",
    "}\n",
    "grid_search(X_train, y_train, RandomForestClassifier(), forest_params, BorderlineSMOTE(random_state=22))"
   ]
  },
  {
   "cell_type": "code",
   "execution_count": 69,
   "metadata": {},
   "outputs": [
    {
     "name": "stdout",
     "output_type": "stream",
     "text": [
      "Model: RandomForestClassifier\n",
      "Best parameter: {'n_estimators': 200}\n",
      "Acc on original data: 0.6754\n",
      "Acc on enlarged data: 0.7579\n"
     ]
    }
   ],
   "source": [
    "grid_search(X_train, y_train, RandomForestClassifier(), forest_params, KMeansSMOTE(cluster_balance_threshold=0.4, random_state=22))"
   ]
  },
  {
   "cell_type": "code",
   "execution_count": 70,
   "metadata": {},
   "outputs": [
    {
     "name": "stdout",
     "output_type": "stream",
     "text": [
      "Model: RandomForestClassifier\n",
      "Best parameter: {'n_estimators': 200}\n",
      "Acc on original data: 0.6728\n",
      "Acc on enlarged data: 0.7642\n"
     ]
    }
   ],
   "source": [
    "grid_search(X_train, y_train, RandomForestClassifier(), forest_params, SVMSMOTE(random_state=22))"
   ]
  },
  {
   "cell_type": "code",
   "execution_count": 71,
   "metadata": {},
   "outputs": [
    {
     "name": "stdout",
     "output_type": "stream",
     "text": [
      "Model: RandomForestClassifier\n",
      "Best parameter: {'n_estimators': 200}\n",
      "Acc on original data: 0.6703\n",
      "Acc on enlarged data: 0.7672\n"
     ]
    }
   ],
   "source": [
    "grid_search(X_train, y_train, RandomForestClassifier(), forest_params, ADASYN(random_state=22))"
   ]
  },
  {
   "cell_type": "markdown",
   "metadata": {},
   "source": [
    "### Per Class Accuracy"
   ]
  },
  {
   "cell_type": "code",
   "execution_count": 72,
   "metadata": {},
   "outputs": [],
   "source": [
    "def transform_cf(matrix):\n",
    "    matrix = matrix.copy().astype(np.float32)\n",
    "    matrix_s = matrix.sum(axis=1)\n",
    "    matrix[0][0] /= matrix_s[0]\n",
    "    matrix[0][1] /= matrix_s[0]\n",
    "    matrix[1][0] /= matrix_s[1]\n",
    "    matrix[1][1] /= matrix_s[1]\n",
    "    return matrix"
   ]
  },
  {
   "cell_type": "code",
   "execution_count": 73,
   "metadata": {},
   "outputs": [
    {
     "data": {
      "text/plain": [
       "0.9349651782056534"
      ]
     },
     "execution_count": 73,
     "metadata": {},
     "output_type": "execute_result"
    }
   ],
   "source": [
    "clf = RandomForestClassifier(n_estimators=200)\n",
    "smote = KMeansSMOTE(cluster_balance_threshold=0.4, random_state=22)\n",
    "X_res, y_res = smote.fit_resample(X_train, y_train)\n",
    "clf.fit(X_res, y_res)\n",
    "clf.score(X, y)"
   ]
  },
  {
   "cell_type": "code",
   "execution_count": 74,
   "metadata": {},
   "outputs": [],
   "source": [
    "data_train_black = X[data_processed[data_processed[\"race\"] == \"African-American\"].index.tolist()]\n",
    "data_train_white = X[data_processed[data_processed[\"race\"] == \"Caucasian\"].index.tolist()]\n",
    "data_target_black = y[data_processed[data_processed[\"race\"] == \"African-American\"].index.tolist()]\n",
    "data_target_white = y[data_processed[data_processed[\"race\"] == \"Caucasian\"].index.tolist()]"
   ]
  },
  {
   "cell_type": "markdown",
   "metadata": {},
   "source": [
    "#### Random Forest"
   ]
  },
  {
   "cell_type": "code",
   "execution_count": 75,
   "metadata": {},
   "outputs": [
    {
     "data": {
      "image/png": "[encoded data removed]",
      "text/plain": [
       "<Figure size 576x432 with 2 Axes>"
      ]
     },
     "metadata": {
      "needs_background": "light"
     },
     "output_type": "display_data"
    }
   ],
   "source": [
    "from sklearn.metrics import confusion_matrix\n",
    "import matplotlib.pyplot as plt\n",
    "import seaborn as sns\n",
    "plt.figure(figsize=(8, 6))\n",
    "plt.title(\"Confusion Matrix for African-American\")\n",
    "sns.heatmap(pd.DataFrame(transform_cf(confusion_matrix(data_target_black, clf.predict(data_train_black))), index=[0, 1], columns=[0, 1]), annot=True, cmap=\"YlGnBu\", fmt=\".4f\", vmin=0.0, vmax=1.0)\n",
    "plt.xlabel(\"Predicted Labels\")\n",
    "plt.ylabel(\"True Labels\")\n",
    "plt.show()"
   ]
  },
  {
   "cell_type": "code",
   "execution_count": 76,
   "metadata": {},
   "outputs": [
    {
     "data": {
      "image/png": "[encoded data removed]",
      "text/plain": [
       "<Figure size 576x432 with 2 Axes>"
      ]
     },
     "metadata": {
      "needs_background": "light"
     },
     "output_type": "display_data"
    }
   ],
   "source": [
    "plt.figure(figsize=(8, 6))\n",
    "plt.title(\"Confusion Matrix for Caucasian\")\n",
    "sns.heatmap(pd.DataFrame(transform_cf(confusion_matrix(data_target_white, clf.predict(data_train_white))), index=[0, 1], columns=[0, 1]), annot=True, cmap=\"YlGnBu\", fmt=\".4f\", vmin=0.0, vmax=1.0)\n",
    "plt.xlabel(\"Predicted Labels\")\n",
    "plt.ylabel(\"True Labels\")\n",
    "plt.show()"
   ]
  },
  {
   "cell_type": "code",
   "execution_count": 77,
   "metadata": {},
   "outputs": [
    {
     "data": {
      "text/plain": [
       "((4878, 10), (3371, 10))"
      ]
     },
     "execution_count": 77,
     "metadata": {},
     "output_type": "execute_result"
    }
   ],
   "source": [
    "data_train_black.shape, data_train_white.shape"
   ]
  },
  {
   "cell_type": "markdown",
   "metadata": {},
   "source": [
    "#### KNN"
   ]
  },
  {
   "cell_type": "code",
   "execution_count": 78,
   "metadata": {},
   "outputs": [
    {
     "data": {
      "text/plain": [
       "0.7902498975829578"
      ]
     },
     "execution_count": 78,
     "metadata": {},
     "output_type": "execute_result"
    }
   ],
   "source": [
    "clf = KNeighborsClassifier(n_neighbors=2)\n",
    "clf.fit(X_res, y_res)\n",
    "clf.score(X, y)"
   ]
  },
  {
   "cell_type": "code",
   "execution_count": 79,
   "metadata": {},
   "outputs": [
    {
     "data": {
      "image/png": "[encoded data removed]",
      "text/plain": [
       "<Figure size 576x432 with 2 Axes>"
      ]
     },
     "metadata": {
      "needs_background": "light"
     },
     "output_type": "display_data"
    }
   ],
   "source": [
    "plt.figure(figsize=(8, 6))\n",
    "plt.title(\"Confusion Matrix for African-American\")\n",
    "sns.heatmap(pd.DataFrame(transform_cf(confusion_matrix(data_target_black, clf.predict(data_train_black))), index=[0, 1], columns=[0, 1]), annot=True, cmap=\"YlGnBu\", fmt=\".4f\", vmin=0.0, vmax=1.0)\n",
    "plt.xlabel(\"Predicted Labels\")\n",
    "plt.ylabel(\"True Labels\")\n",
    "plt.show()"
   ]
  },
  {
   "cell_type": "code",
   "execution_count": 80,
   "metadata": {},
   "outputs": [
    {
     "data": {
      "image/png": "[encoded data removed]",
      "text/plain": [
       "<Figure size 576x432 with 2 Axes>"
      ]
     },
     "metadata": {
      "needs_background": "light"
     },
     "output_type": "display_data"
    }
   ],
   "source": [
    "plt.figure(figsize=(8, 6))\n",
    "plt.title(\"Confusion Matrix for Caucasian\")\n",
    "sns.heatmap(pd.DataFrame(transform_cf(confusion_matrix(data_target_white, clf.predict(data_train_white))), index=[0, 1], columns=[0, 1]), annot=True, cmap=\"YlGnBu\", fmt=\".4f\", vmin=0.0, vmax=1.0)\n",
    "plt.xlabel(\"Predicted Labels\")\n",
    "plt.ylabel(\"True Labels\")\n",
    "plt.show()"
   ]
  },
  {
   "cell_type": "markdown",
   "metadata": {},
   "source": [
    "#### SVC"
   ]
  },
  {
   "cell_type": "code",
   "execution_count": 81,
   "metadata": {},
   "outputs": [
    {
     "data": {
      "text/plain": [
       "0.6763621466612044"
      ]
     },
     "execution_count": 81,
     "metadata": {},
     "output_type": "execute_result"
    }
   ],
   "source": [
    "clf = LinearSVC(C=0.001, dual=False)\n",
    "clf.fit(X_res, y_res)\n",
    "clf.score(X, y)"
   ]
  },
  {
   "cell_type": "code",
   "execution_count": 82,
   "metadata": {},
   "outputs": [
    {
     "data": {
      "image/png": "[encoded data removed]",
      "text/plain": [
       "<Figure size 576x432 with 2 Axes>"
      ]
     },
     "metadata": {
      "needs_background": "light"
     },
     "output_type": "display_data"
    }
   ],
   "source": [
    "plt.figure(figsize=(8, 6))\n",
    "plt.title(\"Confusion Matrix for African-American\")\n",
    "sns.heatmap(pd.DataFrame(transform_cf(confusion_matrix(data_target_black, clf.predict(data_train_black))), index=[0, 1], columns=[0, 1]), annot=True, cmap=\"YlGnBu\", fmt=\".4f\", vmin=0.0, vmax=1.0)\n",
    "plt.xlabel(\"Predicted Labels\")\n",
    "plt.ylabel(\"True Labels\")\n",
    "plt.show()"
   ]
  },
  {
   "cell_type": "code",
   "execution_count": 83,
   "metadata": {},
   "outputs": [
    {
     "data": {
      "image/png": "[encoded data removed]",
      "text/plain": [
       "<Figure size 576x432 with 2 Axes>"
      ]
     },
     "metadata": {
      "needs_background": "light"
     },
     "output_type": "display_data"
    }
   ],
   "source": [
    "plt.figure(figsize=(8, 6))\n",
    "plt.title(\"Confusion Matrix for Caucasian\")\n",
    "sns.heatmap(pd.DataFrame(transform_cf(confusion_matrix(data_target_white, clf.predict(data_train_white))), index=[0, 1], columns=[0, 1]), annot=True, cmap=\"YlGnBu\", fmt=\".4f\", vmin=0.0, vmax=1.0)\n",
    "plt.xlabel(\"Predicted Labels\")\n",
    "plt.ylabel(\"True Labels\")\n",
    "plt.show()"
   ]
  },
  {
   "cell_type": "markdown",
   "metadata": {},
   "source": [
    "#### SGD"
   ]
  },
  {
   "cell_type": "code",
   "execution_count": 84,
   "metadata": {},
   "outputs": [
    {
     "data": {
      "text/plain": [
       "0.559094633346989"
      ]
     },
     "execution_count": 84,
     "metadata": {},
     "output_type": "execute_result"
    }
   ],
   "source": [
    "clf = SGDClassifier(alpha=0.1)\n",
    "clf.fit(X_res, y_res)\n",
    "clf.score(X, y)"
   ]
  },
  {
   "cell_type": "code",
   "execution_count": 85,
   "metadata": {},
   "outputs": [
    {
     "data": {
      "image/png": "[encoded data removed]",
      "text/plain": [
       "<Figure size 576x432 with 2 Axes>"
      ]
     },
     "metadata": {
      "needs_background": "light"
     },
     "output_type": "display_data"
    }
   ],
   "source": [
    "plt.figure(figsize=(8, 6))\n",
    "plt.title(\"Confusion Matrix for African-American\")\n",
    "sns.heatmap(pd.DataFrame(transform_cf(confusion_matrix(data_target_black, clf.predict(data_train_black))), index=[0, 1], columns=[0, 1]), annot=True, cmap=\"YlGnBu\", fmt=\".4f\", vmin=0.0, vmax=1.0)\n",
    "plt.xlabel(\"Predicted Labels\")\n",
    "plt.ylabel(\"True Labels\")\n",
    "plt.show()"
   ]
  },
  {
   "cell_type": "code",
   "execution_count": 86,
   "metadata": {},
   "outputs": [
    {
     "data": {
      "image/png": "[encoded data removed]",
      "text/plain": [
       "<Figure size 576x432 with 2 Axes>"
      ]
     },
     "metadata": {
      "needs_background": "light"
     },
     "output_type": "display_data"
    }
   ],
   "source": [
    "plt.figure(figsize=(8, 6))\n",
    "plt.title(\"Confusion Matrix for Caucasian\")\n",
    "sns.heatmap(pd.DataFrame(transform_cf(confusion_matrix(data_target_white, clf.predict(data_train_white))), index=[0, 1], columns=[0, 1]), annot=True, cmap=\"YlGnBu\", fmt=\".4f\", vmin=0.0, vmax=1.0)\n",
    "plt.xlabel(\"Predicted Labels\")\n",
    "plt.ylabel(\"True Labels\")\n",
    "plt.show()"
   ]
  },
  {
   "cell_type": "markdown",
   "metadata": {},
   "source": [
    "#### Logistic Regression"
   ]
  },
  {
   "cell_type": "code",
   "execution_count": 87,
   "metadata": {},
   "outputs": [
    {
     "data": {
      "text/plain": [
       "0.6717533797623925"
      ]
     },
     "execution_count": 87,
     "metadata": {},
     "output_type": "execute_result"
    }
   ],
   "source": [
    "clf = LogisticRegression(C=0.01, max_iter=10000)\n",
    "clf.fit(X_res, y_res)\n",
    "clf.score(X, y)"
   ]
  },
  {
   "cell_type": "code",
   "execution_count": 88,
   "metadata": {},
   "outputs": [
    {
     "data": {
      "image/png": "[encoded data removed]",
      "text/plain": [
       "<Figure size 576x432 with 2 Axes>"
      ]
     },
     "metadata": {
      "needs_background": "light"
     },
     "output_type": "display_data"
    }
   ],
   "source": [
    "plt.figure(figsize=(8, 6))\n",
    "plt.title(\"Confusion Matrix for African-American\")\n",
    "sns.heatmap(pd.DataFrame(transform_cf(confusion_matrix(data_target_black, clf.predict(data_train_black))), index=[0, 1], columns=[0, 1]), annot=True, cmap=\"YlGnBu\", fmt=\".4f\", vmin=0.0, vmax=1.0)\n",
    "plt.xlabel(\"Predicted Labels\")\n",
    "plt.ylabel(\"True Labels\")\n",
    "plt.show()"
   ]
  },
  {
   "cell_type": "code",
   "execution_count": 89,
   "metadata": {},
   "outputs": [
    {
     "data": {
      "image/png": "[encoded data removed]",
      "text/plain": [
       "<Figure size 576x432 with 2 Axes>"
      ]
     },
     "metadata": {
      "needs_background": "light"
     },
     "output_type": "display_data"
    }
   ],
   "source": [
    "plt.figure(figsize=(8, 6))\n",
    "plt.title(\"Confusion Matrix for Caucasian\")\n",
    "sns.heatmap(pd.DataFrame(transform_cf(confusion_matrix(data_target_white, clf.predict(data_train_white))), index=[0, 1], columns=[0, 1]), annot=True, cmap=\"YlGnBu\", fmt=\".4f\", vmin=0.0, vmax=1.0)\n",
    "plt.xlabel(\"Predicted Labels\")\n",
    "plt.ylabel(\"True Labels\")\n",
    "plt.show()"
   ]
  },
  {
   "cell_type": "markdown",
   "metadata": {},
   "source": [
    "### Data Imputation"
   ]
  },
  {
   "cell_type": "code",
   "execution_count": 90,
   "metadata": {},
   "outputs": [],
   "source": [
    "from utils.data import Dataset, create_compas_dataset\n",
    "from utils.completer import complete_by_mean_col, complete_by_most_freq, complete_by_value, complete_by_nearby_row, complete_by_similar_row, complete_by_multi"
   ]
  },
  {
   "cell_type": "code",
   "execution_count": 91,
   "metadata": {},
   "outputs": [
    {
     "data": {
      "text/html": [
       "<div>\n",
       "<style scoped>\n",
       "    .dataframe tbody tr th:only-of-type {\n",
       "        vertical-align: middle;\n",
       "    }\n",
       "\n",
       "    .dataframe tbody tr th {\n",
       "        vertical-align: top;\n",
       "    }\n",
       "\n",
       "    .dataframe thead th {\n",
       "        text-align: right;\n",
       "    }\n",
       "</style>\n",
       "<table border=\"1\" class=\"dataframe\">\n",
       "  <thead>\n",
       "    <tr style=\"text-align: right;\">\n",
       "      <th></th>\n",
       "      <th>age</th>\n",
       "      <th>age_cat</th>\n",
       "      <th>c_charge_degree</th>\n",
       "      <th>priors_count</th>\n",
       "      <th>juv_misd_count</th>\n",
       "      <th>juv_fel_count</th>\n",
       "      <th>juv_other_count</th>\n",
       "      <th>c_charge_desc</th>\n",
       "      <th>days_b_screening_arrest</th>\n",
       "      <th>sex</th>\n",
       "      <th>race</th>\n",
       "      <th>length_of_stay</th>\n",
       "    </tr>\n",
       "  </thead>\n",
       "  <tbody>\n",
       "    <tr>\n",
       "      <th>0</th>\n",
       "      <td>69</td>\n",
       "      <td>1</td>\n",
       "      <td>0</td>\n",
       "      <td>0</td>\n",
       "      <td>0</td>\n",
       "      <td>0</td>\n",
       "      <td>0</td>\n",
       "      <td>20.0</td>\n",
       "      <td>-1.0</td>\n",
       "      <td>Male</td>\n",
       "      <td>Other</td>\n",
       "      <td>23.627222</td>\n",
       "    </tr>\n",
       "    <tr>\n",
       "      <th>1</th>\n",
       "      <td>34</td>\n",
       "      <td>0</td>\n",
       "      <td>0</td>\n",
       "      <td>0</td>\n",
       "      <td>0</td>\n",
       "      <td>0</td>\n",
       "      <td>0</td>\n",
       "      <td>193.0</td>\n",
       "      <td>-1.0</td>\n",
       "      <td>Male</td>\n",
       "      <td>African-American</td>\n",
       "      <td>241.857222</td>\n",
       "    </tr>\n",
       "    <tr>\n",
       "      <th>2</th>\n",
       "      <td>24</td>\n",
       "      <td>2</td>\n",
       "      <td>0</td>\n",
       "      <td>4</td>\n",
       "      <td>0</td>\n",
       "      <td>0</td>\n",
       "      <td>1</td>\n",
       "      <td>354.0</td>\n",
       "      <td>-1.0</td>\n",
       "      <td>Male</td>\n",
       "      <td>African-American</td>\n",
       "      <td>26.058333</td>\n",
       "    </tr>\n",
       "    <tr>\n",
       "      <th>3</th>\n",
       "      <td>23</td>\n",
       "      <td>2</td>\n",
       "      <td>0</td>\n",
       "      <td>1</td>\n",
       "      <td>1</td>\n",
       "      <td>0</td>\n",
       "      <td>0</td>\n",
       "      <td>353.0</td>\n",
       "      <td>NaN</td>\n",
       "      <td>Male</td>\n",
       "      <td>African-American</td>\n",
       "      <td>NaN</td>\n",
       "    </tr>\n",
       "    <tr>\n",
       "      <th>4</th>\n",
       "      <td>43</td>\n",
       "      <td>0</td>\n",
       "      <td>0</td>\n",
       "      <td>2</td>\n",
       "      <td>0</td>\n",
       "      <td>0</td>\n",
       "      <td>0</td>\n",
       "      <td>481.0</td>\n",
       "      <td>NaN</td>\n",
       "      <td>Male</td>\n",
       "      <td>Other</td>\n",
       "      <td>NaN</td>\n",
       "    </tr>\n",
       "    <tr>\n",
       "      <th>5</th>\n",
       "      <td>44</td>\n",
       "      <td>0</td>\n",
       "      <td>1</td>\n",
       "      <td>0</td>\n",
       "      <td>0</td>\n",
       "      <td>0</td>\n",
       "      <td>0</td>\n",
       "      <td>55.0</td>\n",
       "      <td>0.0</td>\n",
       "      <td>Male</td>\n",
       "      <td>Other</td>\n",
       "      <td>31.643889</td>\n",
       "    </tr>\n",
       "    <tr>\n",
       "      <th>6</th>\n",
       "      <td>41</td>\n",
       "      <td>0</td>\n",
       "      <td>0</td>\n",
       "      <td>14</td>\n",
       "      <td>0</td>\n",
       "      <td>0</td>\n",
       "      <td>0</td>\n",
       "      <td>331.0</td>\n",
       "      <td>-1.0</td>\n",
       "      <td>Male</td>\n",
       "      <td>Caucasian</td>\n",
       "      <td>151.168333</td>\n",
       "    </tr>\n",
       "    <tr>\n",
       "      <th>7</th>\n",
       "      <td>43</td>\n",
       "      <td>0</td>\n",
       "      <td>0</td>\n",
       "      <td>3</td>\n",
       "      <td>0</td>\n",
       "      <td>0</td>\n",
       "      <td>0</td>\n",
       "      <td>481.0</td>\n",
       "      <td>-1.0</td>\n",
       "      <td>Male</td>\n",
       "      <td>Other</td>\n",
       "      <td>23.780556</td>\n",
       "    </tr>\n",
       "    <tr>\n",
       "      <th>8</th>\n",
       "      <td>39</td>\n",
       "      <td>0</td>\n",
       "      <td>1</td>\n",
       "      <td>0</td>\n",
       "      <td>0</td>\n",
       "      <td>0</td>\n",
       "      <td>0</td>\n",
       "      <td>55.0</td>\n",
       "      <td>-1.0</td>\n",
       "      <td>Female</td>\n",
       "      <td>Caucasian</td>\n",
       "      <td>70.886667</td>\n",
       "    </tr>\n",
       "    <tr>\n",
       "      <th>9</th>\n",
       "      <td>20</td>\n",
       "      <td>2</td>\n",
       "      <td>0</td>\n",
       "      <td>0</td>\n",
       "      <td>0</td>\n",
       "      <td>0</td>\n",
       "      <td>1</td>\n",
       "      <td>336.0</td>\n",
       "      <td>-1.0</td>\n",
       "      <td>Male</td>\n",
       "      <td>Caucasian</td>\n",
       "      <td>795.975556</td>\n",
       "    </tr>\n",
       "  </tbody>\n",
       "</table>\n",
       "</div>"
      ],
      "text/plain": [
       "   age  age_cat  c_charge_degree  priors_count  juv_misd_count  juv_fel_count  \\\n",
       "0   69        1                0             0               0              0   \n",
       "1   34        0                0             0               0              0   \n",
       "2   24        2                0             4               0              0   \n",
       "3   23        2                0             1               1              0   \n",
       "4   43        0                0             2               0              0   \n",
       "5   44        0                1             0               0              0   \n",
       "6   41        0                0            14               0              0   \n",
       "7   43        0                0             3               0              0   \n",
       "8   39        0                1             0               0              0   \n",
       "9   20        2                0             0               0              0   \n",
       "\n",
       "   juv_other_count  c_charge_desc  days_b_screening_arrest     sex  \\\n",
       "0                0           20.0                     -1.0    Male   \n",
       "1                0          193.0                     -1.0    Male   \n",
       "2                1          354.0                     -1.0    Male   \n",
       "3                0          353.0                      NaN    Male   \n",
       "4                0          481.0                      NaN    Male   \n",
       "5                0           55.0                      0.0    Male   \n",
       "6                0          331.0                     -1.0    Male   \n",
       "7                0          481.0                     -1.0    Male   \n",
       "8                0           55.0                     -1.0  Female   \n",
       "9                1          336.0                     -1.0    Male   \n",
       "\n",
       "               race  length_of_stay  \n",
       "0             Other       23.627222  \n",
       "1  African-American      241.857222  \n",
       "2  African-American       26.058333  \n",
       "3  African-American             NaN  \n",
       "4             Other             NaN  \n",
       "5             Other       31.643889  \n",
       "6         Caucasian      151.168333  \n",
       "7             Other       23.780556  \n",
       "8         Caucasian       70.886667  \n",
       "9         Caucasian      795.975556  "
      ]
     },
     "execution_count": 91,
     "metadata": {},
     "output_type": "execute_result"
    }
   ],
   "source": [
    "data_compas = create_compas_dataset()\n",
    "data_compas.X.head(10)"
   ]
  },
  {
   "cell_type": "code",
   "execution_count": 92,
   "metadata": {},
   "outputs": [
    {
     "data": {
      "text/plain": [
       "((9823, 12), (9823,))"
      ]
     },
     "execution_count": 92,
     "metadata": {},
     "output_type": "execute_result"
    }
   ],
   "source": [
    "data_compas.X.shape, data_compas.y.shape"
   ]
  },
  {
   "cell_type": "code",
   "execution_count": 93,
   "metadata": {},
   "outputs": [
    {
     "data": {
      "text/plain": [
       "age                          0\n",
       "age_cat                      0\n",
       "c_charge_degree              0\n",
       "priors_count                 0\n",
       "juv_misd_count               0\n",
       "juv_fel_count                0\n",
       "juv_other_count              0\n",
       "c_charge_desc                4\n",
       "days_b_screening_arrest    435\n",
       "sex                          0\n",
       "race                         0\n",
       "length_of_stay             435\n",
       "dtype: int64"
      ]
     },
     "execution_count": 93,
     "metadata": {},
     "output_type": "execute_result"
    }
   ],
   "source": [
    "data_compas.X.isnull().sum(axis=0)"
   ]
  },
  {
   "cell_type": "code",
   "execution_count": 94,
   "metadata": {},
   "outputs": [],
   "source": [
    "def test_complete_dataset(data_complete_x, data_complete_y, protected_features):\n",
    "    data_train_black = data_complete_x[data_complete_x[\"race\"] == \"African-American\"].drop(columns=protected_features)\n",
    "    data_train_white = data_complete_x[data_complete_x[\"race\"] == \"Caucasian\"].drop(columns=protected_features)\n",
    "    data_target_black = data_complete_y[data_complete_x[data_complete_x[\"race\"] == \"African-American\"].index.tolist()]\n",
    "    data_target_white = data_complete_y[data_complete_x[data_complete_x[\"race\"] == \"Caucasian\"].index.tolist()]\n",
    "    smote = KMeansSMOTE(cluster_balance_threshold=0.4, random_state=22)\n",
    "    X_train, X_test, y_train, y_test = train_test_split(data_complete_x.drop(columns=protected_features), data_complete_y, test_size=0.2, random_state=22)\n",
    "    X_res, y_res = smote.fit_resample(X_train, y_train)\n",
    "    clfs = {\n",
    "        \"Random Forest\": RandomForestClassifier(n_estimators=200),\n",
    "        \"KNN\": KNeighborsClassifier(n_neighbors=2),\n",
    "        \"Linear SVC\": LinearSVC(C=0.001, dual=False),\n",
    "        \"SGD\": SGDClassifier(alpha=0.1),\n",
    "        \"Logistic Regression\": LogisticRegression(C=0.01, max_iter=10000),\n",
    "    }\n",
    "    for clf_name, clf in clfs.items():\n",
    "        fig, [ax1, ax2] = plt.subplots(1, 2, figsize=(16, 6))\n",
    "        clf.fit(X_res, y_res)\n",
    "        print(\"{} acc: {:.5f} on test, {:.5f} on train\".format(clf_name, clf.score(X_test, y_test), clf.score(X_res, y_res)))\n",
    "        fig.suptitle(clf_name)\n",
    "        sns.heatmap(pd.DataFrame(transform_cf(confusion_matrix(data_target_black, clf.predict(data_train_black))), index=[0, 1], columns=[0, 1]), annot=True, cmap=\"YlGnBu\", fmt=\".4f\", ax=ax1, vmin=0.0, vmax=1.0)\n",
    "        sns.heatmap(pd.DataFrame(transform_cf(confusion_matrix(data_target_white, clf.predict(data_train_white))), index=[0, 1], columns=[0, 1]), annot=True, cmap=\"YlGnBu\", fmt=\".4f\", ax=ax2, vmin=0.0, vmax=1.0)\n",
    "        ax1.set_title(\"Confusion Matrix for African-American\")\n",
    "        ax2.set_title(\"Confusion Matrix for Caucasian\")\n",
    "    plt.show()"
   ]
  },
  {
   "cell_type": "markdown",
   "metadata": {},
   "source": [
    "#### For Comparison"
   ]
  },
  {
   "cell_type": "code",
   "execution_count": 95,
   "metadata": {},
   "outputs": [],
   "source": [
    "data_compas_complete = data_compas.copy()\n",
    "tmp_concat = pd.concat([data_compas_complete.X, pd.DataFrame(data_compas_complete.y, columns=[\"_TARGET_\"])], axis=1)\n",
    "tmp_concat.dropna(inplace=True)\n",
    "tmp_concat.reset_index(drop=True, inplace=True)\n",
    "data_compas_complete.X = tmp_concat.drop(columns=[\"_TARGET_\"]).copy()\n",
    "data_compas_complete.y = tmp_concat[\"_TARGET_\"].to_numpy().ravel()"
   ]
  },
  {
   "cell_type": "code",
   "execution_count": 96,
   "metadata": {},
   "outputs": [
    {
     "name": "stdout",
     "output_type": "stream",
     "text": [
      "Random Forest acc: 0.67395 on test, 1.00000 on train\n",
      "KNN acc: 0.66383 on test, 0.86368 on train\n",
      "Linear SVC acc: 0.66809 on test, 0.68321 on train\n",
      "SGD acc: 0.61854 on test, 0.71379 on train\n",
      "Logistic Regression acc: 0.64944 on test, 0.68503 on train\n"
     ]
    },
    {
     "data": {
      "image/png": "[encoded data removed]",
      "text/plain": [
       "<Figure size 1152x432 with 4 Axes>"
      ]
     },
     "metadata": {
      "needs_background": "light"
     },
     "output_type": "display_data"
    },
    {
     "data": {
      "image/png": "[encoded data removed]",
      "text/plain": [
       "<Figure size 1152x432 with 4 Axes>"
      ]
     },
     "metadata": {
      "needs_background": "light"
     },
     "output_type": "display_data"
    },
    {
     "data": {
      "image/png": "[encoded data removed]",
      "text/plain": [
       "<Figure size 1152x432 with 4 Axes>"
      ]
     },
     "metadata": {
      "needs_background": "light"
     },
     "output_type": "display_data"
    },
    {
     "data": {
      "image/png": "[encoded data removed]",
      "text/plain": [
       "<Figure size 1152x432 with 4 Axes>"
      ]
     },
     "metadata": {
      "needs_background": "light"
     },
     "output_type": "display_data"
    },
    {
     "data": {
      "image/png": "[encoded data removed]",
      "text/plain": [
       "<Figure size 1152x432 with 4 Axes>"
      ]
     },
     "metadata": {
      "needs_background": "light"
     },
     "output_type": "display_data"
    }
   ],
   "source": [
    "test_complete_dataset(data_compas_complete.X.copy(), data_compas_complete.y.copy(), data_compas_complete.protected)"
   ]
  },
  {
   "cell_type": "markdown",
   "metadata": {},
   "source": [
    "#### Fill by Mean Col"
   ]
  },
  {
   "cell_type": "code",
   "execution_count": 97,
   "metadata": {},
   "outputs": [
    {
     "data": {
      "text/plain": [
       "age                        0\n",
       "age_cat                    0\n",
       "c_charge_degree            0\n",
       "priors_count               0\n",
       "juv_misd_count             0\n",
       "juv_fel_count              0\n",
       "juv_other_count            0\n",
       "c_charge_desc              0\n",
       "days_b_screening_arrest    0\n",
       "length_of_stay             0\n",
       "race                       0\n",
       "sex                        0\n",
       "dtype: int64"
      ]
     },
     "execution_count": 97,
     "metadata": {},
     "output_type": "execute_result"
    }
   ],
   "source": [
    "data_compas_complete = complete_by_mean_col(data_compas)\n",
    "data_compas_complete.X.isnull().sum(axis=0)"
   ]
  },
  {
   "cell_type": "code",
   "execution_count": 98,
   "metadata": {},
   "outputs": [
    {
     "name": "stdout",
     "output_type": "stream",
     "text": [
      "Random Forest acc: 0.69364 on test, 1.00000 on train\n",
      "KNN acc: 0.64835 on test, 0.86154 on train\n",
      "Linear SVC acc: 0.67074 on test, 0.70381 on train\n",
      "SGD acc: 0.61221 on test, 0.72271 on train\n",
      "Logistic Regression acc: 0.67379 on test, 0.70504 on train\n"
     ]
    },
    {
     "data": {
      "image/png": "[encoded data removed]",
      "text/plain": [
       "<Figure size 1152x432 with 4 Axes>"
      ]
     },
     "metadata": {
      "needs_background": "light"
     },
     "output_type": "display_data"
    },
    {
     "data": {
      "image/png": "[encoded data removed]",
      "text/plain": [
       "<Figure size 1152x432 with 4 Axes>"
      ]
     },
     "metadata": {
      "needs_background": "light"
     },
     "output_type": "display_data"
    },
    {
     "data": {
      "image/png": "[encoded data removed]",
      "text/plain": [
       "<Figure size 1152x432 with 4 Axes>"
      ]
     },
     "metadata": {
      "needs_background": "light"
     },
     "output_type": "display_data"
    },
    {
     "data": {
      "image/png": "[encoded data removed]",
      "text/plain": [
       "<Figure size 1152x432 with 4 Axes>"
      ]
     },
     "metadata": {
      "needs_background": "light"
     },
     "output_type": "display_data"
    },
    {
     "data": {
      "image/png": "[encoded data removed]",
      "text/plain": [
       "<Figure size 1152x432 with 4 Axes>"
      ]
     },
     "metadata": {
      "needs_background": "light"
     },
     "output_type": "display_data"
    }
   ],
   "source": [
    "test_complete_dataset(data_compas_complete.X.copy(), data_compas_complete.y.copy(), data_compas_complete.protected)"
   ]
  },
  {
   "cell_type": "markdown",
   "metadata": {},
   "source": [
    "#### Fill by Similar Rows"
   ]
  },
  {
   "cell_type": "code",
   "execution_count": 99,
   "metadata": {},
   "outputs": [
    {
     "data": {
      "text/plain": [
       "age                        0\n",
       "age_cat                    0\n",
       "c_charge_degree            0\n",
       "priors_count               0\n",
       "juv_misd_count             0\n",
       "juv_fel_count              0\n",
       "juv_other_count            0\n",
       "c_charge_desc              0\n",
       "days_b_screening_arrest    0\n",
       "length_of_stay             0\n",
       "race                       0\n",
       "sex                        0\n",
       "dtype: int64"
      ]
     },
     "execution_count": 99,
     "metadata": {},
     "output_type": "execute_result"
    }
   ],
   "source": [
    "data_compas_complete = complete_by_similar_row(data_compas)\n",
    "data_compas_complete.X.isnull().sum(axis=0)"
   ]
  },
  {
   "cell_type": "code",
   "execution_count": 100,
   "metadata": {},
   "outputs": [
    {
     "name": "stdout",
     "output_type": "stream",
     "text": [
      "Random Forest acc: 0.69618 on test, 1.00000 on train\n",
      "KNN acc: 0.63562 on test, 0.86871 on train\n",
      "Linear SVC acc: 0.66768 on test, 0.68166 on train\n",
      "SGD acc: 0.61628 on test, 0.46616 on train\n",
      "Logistic Regression acc: 0.66310 on test, 0.68582 on train\n"
     ]
    },
    {
     "data": {
      "image/png": "[encoded data removed]",
      "text/plain": [
       "<Figure size 1152x432 with 4 Axes>"
      ]
     },
     "metadata": {
      "needs_background": "light"
     },
     "output_type": "display_data"
    },
    {
     "data": {
      "image/png": "[encoded data removed]",
      "text/plain": [
       "<Figure size 1152x432 with 4 Axes>"
      ]
     },
     "metadata": {
      "needs_background": "light"
     },
     "output_type": "display_data"
    },
    {
     "data": {
      "image/png": "[encoded data removed]",
      "text/plain": [
       "<Figure size 1152x432 with 4 Axes>"
      ]
     },
     "metadata": {
      "needs_background": "light"
     },
     "output_type": "display_data"
    },
    {
     "data": {
      "image/png": "[encoded data removed]",
      "text/plain": [
       "<Figure size 1152x432 with 4 Axes>"
      ]
     },
     "metadata": {
      "needs_background": "light"
     },
     "output_type": "display_data"
    },
    {
     "data": {
      "image/png": "[encoded data removed]",
      "text/plain": [
       "<Figure size 1152x432 with 4 Axes>"
      ]
     },
     "metadata": {
      "needs_background": "light"
     },
     "output_type": "display_data"
    }
   ],
   "source": [
    "test_complete_dataset(data_compas_complete.X.copy(), data_compas_complete.y.copy(), data_compas_complete.protected)"
   ]
  },
  {
   "cell_type": "code",
   "execution_count": null,
   "metadata": {},
   "outputs": [],
   "source": []
  }
 ],
 "metadata": {
  "file_extension": ".py",
  "kernelspec": {
   "display_name": "Python 3.6.8 64-bit",
   "language": "python",
   "name": "python36864bit1ec1cdde4d2c4e69a8dd2b0d0fdcaf78"
  },
  "language_info": {
   "codemirror_mode": {
    "name": "ipython",
    "version": 3
   },
   "file_extension": ".py",
   "mimetype": "text/x-python",
   "name": "python",
   "nbconvert_exporter": "python",
   "pygments_lexer": "ipython3",
   "version": "3.6.8"
  },
  "mimetype": "text/x-python",
  "name": "python",
  "npconvert_exporter": "python",
  "pygments_lexer": "ipython3",
  "version": 3
 },
 "nbformat": 4,
 "nbformat_minor": 4
}
