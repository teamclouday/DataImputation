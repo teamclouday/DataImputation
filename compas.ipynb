{
 "cells": [
  {
   "cell_type": "markdown",
   "metadata": {},
   "source": [
    "## Study Compas Dataset  \n",
    "[Link](https://github.com/propublica/compas-analysis/blob/master/Compas%20Analysis.ipynb)"
   ]
  },
  {
   "cell_type": "code",
   "execution_count": 1,
   "metadata": {},
   "outputs": [],
   "source": [
    "import os\n",
    "import numpy as np\n",
    "import pandas as pd"
   ]
  },
  {
   "cell_type": "code",
   "execution_count": 2,
   "metadata": {},
   "outputs": [],
   "source": [
    "DATASET_PATH = os.path.join(\"dataset\", \"compas\", \"compas-scores.csv\")"
   ]
  },
  {
   "cell_type": "code",
   "execution_count": 3,
   "metadata": {},
   "outputs": [
    {
     "data": {
      "text/html": [
       "<div>\n",
       "<style scoped>\n",
       "    .dataframe tbody tr th:only-of-type {\n",
       "        vertical-align: middle;\n",
       "    }\n",
       "\n",
       "    .dataframe tbody tr th {\n",
       "        vertical-align: top;\n",
       "    }\n",
       "\n",
       "    .dataframe thead th {\n",
       "        text-align: right;\n",
       "    }\n",
       "</style>\n",
       "<table border=\"1\" class=\"dataframe\">\n",
       "  <thead>\n",
       "    <tr style=\"text-align: right;\">\n",
       "      <th></th>\n",
       "      <th>id</th>\n",
       "      <th>name</th>\n",
       "      <th>first</th>\n",
       "      <th>last</th>\n",
       "      <th>compas_screening_date</th>\n",
       "      <th>sex</th>\n",
       "      <th>dob</th>\n",
       "      <th>age</th>\n",
       "      <th>age_cat</th>\n",
       "      <th>race</th>\n",
       "      <th>...</th>\n",
       "      <th>vr_offense_date</th>\n",
       "      <th>vr_charge_desc</th>\n",
       "      <th>v_type_of_assessment</th>\n",
       "      <th>v_decile_score</th>\n",
       "      <th>v_score_text</th>\n",
       "      <th>v_screening_date</th>\n",
       "      <th>type_of_assessment</th>\n",
       "      <th>decile_score.1</th>\n",
       "      <th>score_text</th>\n",
       "      <th>screening_date</th>\n",
       "    </tr>\n",
       "  </thead>\n",
       "  <tbody>\n",
       "    <tr>\n",
       "      <th>0</th>\n",
       "      <td>1</td>\n",
       "      <td>miguel hernandez</td>\n",
       "      <td>miguel</td>\n",
       "      <td>hernandez</td>\n",
       "      <td>2013-08-14</td>\n",
       "      <td>Male</td>\n",
       "      <td>1947-04-18</td>\n",
       "      <td>69</td>\n",
       "      <td>Greater than 45</td>\n",
       "      <td>Other</td>\n",
       "      <td>...</td>\n",
       "      <td>NaN</td>\n",
       "      <td>NaN</td>\n",
       "      <td>Risk of Violence</td>\n",
       "      <td>1</td>\n",
       "      <td>Low</td>\n",
       "      <td>2013-08-14</td>\n",
       "      <td>Risk of Recidivism</td>\n",
       "      <td>1</td>\n",
       "      <td>Low</td>\n",
       "      <td>2013-08-14</td>\n",
       "    </tr>\n",
       "    <tr>\n",
       "      <th>1</th>\n",
       "      <td>2</td>\n",
       "      <td>michael ryan</td>\n",
       "      <td>michael</td>\n",
       "      <td>ryan</td>\n",
       "      <td>2014-12-31</td>\n",
       "      <td>Male</td>\n",
       "      <td>1985-02-06</td>\n",
       "      <td>31</td>\n",
       "      <td>25 - 45</td>\n",
       "      <td>Caucasian</td>\n",
       "      <td>...</td>\n",
       "      <td>NaN</td>\n",
       "      <td>NaN</td>\n",
       "      <td>Risk of Violence</td>\n",
       "      <td>2</td>\n",
       "      <td>Low</td>\n",
       "      <td>2014-12-31</td>\n",
       "      <td>Risk of Recidivism</td>\n",
       "      <td>5</td>\n",
       "      <td>Medium</td>\n",
       "      <td>2014-12-31</td>\n",
       "    </tr>\n",
       "    <tr>\n",
       "      <th>2</th>\n",
       "      <td>3</td>\n",
       "      <td>kevon dixon</td>\n",
       "      <td>kevon</td>\n",
       "      <td>dixon</td>\n",
       "      <td>2013-01-27</td>\n",
       "      <td>Male</td>\n",
       "      <td>1982-01-22</td>\n",
       "      <td>34</td>\n",
       "      <td>25 - 45</td>\n",
       "      <td>African-American</td>\n",
       "      <td>...</td>\n",
       "      <td>2013-07-05</td>\n",
       "      <td>Felony Battery (Dom Strang)</td>\n",
       "      <td>Risk of Violence</td>\n",
       "      <td>1</td>\n",
       "      <td>Low</td>\n",
       "      <td>2013-01-27</td>\n",
       "      <td>Risk of Recidivism</td>\n",
       "      <td>3</td>\n",
       "      <td>Low</td>\n",
       "      <td>2013-01-27</td>\n",
       "    </tr>\n",
       "    <tr>\n",
       "      <th>3</th>\n",
       "      <td>4</td>\n",
       "      <td>ed philo</td>\n",
       "      <td>ed</td>\n",
       "      <td>philo</td>\n",
       "      <td>2013-04-14</td>\n",
       "      <td>Male</td>\n",
       "      <td>1991-05-14</td>\n",
       "      <td>24</td>\n",
       "      <td>Less than 25</td>\n",
       "      <td>African-American</td>\n",
       "      <td>...</td>\n",
       "      <td>NaN</td>\n",
       "      <td>NaN</td>\n",
       "      <td>Risk of Violence</td>\n",
       "      <td>3</td>\n",
       "      <td>Low</td>\n",
       "      <td>2013-04-14</td>\n",
       "      <td>Risk of Recidivism</td>\n",
       "      <td>4</td>\n",
       "      <td>Low</td>\n",
       "      <td>2013-04-14</td>\n",
       "    </tr>\n",
       "    <tr>\n",
       "      <th>4</th>\n",
       "      <td>5</td>\n",
       "      <td>marcu brown</td>\n",
       "      <td>marcu</td>\n",
       "      <td>brown</td>\n",
       "      <td>2013-01-13</td>\n",
       "      <td>Male</td>\n",
       "      <td>1993-01-21</td>\n",
       "      <td>23</td>\n",
       "      <td>Less than 25</td>\n",
       "      <td>African-American</td>\n",
       "      <td>...</td>\n",
       "      <td>NaN</td>\n",
       "      <td>NaN</td>\n",
       "      <td>Risk of Violence</td>\n",
       "      <td>6</td>\n",
       "      <td>Medium</td>\n",
       "      <td>2013-01-13</td>\n",
       "      <td>Risk of Recidivism</td>\n",
       "      <td>8</td>\n",
       "      <td>High</td>\n",
       "      <td>2013-01-13</td>\n",
       "    </tr>\n",
       "  </tbody>\n",
       "</table>\n",
       "<p>5 rows × 47 columns</p>\n",
       "</div>"
      ],
      "text/plain": [
       "   id              name    first       last compas_screening_date   sex  \\\n",
       "0   1  miguel hernandez   miguel  hernandez            2013-08-14  Male   \n",
       "1   2      michael ryan  michael       ryan            2014-12-31  Male   \n",
       "2   3       kevon dixon    kevon      dixon            2013-01-27  Male   \n",
       "3   4          ed philo       ed      philo            2013-04-14  Male   \n",
       "4   5       marcu brown    marcu      brown            2013-01-13  Male   \n",
       "\n",
       "          dob  age          age_cat              race  ...  vr_offense_date  \\\n",
       "0  1947-04-18   69  Greater than 45             Other  ...              NaN   \n",
       "1  1985-02-06   31          25 - 45         Caucasian  ...              NaN   \n",
       "2  1982-01-22   34          25 - 45  African-American  ...       2013-07-05   \n",
       "3  1991-05-14   24     Less than 25  African-American  ...              NaN   \n",
       "4  1993-01-21   23     Less than 25  African-American  ...              NaN   \n",
       "\n",
       "                vr_charge_desc  v_type_of_assessment  v_decile_score  \\\n",
       "0                          NaN      Risk of Violence               1   \n",
       "1                          NaN      Risk of Violence               2   \n",
       "2  Felony Battery (Dom Strang)      Risk of Violence               1   \n",
       "3                          NaN      Risk of Violence               3   \n",
       "4                          NaN      Risk of Violence               6   \n",
       "\n",
       "   v_score_text  v_screening_date  type_of_assessment decile_score.1  \\\n",
       "0           Low        2013-08-14  Risk of Recidivism              1   \n",
       "1           Low        2014-12-31  Risk of Recidivism              5   \n",
       "2           Low        2013-01-27  Risk of Recidivism              3   \n",
       "3           Low        2013-04-14  Risk of Recidivism              4   \n",
       "4        Medium        2013-01-13  Risk of Recidivism              8   \n",
       "\n",
       "  score_text screening_date  \n",
       "0        Low     2013-08-14  \n",
       "1     Medium     2014-12-31  \n",
       "2        Low     2013-01-27  \n",
       "3        Low     2013-04-14  \n",
       "4       High     2013-01-13  \n",
       "\n",
       "[5 rows x 47 columns]"
      ]
     },
     "execution_count": 3,
     "metadata": {},
     "output_type": "execute_result"
    }
   ],
   "source": [
    "data = pd.read_csv(DATASET_PATH)\n",
    "data.head(5)"
   ]
  },
  {
   "cell_type": "code",
   "execution_count": 4,
   "metadata": {},
   "outputs": [
    {
     "data": {
      "text/plain": [
       "(11757, 47)"
      ]
     },
     "execution_count": 4,
     "metadata": {},
     "output_type": "execute_result"
    }
   ],
   "source": [
    "data.shape"
   ]
  },
  {
   "cell_type": "code",
   "execution_count": 5,
   "metadata": {},
   "outputs": [
    {
     "data": {
      "text/plain": [
       "Index(['id', 'name', 'first', 'last', 'compas_screening_date', 'sex', 'dob',\n",
       "       'age', 'age_cat', 'race', 'juv_fel_count', 'decile_score',\n",
       "       'juv_misd_count', 'juv_other_count', 'priors_count',\n",
       "       'days_b_screening_arrest', 'c_jail_in', 'c_jail_out', 'c_case_number',\n",
       "       'c_offense_date', 'c_arrest_date', 'c_days_from_compas',\n",
       "       'c_charge_degree', 'c_charge_desc', 'is_recid', 'num_r_cases',\n",
       "       'r_case_number', 'r_charge_degree', 'r_days_from_arrest',\n",
       "       'r_offense_date', 'r_charge_desc', 'r_jail_in', 'r_jail_out',\n",
       "       'is_violent_recid', 'num_vr_cases', 'vr_case_number',\n",
       "       'vr_charge_degree', 'vr_offense_date', 'vr_charge_desc',\n",
       "       'v_type_of_assessment', 'v_decile_score', 'v_score_text',\n",
       "       'v_screening_date', 'type_of_assessment', 'decile_score.1',\n",
       "       'score_text', 'screening_date'],\n",
       "      dtype='object')"
      ]
     },
     "execution_count": 5,
     "metadata": {},
     "output_type": "execute_result"
    }
   ],
   "source": [
    "data.columns"
   ]
  },
  {
   "cell_type": "code",
   "execution_count": 6,
   "metadata": {},
   "outputs": [],
   "source": [
    "def check_data(df, columns):\n",
    "    for col in columns:\n",
    "        print(col + \":\")\n",
    "        if not col in df.columns:\n",
    "            print(\"Nothing found\")\n",
    "        else:\n",
    "            print(df[col].unique())\n",
    "        print()"
   ]
  },
  {
   "cell_type": "code",
   "execution_count": 7,
   "metadata": {},
   "outputs": [
    {
     "name": "stdout",
     "output_type": "stream",
     "text": [
      "age:\n",
      "[69 31 34 24 23 43 44 41 39 20 26 21 27 37 22 47 25 64 42 32 54 49 36 33\n",
      " 30 63 55 29 38 53 51 28 35 48 46 62 56 45 40 59 50 66 52 71 19 61 58 78\n",
      " 57 68 18 70 60 65 83 67 75 73 72 77 76 74 96 80 79 86]\n",
      "\n",
      "c_charge_degree:\n",
      "['F' 'O' 'M']\n",
      "\n",
      "race:\n",
      "['Other' 'Caucasian' 'African-American' 'Hispanic' 'Asian'\n",
      " 'Native American']\n",
      "\n",
      "age_cat:\n",
      "['Greater than 45' '25 - 45' 'Less than 25']\n",
      "\n",
      "score_text:\n",
      "['Low' 'Medium' 'High' nan]\n",
      "\n",
      "sex:\n",
      "['Male' 'Female']\n",
      "\n",
      "priors_count:\n",
      "[ 0  4  1  2 14  3  7  6  5 13  8  9 15 19 21 22 20 10 12 28 11 23 25 24\n",
      " 36 18 29 16 17 33 30 43 27 26 38 37 35 31 39]\n",
      "\n",
      "days_b_screening_arrest:\n",
      "[-1.000e+00        nan  0.000e+00  4.280e+02 -2.000e+01  2.200e+01\n",
      " -2.000e+00 -1.320e+02  5.300e+01  8.100e+01 -5.900e+01 -2.400e+01\n",
      "  3.020e+02 -2.190e+02 -1.300e+01 -3.800e+01  7.000e+01 -3.250e+02\n",
      " -1.500e+01 -7.800e+01 -4.300e+01 -3.890e+02 -3.180e+02 -5.000e+00\n",
      "  1.370e+02 -1.810e+02 -2.390e+02 -2.100e+01 -6.400e+01 -1.000e+01\n",
      " -1.370e+02  1.780e+02 -3.000e+01 -3.000e+00  6.700e+01  1.400e+01\n",
      " -4.700e+01 -3.600e+01 -4.000e+00 -2.900e+01 -3.500e+01 -1.600e+01\n",
      "  2.000e+01 -4.100e+01 -2.600e+01 -7.000e+00 -5.100e+01 -5.600e+01\n",
      " -1.900e+01 -1.880e+02 -1.100e+02 -4.500e+01  2.900e+01 -1.550e+02\n",
      " -3.400e+01 -1.170e+02  2.890e+02 -1.080e+02  4.900e+01  1.040e+02\n",
      " -2.270e+02  6.490e+02 -1.530e+02  1.500e+02 -1.400e+02  1.610e+02\n",
      " -3.200e+01 -4.400e+01  8.120e+02 -2.320e+02  2.990e+02 -2.660e+02\n",
      "  2.300e+01 -4.800e+01 -8.300e+01 -9.300e+01 -3.900e+01 -3.720e+02\n",
      " -1.100e+01  3.000e+02  1.140e+02 -1.760e+02 -2.700e+01 -2.200e+01\n",
      "  2.060e+02 -1.130e+02  2.710e+02 -9.400e+01 -8.600e+01 -8.000e+01\n",
      " -1.060e+02  4.700e+01 -1.200e+01 -8.000e+00 -4.990e+02 -3.120e+02\n",
      " -1.500e+02 -7.400e+01 -3.100e+01 -2.300e+01 -2.630e+02 -1.400e+01\n",
      " -1.220e+02 -1.520e+02  2.220e+02 -2.430e+02 -6.600e+01  1.020e+02\n",
      " -5.300e+01 -1.700e+01 -5.400e+01  6.100e+01 -2.140e+02  1.680e+02\n",
      " -1.070e+02 -9.000e+00 -6.000e+00 -6.500e+01  1.620e+02  7.500e+01\n",
      "  6.220e+02  7.470e+02 -1.750e+02 -4.000e+01 -5.000e+01 -6.100e+01\n",
      "  3.200e+02 -6.800e+01 -1.800e+01 -1.150e+02  2.600e+01  2.100e+02\n",
      " -3.060e+02  2.360e+02 -5.200e+01  6.530e+02 -2.680e+02 -3.700e+01\n",
      "  1.400e+02 -7.900e+01  7.730e+02  2.800e+01 -1.640e+02 -7.100e+01\n",
      " -1.720e+02  7.000e+00 -5.500e+01  2.340e+02 -5.800e+01  1.210e+02\n",
      "  4.800e+01  3.040e+02 -1.110e+02  1.100e+02  8.800e+01  1.900e+02\n",
      "  4.960e+02  7.600e+01 -3.050e+02  2.790e+02  1.600e+02  2.330e+02\n",
      " -1.570e+02 -4.200e+01 -6.700e+01  2.130e+02  5.000e+01  1.270e+02\n",
      "  9.200e+01  5.060e+02 -2.460e+02 -2.800e+01  8.600e+01 -1.010e+02\n",
      " -6.000e+01  1.710e+02  6.890e+02  5.390e+02  9.100e+01  9.000e+00\n",
      " -1.030e+02  7.700e+01  6.400e+01  8.500e+01 -2.500e+01 -3.010e+02\n",
      " -8.200e+01  3.360e+02  3.100e+01 -1.580e+02  1.230e+02  1.200e+01\n",
      " -9.500e+01 -4.900e+01 -3.420e+02 -1.390e+02  3.200e+01 -8.400e+01\n",
      " -3.300e+02  8.400e+01 -1.050e+02  7.160e+02 -4.600e+01 -1.470e+02\n",
      " -2.450e+02  2.870e+02  1.300e+01 -9.000e+01  1.070e+02  5.340e+02\n",
      "  1.700e+01 -7.000e+01 -1.300e+02 -5.420e+02  3.000e+01  6.000e+00\n",
      "  2.000e+00  1.600e+01  1.120e+02  2.940e+02 -1.910e+02  7.300e+01\n",
      "  3.500e+01  2.050e+02 -2.050e+02  4.630e+02  1.250e+02  3.780e+02\n",
      " -8.700e+01  1.180e+02  2.450e+02  2.030e+02 -1.000e+02 -2.100e+02\n",
      " -1.260e+02  3.400e+01 -3.610e+02 -1.210e+02  1.290e+02  1.260e+02\n",
      " -3.810e+02  6.570e+02 -1.800e+02  3.090e+02 -8.500e+01  1.130e+02\n",
      " -9.600e+01 -5.190e+02 -6.900e+01  3.700e+01 -3.650e+02 -1.540e+02\n",
      "  2.720e+02 -3.910e+02 -5.460e+02  2.440e+02 -2.080e+02 -3.560e+02\n",
      " -7.700e+01 -3.300e+01 -2.620e+02  5.070e+02 -1.120e+02 -7.500e+01\n",
      "  5.250e+02 -1.200e+02  2.650e+02  5.100e+01  4.040e+02  4.270e+02\n",
      "  1.025e+03  8.000e+00  9.820e+02  1.000e+00  1.800e+01  2.370e+02\n",
      "  5.300e+02  5.440e+02  2.660e+02  3.050e+02 -1.230e+02  1.220e+02\n",
      " -8.100e+01 -1.140e+02  4.000e+02 -1.020e+02 -2.290e+02 -4.790e+02\n",
      " -1.890e+02 -2.400e+02  1.500e+01  7.330e+02  7.290e+02  3.310e+02\n",
      "  1.280e+02 -2.360e+02 -2.410e+02  3.700e+02  2.310e+02 -1.940e+02\n",
      " -6.200e+01  5.800e+01 -1.870e+02  2.560e+02 -3.330e+02  1.040e+03\n",
      " -7.300e+01  5.500e+02  1.170e+02 -1.040e+02  7.400e+01 -1.420e+02\n",
      "  5.700e+01 -1.650e+02  1.630e+02  2.830e+02  5.690e+02 -2.030e+02\n",
      "  5.230e+02  3.910e+02 -6.300e+01  1.490e+02  8.200e+01  4.830e+02\n",
      " -2.020e+02 -1.280e+02 -1.770e+02  2.100e+01  4.600e+01  1.470e+02\n",
      "  2.460e+02  3.400e+02  1.900e+01  4.140e+02  1.850e+02  3.770e+02\n",
      "  6.200e+02 -1.710e+02  1.730e+02  2.000e+02  4.890e+02 -9.100e+01\n",
      "  2.700e+01  4.420e+02  2.520e+02 -1.820e+02 -1.340e+02  2.190e+02\n",
      " -9.200e+01  7.200e+01 -3.430e+02 -1.590e+02  1.650e+02  2.610e+02\n",
      " -2.150e+02  1.350e+02  2.500e+01 -2.160e+02  9.000e+01  4.300e+01\n",
      " -5.200e+02  5.010e+02  1.330e+02  3.180e+02 -2.310e+02 -1.180e+02\n",
      " -1.670e+02  2.500e+02  1.100e+01 -2.280e+02  3.430e+02  2.490e+02\n",
      " -1.380e+02  6.600e+01  9.900e+01  4.680e+02 -5.780e+02  5.970e+02\n",
      "  1.050e+02 -1.250e+02  7.520e+02 -2.480e+02  7.020e+02 -2.590e+02\n",
      " -1.660e+02  3.120e+02  6.300e+01 -1.350e+02 -1.240e+02  8.900e+01\n",
      "  5.210e+02  1.001e+03 -1.090e+02 -4.140e+02 -9.800e+01  2.680e+02\n",
      "  9.700e+01  2.320e+02 -3.090e+02  3.160e+02  6.070e+02  3.340e+02\n",
      " -1.620e+02 -3.600e+02 -7.200e+01 -7.600e+01  8.000e+01  3.790e+02\n",
      "  2.300e+02  1.970e+02 -3.100e+02  5.610e+02  3.670e+02 -4.430e+02\n",
      " -2.910e+02  2.250e+02  6.060e+02 -5.970e+02 -4.350e+02  1.150e+02\n",
      " -1.310e+02 -2.880e+02  5.000e+02  7.900e+01  2.350e+02  3.000e+00\n",
      "  4.100e+02 -2.300e+02  1.860e+02  4.180e+02  2.120e+02  5.500e+01\n",
      " -5.290e+02  1.480e+02 -9.900e+01  1.080e+02 -1.900e+02 -1.630e+02\n",
      "  1.190e+02  3.170e+02  1.810e+02  4.400e+01 -4.120e+02  5.000e+00\n",
      " -3.390e+02  6.210e+02  3.900e+01  6.500e+02  2.640e+02  2.480e+02\n",
      " -1.970e+02  1.880e+02 -5.700e+01 -2.000e+02  9.800e+01 -5.440e+02\n",
      "  7.260e+02 -1.740e+02  2.530e+02  1.057e+03  1.027e+03  2.160e+02\n",
      "  2.690e+02  4.100e+01  6.930e+02 -2.900e+02  6.300e+02  3.260e+02\n",
      "  2.960e+02  3.390e+02 -4.050e+02  5.900e+01 -2.550e+02  3.600e+01\n",
      "  1.450e+02  1.000e+02  3.660e+02  2.400e+01 -3.760e+02 -1.690e+02\n",
      " -2.890e+02  6.800e+02 -2.510e+02  4.000e+01  5.650e+02  6.500e+01\n",
      "  2.270e+02  5.400e+01  8.300e+01  3.800e+01  2.580e+02  5.830e+02\n",
      "  9.300e+01  6.900e+01 -3.020e+02  1.760e+02 -2.380e+02 -3.450e+02\n",
      " -8.800e+01  7.140e+02  2.930e+02  1.320e+02  8.700e+01 -1.610e+02\n",
      "  8.410e+02 -3.660e+02  6.240e+02  8.050e+02  1.110e+02 -3.360e+02\n",
      " -1.700e+02  9.600e+01 -1.190e+02  1.026e+03  4.070e+02 -5.250e+02\n",
      "  2.840e+02 -9.700e+01  3.300e+01 -4.720e+02 -1.270e+02  4.340e+02\n",
      "  6.780e+02  3.110e+02 -1.680e+02 -1.510e+02 -2.200e+02  2.750e+02\n",
      " -2.780e+02  4.530e+02 -1.840e+02 -2.220e+02  5.780e+02 -2.440e+02\n",
      "  5.200e+01  3.230e+02  6.400e+02 -1.460e+02  1.940e+02  1.030e+02\n",
      "  1.420e+02  3.550e+02  4.300e+02 -3.190e+02 -2.420e+02 -3.290e+02\n",
      " -3.990e+02  2.900e+02  4.720e+02  1.750e+02 -1.780e+02  1.550e+02\n",
      " -1.960e+02]\n",
      "\n",
      "decile_score:\n",
      "[ 1  5  3  4  8  6 10  9  2 -1  7]\n",
      "\n",
      "is_recid:\n",
      "[ 0 -1  1]\n",
      "\n",
      "two_year_recid:\n",
      "Nothing found\n",
      "\n",
      "c_jail_in:\n",
      "['2013-08-13 06:03:42' nan '2013-01-26 03:45:27' ... '2013-05-16 08:58:35'\n",
      " '2013-05-21 03:12:58' '2014-01-10 06:49:02']\n",
      "\n",
      "c_jail_out:\n",
      "['2013-08-14 05:41:20' nan '2013-02-05 05:36:53' ... '2013-05-18 07:59:30'\n",
      " '2013-05-22 09:04:20' '2014-01-11 01:45:55']\n",
      "\n"
     ]
    }
   ],
   "source": [
    "check_data(data, ['age', 'c_charge_degree', 'race', 'age_cat', 'score_text', 'sex', 'priors_count', \n",
    "                    'days_b_screening_arrest', 'decile_score', 'is_recid', 'two_year_recid', 'c_jail_in', 'c_jail_out']\n",
    "          )"
   ]
  },
  {
   "cell_type": "code",
   "execution_count": 8,
   "metadata": {},
   "outputs": [
    {
     "data": {
      "text/plain": [
       "(9778, 47)"
      ]
     },
     "execution_count": 8,
     "metadata": {},
     "output_type": "execute_result"
    }
   ],
   "source": [
    "# select data and preprocess\n",
    "data_processed = data[data['days_b_screening_arrest'] <= 30]\n",
    "data_processed = data[data['days_b_screening_arrest'] >= -30] # select within 30 days\n",
    "data_processed.shape"
   ]
  },
  {
   "cell_type": "code",
   "execution_count": 9,
   "metadata": {},
   "outputs": [
    {
     "data": {
      "text/plain": [
       "(9760, 47)"
      ]
     },
     "execution_count": 9,
     "metadata": {},
     "output_type": "execute_result"
    }
   ],
   "source": [
    "data_processed = data_processed[data_processed['is_recid'] != -1]\n",
    "data_processed = data_processed[data_processed['c_charge_degree'] != 'O']\n",
    "data_processed.dropna(subset=[\"score_text\"], inplace=True)\n",
    "data_processed.shape"
   ]
  },
  {
   "cell_type": "code",
   "execution_count": 10,
   "metadata": {},
   "outputs": [],
   "source": [
    "data_train = data_processed[[\"age_cat\", \"c_charge_degree\", \"race\", \"sex\", \"priors_count\"]].copy()\n",
    "data_compare = data_processed[[\"score_text\", \"decile_score\"]].copy()\n",
    "data_target = data_processed[[\"is_recid\"]].copy()"
   ]
  },
  {
   "cell_type": "code",
   "execution_count": 11,
   "metadata": {},
   "outputs": [
    {
     "name": "stdout",
     "output_type": "stream",
     "text": [
      "<class 'pandas.core.frame.DataFrame'>\n",
      "Int64Index: 9760 entries, 0 to 11756\n",
      "Data columns (total 5 columns):\n",
      " #   Column           Non-Null Count  Dtype \n",
      "---  ------           --------------  ----- \n",
      " 0   age_cat          9760 non-null   object\n",
      " 1   c_charge_degree  9760 non-null   object\n",
      " 2   race             9760 non-null   object\n",
      " 3   sex              9760 non-null   object\n",
      " 4   priors_count     9760 non-null   int64 \n",
      "dtypes: int64(1), object(4)\n",
      "memory usage: 457.5+ KB\n"
     ]
    }
   ],
   "source": [
    "data_train.info()"
   ]
  },
  {
   "cell_type": "code",
   "execution_count": 12,
   "metadata": {},
   "outputs": [
    {
     "name": "stdout",
     "output_type": "stream",
     "text": [
      "<class 'pandas.core.frame.DataFrame'>\n",
      "Int64Index: 9760 entries, 0 to 11756\n",
      "Data columns (total 2 columns):\n",
      " #   Column        Non-Null Count  Dtype \n",
      "---  ------        --------------  ----- \n",
      " 0   score_text    9760 non-null   object\n",
      " 1   decile_score  9760 non-null   int64 \n",
      "dtypes: int64(1), object(1)\n",
      "memory usage: 228.8+ KB\n"
     ]
    }
   ],
   "source": [
    "data_compare.info()"
   ]
  },
  {
   "cell_type": "code",
   "execution_count": 13,
   "metadata": {},
   "outputs": [
    {
     "name": "stdout",
     "output_type": "stream",
     "text": [
      "<class 'pandas.core.frame.DataFrame'>\n",
      "Int64Index: 9760 entries, 0 to 11756\n",
      "Data columns (total 1 columns):\n",
      " #   Column    Non-Null Count  Dtype\n",
      "---  ------    --------------  -----\n",
      " 0   is_recid  9760 non-null   int64\n",
      "dtypes: int64(1)\n",
      "memory usage: 152.5 KB\n"
     ]
    }
   ],
   "source": [
    "data_target.info()"
   ]
  },
  {
   "cell_type": "code",
   "execution_count": 14,
   "metadata": {},
   "outputs": [],
   "source": [
    "data_target = data_target.to_numpy().ravel()"
   ]
  },
  {
   "cell_type": "code",
   "execution_count": 15,
   "metadata": {},
   "outputs": [
    {
     "data": {
      "text/html": [
       "<div>\n",
       "<style scoped>\n",
       "    .dataframe tbody tr th:only-of-type {\n",
       "        vertical-align: middle;\n",
       "    }\n",
       "\n",
       "    .dataframe tbody tr th {\n",
       "        vertical-align: top;\n",
       "    }\n",
       "\n",
       "    .dataframe thead th {\n",
       "        text-align: right;\n",
       "    }\n",
       "</style>\n",
       "<table border=\"1\" class=\"dataframe\">\n",
       "  <thead>\n",
       "    <tr style=\"text-align: right;\">\n",
       "      <th></th>\n",
       "      <th>age_cat</th>\n",
       "      <th>c_charge_degree</th>\n",
       "      <th>race</th>\n",
       "      <th>sex</th>\n",
       "      <th>priors_count</th>\n",
       "    </tr>\n",
       "  </thead>\n",
       "  <tbody>\n",
       "    <tr>\n",
       "      <th>0</th>\n",
       "      <td>1</td>\n",
       "      <td>0</td>\n",
       "      <td>5</td>\n",
       "      <td>1</td>\n",
       "      <td>0</td>\n",
       "    </tr>\n",
       "    <tr>\n",
       "      <th>2</th>\n",
       "      <td>0</td>\n",
       "      <td>0</td>\n",
       "      <td>0</td>\n",
       "      <td>1</td>\n",
       "      <td>0</td>\n",
       "    </tr>\n",
       "    <tr>\n",
       "      <th>3</th>\n",
       "      <td>2</td>\n",
       "      <td>0</td>\n",
       "      <td>0</td>\n",
       "      <td>1</td>\n",
       "      <td>4</td>\n",
       "    </tr>\n",
       "    <tr>\n",
       "      <th>6</th>\n",
       "      <td>0</td>\n",
       "      <td>1</td>\n",
       "      <td>5</td>\n",
       "      <td>1</td>\n",
       "      <td>0</td>\n",
       "    </tr>\n",
       "    <tr>\n",
       "      <th>7</th>\n",
       "      <td>0</td>\n",
       "      <td>0</td>\n",
       "      <td>2</td>\n",
       "      <td>1</td>\n",
       "      <td>14</td>\n",
       "    </tr>\n",
       "  </tbody>\n",
       "</table>\n",
       "</div>"
      ],
      "text/plain": [
       "   age_cat  c_charge_degree  race  sex  priors_count\n",
       "0        1                0     5    1             0\n",
       "2        0                0     0    1             0\n",
       "3        2                0     0    1             4\n",
       "6        0                1     5    1             0\n",
       "7        0                0     2    1            14"
      ]
     },
     "execution_count": 15,
     "metadata": {},
     "output_type": "execute_result"
    }
   ],
   "source": [
    "# preprocessing\n",
    "from sklearn.preprocessing import LabelEncoder\n",
    "encoders = {}\n",
    "for col in ['age_cat', 'c_charge_degree', 'race', 'sex']:\n",
    "    encoder = LabelEncoder()\n",
    "    data_train[col] = encoder.fit_transform(data_train[col])\n",
    "    encoders[col] = encoder\n",
    "data_train.head(5)"
   ]
  },
  {
   "cell_type": "code",
   "execution_count": 16,
   "metadata": {},
   "outputs": [
    {
     "data": {
      "text/html": [
       "<div>\n",
       "<style scoped>\n",
       "    .dataframe tbody tr th:only-of-type {\n",
       "        vertical-align: middle;\n",
       "    }\n",
       "\n",
       "    .dataframe tbody tr th {\n",
       "        vertical-align: top;\n",
       "    }\n",
       "\n",
       "    .dataframe thead th {\n",
       "        text-align: right;\n",
       "    }\n",
       "</style>\n",
       "<table border=\"1\" class=\"dataframe\">\n",
       "  <thead>\n",
       "    <tr style=\"text-align: right;\">\n",
       "      <th></th>\n",
       "      <th>age_cat</th>\n",
       "      <th>c_charge_degree</th>\n",
       "      <th>race</th>\n",
       "      <th>sex</th>\n",
       "      <th>priors_count</th>\n",
       "    </tr>\n",
       "  </thead>\n",
       "  <tbody>\n",
       "    <tr>\n",
       "      <th>count</th>\n",
       "      <td>9760.000000</td>\n",
       "      <td>9760.000000</td>\n",
       "      <td>9760.000000</td>\n",
       "      <td>9760.000000</td>\n",
       "      <td>9760.000000</td>\n",
       "    </tr>\n",
       "    <tr>\n",
       "      <th>mean</th>\n",
       "      <td>0.642725</td>\n",
       "      <td>0.347848</td>\n",
       "      <td>1.267623</td>\n",
       "      <td>0.795389</td>\n",
       "      <td>3.128586</td>\n",
       "    </tr>\n",
       "    <tr>\n",
       "      <th>std</th>\n",
       "      <td>0.811283</td>\n",
       "      <td>0.476312</td>\n",
       "      <td>1.450518</td>\n",
       "      <td>0.403437</td>\n",
       "      <td>4.670708</td>\n",
       "    </tr>\n",
       "    <tr>\n",
       "      <th>min</th>\n",
       "      <td>0.000000</td>\n",
       "      <td>0.000000</td>\n",
       "      <td>0.000000</td>\n",
       "      <td>0.000000</td>\n",
       "      <td>0.000000</td>\n",
       "    </tr>\n",
       "    <tr>\n",
       "      <th>25%</th>\n",
       "      <td>0.000000</td>\n",
       "      <td>0.000000</td>\n",
       "      <td>0.000000</td>\n",
       "      <td>1.000000</td>\n",
       "      <td>0.000000</td>\n",
       "    </tr>\n",
       "    <tr>\n",
       "      <th>50%</th>\n",
       "      <td>0.000000</td>\n",
       "      <td>0.000000</td>\n",
       "      <td>1.000000</td>\n",
       "      <td>1.000000</td>\n",
       "      <td>1.000000</td>\n",
       "    </tr>\n",
       "    <tr>\n",
       "      <th>75%</th>\n",
       "      <td>1.000000</td>\n",
       "      <td>1.000000</td>\n",
       "      <td>2.000000</td>\n",
       "      <td>1.000000</td>\n",
       "      <td>4.000000</td>\n",
       "    </tr>\n",
       "    <tr>\n",
       "      <th>max</th>\n",
       "      <td>2.000000</td>\n",
       "      <td>1.000000</td>\n",
       "      <td>5.000000</td>\n",
       "      <td>1.000000</td>\n",
       "      <td>43.000000</td>\n",
       "    </tr>\n",
       "  </tbody>\n",
       "</table>\n",
       "</div>"
      ],
      "text/plain": [
       "           age_cat  c_charge_degree         race          sex  priors_count\n",
       "count  9760.000000      9760.000000  9760.000000  9760.000000   9760.000000\n",
       "mean      0.642725         0.347848     1.267623     0.795389      3.128586\n",
       "std       0.811283         0.476312     1.450518     0.403437      4.670708\n",
       "min       0.000000         0.000000     0.000000     0.000000      0.000000\n",
       "25%       0.000000         0.000000     0.000000     1.000000      0.000000\n",
       "50%       0.000000         0.000000     1.000000     1.000000      1.000000\n",
       "75%       1.000000         1.000000     2.000000     1.000000      4.000000\n",
       "max       2.000000         1.000000     5.000000     1.000000     43.000000"
      ]
     },
     "execution_count": 16,
     "metadata": {},
     "output_type": "execute_result"
    }
   ],
   "source": [
    "data_train.describe()"
   ]
  },
  {
   "cell_type": "code",
   "execution_count": 17,
   "metadata": {},
   "outputs": [],
   "source": [
    "data_train = data_train.to_numpy()"
   ]
  },
  {
   "cell_type": "markdown",
   "metadata": {},
   "source": [
    "## Build Model  \n",
    "The goal here is to build several models to predict the possibility of a person's is_recid in future  \n",
    "and compare it with the decile_score and score_text output  "
   ]
  },
  {
   "cell_type": "code",
   "execution_count": 18,
   "metadata": {},
   "outputs": [],
   "source": [
    "from sklearn.neighbors import KNeighborsClassifier\n",
    "from sklearn.svm import LinearSVC\n",
    "from sklearn.linear_model import SGDClassifier\n",
    "from sklearn.linear_model import LogisticRegression\n",
    "from sklearn.ensemble import RandomForestClassifier\n",
    "from sklearn.model_selection import cross_validate"
   ]
  },
  {
   "cell_type": "code",
   "execution_count": 19,
   "metadata": {},
   "outputs": [
    {
     "name": "stdout",
     "output_type": "stream",
     "text": [
      "0.6420081967213115\n"
     ]
    }
   ],
   "source": [
    "result = cross_validate(estimator=KNeighborsClassifier(),\n",
    "                        X=data_train, y=data_target, cv=10,\n",
    "                        return_estimator=True)\n",
    "result_best_ids = np.argmax(result[\"test_score\"])\n",
    "model_neighbor = {\n",
    "    'avg_score': result['test_score'].mean(),\n",
    "    'best_estimator': result['estimator'][result_best_ids]\n",
    "}\n",
    "print(model_neighbor['avg_score'])"
   ]
  },
  {
   "cell_type": "code",
   "execution_count": 20,
   "metadata": {},
   "outputs": [
    {
     "name": "stdout",
     "output_type": "stream",
     "text": [
      "0.6762295081967213\n"
     ]
    }
   ],
   "source": [
    "result = cross_validate(estimator=LinearSVC(dual=False),\n",
    "                        X=data_train, y=data_target, cv=10,\n",
    "                        return_estimator=True)\n",
    "result_best_ids = np.argmax(result[\"test_score\"])\n",
    "model_linearSVC = {\n",
    "    'avg_score': result['test_score'].mean(),\n",
    "    'best_estimator': result['estimator'][result_best_ids]\n",
    "}\n",
    "print(model_linearSVC['avg_score'])"
   ]
  },
  {
   "cell_type": "code",
   "execution_count": 21,
   "metadata": {},
   "outputs": [
    {
     "name": "stdout",
     "output_type": "stream",
     "text": [
      "0.6682377049180329\n"
     ]
    }
   ],
   "source": [
    "result = cross_validate(estimator=SGDClassifier(),\n",
    "                        X=data_train, y=data_target, cv=10,\n",
    "                        return_estimator=True)\n",
    "result_best_ids = np.argmax(result[\"test_score\"])\n",
    "model_SGD = {\n",
    "    'avg_score': result['test_score'].mean(),\n",
    "    'best_estimator': result['estimator'][result_best_ids]\n",
    "}\n",
    "print(model_SGD['avg_score'])"
   ]
  },
  {
   "cell_type": "code",
   "execution_count": 22,
   "metadata": {},
   "outputs": [
    {
     "name": "stdout",
     "output_type": "stream",
     "text": [
      "0.6774590163934426\n"
     ]
    }
   ],
   "source": [
    "result = cross_validate(estimator=LogisticRegression(),\n",
    "                        X=data_train, y=data_target, cv=10,\n",
    "                        return_estimator=True)\n",
    "result_best_ids = np.argmax(result[\"test_score\"])\n",
    "model_logreg = {\n",
    "    'avg_score': result['test_score'].mean(),\n",
    "    'best_estimator': result['estimator'][result_best_ids]\n",
    "}\n",
    "print(model_logreg['avg_score'])"
   ]
  },
  {
   "cell_type": "code",
   "execution_count": 23,
   "metadata": {},
   "outputs": [
    {
     "name": "stdout",
     "output_type": "stream",
     "text": [
      "0.6701844262295082\n"
     ]
    }
   ],
   "source": [
    "result = cross_validate(estimator=RandomForestClassifier(),\n",
    "                        X=data_train, y=data_target, cv=10,\n",
    "                        return_estimator=True)\n",
    "result_best_ids = np.argmax(result[\"test_score\"])\n",
    "model_forest = {\n",
    "    'avg_score': result['test_score'].mean(),\n",
    "    'best_estimator': result['estimator'][result_best_ids]\n",
    "}\n",
    "print(model_forest['avg_score'])"
   ]
  },
  {
   "cell_type": "markdown",
   "metadata": {},
   "source": [
    "### Comparison"
   ]
  },
  {
   "cell_type": "code",
   "execution_count": 24,
   "metadata": {},
   "outputs": [
    {
     "name": "stdout",
     "output_type": "stream",
     "text": [
      "[2 0 3 1 1]\n",
      "[1]\n",
      "[[0.2 0.8]]\n"
     ]
    }
   ],
   "source": [
    "sample_index = 25\n",
    "print(data_train[sample_index])\n",
    "print(model_neighbor[\"best_estimator\"].predict([data_train[sample_index]]))\n",
    "print(model_neighbor[\"best_estimator\"].predict_proba([data_train[sample_index]]))"
   ]
  },
  {
   "cell_type": "code",
   "execution_count": null,
   "metadata": {},
   "outputs": [],
   "source": []
  }
 ],
 "metadata": {
  "file_extension": ".py",
  "kernelspec": {
   "display_name": "Python 3.6.8 64-bit",
   "language": "python",
   "name": "python36864bit1ec1cdde4d2c4e69a8dd2b0d0fdcaf78"
  },
  "language_info": {
   "codemirror_mode": {
    "name": "ipython",
    "version": 3
   },
   "file_extension": ".py",
   "mimetype": "text/x-python",
   "name": "python",
   "nbconvert_exporter": "python",
   "pygments_lexer": "ipython3",
   "version": "3.6.8"
  },
  "mimetype": "text/x-python",
  "name": "python",
  "npconvert_exporter": "python",
  "pygments_lexer": "ipython3",
  "version": 3
 },
 "nbformat": 4,
 "nbformat_minor": 4
}
