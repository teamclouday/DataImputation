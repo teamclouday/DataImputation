{
 "cells": [
  {
   "cell_type": "markdown",
   "metadata": {},
   "source": [
    "## Linear Regression  \n",
    "A Linear Regression function to find the coefficients based on ratio analysis outputs  \n",
    "in order to find the trade off between bias (bias1 or bias2) and target value (accuracy or f1 score)  "
   ]
  },
  {
   "cell_type": "code",
   "execution_count": 1,
   "metadata": {},
   "outputs": [],
   "source": [
    "import os\n",
    "import pickle\n",
    "import random\n",
    "import numpy as np\n",
    "import pandas as pd\n",
    "import statsmodels.api as sm\n",
    "import statsmodels.formula.api as smf\n",
    "from script_single_task import random_ratios, acc, f1score, bias1, bias2, newBias"
   ]
  },
  {
   "cell_type": "code",
   "execution_count": 2,
   "metadata": {},
   "outputs": [],
   "source": [
    "CREATE_INPUT_DATASET = True"
   ]
  },
  {
   "cell_type": "code",
   "execution_count": 3,
   "metadata": {},
   "outputs": [],
   "source": [
    "iter_per_ratio = 200\n",
    "classifiers = [\"KNN\", \"LinearSVC\", \"SVC\", \"Forest\", \"LogReg\", \"Tree\", \"MLP\"]\n",
    "methods = [\"mean_v1\", \"mean_v2\", \"similar_v1\", \"similar_v2\", \"multi_v1\", \"multi_v2\"]\n",
    "data_columns_1 = [\"iter_number\", \"random_ratio\", \"ml_name\", \"method_name\", \"bias1\", \"bias2\", \"new_bias\", \"accuracy\", \"f1_score\", \"real_accuracy\"]\n",
    "data_columns_2 = [\"iter_number\", \"random_ratio\"] + \\\n",
    "                 [\"ML_{}\".format(x) for x in classifiers] + \\\n",
    "                 [\"Imp_{}\".format(x) for x in methods] + \\\n",
    "                 [\"bias1\", \"bias2\", \"new_bias\", \"accuracy\", \"f1_score\", \"real_accuracy\"]"
   ]
  },
  {
   "cell_type": "markdown",
   "metadata": {},
   "source": [
    "### Prepare Dataset"
   ]
  },
  {
   "cell_type": "code",
   "execution_count": 4,
   "metadata": {},
   "outputs": [],
   "source": [
    "def prepare_dataset(dataset_name, target_name=\"acc\", file_name=None):\n",
    "    if os.path.exists(file_name):\n",
    "        return pd.read_csv(file_name)\n",
    "    global classifiers, methods, data_columns\n",
    "    data_final = []\n",
    "    for method in methods:\n",
    "        if not os.path.exists(os.path.join(\"condor_outputs\", target_name, dataset_name, \"{}.pkl\".format(method))):\n",
    "            raise Exception(\"Required pkl not found: {}\".format(os.path.join(\"condor_outputs\", target_name, dataset_name, \"{}.pkl\".format(method))))\n",
    "        with open(os.path.join(\"condor_outputs\", target_name, dataset_name, \"{}.pkl\".format(method)), \"rb\") as inFile:\n",
    "            pkl_data = pickle.load(inFile)\n",
    "        j = 0\n",
    "        for i in range(0, len(pkl_data), iter_per_ratio):\n",
    "            i_data = pkl_data[i:(i+iter_per_ratio)]\n",
    "            for clf in classifiers:\n",
    "                clf_data = [x[clf] for x in i_data]\n",
    "                for cf_matrices in clf_data:\n",
    "                    # [[acc avg], [bias1], [bias2], [f1 score], [real acc], [new bias]], remove -1, [None] cases\n",
    "                    data_processed = [[], [], [], [], [], []]\n",
    "                    for mm in cf_matrices:\n",
    "                        if len(mm) < 1:\n",
    "                            continue\n",
    "                        cf_m, acc_m = mm[0], mm[1]\n",
    "                    try:\n",
    "                        x = acc(cf_m)\n",
    "                        y = bias1(cf_m)\n",
    "                        z = bias2(cf_m)\n",
    "                        w = f1score(cf_m)\n",
    "                        k = newBias(cf_m)\n",
    "                    except Exception as e:\n",
    "                        continue\n",
    "                    if (y > 0) and (z > 0) and len(w) == 2:\n",
    "                        data_processed[0].append(x)\n",
    "                        data_processed[1].append(y)\n",
    "                        data_processed[2].append(z)\n",
    "                        data_processed[3].append(np.mean(w))\n",
    "                        data_processed[4].append(acc_m)\n",
    "                        data_processed[5].append(k)\n",
    "                    row_data = [i // iter_per_ratio, round(random_ratios[j], 2), clf, method, np.mean(data_processed[1]),\n",
    "                                np.mean(data_processed[2]), np.mean(data_processed[5]),\n",
    "                                np.mean(data_processed[0]), np.mean(data_processed[3]),\n",
    "                                np.mean(data_processed[4])]\n",
    "                    data_final.append(row_data)\n",
    "            j+=1\n",
    "    data_final = pd.DataFrame(data_final, columns=data_columns_1)\n",
    "    if file_name:\n",
    "        data_final.to_csv(file_name, index=False)\n",
    "    return data_final"
   ]
  },
  {
   "cell_type": "markdown",
   "metadata": {},
   "source": [
    "### Analysis"
   ]
  },
  {
   "cell_type": "markdown",
   "metadata": {},
   "source": [
    "#### Titanic Dataset as Example"
   ]
  },
  {
   "cell_type": "code",
   "execution_count": 5,
   "metadata": {},
   "outputs": [],
   "source": [
    "if CREATE_INPUT_DATASET:\n",
    "    data = prepare_dataset(\"titanic\", \"acc\", os.path.join(\"ratio_analysis_plots\", \"d_titanic.csv\"))\n",
    "else:\n",
    "    data = pd.read_csv(os.path.join(\"ratio_analysis_plots\", \"d_titanic.csv\"))"
   ]
  },
  {
   "cell_type": "code",
   "execution_count": 6,
   "metadata": {},
   "outputs": [
    {
     "data": {
      "text/plain": [
       "(138895, 10)"
      ]
     },
     "execution_count": 6,
     "metadata": {},
     "output_type": "execute_result"
    }
   ],
   "source": [
    "# remove empty columns\n",
    "data.dropna(inplace=True)\n",
    "data.shape"
   ]
  },
  {
   "cell_type": "code",
   "execution_count": 7,
   "metadata": {},
   "outputs": [
    {
     "data": {
      "text/plain": [
       "Intercept                       0.779175\n",
       "C(ml_name)[T.KNN]              -0.079200\n",
       "C(ml_name)[T.LinearSVC]        -0.047520\n",
       "C(ml_name)[T.LogReg]           -0.045365\n",
       "C(ml_name)[T.MLP]              -0.051147\n",
       "C(ml_name)[T.SVC]              -0.038160\n",
       "C(ml_name)[T.Tree]             -0.024497\n",
       "C(method_name)[T.mean_v2]      -0.020112\n",
       "C(method_name)[T.multi_v1]     -0.007877\n",
       "C(method_name)[T.multi_v2]     -0.020284\n",
       "C(method_name)[T.similar_v1]    0.008930\n",
       "C(method_name)[T.similar_v2]   -0.020793\n",
       "bias1                           0.001392\n",
       "random_ratio                   -0.235153\n",
       "dtype: float64"
      ]
     },
     "execution_count": 7,
     "metadata": {},
     "output_type": "execute_result"
    }
   ],
   "source": [
    "result_acc_bias1 = smf.ols(formula=\"accuracy ~ bias1 + random_ratio + C(ml_name) + C(method_name)\", data=data).fit()\n",
    "result_acc_bias1.params"
   ]
  },
  {
   "cell_type": "code",
   "execution_count": 8,
   "metadata": {},
   "outputs": [
    {
     "data": {
      "text/plain": [
       "Intercept                       0.756522\n",
       "C(ml_name)[T.KNN]              -0.066091\n",
       "C(ml_name)[T.LinearSVC]        -0.034647\n",
       "C(ml_name)[T.LogReg]           -0.032169\n",
       "C(ml_name)[T.MLP]              -0.038263\n",
       "C(ml_name)[T.SVC]              -0.026011\n",
       "C(ml_name)[T.Tree]             -0.021243\n",
       "C(method_name)[T.mean_v2]      -0.024085\n",
       "C(method_name)[T.multi_v1]     -0.006074\n",
       "C(method_name)[T.multi_v2]     -0.018943\n",
       "C(method_name)[T.similar_v1]    0.010274\n",
       "C(method_name)[T.similar_v2]   -0.020803\n",
       "bias2                           0.007972\n",
       "random_ratio                   -0.227529\n",
       "dtype: float64"
      ]
     },
     "execution_count": 8,
     "metadata": {},
     "output_type": "execute_result"
    }
   ],
   "source": [
    "result_acc_bias2 = smf.ols(formula=\"accuracy ~ bias2 + random_ratio + C(ml_name) + C(method_name)\", data=data).fit()\n",
    "result_acc_bias2.params"
   ]
  },
  {
   "cell_type": "code",
   "execution_count": 9,
   "metadata": {},
   "outputs": [
    {
     "data": {
      "text/plain": [
       "Intercept                       0.756224\n",
       "C(ml_name)[T.KNN]              -0.072298\n",
       "C(ml_name)[T.LinearSVC]        -0.038580\n",
       "C(ml_name)[T.LogReg]           -0.037152\n",
       "C(ml_name)[T.MLP]              -0.042807\n",
       "C(ml_name)[T.SVC]              -0.031216\n",
       "C(ml_name)[T.Tree]             -0.023752\n",
       "C(method_name)[T.mean_v2]      -0.024325\n",
       "C(method_name)[T.multi_v1]     -0.009028\n",
       "C(method_name)[T.multi_v2]     -0.021855\n",
       "C(method_name)[T.similar_v1]    0.007794\n",
       "C(method_name)[T.similar_v2]   -0.023385\n",
       "new_bias                        0.046851\n",
       "random_ratio                   -0.232149\n",
       "dtype: float64"
      ]
     },
     "execution_count": 9,
     "metadata": {},
     "output_type": "execute_result"
    }
   ],
   "source": [
    "result_acc_bias_new = smf.ols(formula=\"accuracy ~ new_bias + random_ratio + C(ml_name) + C(method_name)\", data=data).fit()\n",
    "result_acc_bias_new.params"
   ]
  },
  {
   "cell_type": "markdown",
   "metadata": {},
   "source": [
    "#### Compute and collect to csv"
   ]
  },
  {
   "cell_type": "code",
   "execution_count": 10,
   "metadata": {},
   "outputs": [
    {
     "name": "stdout",
     "output_type": "stream",
     "text": [
      "Dataset: titanic, shape: (138895, 10)\n",
      "Dataset: german, shape: (153088, 10)\n",
      "Dataset: juvenile, shape: (157383, 10)\n"
     ]
    }
   ],
   "source": [
    "datasets = [\"titanic\", \"german\", \"juvenile\"]\n",
    "target = \"acc\"\n",
    "csv_data = []\n",
    "csv_column = [\"data_name\", \"Intercept\", \"bias1\", \"bias2\", \"new_bias\", \"random_ratio\", \"ml_name.KNN\",\n",
    "              \"ml_name.LinearSVC\", \"ml_name.LogReg\", \"ml_name.MLP\", \"ml_name.SVC\",\n",
    "              \"ml_name.Tree\", \"method_name.mean_v2\", \"method_name.multi_v1\", \"method_name.multi_v2\",\n",
    "              \"method_name.similar_v1\", \"method_name.similar_v2\"]\n",
    "for data_name in datasets:\n",
    "    if CREATE_INPUT_DATASET:\n",
    "        data = prepare_dataset(data_name, target, os.path.join(\"ratio_analysis_plots\", \"d_{}.csv\".format(data_name)))\n",
    "    else:\n",
    "        data = pd.read_csv(os.path.join(\"ratio_analysis_plots\", \"d_{}.csv\".format(data_name)))\n",
    "    data.dropna(inplace=True)\n",
    "    print(\"Dataset: {}, shape: {}\".format(data_name, data.shape))\n",
    "    result_acc_bias1 = smf.ols(formula=\"accuracy ~ bias1 + random_ratio + C(ml_name) + C(method_name)\", data=data).fit().params.tolist()\n",
    "    result_acc_bias2 = smf.ols(formula=\"accuracy ~ bias2 + random_ratio + C(ml_name) + C(method_name)\", data=data).fit().params.tolist()\n",
    "    result_acc_bias_new = smf.ols(formula=\"accuracy ~ new_bias + random_ratio + C(ml_name) + C(method_name)\", data=data).fit().params.tolist()\n",
    "    new_rows = [\n",
    "        [data_name, result_acc_bias1[0]] + [result_acc_bias1[12], np.nan, np.nan, result_acc_bias1[13]] + result_acc_bias1[1:12],\n",
    "        [data_name, result_acc_bias2[0]] + [np.nan, result_acc_bias2[12], np.nan, result_acc_bias2[13]] + result_acc_bias2[1:12],\n",
    "        [data_name, result_acc_bias_new[0]] + [np.nan, np.nan, result_acc_bias_new[12], result_acc_bias_new[13]] + result_acc_bias_new[1:12],\n",
    "    ]\n",
    "    csv_data += new_rows\n",
    "csv_data = pd.DataFrame(csv_data, columns=csv_column)\n",
    "csv_data.to_csv(os.path.join(\"ratio_analysis_plots\", \"d_collected.csv\"), index=False)"
   ]
  }
 ],
 "metadata": {
  "kernelspec": {
   "display_name": "Python 3",
   "language": "python",
   "name": "python3"
  },
  "language_info": {
   "codemirror_mode": {
    "name": "ipython",
    "version": 3
   },
   "file_extension": ".py",
   "mimetype": "text/x-python",
   "name": "python",
   "nbconvert_exporter": "python",
   "pygments_lexer": "ipython3",
   "version": "3.6.8"
  }
 },
 "nbformat": 4,
 "nbformat_minor": 4
}
