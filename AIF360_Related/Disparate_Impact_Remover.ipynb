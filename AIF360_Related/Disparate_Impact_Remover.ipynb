{
 "cells": [
  {
   "cell_type": "code",
   "execution_count": 1,
   "metadata": {},
   "outputs": [],
   "source": [
    "import os\n",
    "os.environ[\"PYTHONWARNINGS\"] = \"ignore\"\n",
    "os.chdir(\"..\")\n",
    "import sys\n",
    "import warnings\n",
    "warnings.filterwarnings('ignore')\n",
    "from tqdm import tqdm\n",
    "import numpy as np\n",
    "import pandas as pd\n",
    "import matplotlib.pyplot as plt\n",
    "\n",
    "from utils.completer import complete_by_mean_col, complete_by_mean_col_v2\n",
    "from utils.completer import complete_by_multi, complete_by_multi_v2\n",
    "from utils.completer import complete_by_similar_row, complete_by_similar_row_v2\n",
    "from utils.generator import gen_complete_random\n",
    "from utils.data import create_adult_dataset"
   ]
  },
  {
   "cell_type": "markdown",
   "metadata": {},
   "source": [
    "### Disparate Impact Remover  \n",
    "[example notebook](https://github.com/Trusted-AI/AIF360/blob/master/examples/demo_disparate_impact_remover.ipynb)"
   ]
  },
  {
   "cell_type": "code",
   "execution_count": 2,
   "metadata": {},
   "outputs": [],
   "source": [
    "from aif360.datasets import BinaryLabelDataset, StandardDataset\n",
    "from aif360.metrics import BinaryLabelDatasetMetric\n",
    "from aif360.algorithms.preprocessing import DisparateImpactRemover"
   ]
  },
  {
   "cell_type": "code",
   "execution_count": 3,
   "metadata": {},
   "outputs": [],
   "source": [
    "from sklearn.linear_model import LogisticRegression\n",
    "from sklearn.svm import SVC\n",
    "from sklearn.preprocessing import MinMaxScaler, StandardScaler"
   ]
  },
  {
   "cell_type": "code",
   "execution_count": 4,
   "metadata": {},
   "outputs": [
    {
     "name": "stdout",
     "output_type": "stream",
     "text": [
      "(32561, 10)\n",
      "0\n"
     ]
    }
   ],
   "source": [
    "data = create_adult_dataset()\n",
    "print(data.X.shape)\n",
    "print(data.X.isnull().sum().sum())"
   ]
  },
  {
   "cell_type": "code",
   "execution_count": 5,
   "metadata": {},
   "outputs": [
    {
     "name": "stdout",
     "output_type": "stream",
     "text": [
      "gen_complete_random: 58244 NaN values have been inserted\n",
      "age               6485\n",
      "workclass         6447\n",
      "education         6398\n",
      "education-num     6419\n",
      "marital-status    6379\n",
      "occupation        6483\n",
      "relationship      6584\n",
      "race              6535\n",
      "hours-per-week    6514\n",
      "sex                  0\n",
      "dtype: int64\n"
     ]
    }
   ],
   "source": [
    "data_incomplete = gen_complete_random(data, random_ratio=0.2)\n",
    "print(data_incomplete.X.isnull().sum())"
   ]
  },
  {
   "cell_type": "code",
   "execution_count": 6,
   "metadata": {},
   "outputs": [
    {
     "name": "stdout",
     "output_type": "stream",
     "text": [
      "age               0\n",
      "workclass         0\n",
      "education         0\n",
      "education-num     0\n",
      "marital-status    0\n",
      "occupation        0\n",
      "relationship      0\n",
      "race              0\n",
      "hours-per-week    0\n",
      "sex               0\n",
      "dtype: int64\n"
     ]
    }
   ],
   "source": [
    "data_complete = complete_by_mean_col(data_incomplete)\n",
    "print(data_complete.X.isnull().sum())"
   ]
  },
  {
   "cell_type": "code",
   "execution_count": 7,
   "metadata": {},
   "outputs": [],
   "source": [
    "from sklearn.model_selection import train_test_split\n",
    "tmp_df = pd.concat([data_complete.X, pd.DataFrame(data_complete.y, columns=[\"_TARGET_\"])], axis=1).copy()\n",
    "tmp_df['sex'] = tmp_df['sex'].apply(lambda x : 0.0 if x == ' Female' else 1.0) # necessary for aif360 to understand\n",
    "tmp_df_train, tmp_df_test = train_test_split(tmp_df, test_size=0.5, shuffle=True)\n",
    "data_imputed_train = StandardDataset(df=tmp_df_train, label_name=\"_TARGET_\", favorable_classes=lambda x: x > 0,\n",
    "                                     protected_attribute_names=['sex'], privileged_classes=[[1.0]],\n",
    "                                     features_to_keep=data_complete.X.columns.tolist(),\n",
    "                                     instance_weights_name=None, features_to_drop=[],\n",
    "                                     custom_preprocessing=None, categorical_features=data_complete.categorical_features)\n",
    "data_imputed_test = StandardDataset(df=tmp_df_test, label_name=\"_TARGET_\", favorable_classes=lambda x: x > 0,\n",
    "                                    protected_attribute_names=['sex'], privileged_classes=[[1.0]],\n",
    "                                    features_to_keep=data_complete.X.columns.tolist(),\n",
    "                                    instance_weights_name=None, features_to_drop=[],\n",
    "                                    custom_preprocessing=None, categorical_features=data_complete.categorical_features)"
   ]
  },
  {
   "cell_type": "code",
   "execution_count": 8,
   "metadata": {},
   "outputs": [],
   "source": [
    "# scaler = MinMaxScaler(copy=False)\n",
    "scaler = StandardScaler()\n",
    "data_imputed_train.features = scaler.fit_transform(data_imputed_train.features)\n",
    "data_imputed_test.features = scaler.transform(data_imputed_test.features)"
   ]
  },
  {
   "cell_type": "code",
   "execution_count": 9,
   "metadata": {},
   "outputs": [],
   "source": [
    "# prepare for original data\n",
    "tmp_df = pd.concat([data.X, pd.DataFrame(data.y, columns=[\"_TARGET_\"])], axis=1).copy()\n",
    "tmp_df['sex'] = tmp_df['sex'].apply(lambda x : 0.0 if x == ' Female' else 1.0) # necessary for aif360 to understand\n",
    "tmp_df_train, tmp_df_test = train_test_split(tmp_df, test_size=0.5, shuffle=True)\n",
    "data_orig_train = StandardDataset(df=tmp_df_train, label_name=\"_TARGET_\", favorable_classes=lambda x: x > 0,\n",
    "                                  protected_attribute_names=['sex'], privileged_classes=[[1.0]],\n",
    "                                  features_to_keep=data_complete.X.columns.tolist(),\n",
    "                                  instance_weights_name=None, features_to_drop=[],\n",
    "                                  custom_preprocessing=None, categorical_features=data_complete.categorical_features)\n",
    "data_orig_test = StandardDataset(df=tmp_df_test, label_name=\"_TARGET_\", favorable_classes=lambda x: x > 0,\n",
    "                                 protected_attribute_names=['sex'], privileged_classes=[[1.0]],\n",
    "                                 features_to_keep=data_complete.X.columns.tolist(),\n",
    "                                 instance_weights_name=None, features_to_drop=[],\n",
    "                                 custom_preprocessing=None, categorical_features=data_complete.categorical_features)"
   ]
  },
  {
   "cell_type": "code",
   "execution_count": 10,
   "metadata": {},
   "outputs": [],
   "source": [
    "data_orig_train.features = scaler.fit_transform(data_orig_train.features)\n",
    "data_orig_test.features = scaler.transform(data_orig_test.features)"
   ]
  },
  {
   "cell_type": "code",
   "execution_count": 11,
   "metadata": {},
   "outputs": [],
   "source": [
    "def run(train, test, title):\n",
    "    index = train.feature_names.index('sex')\n",
    "    DIs = []\n",
    "    for level in tqdm(np.linspace(0., 1., 11)):\n",
    "        di = DisparateImpactRemover(repair_level=level)\n",
    "        train_repd = di.fit_transform(train)\n",
    "        test_repd = di.fit_transform(test)\n",
    "    \n",
    "        X_tr = np.delete(train_repd.features, index, axis=1)\n",
    "        X_te = np.delete(test_repd.features, index, axis=1)\n",
    "        y_tr = train_repd.labels.ravel()\n",
    "    \n",
    "        lmod = LogisticRegression(class_weight='balanced', solver='liblinear')\n",
    "        lmod.fit(X_tr, y_tr)\n",
    "    \n",
    "        test_repd_pred = test_repd.copy()\n",
    "        test_repd_pred.labels = lmod.predict(X_te)\n",
    "\n",
    "        p = [{'sex': 1}]\n",
    "        u = [{'sex': 0}]\n",
    "        cm = BinaryLabelDatasetMetric(test_repd_pred, privileged_groups=p, unprivileged_groups=u)\n",
    "        DIs.append(cm.disparate_impact())\n",
    "    %matplotlib inline\n",
    "    plt.plot(np.linspace(0, 1, 11), DIs, marker='o')\n",
    "    plt.plot([0, 1], [1, 1], 'g')\n",
    "    plt.plot([0, 1], [0.8, 0.8], 'r')\n",
    "    plt.ylabel('Disparate Impact (DI)')\n",
    "    plt.xlabel('repair level')\n",
    "    plt.title(title)\n",
    "    plt.show()"
   ]
  },
  {
   "cell_type": "code",
   "execution_count": 12,
   "metadata": {},
   "outputs": [
    {
     "name": "stderr",
     "output_type": "stream",
     "text": [
      "100%|██████████| 11/11 [01:07<00:00,  6.13s/it]\n"
     ]
    },
    {
     "data": {
      "image/png": "[encoded data removed]",
      "text/plain": [
       "<Figure size 432x288 with 1 Axes>"
      ]
     },
     "metadata": {
      "needs_background": "light"
     },
     "output_type": "display_data"
    }
   ],
   "source": [
    "run(data_imputed_train, data_imputed_test, \"Imputed Dataset\")"
   ]
  },
  {
   "cell_type": "code",
   "execution_count": 13,
   "metadata": {},
   "outputs": [
    {
     "name": "stderr",
     "output_type": "stream",
     "text": [
      "100%|██████████| 11/11 [01:07<00:00,  6.18s/it]\n"
     ]
    },
    {
     "data": {
      "image/png": "[encoded data removed]",
      "text/plain": [
       "<Figure size 432x288 with 1 Axes>"
      ]
     },
     "metadata": {
      "needs_background": "light"
     },
     "output_type": "display_data"
    }
   ],
   "source": [
    "run(data_orig_train, data_orig_test, \"Original Dataset\")"
   ]
  },
  {
   "cell_type": "markdown",
   "metadata": {},
   "source": [
    "### Try Using Same Preprocessing Steps "
   ]
  },
  {
   "cell_type": "code",
   "execution_count": 14,
   "metadata": {},
   "outputs": [],
   "source": [
    "from aif360.datasets import AdultDataset\n",
    "ad = AdultDataset(protected_attribute_names=['sex'],\n",
    "    privileged_classes=[['Male']], categorical_features=[],\n",
    "    features_to_keep=['age', 'education-num', 'capital-gain', 'capital-loss', 'hours-per-week'])\n",
    "test, train = ad.split([16281], shuffle=True)\n",
    "train.features = scaler.fit_transform(train.features)\n",
    "test.features = scaler.transform(test.features)"
   ]
  },
  {
   "cell_type": "code",
   "execution_count": 15,
   "metadata": {},
   "outputs": [
    {
     "name": "stderr",
     "output_type": "stream",
     "text": [
      "100%|██████████| 11/11 [00:21<00:00,  2.00s/it]\n"
     ]
    },
    {
     "data": {
      "image/png": "[encoded data removed]",
      "text/plain": [
       "<Figure size 432x288 with 1 Axes>"
      ]
     },
     "metadata": {
      "needs_background": "light"
     },
     "output_type": "display_data"
    }
   ],
   "source": [
    "run(train, test, \"Original Dataset (AIF360 Preprocessed)\")"
   ]
  },
  {
   "cell_type": "markdown",
   "metadata": {},
   "source": [
    "Different results every time"
   ]
  }
 ],
 "metadata": {
  "kernelspec": {
   "display_name": "Python 3",
   "language": "python",
   "name": "python3"
  },
  "language_info": {
   "codemirror_mode": {
    "name": "ipython",
    "version": 3
   },
   "file_extension": ".py",
   "mimetype": "text/x-python",
   "name": "python",
   "nbconvert_exporter": "python",
   "pygments_lexer": "ipython3",
   "version": "3.8.5"
  }
 },
 "nbformat": 4,
 "nbformat_minor": 4
}
