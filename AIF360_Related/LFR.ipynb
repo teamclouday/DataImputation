{
 "cells": [
  {
   "cell_type": "code",
   "execution_count": 1,
   "metadata": {},
   "outputs": [],
   "source": [
    "import os\n",
    "os.environ[\"PYTHONWARNINGS\"] = \"ignore\"\n",
    "os.chdir(\"..\")\n",
    "import sys\n",
    "import warnings\n",
    "warnings.filterwarnings('ignore')\n",
    "import numpy as np\n",
    "import pandas as pd\n",
    "import matplotlib.pyplot as plt\n",
    "\n",
    "from utils.completer import complete_by_mean_col, complete_by_mean_col_v2\n",
    "from utils.completer import complete_by_multi, complete_by_multi_v2\n",
    "from utils.completer import complete_by_similar_row, complete_by_similar_row_v2\n",
    "from utils.generator import gen_complete_random\n",
    "from utils.data import create_adult_dataset"
   ]
  },
  {
   "cell_type": "markdown",
   "metadata": {},
   "source": [
    "### Learning Fair Representations (LFR)\n",
    "[example notebook](https://github.com/Trusted-AI/AIF360/blob/master/examples/demo_lfr.ipynb)  \n",
    "\n",
    "------\n",
    "\n",
    "The idea is to first apply imputation on original dataset (adult dataset here)  \n",
    "Then feed the converted dataset into LFR to see any difference  \n",
    "\n",
    "------\n",
    "\n",
    "Note:  \n",
    "In order to LFR to work on Python3.8  \n",
    "Should install LFR directly from github, instead of from pip  "
   ]
  },
  {
   "cell_type": "code",
   "execution_count": 2,
   "metadata": {},
   "outputs": [],
   "source": [
    "from aif360.datasets import BinaryLabelDataset, StandardDataset\n",
    "from aif360.metrics import BinaryLabelDatasetMetric\n",
    "from aif360.metrics import ClassificationMetric\n",
    "from aif360.metrics.utils import compute_boolean_conditioning_vector\n",
    "from aif360.algorithms.preprocessing.lfr import LFR"
   ]
  },
  {
   "cell_type": "code",
   "execution_count": 3,
   "metadata": {},
   "outputs": [],
   "source": [
    "from sklearn.linear_model import LogisticRegression\n",
    "from sklearn.preprocessing import StandardScaler\n",
    "from sklearn.metrics import accuracy_score\n",
    "from sklearn.metrics import classification_report"
   ]
  },
  {
   "cell_type": "code",
   "execution_count": 4,
   "metadata": {},
   "outputs": [
    {
     "name": "stdout",
     "output_type": "stream",
     "text": [
      "(32561, 10)\n",
      "0\n"
     ]
    }
   ],
   "source": [
    "data = create_adult_dataset()\n",
    "print(data.X.shape)\n",
    "print(data.X.isnull().sum().sum())"
   ]
  },
  {
   "cell_type": "code",
   "execution_count": 5,
   "metadata": {},
   "outputs": [
    {
     "name": "stdout",
     "output_type": "stream",
     "text": [
      "gen_complete_random: 58244 NaN values have been inserted\n",
      "age               6417\n",
      "workclass         6475\n",
      "education         6426\n",
      "education-num     6527\n",
      "marital-status    6464\n",
      "occupation        6474\n",
      "relationship      6460\n",
      "race              6468\n",
      "hours-per-week    6533\n",
      "sex                  0\n",
      "dtype: int64\n"
     ]
    }
   ],
   "source": [
    "data_incomplete = gen_complete_random(data, random_ratio=0.2)\n",
    "print(data_incomplete.X.isnull().sum())"
   ]
  },
  {
   "cell_type": "code",
   "execution_count": 6,
   "metadata": {},
   "outputs": [
    {
     "name": "stdout",
     "output_type": "stream",
     "text": [
      "age               0\n",
      "workclass         0\n",
      "education         0\n",
      "education-num     0\n",
      "marital-status    0\n",
      "occupation        0\n",
      "relationship      0\n",
      "race              0\n",
      "hours-per-week    0\n",
      "sex               0\n",
      "dtype: int64\n"
     ]
    }
   ],
   "source": [
    "data_complete = complete_by_mean_col(data_incomplete)\n",
    "print(data_complete.X.isnull().sum())"
   ]
  },
  {
   "cell_type": "code",
   "execution_count": 7,
   "metadata": {},
   "outputs": [
    {
     "data": {
      "text/plain": [
       "array([' <=50K', ' >50K'], dtype=object)"
      ]
     },
     "execution_count": 7,
     "metadata": {},
     "output_type": "execute_result"
    }
   ],
   "source": [
    "data_complete.y_encoder.classes_"
   ]
  },
  {
   "cell_type": "code",
   "execution_count": 8,
   "metadata": {},
   "outputs": [
    {
     "data": {
      "text/plain": [
       "['workclass',\n",
       " 'education',\n",
       " 'marital-status',\n",
       " 'occupation',\n",
       " 'relationship',\n",
       " 'race']"
      ]
     },
     "execution_count": 8,
     "metadata": {},
     "output_type": "execute_result"
    }
   ],
   "source": [
    "data_complete.categorical_features"
   ]
  },
  {
   "cell_type": "code",
   "execution_count": 9,
   "metadata": {},
   "outputs": [
    {
     "data": {
      "text/plain": [
       "['sex']"
      ]
     },
     "execution_count": 9,
     "metadata": {},
     "output_type": "execute_result"
    }
   ],
   "source": [
    "data_complete.protected_features"
   ]
  },
  {
   "cell_type": "code",
   "execution_count": 10,
   "metadata": {},
   "outputs": [
    {
     "name": "stdout",
     "output_type": "stream",
     "text": [
      "(22792, 11)\n",
      "(9769, 11)\n"
     ]
    }
   ],
   "source": [
    "# convert to standard dataset\n",
    "from sklearn.model_selection import train_test_split\n",
    "tmp_df = pd.concat([data_complete.X, pd.DataFrame(data_complete.y, columns=[\"_TARGET_\"])], axis=1).copy()\n",
    "tmp_df['sex'] = tmp_df['sex'].apply(lambda x : 0.0 if x == ' Female' else 1.0) # necessary for aif360 to understand\n",
    "tmp_df_train, tmp_df_test = train_test_split(tmp_df, test_size=0.3, shuffle=True)\n",
    "data_imputed_train = StandardDataset(df=tmp_df_train, label_name=\"_TARGET_\", favorable_classes=lambda x: x > 0,\n",
    "                                     protected_attribute_names=['sex'], privileged_classes=[[1.0]],\n",
    "                                     features_to_keep=data_complete.X.columns.tolist(),\n",
    "                                     instance_weights_name=None, features_to_drop=[],\n",
    "                                     custom_preprocessing=None, categorical_features=data_complete.categorical_features)\n",
    "data_imputed_test = StandardDataset(df=tmp_df_test, label_name=\"_TARGET_\", favorable_classes=lambda x: x > 0,\n",
    "                                    protected_attribute_names=['sex'], privileged_classes=[[1.0]],\n",
    "                                    features_to_keep=data_complete.X.columns.tolist(),\n",
    "                                    instance_weights_name=None, features_to_drop=[],\n",
    "                                    custom_preprocessing=None, categorical_features=data_complete.categorical_features)\n",
    "print(tmp_df_train.shape)\n",
    "print(tmp_df_test.shape)"
   ]
  },
  {
   "cell_type": "code",
   "execution_count": 11,
   "metadata": {},
   "outputs": [
    {
     "name": "stdout",
     "output_type": "stream",
     "text": [
      "-0.19535371446387162\n",
      "-0.1986565160302357\n"
     ]
    }
   ],
   "source": [
    "privileged_groups = [{'sex': 1.0}]\n",
    "unprivileged_groups = [{'sex': 0.0}]\n",
    "metric_imputed_train = BinaryLabelDatasetMetric(data_imputed_train, \n",
    "                                                unprivileged_groups=unprivileged_groups,\n",
    "                                                privileged_groups=privileged_groups)\n",
    "metric_imputed_test = BinaryLabelDatasetMetric(data_imputed_test, \n",
    "                                               unprivileged_groups=unprivileged_groups,\n",
    "                                               privileged_groups=privileged_groups)\n",
    "print(metric_imputed_train.mean_difference())\n",
    "print(metric_imputed_test.mean_difference())"
   ]
  },
  {
   "cell_type": "code",
   "execution_count": 12,
   "metadata": {},
   "outputs": [],
   "source": [
    "scaler = StandardScaler()\n",
    "data_imputed_train.features = scaler.fit_transform(data_imputed_train.features)\n",
    "data_imputed_test.features = scaler.transform(data_imputed_test.features)"
   ]
  },
  {
   "cell_type": "code",
   "execution_count": 13,
   "metadata": {},
   "outputs": [
    {
     "name": "stdout",
     "output_type": "stream",
     "text": [
      "step: 0, loss: 0.6330668625124511, L_x: 2.515999139671763,  L_y: 0.5950254342795586,  L_z: 0.006440718418087489\n",
      "step: 250, loss: 0.6330668667437016, L_x: 2.515999162532844,  L_y: 0.5950254371324457,  L_z: 0.006440718992963744\n",
      "step: 500, loss: 0.6330668713021544, L_x: 2.5159991634776926,  L_y: 0.595025434566718,  L_z: 0.006440722550329768\n",
      "step: 750, loss: 0.6049685127209173, L_x: 2.515997163869673,  L_y: 0.5673053752925831,  L_z: 0.0062515828948187776\n",
      "step: 1000, loss: 0.6049684885283863, L_x: 2.5159971579743425,  L_y: 0.5673053554411118,  L_z: 0.00625158075376549\n",
      "step: 1250, loss: 0.6049684865974035, L_x: 2.515997180859867,  L_y: 0.5673053548130943,  L_z: 0.006251579987855289\n",
      "step: 1500, loss: 0.5872575825438495, L_x: 2.5158156299998944,  L_y: 0.5510041519076877,  L_z: 0.005547637168081458\n",
      "step: 1750, loss: 0.5872575912870602, L_x: 2.515815654763159,  L_y: 0.5510041564886694,  L_z: 0.005547639125379653\n",
      "step: 2000, loss: 0.5844839805229505, L_x: 2.5157056686494874,  L_y: 0.5491057927524872,  L_z: 0.005110565541984196\n",
      "step: 2250, loss: 0.5844839717044388, L_x: 2.5157056570683203,  L_y: 0.5491057918427477,  L_z: 0.0051105616455039676\n",
      "step: 2500, loss: 0.5844839800098139, L_x: 2.5157056637920157,  L_y: 0.5491057943100869,  L_z: 0.005110564530903498\n",
      "step: 2750, loss: 0.5764907233473398, L_x: 2.5150030900412723,  L_y: 0.54302515723419,  L_z: 0.004157767606368527\n",
      "step: 3000, loss: 0.5764906986540906, L_x: 2.5150031187654593,  L_y: 0.5430251529313362,  L_z: 0.004157757267549937\n",
      "step: 3250, loss: 0.568569861558005, L_x: 2.5134945842506964,  L_y: 0.5366153319411803,  L_z: 0.0034097918871588764\n",
      "step: 3500, loss: 0.5685698463132101, L_x: 2.513494584621936,  L_y: 0.5366153161457072,  L_z: 0.003409792160641749\n",
      "step: 3750, loss: 0.5685698486521022, L_x: 2.5134945891304654,  L_y: 0.5366153183420156,  L_z: 0.0034097922093910505\n",
      "step: 4000, loss: 0.559324398124259, L_x: 2.504423099509787,  L_y: 0.5193641281228777,  L_z: 0.007458019503141756\n",
      "step: 4250, loss: 0.5593243955326677, L_x: 2.5044231339757754,  L_y: 0.5193641250263856,  L_z: 0.007458019583262132\n",
      "step: 4500, loss: 0.5491913597198107, L_x: 2.4944379821174296,  L_y: 0.504007458338877,  L_z: 0.010119760779879734\n",
      "step: 4750, loss: 0.5491913527151341, L_x: 2.494437935631377,  L_y: 0.5040074553154489,  L_z: 0.010119759021685723\n",
      "step: 5000, loss: 0.549191354548927, L_x: 2.494437948313763,  L_y: 0.5040074583911232,  L_z: 0.010119758337333074\n"
     ]
    }
   ],
   "source": [
    "TR = LFR(unprivileged_groups=[{'sex': 0}],\n",
    "         privileged_groups=[{'sex': 1}],\n",
    "         k=10, Ax=0.01, Ay=1.0, Az=2.0,\n",
    "         verbose=1\n",
    "        )\n",
    "TR = TR.fit(data_imputed_train, maxiter=5000, maxfun=5000)"
   ]
  },
  {
   "cell_type": "code",
   "execution_count": 14,
   "metadata": {},
   "outputs": [
    {
     "name": "stdout",
     "output_type": "stream",
     "text": [
      "              precision    recall  f1-score   support\n",
      "\n",
      "         0.0       0.77      1.00      0.87      7478\n",
      "         1.0       0.00      0.00      0.00      2291\n",
      "\n",
      "    accuracy                           0.77      9769\n",
      "   macro avg       0.38      0.50      0.43      9769\n",
      "weighted avg       0.59      0.77      0.66      9769\n",
      "\n",
      "0.0\n",
      "0.0\n"
     ]
    }
   ],
   "source": [
    "data_imputed_transf_train = TR.transform(data_imputed_train)\n",
    "data_imputed_transf_test = TR.transform(data_imputed_test)\n",
    "print(classification_report(data_imputed_test.labels, data_imputed_transf_test.labels, zero_division=0))\n",
    "metric_imputed_transf_train = BinaryLabelDatasetMetric(data_imputed_transf_train, \n",
    "                                                       unprivileged_groups=unprivileged_groups,\n",
    "                                                       privileged_groups=privileged_groups)\n",
    "metric_imputed_transf_test = BinaryLabelDatasetMetric(data_imputed_transf_test, \n",
    "                                                      unprivileged_groups=unprivileged_groups,\n",
    "                                                      privileged_groups=privileged_groups)\n",
    "print(metric_imputed_transf_train.mean_difference())\n",
    "print(metric_imputed_transf_test.mean_difference())"
   ]
  },
  {
   "cell_type": "code",
   "execution_count": 15,
   "metadata": {},
   "outputs": [],
   "source": [
    "def draw(dataset_orig_test, dataset_transf_test):\n",
    "    from collections import OrderedDict\n",
    "    from aif360.metrics import ClassificationMetric\n",
    "\n",
    "    def compute_metrics(dataset_true, dataset_pred, \n",
    "                        unprivileged_groups, privileged_groups,\n",
    "                        disp = True):\n",
    "        \"\"\" Compute the key metrics \"\"\"\n",
    "        classified_metric_pred = ClassificationMetric(dataset_true,\n",
    "                                                     dataset_pred, \n",
    "                                                     unprivileged_groups=unprivileged_groups,\n",
    "                                                     privileged_groups=privileged_groups)\n",
    "        metrics = OrderedDict()\n",
    "        metrics[\"Balanced accuracy\"] = 0.5*(classified_metric_pred.true_positive_rate()+\n",
    "                                                 classified_metric_pred.true_negative_rate())\n",
    "        metrics[\"Statistical parity difference\"] = classified_metric_pred.statistical_parity_difference()\n",
    "        metrics[\"Disparate impact\"] = classified_metric_pred.disparate_impact()\n",
    "        metrics[\"Average odds difference\"] = classified_metric_pred.average_odds_difference()\n",
    "        metrics[\"Equal opportunity difference\"] = classified_metric_pred.equal_opportunity_difference()\n",
    "        metrics[\"Theil index\"] = classified_metric_pred.theil_index()\n",
    "    \n",
    "        if disp:\n",
    "            for k in metrics:\n",
    "                print(\"%s = %.4f\" % (k, metrics[k]))\n",
    "    \n",
    "        return metrics\n",
    "    bal_acc_arr_transf = []\n",
    "    disp_imp_arr_transf = []\n",
    "\n",
    "    class_thresh_arr = np.linspace(0.01, 0.99, 100)\n",
    "\n",
    "    dataset_transf_test_new = dataset_orig_test.copy(deepcopy=True)\n",
    "    dataset_transf_test_new.scores = dataset_transf_test.scores\n",
    "\n",
    "    for thresh in class_thresh_arr:\n",
    "        fav_inds = dataset_transf_test_new.scores > thresh\n",
    "        dataset_transf_test_new.labels[fav_inds] = 1.0\n",
    "        dataset_transf_test_new.labels[~fav_inds] = 0.0\n",
    "    \n",
    "        metric_test_aft = compute_metrics(dataset_orig_test, dataset_transf_test_new, \n",
    "                                          unprivileged_groups, privileged_groups,\n",
    "                                          disp = False)\n",
    "\n",
    "        bal_acc_arr_transf.append(metric_test_aft[\"Balanced accuracy\"])\n",
    "        disp_imp_arr_transf.append(metric_test_aft[\"Disparate impact\"])\n",
    "    fig, ax1 = plt.subplots(figsize=(10,7))\n",
    "    ax1.plot(class_thresh_arr, bal_acc_arr_transf)\n",
    "    ax1.set_xlabel('Classification Thresholds', fontsize=16, fontweight='bold')\n",
    "    ax1.set_ylabel('Balanced Accuracy', color='b', fontsize=16, fontweight='bold')\n",
    "    ax1.xaxis.set_tick_params(labelsize=14)\n",
    "    ax1.yaxis.set_tick_params(labelsize=14)\n",
    "\n",
    "    ax2 = ax1.twinx()\n",
    "    ax2.plot(class_thresh_arr, np.abs(1.0-np.array(disp_imp_arr_transf)), color='r')\n",
    "    ax2.set_ylabel('abs(1-disparate impact)', color='r', fontsize=16, fontweight='bold')\n",
    "    ax2.yaxis.set_tick_params(labelsize=14)\n",
    "    ax2.grid(True)\n",
    "    plt.show()"
   ]
  },
  {
   "cell_type": "code",
   "execution_count": 16,
   "metadata": {},
   "outputs": [
    {
     "data": {
      "image/png": "[encoded data removed]",
      "text/plain": [
       "<Figure size 720x504 with 2 Axes>"
      ]
     },
     "metadata": {
      "needs_background": "light"
     },
     "output_type": "display_data"
    }
   ],
   "source": [
    "draw(data_imputed_test, data_imputed_transf_test)"
   ]
  },
  {
   "cell_type": "markdown",
   "metadata": {},
   "source": [
    "abs(1-disparate impact) must be small (close to 0) for classifier predictions to be fair."
   ]
  },
  {
   "cell_type": "code",
   "execution_count": 17,
   "metadata": {},
   "outputs": [
    {
     "name": "stdout",
     "output_type": "stream",
     "text": [
      "(22792, 11)\n",
      "(9769, 11)\n",
      "-0.196041259710924\n",
      "-0.19681066423191743\n"
     ]
    }
   ],
   "source": [
    "# compare with original dataset\n",
    "tmp_df = pd.concat([data.X, pd.DataFrame(data.y, columns=[\"_TARGET_\"])], axis=1).copy()\n",
    "tmp_df['sex'] = tmp_df['sex'].apply(lambda x : 0.0 if x == ' Female' else 1.0) # necessary for aif360 to understand\n",
    "tmp_df_train, tmp_df_test = train_test_split(tmp_df, test_size=0.3, shuffle=True)\n",
    "data_train = StandardDataset(df=tmp_df_train, label_name=\"_TARGET_\", favorable_classes=lambda x: x > 0,\n",
    "                             protected_attribute_names=['sex'], privileged_classes=[[1.0]],\n",
    "                             features_to_keep=data_complete.X.columns.tolist(),\n",
    "                             instance_weights_name=None, features_to_drop=[],\n",
    "                             custom_preprocessing=None, categorical_features=data_complete.categorical_features)\n",
    "data_test = StandardDataset(df=tmp_df_test, label_name=\"_TARGET_\", favorable_classes=lambda x: x > 0,\n",
    "                            protected_attribute_names=['sex'], privileged_classes=[[1.0]],\n",
    "                            features_to_keep=data_complete.X.columns.tolist(),\n",
    "                            instance_weights_name=None, features_to_drop=[],\n",
    "                            custom_preprocessing=None, categorical_features=data_complete.categorical_features)\n",
    "print(tmp_df_train.shape)\n",
    "print(tmp_df_test.shape)\n",
    "metric_train = BinaryLabelDatasetMetric(data_train, \n",
    "                                        unprivileged_groups=unprivileged_groups,\n",
    "                                        privileged_groups=privileged_groups)\n",
    "metric_test = BinaryLabelDatasetMetric(data_test, \n",
    "                                       unprivileged_groups=unprivileged_groups,\n",
    "                                       privileged_groups=privileged_groups)\n",
    "print(metric_train.mean_difference())\n",
    "print(metric_test.mean_difference())"
   ]
  },
  {
   "cell_type": "code",
   "execution_count": 18,
   "metadata": {},
   "outputs": [
    {
     "name": "stdout",
     "output_type": "stream",
     "text": [
      "step: 0, loss: 0.6456873545056394, L_x: 2.5139431284167046,  L_y: 0.6015359259448135,  L_z: 0.009505998638329387\n",
      "step: 250, loss: 0.6456873586493069, L_x: 2.513943148309826,  L_y: 0.6015359318465011,  L_z: 0.009505997659853762\n",
      "step: 500, loss: 0.6456873903668052, L_x: 2.5139431404506425,  L_y: 0.6015359416894337,  L_z: 0.009506008636432544\n",
      "step: 750, loss: 0.6151353469092433, L_x: 2.5141601442669876,  L_y: 0.5716311722658431,  L_z: 0.009181286600365149\n",
      "step: 1000, loss: 0.6151353758672694, L_x: 2.5141601390797383,  L_y: 0.5716312039376534,  L_z: 0.009181285269409293\n",
      "step: 1250, loss: 0.6151353755440434, L_x: 2.5141601431959115,  L_y: 0.571631197553485,  L_z: 0.009181288279299633\n",
      "step: 1500, loss: 0.5883921413431303, L_x: 2.514791379999536,  L_y: 0.5477404687317847,  L_z: 0.007751879405675122\n",
      "step: 1750, loss: 0.588392141023176, L_x: 2.514791387044003,  L_y: 0.5477404672159647,  L_z: 0.007751879968385683\n",
      "step: 2000, loss: 0.5842876017532233, L_x: 2.5150285257159553,  L_y: 0.5453206457253658,  L_z: 0.006908335385348981\n",
      "step: 2250, loss: 0.584287578916792, L_x: 2.515028518745771,  L_y: 0.5453206318982354,  L_z: 0.00690833091554936\n",
      "step: 2500, loss: 0.5842875865357191, L_x: 2.5150285123308107,  L_y: 0.5453206368531153,  L_z: 0.006908332279647905\n",
      "step: 2750, loss: 0.5738548820355648, L_x: 2.515304314489244,  L_y: 0.5392058105516706,  L_z: 0.004748014169500882\n",
      "step: 3000, loss: 0.5738549459172327, L_x: 2.5153043620576394,  L_y: 0.539205848796608,  L_z: 0.004748026750024144\n",
      "step: 3250, loss: 0.5612604345151179, L_x: 2.5115100590136885,  L_y: 0.5257528614054773,  L_z: 0.005196236259751845\n",
      "step: 3500, loss: 0.5612604311956434, L_x: 2.511510065359017,  L_y: 0.5257528583340149,  L_z: 0.005196236104019224\n",
      "step: 3750, loss: 0.5612604400256035, L_x: 2.511510048072629,  L_y: 0.5257528668452468,  L_z: 0.005196236349815185\n",
      "step: 4000, loss: 0.5517889050087379, L_x: 2.507255716718975,  L_y: 0.5138606511162503,  L_z: 0.006427848362648923\n",
      "step: 4250, loss: 0.5517889049857104, L_x: 2.5072557205786627,  L_y: 0.5138606507996951,  L_z: 0.006427848490114331\n",
      "step: 4500, loss: 0.5420618374051052, L_x: 2.5039296690494828,  L_y: 0.5047819903468868,  L_z: 0.0061202751838617935\n",
      "step: 4750, loss: 0.5420618429929458, L_x: 2.503929665923704,  L_y: 0.5047819991924671,  L_z: 0.006120273570620822\n",
      "step: 5000, loss: 0.5420618384108578, L_x: 2.5039296563634394,  L_y: 0.5047819928466016,  L_z: 0.006120274500310908\n"
     ]
    }
   ],
   "source": [
    "data_train.features = scaler.fit_transform(data_train.features)\n",
    "data_test.features = scaler.transform(data_test.features)\n",
    "TR = LFR(unprivileged_groups=[{'sex': 0}],\n",
    "         privileged_groups=[{'sex': 1}],\n",
    "         k=10, Ax=0.01, Ay=1.0, Az=2.0,\n",
    "         verbose=1\n",
    "        )\n",
    "TR = TR.fit(data_train, maxiter=5000, maxfun=5000)"
   ]
  },
  {
   "cell_type": "code",
   "execution_count": 19,
   "metadata": {},
   "outputs": [
    {
     "name": "stdout",
     "output_type": "stream",
     "text": [
      "              precision    recall  f1-score   support\n",
      "\n",
      "         0.0       0.76      1.00      0.86      7379\n",
      "         1.0       0.00      0.00      0.00      2390\n",
      "\n",
      "    accuracy                           0.76      9769\n",
      "   macro avg       0.38      0.50      0.43      9769\n",
      "weighted avg       0.57      0.76      0.65      9769\n",
      "\n",
      "0.0\n",
      "0.0\n"
     ]
    }
   ],
   "source": [
    "data_transf_train = TR.transform(data_train)\n",
    "data_transf_test = TR.transform(data_test)\n",
    "print(classification_report(data_test.labels, data_transf_test.labels, zero_division=0))\n",
    "metric_transf_train = BinaryLabelDatasetMetric(data_transf_train, \n",
    "                                               unprivileged_groups=unprivileged_groups,\n",
    "                                               privileged_groups=privileged_groups)\n",
    "metric_transf_test = BinaryLabelDatasetMetric(data_transf_test, \n",
    "                                              unprivileged_groups=unprivileged_groups,\n",
    "                                              privileged_groups=privileged_groups)\n",
    "print(metric_transf_train.mean_difference())\n",
    "print(metric_transf_test.mean_difference())"
   ]
  },
  {
   "cell_type": "code",
   "execution_count": 20,
   "metadata": {},
   "outputs": [
    {
     "data": {
      "image/png": "[encoded data removed]",
      "text/plain": [
       "<Figure size 720x504 with 2 Axes>"
      ]
     },
     "metadata": {
      "needs_background": "light"
     },
     "output_type": "display_data"
    }
   ],
   "source": [
    "draw(data_test, data_transf_test)"
   ]
  },
  {
   "cell_type": "markdown",
   "metadata": {},
   "source": [
    "abs(1-disparate impact) must be small (close to 0) for classifier predictions to be fair."
   ]
  },
  {
   "cell_type": "code",
   "execution_count": 21,
   "metadata": {},
   "outputs": [
    {
     "name": "stdout",
     "output_type": "stream",
     "text": [
      "Consistency of labels in imputed transformed training dataset= 1.000000\n",
      "Consistency of labels in imputed training dataset= 0.803764\n",
      "Consistency of labels in imputed transformed test dataset= 1.000000\n",
      "Consistency of labels in imputed test dataset= 0.805671\n"
     ]
    }
   ],
   "source": [
    "# compare consistency\n",
    "print(\"Consistency of labels in imputed transformed training dataset= %f\" %metric_imputed_transf_train.consistency())\n",
    "print(\"Consistency of labels in imputed training dataset= %f\" %metric_imputed_train.consistency())\n",
    "print(\"Consistency of labels in imputed transformed test dataset= %f\" %metric_imputed_transf_test.consistency())\n",
    "print(\"Consistency of labels in imputed test dataset= %f\" %metric_imputed_test.consistency())"
   ]
  },
  {
   "cell_type": "code",
   "execution_count": 22,
   "metadata": {},
   "outputs": [
    {
     "name": "stdout",
     "output_type": "stream",
     "text": [
      "Consistency of labels in transformed training dataset= 1.000000\n",
      "Consistency of labels in original training dataset= 0.824342\n",
      "Consistency of labels in transformed test dataset= 1.000000\n",
      "Consistency of labels in original test dataset= 0.816931\n"
     ]
    }
   ],
   "source": [
    "print(\"Consistency of labels in transformed training dataset= %f\" %metric_transf_train.consistency())\n",
    "print(\"Consistency of labels in original training dataset= %f\" %metric_train.consistency())\n",
    "print(\"Consistency of labels in transformed test dataset= %f\" %metric_transf_test.consistency())\n",
    "print(\"Consistency of labels in original test dataset= %f\" %metric_test.consistency())"
   ]
  },
  {
   "cell_type": "markdown",
   "metadata": {},
   "source": [
    "### Try AIF360 Preprocessed Dataset"
   ]
  },
  {
   "cell_type": "code",
   "execution_count": 23,
   "metadata": {},
   "outputs": [
    {
     "name": "stdout",
     "output_type": "stream",
     "text": [
      "step: 0, loss: 0.9169361306618308, L_x: 2.5109538658103254,  L_y: 0.6501489363650225,  L_z: 0.007845903857887889\n",
      "step: 250, loss: 0.8584054817309023, L_x: 2.5088155841368995,  L_y: 0.5926804283864011,  L_z: 0.007421747465405598\n",
      "step: 500, loss: 0.8211589394440812, L_x: 2.4995390096438213,  L_y: 0.5579599843098451,  L_z: 0.006622527084927043\n",
      "step: 750, loss: 0.8168697826288129, L_x: 2.494595874470528,  L_y: 0.55575185120256,  L_z: 0.005829171989600099\n",
      "step: 1000, loss: 0.7927979281731651, L_x: 2.405453918941696,  L_y: 0.5413116085728181,  L_z: 0.005470463853088611\n",
      "step: 1250, loss: 0.7767318512803684, L_x: 2.304729600176352,  L_y: 0.5313435976921733,  L_z: 0.007457646785279886\n",
      "step: 1500, loss: 0.7494182348319292, L_x: 2.148495732964618,  L_y: 0.5107504866669568,  L_z: 0.01190908743425528\n",
      "step: 1750, loss: 0.7032452955451245, L_x: 1.8804727381327186,  L_y: 0.4729354010888402,  L_z: 0.021131310321506197\n",
      "step: 2000, loss: 0.6964150732084035, L_x: 1.8795397030406478,  L_y: 0.46908419221383807,  L_z: 0.019688455345250287\n",
      "step: 2250, loss: 0.6865783058475486, L_x: 1.8498533690450336,  L_y: 0.46380429328705536,  L_z: 0.01889433782799494\n",
      "step: 2500, loss: 0.713279844980679, L_x: 1.692295423197058,  L_y: 0.4692496637480394,  L_z: 0.03740031945646691\n",
      "step: 2750, loss: 0.6665697405893007, L_x: 1.7704714305668803,  L_y: 0.45592072557427965,  L_z: 0.01680093597916656\n",
      "step: 3000, loss: 0.6577097654734391, L_x: 1.7529170928578819,  L_y: 0.45386243712176066,  L_z: 0.014277809532945102\n",
      "step: 3250, loss: 0.6502436516421279, L_x: 1.745254584144519,  L_y: 0.45172548291448344,  L_z: 0.011996355156596285\n",
      "step: 3500, loss: 0.6481734425164403, L_x: 1.7379931292713438,  L_y: 0.45066864826878134,  L_z: 0.011852740660262243\n",
      "step: 3750, loss: 0.6443418280957748, L_x: 1.7240112869812523,  L_y: 0.44937829614994346,  L_z: 0.011281201623853017\n",
      "step: 4000, loss: 0.6422575729260601, L_x: 1.6840603727916008,  L_y: 0.44761320428025814,  L_z: 0.013119165683320968\n",
      "step: 4250, loss: 0.6362531448503297, L_x: 1.662055043457167,  L_y: 0.4495652888154836,  L_z: 0.01024117584456467\n",
      "step: 4500, loss: 0.6332938723242388, L_x: 1.647078399561372,  L_y: 0.44989681362956496,  L_z: 0.009344609369268323\n",
      "step: 4750, loss: 0.6304156861684489, L_x: 1.627089689677042,  L_y: 0.45067939723639067,  L_z: 0.008513659982177011\n",
      "step: 5000, loss: 0.6256190197774105, L_x: 1.6117480962584942,  L_y: 0.45124909598670576,  L_z: 0.006597557082427634\n"
     ]
    },
    {
     "data": {
      "image/png": "[encoded data removed]",
      "text/plain": [
       "<Figure size 720x504 with 2 Axes>"
      ]
     },
     "metadata": {
      "needs_background": "light"
     },
     "output_type": "display_data"
    }
   ],
   "source": [
    "from aif360.algorithms.preprocessing.optim_preproc_helpers.data_preproc_functions import load_preproc_data_adult\n",
    "dataset_orig = load_preproc_data_adult()\n",
    "dataset_orig_train, dataset_orig_test = dataset_orig.split([0.7], shuffle=True)\n",
    "scale_orig = StandardScaler()\n",
    "dataset_orig_train.features = scale_orig.fit_transform(dataset_orig_train.features)\n",
    "dataset_orig_test.features = scale_orig.transform(dataset_orig_test.features)\n",
    "TR = LFR(unprivileged_groups=[{'sex': 0}],\n",
    "         privileged_groups=[{'sex': 1}],\n",
    "         k=10, Ax=0.1, Ay=1.0, Az=2.0,\n",
    "         verbose=1\n",
    "        )\n",
    "TR = TR.fit(dataset_orig_train, maxiter=5000, maxfun=5000)\n",
    "dataset_transf_train = TR.transform(dataset_orig_train)\n",
    "dataset_transf_test = TR.transform(dataset_orig_test)\n",
    "draw(dataset_orig_test, dataset_transf_test)"
   ]
  },
  {
   "cell_type": "markdown",
   "metadata": {},
   "source": [
    "abs(1-disparate impact) must be small (close to 0) for classifier predictions to be fair."
   ]
  },
  {
   "cell_type": "code",
   "execution_count": 25,
   "metadata": {},
   "outputs": [
    {
     "name": "stdout",
     "output_type": "stream",
     "text": [
      "              precision    recall  f1-score   support\n",
      "\n",
      "         0.0       0.83      0.91      0.87     11216\n",
      "         1.0       0.56      0.38      0.46      3437\n",
      "\n",
      "    accuracy                           0.79     14653\n",
      "   macro avg       0.70      0.65      0.66     14653\n",
      "weighted avg       0.77      0.79      0.77     14653\n",
      "\n"
     ]
    }
   ],
   "source": [
    "print(classification_report(dataset_orig_test.labels, dataset_transf_test.labels, zero_division=0))"
   ]
  },
  {
   "cell_type": "code",
   "execution_count": 26,
   "metadata": {},
   "outputs": [
    {
     "name": "stdout",
     "output_type": "stream",
     "text": [
      "Consistency of labels in transformed training dataset= 1.000000\n",
      "Consistency of labels in original training dataset= 0.742286\n",
      "Consistency of labels in transformed test dataset= 1.000000\n",
      "Consistency of labels in original test dataset= 0.739303\n"
     ]
    }
   ],
   "source": [
    "metric_train = BinaryLabelDatasetMetric(dataset_orig_train, \n",
    "                                        unprivileged_groups=unprivileged_groups,\n",
    "                                        privileged_groups=privileged_groups)\n",
    "metric_test = BinaryLabelDatasetMetric(dataset_orig_test, \n",
    "                                       unprivileged_groups=unprivileged_groups,\n",
    "                                       privileged_groups=privileged_groups)\n",
    "metric_transf_train = BinaryLabelDatasetMetric(dataset_transf_train, \n",
    "                                               unprivileged_groups=unprivileged_groups,\n",
    "                                               privileged_groups=privileged_groups)\n",
    "metric_transf_test = BinaryLabelDatasetMetric(dataset_transf_test, \n",
    "                                              unprivileged_groups=unprivileged_groups,\n",
    "                                              privileged_groups=privileged_groups)\n",
    "print(\"Consistency of labels in transformed training dataset= %f\" %metric_transf_train.consistency())\n",
    "print(\"Consistency of labels in original training dataset= %f\" %metric_train.consistency())\n",
    "print(\"Consistency of labels in transformed test dataset= %f\" %metric_transf_test.consistency())\n",
    "print(\"Consistency of labels in original test dataset= %f\" %metric_test.consistency())"
   ]
  },
  {
   "cell_type": "markdown",
   "metadata": {},
   "source": [
    "Consistency:  \n",
    "Individual fairness metric from that measures how similar the labels are for similar instances.  \n",
    "$$1 - \\frac{1}{n\\cdot\\text{n_neighbors}}\\sum_{i=1}^n |\\hat{y}_i - \\sum_{j \\in\\mathcal{N}_{\\text{n_neighbors}}(x_i)} \\hat{y}_j|$$"
   ]
  },
  {
   "cell_type": "markdown",
   "metadata": {},
   "source": [
    "Mean Difference (Statistical Parity Differences):  \n",
    "$$Pr(Y = 1 | D = \\text{unprivileged}) - Pr(Y = 1 | D = \\text{privileged})$$"
   ]
  },
  {
   "cell_type": "markdown",
   "metadata": {},
   "source": [
    "Disparate Impact:  \n",
    "$$\\frac{Pr(Y = 1 | D = \\text{unprivileged})}{Pr(Y = 1 | D = \\text{privileged})}$$"
   ]
  },
  {
   "cell_type": "markdown",
   "metadata": {},
   "source": [
    "LFR Args:  \n",
    "* k (int, optional): Number of prototypes.  \n",
    "* Ax (float, optional): Input recontruction quality term weight.  \n",
    "* Az (float, optional): Fairness constraint term weight.  \n",
    "* Ay (float, optional): Output prediction error.  \n",
    "\n",
    "Defined in [Paper](http://www.cs.toronto.edu/~toni/Papers/icml-final.pdf), page 3"
   ]
  }
 ],
 "metadata": {
  "kernelspec": {
   "display_name": "Python 3",
   "language": "python",
   "name": "python3"
  },
  "language_info": {
   "codemirror_mode": {
    "name": "ipython",
    "version": 3
   },
   "file_extension": ".py",
   "mimetype": "text/x-python",
   "name": "python",
   "nbconvert_exporter": "python",
   "pygments_lexer": "ipython3",
   "version": "3.8.5"
  }
 },
 "nbformat": 4,
 "nbformat_minor": 4
}
